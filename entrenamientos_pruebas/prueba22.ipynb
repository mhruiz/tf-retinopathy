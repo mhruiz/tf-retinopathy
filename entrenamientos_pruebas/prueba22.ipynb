{
 "cells": [
  {
   "cell_type": "code",
   "execution_count": 1,
   "id": "specialized-national",
   "metadata": {},
   "outputs": [],
   "source": [
    "from sklearn.utils.class_weight import compute_class_weight\n",
    "\n",
    "import lib.custom_callbacks as callbacks\n",
    "import lib.custom_metrics as metrics\n",
    "import lib.evaluation as ev\n",
    "import lib.plotting as plot\n",
    "import lib.models as models\n",
    "import lib.dataset as dt\n",
    "\n",
    "import matplotlib.pyplot as plt\n",
    "import imgaug.augmenters as iaa\n",
    "import tensorflow as tf\n",
    "import pandas as pd\n",
    "import numpy as np\n",
    "import datetime\n",
    "import sys\n",
    "import os"
   ]
  },
  {
   "cell_type": "code",
   "execution_count": 2,
   "id": "gorgeous-warner",
   "metadata": {},
   "outputs": [
    {
     "name": "stdout",
     "output_type": "stream",
     "text": [
      "1 Physical GPUs, 1 Logical GPU\n"
     ]
    }
   ],
   "source": [
    "# Initialize GPU\n",
    "gpus = tf.config.experimental.list_physical_devices('GPU')\n",
    "if gpus:\n",
    "  # Restrict TensorFlow to only use the first GPU\n",
    "  try:\n",
    "    tf.config.experimental.set_visible_devices(gpus[0], 'GPU')\n",
    "    logical_gpus = tf.config.experimental.list_logical_devices('GPU')\n",
    "    print(len(gpus), \"Physical GPUs,\", len(logical_gpus), \"Logical GPU\")\n",
    "  except RuntimeError as e:\n",
    "    # Visible devices must be set before GPUs have been initialized\n",
    "    print(e)"
   ]
  },
  {
   "cell_type": "code",
   "execution_count": 3,
   "id": "round-facility",
   "metadata": {},
   "outputs": [],
   "source": [
    "# ARGUMENTS\n",
    "\n",
    "DR_LEVELS_PER_CLASS = [[0], [1], [2,3,4]]\n",
    "\n",
    "IMAGE_SIZE = (540, 540, 3)\n",
    "\n",
    "# Specify dataset files\n",
    "TRAIN_FILE = 'DATASET-TRAIN-80.csv'\n",
    "VALIDATION_FILE = 'DATASET-VALIDATION-10-BALANCED-0-1-234.csv'\n",
    "\n",
    "ONE_HOT_FORMAT = False\n",
    "\n",
    "TRAINING_BATCH_SIZE = 4\n",
    "TRAINING_DATA_AUG = True\n",
    "TRAINING_NEW_DATA_AUG = True\n",
    "TRAINING_BALANCED = True\n",
    "TRAINING_PREFETCH = 20\n",
    "TRAINING_TAKE_SIZE = None\n",
    "\n",
    "VALIDATION_BATCH_SIZE = 12\n",
    "VALIDATION_DATA_AUG = False\n",
    "VALIDATION_BALANCED = False\n",
    "VALIDATION_PREFETCH = 1\n",
    "VALIDATION_TAKE_SIZE = None"
   ]
  },
  {
   "cell_type": "code",
   "execution_count": 4,
   "id": "supreme-european",
   "metadata": {},
   "outputs": [
    {
     "name": "stdout",
     "output_type": "stream",
     "text": [
      "Checking num images per label...\n",
      "Class/label 0 has 42149 images\n",
      "Class/label 1 has 4049 images\n",
      "Class/label 2 has 10624 images\n",
      "Apply shuffle on each one-label dataset\n",
      "Apply shuffle on each one-label dataset\n",
      "Apply shuffle on each one-label dataset\n",
      "This balanced dataset will have 12147 images, having 4049 images per class\n",
      "One-label datasets joined into a one single tf.data.Dataset object\n",
      "Shuffle all dataset\n",
      "Se aplica data aug\n"
     ]
    }
   ],
   "source": [
    "# Create datasets\n",
    "\n",
    "train_dataset, y_true_train = dt.create_dataset_new(TRAIN_FILE, \n",
    "                                                    DR_LEVELS_PER_CLASS, \n",
    "                                                    balanced=TRAINING_BALANCED, \n",
    "                                                    apply_data_augmentation=TRAINING_DATA_AUG, \n",
    "                                                    use_new_augmenter=TRAINING_NEW_DATA_AUG,\n",
    "                                                    batch_size=TRAINING_BATCH_SIZE, \n",
    "                                                    prefetch_buffer=TRAINING_PREFETCH, \n",
    "                                                    one_hot_format=ONE_HOT_FORMAT,\n",
    "                                                    size=TRAINING_TAKE_SIZE)\n",
    "\n",
    "val_dataset, y_true_val = dt.create_dataset_new(VALIDATION_FILE, \n",
    "                                                DR_LEVELS_PER_CLASS, \n",
    "                                                balanced=VALIDATION_BALANCED,\n",
    "                                                apply_data_augmentation=VALIDATION_DATA_AUG,\n",
    "                                                batch_size=VALIDATION_BATCH_SIZE,\n",
    "                                                prefetch_buffer=VALIDATION_PREFETCH, \n",
    "                                                is_validation=True,\n",
    "                                                one_hot_format=ONE_HOT_FORMAT,\n",
    "                                                size=VALIDATION_TAKE_SIZE)"
   ]
  },
  {
   "cell_type": "code",
   "execution_count": 5,
   "id": "unable-shape",
   "metadata": {},
   "outputs": [
    {
     "name": "stdout",
     "output_type": "stream",
     "text": [
      "Model: \"sequential\"\n",
      "_________________________________________________________________\n",
      "Layer (type)                 Output Shape              Param #   \n",
      "=================================================================\n",
      "efficientnetb5 (Functional)  (None, 2048)              28513527  \n",
      "_________________________________________________________________\n",
      "flatten (Flatten)            (None, 2048)              0         \n",
      "_________________________________________________________________\n",
      "dense (Dense)                (None, 3)                 6147      \n",
      "=================================================================\n",
      "Total params: 28,519,674\n",
      "Trainable params: 28,346,931\n",
      "Non-trainable params: 172,743\n",
      "_________________________________________________________________\n"
     ]
    }
   ],
   "source": [
    "# Define model\n",
    "model = models.efficientNetB5.get_model(input_shape=(540,540,3), num_outputs=len(DR_LEVELS_PER_CLASS))\n",
    "model.summary()"
   ]
  },
  {
   "cell_type": "code",
   "execution_count": 6,
   "id": "appropriate-contents",
   "metadata": {},
   "outputs": [],
   "source": [
    "# Defining saving paths\n",
    "\n",
    "base_path = 'saved_weights/efficientNetB5/SGD_bal_0-1-234_bs4_newAUG/'\n",
    "base_path_splitted = base_path.split('/')\n",
    "for i in range(len(base_path_splitted)):\n",
    "    path_i = '/'.join(base_path_splitted[:i+1])\n",
    "    if not os.path.exists(path_i):\n",
    "        os.mkdir(path_i)\n",
    "\n",
    "# Save ground truth for validation dataset\n",
    "np.save(base_path + 'ground_truth_val.npy', y_true_val)"
   ]
  },
  {
   "cell_type": "code",
   "execution_count": 7,
   "id": "assisted-teddy",
   "metadata": {},
   "outputs": [
    {
     "name": "stdout",
     "output_type": "stream",
     "text": [
      "['0', '1', '234']\n"
     ]
    }
   ],
   "source": [
    "# Define metrics\n",
    "classes_names = [''.join(list(map(str,class_))) for class_ in DR_LEVELS_PER_CLASS]\n",
    "print(classes_names)\n",
    "\n",
    "classes_for_metric = [1, 2]\n",
    "metric_AUC_0_1234 = metrics.Wrapper_AUC(classes=classes_for_metric, original_dr_lvls=classes_names, is_one_hot=ONE_HOT_FORMAT)\n",
    "metric_Sp_at_95_Sens_0_1234 = metrics.Wrapper_SpecificityAtSensitivity(sensitivity=0.95, classes=classes_for_metric, original_dr_lvls=classes_names, is_one_hot=ONE_HOT_FORMAT)\n",
    "\n",
    "classes_for_metric = [2]\n",
    "metric_AUC_01_234 = metrics.Wrapper_AUC(classes=classes_for_metric, original_dr_lvls=classes_names, is_one_hot=ONE_HOT_FORMAT)\n",
    "metric_Sp_at_95_Sens_01_234 = metrics.Wrapper_SpecificityAtSensitivity(sensitivity=0.95, classes=classes_for_metric, original_dr_lvls=classes_names, is_one_hot=ONE_HOT_FORMAT)"
   ]
  },
  {
   "cell_type": "code",
   "execution_count": 8,
   "id": "honest-consciousness",
   "metadata": {},
   "outputs": [],
   "source": [
    "# Define callbacks\n",
    "cbacks = [tf.keras.callbacks.ModelCheckpoint(base_path + 'best_' + metric_AUC_0_1234.get_custom_name() + '.h5', \n",
    "                                             monitor='val_' + metric_AUC_0_1234.get_custom_name(),\n",
    "                                             save_best_only=True,\n",
    "                                             save_weights_only=True,\n",
    "                                             mode='max'),\n",
    "\n",
    "          tf.keras.callbacks.ModelCheckpoint(base_path + 'best_' + metric_Sp_at_95_Sens_0_1234.get_custom_name() + '.h5', \n",
    "                                             monitor='val_' + metric_Sp_at_95_Sens_0_1234.get_custom_name(),\n",
    "                                             save_best_only=True,\n",
    "                                             save_weights_only=True,\n",
    "                                             mode='max'),\n",
    "          \n",
    "          tf.keras.callbacks.ModelCheckpoint(base_path + 'best_' + metric_AUC_01_234.get_custom_name() + '.h5', \n",
    "                                             monitor='val_' + metric_AUC_01_234.get_custom_name(),\n",
    "                                             save_best_only=True,\n",
    "                                             save_weights_only=True,\n",
    "                                             mode='max'),\n",
    "\n",
    "          tf.keras.callbacks.ModelCheckpoint(base_path + 'best_' + metric_Sp_at_95_Sens_01_234.get_custom_name() + '.h5', \n",
    "                                             monitor='val_' + metric_Sp_at_95_Sens_01_234.get_custom_name(),\n",
    "                                             save_best_only=True,\n",
    "                                             save_weights_only=True,\n",
    "                                             mode='max'),\n",
    "\n",
    "          tf.keras.callbacks.ModelCheckpoint(base_path + 'best_accuracy.h5',\n",
    "                                             monitor='val_accuracy',\n",
    "                                             save_best_only=True,\n",
    "                                             save_weights_only=True,\n",
    "                                             mode='max'),\n",
    "\n",
    "          tf.keras.callbacks.ModelCheckpoint(base_path + 'best_loss.h5',\n",
    "                                             monitor='val_loss',\n",
    "                                             save_best_only=True,\n",
    "                                             save_weights_only=True,\n",
    "                                             mode='min'),\n",
    "          \n",
    "          callbacks.Save_Training_Evolution(base_path + 'training_evolution.csv'),\n",
    "          \n",
    "          # learning rate scheduler\n",
    "          tf.keras.callbacks.LearningRateScheduler(callbacks.create_scheduler_function(10, 0.9))\n",
    "]"
   ]
  },
  {
   "cell_type": "code",
   "execution_count": 9,
   "id": "apparent-cleveland",
   "metadata": {},
   "outputs": [
    {
     "name": "stdout",
     "output_type": "stream",
     "text": [
      "Epoch 1/2000\n"
     ]
    },
    {
     "ename": "InvalidArgumentError",
     "evalue": "2 root error(s) found.\n  (0) Invalid argument:  ValueError: Attempt to convert a value (<bound method Augmenter.augment_image of Sequential(name=UnnamedSequential, random_order=False, children=[OneOf(name=UnnamedOneOf, n=1, random_order=False, augmenters=[Sometimes(p=Binomial(Deterministic(float 0.75000000)), name=UnnamedSometimes, then_list=OneOf(name=UnnamedOneOf, n=1, random_order=False, augmenters=[OneOf(name=UnnamedOneOf, n=1, random_order=False, augmenters=[AddElementwise(name=UnnamedAddElementwise, parameters=[Uniform(Deterministic(int -10), Deterministic(float -5.00000000)), Deterministic(int 1)], deterministic=False), AddElementwise(name=UnnamedAddElementwise, parameters=[Uniform(Deterministic(float 5.00000000), Deterministic(int 10)), Deterministic(int 1)], deterministic=False)], deterministic=False), AdditiveLaplaceNoise(name=UnnamedAdditiveLaplaceNoise, parameters=[Laplace(loc=Deterministic(int 0), scale=Uniform(Deterministic(int 0), Deterministic(int 6))), Deterministic(int 1)], deterministic=False), AdditivePoissonNoise(name=UnnamedAdditivePoissonNoise, parameters=[RandomSign(Poisson(Uniform(Deterministic(int 0), Deterministic(int 7))), 0.50), Deterministic(int 1)], deterministic=False)], deterministic=False), else_list=None, deterministic=False), Fliplr(name=UnnamedFliplr, parameters=[Deterministic(int 1)], deterministic=False), Flipud(name=UnnamedFlipud, parameters=[Deterministic(int 1)], deterministic=False), OneOf(name=UnnamedOneOf, n=1, random_order=False, augmenters=[Affine(name=UnnamedAffine, parameters=[Deterministic(float 1.00000000), (Deterministic(int 0), None, 'px'), Uniform(Deterministic(int -10), Deterministic(int -5)), Deterministic(float 0.00000000), Deterministic(int 1), Deterministic(int 0), Deterministic(constant), auto, False], deterministic=False), Affine(name=UnnamedAffine, parameters=[Deterministic(float 1.00000000), (Deterministic(int 0), None, 'px'), Uniform(Deterministic(int 5), Deterministic(int 10)), Deterministic(float 0.00000000), Deterministic(int 1), Deterministic(int 0), Deterministic(constant), auto, False], deterministic=False)], deterministic=False), OneOf(name=UnnamedOneOf, n=1, random_order=False, augmenters=[AddToHue(name=UnnamedAddToHue, parameters=[None, DiscreteUniform(Deterministic(int -16), Deterministic(int -8)), None, Deterministic(int 0), RGB], deterministic=False), AddToHue(name=UnnamedAddToHue, parameters=[None, DiscreteUniform(Deterministic(int 8), Deterministic(int 16)), None, Deterministic(int 0), RGB], deterministic=False)], deterministic=False)], deterministic=False), Sometimes(p=Binomial(Deterministic(float 0.80000000)), name=UnnamedSometimes, then_list=Sequential(name=UnnamedSometimes-then, random_order=False, children=[Jigsaw(name=UnnamedJigsaw, parameters=[Deterministic(int 2), Deterministic(int 2), Deterministic(int 1), True], deterministic=False)], deterministic=False), else_list=None, deterministic=False)], deterministic=False)>) with an unsupported type (<class 'method'>) to a Tensor.\nTraceback (most recent call last):\n\n  File \"/home/alumno/miguel_herrera/lib/python3.8/site-packages/tensorflow/python/ops/script_ops.py\", line 242, in __call__\n    return func(device, token, args)\n\n  File \"/home/alumno/miguel_herrera/lib/python3.8/site-packages/tensorflow/python/ops/script_ops.py\", line 149, in __call__\n    self._convert(ret, dtype=self._out_dtypes[0]), device_name)\n\n  File \"/home/alumno/miguel_herrera/lib/python3.8/site-packages/tensorflow/python/ops/script_ops.py\", line 120, in _convert\n    return ops.convert_to_tensor(value, dtype=dtype)\n\n  File \"/home/alumno/miguel_herrera/lib/python3.8/site-packages/tensorflow/python/framework/ops.py\", line 1499, in convert_to_tensor\n    ret = conversion_func(value, dtype=dtype, name=name, as_ref=as_ref)\n\n  File \"/home/alumno/miguel_herrera/lib/python3.8/site-packages/tensorflow/python/framework/constant_op.py\", line 338, in _constant_tensor_conversion_function\n    return constant(v, dtype=dtype, name=name)\n\n  File \"/home/alumno/miguel_herrera/lib/python3.8/site-packages/tensorflow/python/framework/constant_op.py\", line 263, in constant\n    return _constant_impl(value, dtype, shape, name, verify_shape=False,\n\n  File \"/home/alumno/miguel_herrera/lib/python3.8/site-packages/tensorflow/python/framework/constant_op.py\", line 275, in _constant_impl\n    return _constant_eager_impl(ctx, value, dtype, shape, verify_shape)\n\n  File \"/home/alumno/miguel_herrera/lib/python3.8/site-packages/tensorflow/python/framework/constant_op.py\", line 300, in _constant_eager_impl\n    t = convert_to_eager_tensor(value, ctx, dtype)\n\n  File \"/home/alumno/miguel_herrera/lib/python3.8/site-packages/tensorflow/python/framework/constant_op.py\", line 98, in convert_to_eager_tensor\n    return ops.EagerTensor(value, ctx.device_name, dtype)\n\nValueError: Attempt to convert a value (<bound method Augmenter.augment_image of Sequential(name=UnnamedSequential, random_order=False, children=[OneOf(name=UnnamedOneOf, n=1, random_order=False, augmenters=[Sometimes(p=Binomial(Deterministic(float 0.75000000)), name=UnnamedSometimes, then_list=OneOf(name=UnnamedOneOf, n=1, random_order=False, augmenters=[OneOf(name=UnnamedOneOf, n=1, random_order=False, augmenters=[AddElementwise(name=UnnamedAddElementwise, parameters=[Uniform(Deterministic(int -10), Deterministic(float -5.00000000)), Deterministic(int 1)], deterministic=False), AddElementwise(name=UnnamedAddElementwise, parameters=[Uniform(Deterministic(float 5.00000000), Deterministic(int 10)), Deterministic(int 1)], deterministic=False)], deterministic=False), AdditiveLaplaceNoise(name=UnnamedAdditiveLaplaceNoise, parameters=[Laplace(loc=Deterministic(int 0), scale=Uniform(Deterministic(int 0), Deterministic(int 6))), Deterministic(int 1)], deterministic=False), AdditivePoissonNoise(name=UnnamedAdditivePoissonNoise, parameters=[RandomSign(Poisson(Uniform(Deterministic(int 0), Deterministic(int 7))), 0.50), Deterministic(int 1)], deterministic=False)], deterministic=False), else_list=None, deterministic=False), Fliplr(name=UnnamedFliplr, parameters=[Deterministic(int 1)], deterministic=False), Flipud(name=UnnamedFlipud, parameters=[Deterministic(int 1)], deterministic=False), OneOf(name=UnnamedOneOf, n=1, random_order=False, augmenters=[Affine(name=UnnamedAffine, parameters=[Deterministic(float 1.00000000), (Deterministic(int 0), None, 'px'), Uniform(Deterministic(int -10), Deterministic(int -5)), Deterministic(float 0.00000000), Deterministic(int 1), Deterministic(int 0), Deterministic(constant), auto, False], deterministic=False), Affine(name=UnnamedAffine, parameters=[Deterministic(float 1.00000000), (Deterministic(int 0), None, 'px'), Uniform(Deterministic(int 5), Deterministic(int 10)), Deterministic(float 0.00000000), Deterministic(int 1), Deterministic(int 0), Deterministic(constant), auto, False], deterministic=False)], deterministic=False), OneOf(name=UnnamedOneOf, n=1, random_order=False, augmenters=[AddToHue(name=UnnamedAddToHue, parameters=[None, DiscreteUniform(Deterministic(int -16), Deterministic(int -8)), None, Deterministic(int 0), RGB], deterministic=False), AddToHue(name=UnnamedAddToHue, parameters=[None, DiscreteUniform(Deterministic(int 8), Deterministic(int 16)), None, Deterministic(int 0), RGB], deterministic=False)], deterministic=False)], deterministic=False), Sometimes(p=Binomial(Deterministic(float 0.80000000)), name=UnnamedSometimes, then_list=Sequential(name=UnnamedSometimes-then, random_order=False, children=[Jigsaw(name=UnnamedJigsaw, parameters=[Deterministic(int 2), Deterministic(int 2), Deterministic(int 1), True], deterministic=False)], deterministic=False), else_list=None, deterministic=False)], deterministic=False)>) with an unsupported type (<class 'method'>) to a Tensor.\n\n\n\t [[{{node EagerPyFunc}}]]\n\t [[IteratorGetNext]]\n  (1) Invalid argument:  ValueError: Attempt to convert a value (<bound method Augmenter.augment_image of Sequential(name=UnnamedSequential, random_order=False, children=[OneOf(name=UnnamedOneOf, n=1, random_order=False, augmenters=[Sometimes(p=Binomial(Deterministic(f [Op:__inference_train_function_66803]\n\nFunction call stack:\ntrain_function -> train_function\n",
     "output_type": "error",
     "traceback": [
      "\u001b[0;31m---------------------------------------------------------------------------\u001b[0m",
      "\u001b[0;31mInvalidArgumentError\u001b[0m                      Traceback (most recent call last)",
      "\u001b[0;32m<ipython-input-9-9b1bcb695ec0>\u001b[0m in \u001b[0;36m<module>\u001b[0;34m\u001b[0m\n\u001b[1;32m     17\u001b[0m \u001b[0mnum_epochs\u001b[0m \u001b[0;34m=\u001b[0m \u001b[0;36m2000\u001b[0m\u001b[0;34m\u001b[0m\u001b[0;34m\u001b[0m\u001b[0m\n\u001b[1;32m     18\u001b[0m \u001b[0;34m\u001b[0m\u001b[0m\n\u001b[0;32m---> 19\u001b[0;31m \u001b[0mhistory\u001b[0m \u001b[0;34m=\u001b[0m \u001b[0mmodel\u001b[0m\u001b[0;34m.\u001b[0m\u001b[0mfit\u001b[0m\u001b[0;34m(\u001b[0m\u001b[0mtrain_dataset\u001b[0m\u001b[0;34m,\u001b[0m \u001b[0mepochs\u001b[0m\u001b[0;34m=\u001b[0m\u001b[0mnum_epochs\u001b[0m\u001b[0;34m,\u001b[0m \u001b[0mvalidation_data\u001b[0m\u001b[0;34m=\u001b[0m\u001b[0mval_dataset\u001b[0m\u001b[0;34m,\u001b[0m \u001b[0mverbose\u001b[0m\u001b[0;34m=\u001b[0m\u001b[0;36m2\u001b[0m\u001b[0;34m,\u001b[0m \u001b[0mcallbacks\u001b[0m\u001b[0;34m=\u001b[0m\u001b[0mcbacks\u001b[0m\u001b[0;34m)\u001b[0m\u001b[0;34m\u001b[0m\u001b[0;34m\u001b[0m\u001b[0m\n\u001b[0m",
      "\u001b[0;32m~/miguel_herrera/lib/python3.8/site-packages/tensorflow/python/keras/engine/training.py\u001b[0m in \u001b[0;36m_method_wrapper\u001b[0;34m(self, *args, **kwargs)\u001b[0m\n\u001b[1;32m    106\u001b[0m   \u001b[0;32mdef\u001b[0m \u001b[0m_method_wrapper\u001b[0m\u001b[0;34m(\u001b[0m\u001b[0mself\u001b[0m\u001b[0;34m,\u001b[0m \u001b[0;34m*\u001b[0m\u001b[0margs\u001b[0m\u001b[0;34m,\u001b[0m \u001b[0;34m**\u001b[0m\u001b[0mkwargs\u001b[0m\u001b[0;34m)\u001b[0m\u001b[0;34m:\u001b[0m\u001b[0;34m\u001b[0m\u001b[0;34m\u001b[0m\u001b[0m\n\u001b[1;32m    107\u001b[0m     \u001b[0;32mif\u001b[0m \u001b[0;32mnot\u001b[0m \u001b[0mself\u001b[0m\u001b[0;34m.\u001b[0m\u001b[0m_in_multi_worker_mode\u001b[0m\u001b[0;34m(\u001b[0m\u001b[0;34m)\u001b[0m\u001b[0;34m:\u001b[0m  \u001b[0;31m# pylint: disable=protected-access\u001b[0m\u001b[0;34m\u001b[0m\u001b[0;34m\u001b[0m\u001b[0m\n\u001b[0;32m--> 108\u001b[0;31m       \u001b[0;32mreturn\u001b[0m \u001b[0mmethod\u001b[0m\u001b[0;34m(\u001b[0m\u001b[0mself\u001b[0m\u001b[0;34m,\u001b[0m \u001b[0;34m*\u001b[0m\u001b[0margs\u001b[0m\u001b[0;34m,\u001b[0m \u001b[0;34m**\u001b[0m\u001b[0mkwargs\u001b[0m\u001b[0;34m)\u001b[0m\u001b[0;34m\u001b[0m\u001b[0;34m\u001b[0m\u001b[0m\n\u001b[0m\u001b[1;32m    109\u001b[0m \u001b[0;34m\u001b[0m\u001b[0m\n\u001b[1;32m    110\u001b[0m     \u001b[0;31m# Running inside `run_distribute_coordinator` already.\u001b[0m\u001b[0;34m\u001b[0m\u001b[0;34m\u001b[0m\u001b[0;34m\u001b[0m\u001b[0m\n",
      "\u001b[0;32m~/miguel_herrera/lib/python3.8/site-packages/tensorflow/python/keras/engine/training.py\u001b[0m in \u001b[0;36mfit\u001b[0;34m(self, x, y, batch_size, epochs, verbose, callbacks, validation_split, validation_data, shuffle, class_weight, sample_weight, initial_epoch, steps_per_epoch, validation_steps, validation_batch_size, validation_freq, max_queue_size, workers, use_multiprocessing)\u001b[0m\n\u001b[1;32m   1096\u001b[0m                 batch_size=batch_size):\n\u001b[1;32m   1097\u001b[0m               \u001b[0mcallbacks\u001b[0m\u001b[0;34m.\u001b[0m\u001b[0mon_train_batch_begin\u001b[0m\u001b[0;34m(\u001b[0m\u001b[0mstep\u001b[0m\u001b[0;34m)\u001b[0m\u001b[0;34m\u001b[0m\u001b[0;34m\u001b[0m\u001b[0m\n\u001b[0;32m-> 1098\u001b[0;31m               \u001b[0mtmp_logs\u001b[0m \u001b[0;34m=\u001b[0m \u001b[0mtrain_function\u001b[0m\u001b[0;34m(\u001b[0m\u001b[0miterator\u001b[0m\u001b[0;34m)\u001b[0m\u001b[0;34m\u001b[0m\u001b[0;34m\u001b[0m\u001b[0m\n\u001b[0m\u001b[1;32m   1099\u001b[0m               \u001b[0;32mif\u001b[0m \u001b[0mdata_handler\u001b[0m\u001b[0;34m.\u001b[0m\u001b[0mshould_sync\u001b[0m\u001b[0;34m:\u001b[0m\u001b[0;34m\u001b[0m\u001b[0;34m\u001b[0m\u001b[0m\n\u001b[1;32m   1100\u001b[0m                 \u001b[0mcontext\u001b[0m\u001b[0;34m.\u001b[0m\u001b[0masync_wait\u001b[0m\u001b[0;34m(\u001b[0m\u001b[0;34m)\u001b[0m\u001b[0;34m\u001b[0m\u001b[0;34m\u001b[0m\u001b[0m\n",
      "\u001b[0;32m~/miguel_herrera/lib/python3.8/site-packages/tensorflow/python/eager/def_function.py\u001b[0m in \u001b[0;36m__call__\u001b[0;34m(self, *args, **kwds)\u001b[0m\n\u001b[1;32m    778\u001b[0m       \u001b[0;32melse\u001b[0m\u001b[0;34m:\u001b[0m\u001b[0;34m\u001b[0m\u001b[0;34m\u001b[0m\u001b[0m\n\u001b[1;32m    779\u001b[0m         \u001b[0mcompiler\u001b[0m \u001b[0;34m=\u001b[0m \u001b[0;34m\"nonXla\"\u001b[0m\u001b[0;34m\u001b[0m\u001b[0;34m\u001b[0m\u001b[0m\n\u001b[0;32m--> 780\u001b[0;31m         \u001b[0mresult\u001b[0m \u001b[0;34m=\u001b[0m \u001b[0mself\u001b[0m\u001b[0;34m.\u001b[0m\u001b[0m_call\u001b[0m\u001b[0;34m(\u001b[0m\u001b[0;34m*\u001b[0m\u001b[0margs\u001b[0m\u001b[0;34m,\u001b[0m \u001b[0;34m**\u001b[0m\u001b[0mkwds\u001b[0m\u001b[0;34m)\u001b[0m\u001b[0;34m\u001b[0m\u001b[0;34m\u001b[0m\u001b[0m\n\u001b[0m\u001b[1;32m    781\u001b[0m \u001b[0;34m\u001b[0m\u001b[0m\n\u001b[1;32m    782\u001b[0m       \u001b[0mnew_tracing_count\u001b[0m \u001b[0;34m=\u001b[0m \u001b[0mself\u001b[0m\u001b[0;34m.\u001b[0m\u001b[0m_get_tracing_count\u001b[0m\u001b[0;34m(\u001b[0m\u001b[0;34m)\u001b[0m\u001b[0;34m\u001b[0m\u001b[0;34m\u001b[0m\u001b[0m\n",
      "\u001b[0;32m~/miguel_herrera/lib/python3.8/site-packages/tensorflow/python/eager/def_function.py\u001b[0m in \u001b[0;36m_call\u001b[0;34m(self, *args, **kwds)\u001b[0m\n\u001b[1;32m    838\u001b[0m         \u001b[0;31m# Lifting succeeded, so variables are initialized and we can run the\u001b[0m\u001b[0;34m\u001b[0m\u001b[0;34m\u001b[0m\u001b[0;34m\u001b[0m\u001b[0m\n\u001b[1;32m    839\u001b[0m         \u001b[0;31m# stateless function.\u001b[0m\u001b[0;34m\u001b[0m\u001b[0;34m\u001b[0m\u001b[0;34m\u001b[0m\u001b[0m\n\u001b[0;32m--> 840\u001b[0;31m         \u001b[0;32mreturn\u001b[0m \u001b[0mself\u001b[0m\u001b[0;34m.\u001b[0m\u001b[0m_stateless_fn\u001b[0m\u001b[0;34m(\u001b[0m\u001b[0;34m*\u001b[0m\u001b[0margs\u001b[0m\u001b[0;34m,\u001b[0m \u001b[0;34m**\u001b[0m\u001b[0mkwds\u001b[0m\u001b[0;34m)\u001b[0m\u001b[0;34m\u001b[0m\u001b[0;34m\u001b[0m\u001b[0m\n\u001b[0m\u001b[1;32m    841\u001b[0m     \u001b[0;32melse\u001b[0m\u001b[0;34m:\u001b[0m\u001b[0;34m\u001b[0m\u001b[0;34m\u001b[0m\u001b[0m\n\u001b[1;32m    842\u001b[0m       \u001b[0mcanon_args\u001b[0m\u001b[0;34m,\u001b[0m \u001b[0mcanon_kwds\u001b[0m \u001b[0;34m=\u001b[0m\u001b[0;31m \u001b[0m\u001b[0;31m\\\u001b[0m\u001b[0;34m\u001b[0m\u001b[0;34m\u001b[0m\u001b[0m\n",
      "\u001b[0;32m~/miguel_herrera/lib/python3.8/site-packages/tensorflow/python/eager/function.py\u001b[0m in \u001b[0;36m__call__\u001b[0;34m(self, *args, **kwargs)\u001b[0m\n\u001b[1;32m   2827\u001b[0m     \u001b[0;32mwith\u001b[0m \u001b[0mself\u001b[0m\u001b[0;34m.\u001b[0m\u001b[0m_lock\u001b[0m\u001b[0;34m:\u001b[0m\u001b[0;34m\u001b[0m\u001b[0;34m\u001b[0m\u001b[0m\n\u001b[1;32m   2828\u001b[0m       \u001b[0mgraph_function\u001b[0m\u001b[0;34m,\u001b[0m \u001b[0margs\u001b[0m\u001b[0;34m,\u001b[0m \u001b[0mkwargs\u001b[0m \u001b[0;34m=\u001b[0m \u001b[0mself\u001b[0m\u001b[0;34m.\u001b[0m\u001b[0m_maybe_define_function\u001b[0m\u001b[0;34m(\u001b[0m\u001b[0margs\u001b[0m\u001b[0;34m,\u001b[0m \u001b[0mkwargs\u001b[0m\u001b[0;34m)\u001b[0m\u001b[0;34m\u001b[0m\u001b[0;34m\u001b[0m\u001b[0m\n\u001b[0;32m-> 2829\u001b[0;31m     \u001b[0;32mreturn\u001b[0m \u001b[0mgraph_function\u001b[0m\u001b[0;34m.\u001b[0m\u001b[0m_filtered_call\u001b[0m\u001b[0;34m(\u001b[0m\u001b[0margs\u001b[0m\u001b[0;34m,\u001b[0m \u001b[0mkwargs\u001b[0m\u001b[0;34m)\u001b[0m  \u001b[0;31m# pylint: disable=protected-access\u001b[0m\u001b[0;34m\u001b[0m\u001b[0;34m\u001b[0m\u001b[0m\n\u001b[0m\u001b[1;32m   2830\u001b[0m \u001b[0;34m\u001b[0m\u001b[0m\n\u001b[1;32m   2831\u001b[0m   \u001b[0;34m@\u001b[0m\u001b[0mproperty\u001b[0m\u001b[0;34m\u001b[0m\u001b[0;34m\u001b[0m\u001b[0m\n",
      "\u001b[0;32m~/miguel_herrera/lib/python3.8/site-packages/tensorflow/python/eager/function.py\u001b[0m in \u001b[0;36m_filtered_call\u001b[0;34m(self, args, kwargs, cancellation_manager)\u001b[0m\n\u001b[1;32m   1841\u001b[0m       \u001b[0;31m`\u001b[0m\u001b[0margs\u001b[0m\u001b[0;31m`\u001b[0m \u001b[0;32mand\u001b[0m\u001b[0;31m \u001b[0m\u001b[0;31m`\u001b[0m\u001b[0mkwargs\u001b[0m\u001b[0;31m`\u001b[0m\u001b[0;34m.\u001b[0m\u001b[0;34m\u001b[0m\u001b[0;34m\u001b[0m\u001b[0m\n\u001b[1;32m   1842\u001b[0m     \"\"\"\n\u001b[0;32m-> 1843\u001b[0;31m     return self._call_flat(\n\u001b[0m\u001b[1;32m   1844\u001b[0m         [t for t in nest.flatten((args, kwargs), expand_composites=True)\n\u001b[1;32m   1845\u001b[0m          if isinstance(t, (ops.Tensor,\n",
      "\u001b[0;32m~/miguel_herrera/lib/python3.8/site-packages/tensorflow/python/eager/function.py\u001b[0m in \u001b[0;36m_call_flat\u001b[0;34m(self, args, captured_inputs, cancellation_manager)\u001b[0m\n\u001b[1;32m   1921\u001b[0m         and executing_eagerly):\n\u001b[1;32m   1922\u001b[0m       \u001b[0;31m# No tape is watching; skip to running the function.\u001b[0m\u001b[0;34m\u001b[0m\u001b[0;34m\u001b[0m\u001b[0;34m\u001b[0m\u001b[0m\n\u001b[0;32m-> 1923\u001b[0;31m       return self._build_call_outputs(self._inference_function.call(\n\u001b[0m\u001b[1;32m   1924\u001b[0m           ctx, args, cancellation_manager=cancellation_manager))\n\u001b[1;32m   1925\u001b[0m     forward_backward = self._select_forward_and_backward_functions(\n",
      "\u001b[0;32m~/miguel_herrera/lib/python3.8/site-packages/tensorflow/python/eager/function.py\u001b[0m in \u001b[0;36mcall\u001b[0;34m(self, ctx, args, cancellation_manager)\u001b[0m\n\u001b[1;32m    543\u001b[0m       \u001b[0;32mwith\u001b[0m \u001b[0m_InterpolateFunctionError\u001b[0m\u001b[0;34m(\u001b[0m\u001b[0mself\u001b[0m\u001b[0;34m)\u001b[0m\u001b[0;34m:\u001b[0m\u001b[0;34m\u001b[0m\u001b[0;34m\u001b[0m\u001b[0m\n\u001b[1;32m    544\u001b[0m         \u001b[0;32mif\u001b[0m \u001b[0mcancellation_manager\u001b[0m \u001b[0;32mis\u001b[0m \u001b[0;32mNone\u001b[0m\u001b[0;34m:\u001b[0m\u001b[0;34m\u001b[0m\u001b[0;34m\u001b[0m\u001b[0m\n\u001b[0;32m--> 545\u001b[0;31m           outputs = execute.execute(\n\u001b[0m\u001b[1;32m    546\u001b[0m               \u001b[0mstr\u001b[0m\u001b[0;34m(\u001b[0m\u001b[0mself\u001b[0m\u001b[0;34m.\u001b[0m\u001b[0msignature\u001b[0m\u001b[0;34m.\u001b[0m\u001b[0mname\u001b[0m\u001b[0;34m)\u001b[0m\u001b[0;34m,\u001b[0m\u001b[0;34m\u001b[0m\u001b[0;34m\u001b[0m\u001b[0m\n\u001b[1;32m    547\u001b[0m               \u001b[0mnum_outputs\u001b[0m\u001b[0;34m=\u001b[0m\u001b[0mself\u001b[0m\u001b[0;34m.\u001b[0m\u001b[0m_num_outputs\u001b[0m\u001b[0;34m,\u001b[0m\u001b[0;34m\u001b[0m\u001b[0;34m\u001b[0m\u001b[0m\n",
      "\u001b[0;32m~/miguel_herrera/lib/python3.8/site-packages/tensorflow/python/eager/execute.py\u001b[0m in \u001b[0;36mquick_execute\u001b[0;34m(op_name, num_outputs, inputs, attrs, ctx, name)\u001b[0m\n\u001b[1;32m     57\u001b[0m   \u001b[0;32mtry\u001b[0m\u001b[0;34m:\u001b[0m\u001b[0;34m\u001b[0m\u001b[0;34m\u001b[0m\u001b[0m\n\u001b[1;32m     58\u001b[0m     \u001b[0mctx\u001b[0m\u001b[0;34m.\u001b[0m\u001b[0mensure_initialized\u001b[0m\u001b[0;34m(\u001b[0m\u001b[0;34m)\u001b[0m\u001b[0;34m\u001b[0m\u001b[0;34m\u001b[0m\u001b[0m\n\u001b[0;32m---> 59\u001b[0;31m     tensors = pywrap_tfe.TFE_Py_Execute(ctx._handle, device_name, op_name,\n\u001b[0m\u001b[1;32m     60\u001b[0m                                         inputs, attrs, num_outputs)\n\u001b[1;32m     61\u001b[0m   \u001b[0;32mexcept\u001b[0m \u001b[0mcore\u001b[0m\u001b[0;34m.\u001b[0m\u001b[0m_NotOkStatusException\u001b[0m \u001b[0;32mas\u001b[0m \u001b[0me\u001b[0m\u001b[0;34m:\u001b[0m\u001b[0;34m\u001b[0m\u001b[0;34m\u001b[0m\u001b[0m\n",
      "\u001b[0;31mInvalidArgumentError\u001b[0m: 2 root error(s) found.\n  (0) Invalid argument:  ValueError: Attempt to convert a value (<bound method Augmenter.augment_image of Sequential(name=UnnamedSequential, random_order=False, children=[OneOf(name=UnnamedOneOf, n=1, random_order=False, augmenters=[Sometimes(p=Binomial(Deterministic(float 0.75000000)), name=UnnamedSometimes, then_list=OneOf(name=UnnamedOneOf, n=1, random_order=False, augmenters=[OneOf(name=UnnamedOneOf, n=1, random_order=False, augmenters=[AddElementwise(name=UnnamedAddElementwise, parameters=[Uniform(Deterministic(int -10), Deterministic(float -5.00000000)), Deterministic(int 1)], deterministic=False), AddElementwise(name=UnnamedAddElementwise, parameters=[Uniform(Deterministic(float 5.00000000), Deterministic(int 10)), Deterministic(int 1)], deterministic=False)], deterministic=False), AdditiveLaplaceNoise(name=UnnamedAdditiveLaplaceNoise, parameters=[Laplace(loc=Deterministic(int 0), scale=Uniform(Deterministic(int 0), Deterministic(int 6))), Deterministic(int 1)], deterministic=False), AdditivePoissonNoise(name=UnnamedAdditivePoissonNoise, parameters=[RandomSign(Poisson(Uniform(Deterministic(int 0), Deterministic(int 7))), 0.50), Deterministic(int 1)], deterministic=False)], deterministic=False), else_list=None, deterministic=False), Fliplr(name=UnnamedFliplr, parameters=[Deterministic(int 1)], deterministic=False), Flipud(name=UnnamedFlipud, parameters=[Deterministic(int 1)], deterministic=False), OneOf(name=UnnamedOneOf, n=1, random_order=False, augmenters=[Affine(name=UnnamedAffine, parameters=[Deterministic(float 1.00000000), (Deterministic(int 0), None, 'px'), Uniform(Deterministic(int -10), Deterministic(int -5)), Deterministic(float 0.00000000), Deterministic(int 1), Deterministic(int 0), Deterministic(constant), auto, False], deterministic=False), Affine(name=UnnamedAffine, parameters=[Deterministic(float 1.00000000), (Deterministic(int 0), None, 'px'), Uniform(Deterministic(int 5), Deterministic(int 10)), Deterministic(float 0.00000000), Deterministic(int 1), Deterministic(int 0), Deterministic(constant), auto, False], deterministic=False)], deterministic=False), OneOf(name=UnnamedOneOf, n=1, random_order=False, augmenters=[AddToHue(name=UnnamedAddToHue, parameters=[None, DiscreteUniform(Deterministic(int -16), Deterministic(int -8)), None, Deterministic(int 0), RGB], deterministic=False), AddToHue(name=UnnamedAddToHue, parameters=[None, DiscreteUniform(Deterministic(int 8), Deterministic(int 16)), None, Deterministic(int 0), RGB], deterministic=False)], deterministic=False)], deterministic=False), Sometimes(p=Binomial(Deterministic(float 0.80000000)), name=UnnamedSometimes, then_list=Sequential(name=UnnamedSometimes-then, random_order=False, children=[Jigsaw(name=UnnamedJigsaw, parameters=[Deterministic(int 2), Deterministic(int 2), Deterministic(int 1), True], deterministic=False)], deterministic=False), else_list=None, deterministic=False)], deterministic=False)>) with an unsupported type (<class 'method'>) to a Tensor.\nTraceback (most recent call last):\n\n  File \"/home/alumno/miguel_herrera/lib/python3.8/site-packages/tensorflow/python/ops/script_ops.py\", line 242, in __call__\n    return func(device, token, args)\n\n  File \"/home/alumno/miguel_herrera/lib/python3.8/site-packages/tensorflow/python/ops/script_ops.py\", line 149, in __call__\n    self._convert(ret, dtype=self._out_dtypes[0]), device_name)\n\n  File \"/home/alumno/miguel_herrera/lib/python3.8/site-packages/tensorflow/python/ops/script_ops.py\", line 120, in _convert\n    return ops.convert_to_tensor(value, dtype=dtype)\n\n  File \"/home/alumno/miguel_herrera/lib/python3.8/site-packages/tensorflow/python/framework/ops.py\", line 1499, in convert_to_tensor\n    ret = conversion_func(value, dtype=dtype, name=name, as_ref=as_ref)\n\n  File \"/home/alumno/miguel_herrera/lib/python3.8/site-packages/tensorflow/python/framework/constant_op.py\", line 338, in _constant_tensor_conversion_function\n    return constant(v, dtype=dtype, name=name)\n\n  File \"/home/alumno/miguel_herrera/lib/python3.8/site-packages/tensorflow/python/framework/constant_op.py\", line 263, in constant\n    return _constant_impl(value, dtype, shape, name, verify_shape=False,\n\n  File \"/home/alumno/miguel_herrera/lib/python3.8/site-packages/tensorflow/python/framework/constant_op.py\", line 275, in _constant_impl\n    return _constant_eager_impl(ctx, value, dtype, shape, verify_shape)\n\n  File \"/home/alumno/miguel_herrera/lib/python3.8/site-packages/tensorflow/python/framework/constant_op.py\", line 300, in _constant_eager_impl\n    t = convert_to_eager_tensor(value, ctx, dtype)\n\n  File \"/home/alumno/miguel_herrera/lib/python3.8/site-packages/tensorflow/python/framework/constant_op.py\", line 98, in convert_to_eager_tensor\n    return ops.EagerTensor(value, ctx.device_name, dtype)\n\nValueError: Attempt to convert a value (<bound method Augmenter.augment_image of Sequential(name=UnnamedSequential, random_order=False, children=[OneOf(name=UnnamedOneOf, n=1, random_order=False, augmenters=[Sometimes(p=Binomial(Deterministic(float 0.75000000)), name=UnnamedSometimes, then_list=OneOf(name=UnnamedOneOf, n=1, random_order=False, augmenters=[OneOf(name=UnnamedOneOf, n=1, random_order=False, augmenters=[AddElementwise(name=UnnamedAddElementwise, parameters=[Uniform(Deterministic(int -10), Deterministic(float -5.00000000)), Deterministic(int 1)], deterministic=False), AddElementwise(name=UnnamedAddElementwise, parameters=[Uniform(Deterministic(float 5.00000000), Deterministic(int 10)), Deterministic(int 1)], deterministic=False)], deterministic=False), AdditiveLaplaceNoise(name=UnnamedAdditiveLaplaceNoise, parameters=[Laplace(loc=Deterministic(int 0), scale=Uniform(Deterministic(int 0), Deterministic(int 6))), Deterministic(int 1)], deterministic=False), AdditivePoissonNoise(name=UnnamedAdditivePoissonNoise, parameters=[RandomSign(Poisson(Uniform(Deterministic(int 0), Deterministic(int 7))), 0.50), Deterministic(int 1)], deterministic=False)], deterministic=False), else_list=None, deterministic=False), Fliplr(name=UnnamedFliplr, parameters=[Deterministic(int 1)], deterministic=False), Flipud(name=UnnamedFlipud, parameters=[Deterministic(int 1)], deterministic=False), OneOf(name=UnnamedOneOf, n=1, random_order=False, augmenters=[Affine(name=UnnamedAffine, parameters=[Deterministic(float 1.00000000), (Deterministic(int 0), None, 'px'), Uniform(Deterministic(int -10), Deterministic(int -5)), Deterministic(float 0.00000000), Deterministic(int 1), Deterministic(int 0), Deterministic(constant), auto, False], deterministic=False), Affine(name=UnnamedAffine, parameters=[Deterministic(float 1.00000000), (Deterministic(int 0), None, 'px'), Uniform(Deterministic(int 5), Deterministic(int 10)), Deterministic(float 0.00000000), Deterministic(int 1), Deterministic(int 0), Deterministic(constant), auto, False], deterministic=False)], deterministic=False), OneOf(name=UnnamedOneOf, n=1, random_order=False, augmenters=[AddToHue(name=UnnamedAddToHue, parameters=[None, DiscreteUniform(Deterministic(int -16), Deterministic(int -8)), None, Deterministic(int 0), RGB], deterministic=False), AddToHue(name=UnnamedAddToHue, parameters=[None, DiscreteUniform(Deterministic(int 8), Deterministic(int 16)), None, Deterministic(int 0), RGB], deterministic=False)], deterministic=False)], deterministic=False), Sometimes(p=Binomial(Deterministic(float 0.80000000)), name=UnnamedSometimes, then_list=Sequential(name=UnnamedSometimes-then, random_order=False, children=[Jigsaw(name=UnnamedJigsaw, parameters=[Deterministic(int 2), Deterministic(int 2), Deterministic(int 1), True], deterministic=False)], deterministic=False), else_list=None, deterministic=False)], deterministic=False)>) with an unsupported type (<class 'method'>) to a Tensor.\n\n\n\t [[{{node EagerPyFunc}}]]\n\t [[IteratorGetNext]]\n  (1) Invalid argument:  ValueError: Attempt to convert a value (<bound method Augmenter.augment_image of Sequential(name=UnnamedSequential, random_order=False, children=[OneOf(name=UnnamedOneOf, n=1, random_order=False, augmenters=[Sometimes(p=Binomial(Deterministic(f [Op:__inference_train_function_66803]\n\nFunction call stack:\ntrain_function -> train_function\n"
     ]
    }
   ],
   "source": [
    "# Compile and train model\n",
    "validation_dir = base_path+'validation_outputs/'\n",
    "\n",
    "if not os.path.exists(validation_dir):\n",
    "    os.mkdir(validation_dir)\n",
    "\n",
    "model.compile(loss='sparse_categorical_crossentropy', \n",
    "              optimizer=tf.keras.optimizers.SGD(learning_rate=0.0001, momentum=0.9, clipnorm=1.0), \n",
    "              metrics=['accuracy',\n",
    "                       metric_AUC_0_1234, # DR levels: 0 vs 1,2,3,4\n",
    "                       metric_Sp_at_95_Sens_0_1234, # DR levels: 0 vs 1,2,3,4\n",
    "                       metric_AUC_01_234, # DR levels: 0,1 vs 2,3,4\n",
    "                       metric_Sp_at_95_Sens_01_234, # DR levels: 0,1 vs 2,3,4\n",
    "                       metrics.RunningValidation(path=validation_dir, n_columns=len(DR_LEVELS_PER_CLASS)) # THIS METRIC MUST BE INIZIALIZATED BEFORE EVERY TRAINING\n",
    "                      ]) \n",
    "\n",
    "num_epochs = 2000\n",
    "\n",
    "history = model.fit(train_dataset, epochs=num_epochs, validation_data=val_dataset, verbose=2, callbacks=cbacks)"
   ]
  }
 ],
 "metadata": {
  "kernelspec": {
   "display_name": "Python 3.8.5 64-bit",
   "language": "python",
   "name": "python38564bit6c4dec2e42734bc298ce0c3bfcfccb75"
  },
  "language_info": {
   "codemirror_mode": {
    "name": "ipython",
    "version": 3
   },
   "file_extension": ".py",
   "mimetype": "text/x-python",
   "name": "python",
   "nbconvert_exporter": "python",
   "pygments_lexer": "ipython3",
   "version": "3.8.5"
  }
 },
 "nbformat": 4,
 "nbformat_minor": 5
}
