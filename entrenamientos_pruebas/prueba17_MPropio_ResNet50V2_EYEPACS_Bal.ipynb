{
 "cells": [
  {
   "cell_type": "code",
   "execution_count": 1,
   "id": "planned-republican",
   "metadata": {},
   "outputs": [],
   "source": [
    "import lib.custom_callbacks as callbacks\n",
    "import lib.custom_metrics as metrics\n",
    "import lib.evaluation as ev\n",
    "import lib.plotting as plot\n",
    "import lib.models as models\n",
    "import lib.dataset as dt\n",
    "\n",
    "import matplotlib.pyplot as plt\n",
    "import imgaug.augmenters as iaa\n",
    "import tensorflow as tf\n",
    "import pandas as pd\n",
    "import numpy as np\n",
    "import datetime\n",
    "import os\n",
    "\n",
    "from importlib import reload"
   ]
  },
  {
   "cell_type": "code",
   "execution_count": 2,
   "id": "mexican-technical",
   "metadata": {},
   "outputs": [
    {
     "name": "stdout",
     "output_type": "stream",
     "text": [
      "1 Physical GPUs, 1 Logical GPU\n"
     ]
    }
   ],
   "source": [
    "gpus = tf.config.experimental.list_physical_devices('GPU')\n",
    "if gpus:\n",
    "  # Restrict TensorFlow to only use the first GPU\n",
    "  try:\n",
    "    tf.config.experimental.set_visible_devices(gpus[0], 'GPU')\n",
    "    logical_gpus = tf.config.experimental.list_logical_devices('GPU')\n",
    "    print(len(gpus), \"Physical GPUs,\", len(logical_gpus), \"Logical GPU\")\n",
    "  except RuntimeError as e:\n",
    "    # Visible devices must be set before GPUs have been initialized\n",
    "    print(e)"
   ]
  },
  {
   "cell_type": "code",
   "execution_count": 3,
   "id": "allied-airfare",
   "metadata": {},
   "outputs": [],
   "source": [
    "DR_LEVELS_PER_CLASS = [[0], [1,2,3,4]]\n",
    "\n",
    "IMAGE_SIZE = (540, 540, 3)\n",
    "\n",
    "# Specify dataset files\n",
    "TRAIN_FILE = 'DATASET-TRAIN-80.csv'\n",
    "VALIDATION_FILE = 'DATASET-VALIDATION-10_BALANCED.csv'\n",
    "\n",
    "ONE_HOT_FORMAT = False\n",
    "\n",
    "TRAINING_BATCH_SIZE = 4\n",
    "TRAINING_DATA_AUG = True\n",
    "TRAINING_BALANCED = True\n",
    "TRAINING_PREFETCH = 20\n",
    "TRAINING_TAKE_SIZE = None\n",
    "\n",
    "VALIDATION_BATCH_SIZE = 12\n",
    "VALIDATION_DATA_AUG = False\n",
    "VALIDATION_BALANCED = False\n",
    "VALIDATION_PREFETCH = 1\n",
    "VALIDATION_TAKE_SIZE = None"
   ]
  },
  {
   "cell_type": "code",
   "execution_count": 4,
   "id": "confidential-texture",
   "metadata": {},
   "outputs": [
    {
     "name": "stdout",
     "output_type": "stream",
     "text": [
      "Checking num images per label...\n",
      "Class/label 0 has 42149 images\n",
      "Class/label 1 has 14673 images\n",
      "Apply shuffle on each one-label dataset\n",
      "Apply shuffle on each one-label dataset\n",
      "This balanced dataset will have 29346 images, having 14673 images per class\n",
      "One-label datasets joined into a one single tf.data.Dataset object\n",
      "Shuffle all dataset\n",
      "Se aplica data aug\n"
     ]
    }
   ],
   "source": [
    "reload(dt)\n",
    "\n",
    "'''\n",
    "def create_dataset_new(csv_file, \n",
    "                        list_list_classes,\n",
    "                        balanced=False,\n",
    "                        apply_data_augmentation=False,\n",
    "                        batch_size=1, \n",
    "                        prefetch_buffer=None, \n",
    "                        shuffle=False,\n",
    "                        size=None):\n",
    "'''\n",
    "\n",
    "train_dataset, y_true_train = dt.create_dataset_new(TRAIN_FILE, \n",
    "                                                    DR_LEVELS_PER_CLASS, \n",
    "                                                    balanced=TRAINING_BALANCED, \n",
    "                                                    apply_data_augmentation=TRAINING_DATA_AUG, \n",
    "                                                    batch_size=TRAINING_BATCH_SIZE, \n",
    "                                                    prefetch_buffer=TRAINING_PREFETCH, \n",
    "                                                    one_hot_format=ONE_HOT_FORMAT,\n",
    "                                                    size=TRAINING_TAKE_SIZE)\n",
    "\n",
    "val_dataset, y_true_val = dt.create_dataset_new(VALIDATION_FILE, \n",
    "                                                DR_LEVELS_PER_CLASS, \n",
    "                                                balanced=VALIDATION_BALANCED,\n",
    "                                                apply_data_augmentation=VALIDATION_DATA_AUG,\n",
    "                                                batch_size=VALIDATION_BATCH_SIZE,\n",
    "                                                prefetch_buffer=VALIDATION_PREFETCH, \n",
    "                                                is_validation=True,\n",
    "                                                one_hot_format=ONE_HOT_FORMAT,\n",
    "                                                size=VALIDATION_TAKE_SIZE)"
   ]
  },
  {
   "cell_type": "code",
   "execution_count": 5,
   "id": "russian-offense",
   "metadata": {},
   "outputs": [
    {
     "name": "stdout",
     "output_type": "stream",
     "text": [
      "Model: \"sequential\"\n",
      "_________________________________________________________________\n",
      "Layer (type)                 Output Shape              Param #   \n",
      "=================================================================\n",
      "resnet50v2 (Functional)      (None, 2048)              23564800  \n",
      "_________________________________________________________________\n",
      "flatten (Flatten)            (None, 2048)              0         \n",
      "_________________________________________________________________\n",
      "dense (Dense)                (None, 2)                 4098      \n",
      "=================================================================\n",
      "Total params: 23,568,898\n",
      "Trainable params: 23,523,458\n",
      "Non-trainable params: 45,440\n",
      "_________________________________________________________________\n"
     ]
    }
   ],
   "source": [
    "# Define model\n",
    "reload(models)\n",
    "\n",
    "model = models.resNet50V2.get_model(input_shape=(540,540,3), num_outputs=len(DR_LEVELS_PER_CLASS))\n",
    "\n",
    "model.summary()"
   ]
  },
  {
   "cell_type": "code",
   "execution_count": 6,
   "id": "brutal-mozambique",
   "metadata": {},
   "outputs": [],
   "source": [
    "# Load weights if they were saved\n",
    "base_path = 'saved_weights/resNet50V2/SGD_bal_bs4/'\n",
    "save_path = base_path + 'model.h5'\n",
    "\n",
    "base_path_splitted = base_path.split('/')\n",
    "for i in range(len(base_path_splitted)):\n",
    "    path_i = '/'.join(base_path_splitted[:i+1])\n",
    "    if not os.path.exists(path_i):\n",
    "        os.mkdir(path_i)\n",
    "\n",
    "if os.path.exists(save_path):\n",
    "    model.load_weights(save_path)\n",
    "    print('Model loaded')"
   ]
  },
  {
   "cell_type": "code",
   "execution_count": 7,
   "id": "literary-patio",
   "metadata": {},
   "outputs": [],
   "source": [
    "# Save ground truth for validation dataset\n",
    "np.save(base_path + 'ground_truth_val.npy', y_true_val)"
   ]
  },
  {
   "cell_type": "code",
   "execution_count": 8,
   "id": "exposed-roman",
   "metadata": {},
   "outputs": [
    {
     "name": "stdout",
     "output_type": "stream",
     "text": [
      "['0', '1234']\n"
     ]
    }
   ],
   "source": [
    "# Compile model\n",
    "reload(metrics)\n",
    "\n",
    "classes_names = [''.join(list(map(str,class_))) for class_ in DR_LEVELS_PER_CLASS]\n",
    "\n",
    "print(classes_names)\n",
    "\n",
    "metric_AUC_0_1234 = metrics.Wrapper_AUC(classes=[1], original_dr_lvls=classes_names, is_one_hot=ONE_HOT_FORMAT)\n",
    "\n",
    "metric_Sp_at_95_Sens_0_1234 = metrics.Wrapper_SpecificityAtSensitivity(sensitivity=0.95, classes=[1], original_dr_lvls=classes_names, is_one_hot=ONE_HOT_FORMAT)"
   ]
  },
  {
   "cell_type": "code",
   "execution_count": 9,
   "id": "romance-smart",
   "metadata": {},
   "outputs": [],
   "source": [
    "cbacks = [tf.keras.callbacks.ModelCheckpoint(base_path + 'best' + metric_AUC_0_1234.get_custom_name() + '.h5', \n",
    "                                             monitor='val_' + metric_AUC_0_1234.get_custom_name(),\n",
    "                                             save_best_only=True,\n",
    "                                             save_weights_only=True,\n",
    "                                             mode='max'),\n",
    "\n",
    "          tf.keras.callbacks.ModelCheckpoint(base_path + 'best' + metric_Sp_at_95_Sens_0_1234.get_custom_name() + '.h5', \n",
    "                                             monitor='val_' + metric_Sp_at_95_Sens_0_1234.get_custom_name(),\n",
    "                                             save_best_only=True,\n",
    "                                             save_weights_only=True,\n",
    "                                             mode='max'),\n",
    "          \n",
    "          tf.keras.callbacks.ModelCheckpoint(base_path + 'best_accuracy.h5',\n",
    "                                             monitor='val_accuracy',\n",
    "                                             save_best_only=True,\n",
    "                                             save_weights_only=True,\n",
    "                                             mode='max'),\n",
    "\n",
    "          tf.keras.callbacks.ModelCheckpoint(base_path + 'best_loss.h5',\n",
    "                                             monitor='val_loss',\n",
    "                                             save_best_only=True,\n",
    "                                             save_weights_only=True,\n",
    "                                             mode='min'),\n",
    "          \n",
    "          callbacks.Save_Training_Evolution(base_path + 'training_evolution.csv')\n",
    "]\n",
    "\n",
    "# cbacks = [tf.keras.callbacks.ModelCheckpoint(base_path + 'best_loss.h5',\n",
    "#                                              monitor='val_loss',\n",
    "#                                              save_best_only=True,\n",
    "#                                              save_weights_only=True,\n",
    "#                                              mode='min'),\n",
    "          \n",
    "#           callbacks.Save_Training_Evolution(base_path + 'training_evolution.csv')\n",
    "# ]"
   ]
  },
  {
   "cell_type": "code",
   "execution_count": 10,
   "id": "australian-jordan",
   "metadata": {
    "collapsed": true,
    "jupyter": {
     "outputs_hidden": true
    }
   },
   "outputs": [
    {
     "name": "stdout",
     "output_type": "stream",
     "text": [
      "Epoch 1/2000\n",
      "7337/7337 [==============================] - 800s 109ms/step - loss: 0.6334 - accuracy: 0.6299 - AUC_DRlvls_0_1234: 0.6821 - Sp_at_95_sens_DRlvls_0_1234: 0.1323 - RunningValidation: 0.0000e+00 - val_loss: 0.5766 - val_accuracy: 0.7090 - val_AUC_DRlvls_0_1234: 0.7787 - val_Sp_at_95_sens_DRlvls_0_1234: 0.1656 - val_RunningValidation: 1.0000\n",
      "Epoch 2/2000\n",
      "7337/7337 [==============================] - 809s 110ms/step - loss: 0.5758 - accuracy: 0.6984 - AUC_DRlvls_0_1234: 0.7607 - Sp_at_95_sens_DRlvls_0_1234: 0.1785 - RunningValidation: 0.0000e+00 - val_loss: 0.5282 - val_accuracy: 0.7460 - val_AUC_DRlvls_0_1234: 0.8069 - val_Sp_at_95_sens_DRlvls_0_1234: 0.2062 - val_RunningValidation: 1.0000\n",
      "Epoch 3/2000\n",
      "7337/7337 [==============================] - 828s 113ms/step - loss: 0.5468 - accuracy: 0.7235 - AUC_DRlvls_0_1234: 0.7902 - Sp_at_95_sens_DRlvls_0_1234: 0.2012 - RunningValidation: 0.0000e+00 - val_loss: 0.5076 - val_accuracy: 0.7626 - val_AUC_DRlvls_0_1234: 0.8324 - val_Sp_at_95_sens_DRlvls_0_1234: 0.2251 - val_RunningValidation: 1.0000\n",
      "Epoch 4/2000\n",
      "7337/7337 [==============================] - 853s 116ms/step - loss: 0.5224 - accuracy: 0.7434 - AUC_DRlvls_0_1234: 0.8139 - Sp_at_95_sens_DRlvls_0_1234: 0.2334 - RunningValidation: 0.0000e+00 - val_loss: 0.4914 - val_accuracy: 0.7665 - val_AUC_DRlvls_0_1234: 0.8429 - val_Sp_at_95_sens_DRlvls_0_1234: 0.2785 - val_RunningValidation: 1.0000\n",
      "Epoch 5/2000\n",
      "7337/7337 [==============================] - 857s 117ms/step - loss: 0.5015 - accuracy: 0.7584 - AUC_DRlvls_0_1234: 0.8314 - Sp_at_95_sens_DRlvls_0_1234: 0.2658 - RunningValidation: 0.0000e+00 - val_loss: 0.5060 - val_accuracy: 0.7754 - val_AUC_DRlvls_0_1234: 0.8440 - val_Sp_at_95_sens_DRlvls_0_1234: 0.2557 - val_RunningValidation: 1.0000\n",
      "Epoch 6/2000\n",
      "7337/7337 [==============================] - 857s 117ms/step - loss: 0.4926 - accuracy: 0.7693 - AUC_DRlvls_0_1234: 0.8408 - Sp_at_95_sens_DRlvls_0_1234: 0.2717 - RunningValidation: 0.0000e+00 - val_loss: 0.4842 - val_accuracy: 0.7860 - val_AUC_DRlvls_0_1234: 0.8552 - val_Sp_at_95_sens_DRlvls_0_1234: 0.2702 - val_RunningValidation: 1.0000\n",
      "Epoch 7/2000\n",
      "7337/7337 [==============================] - 857s 117ms/step - loss: 0.4844 - accuracy: 0.7754 - AUC_DRlvls_0_1234: 0.8476 - Sp_at_95_sens_DRlvls_0_1234: 0.2956 - RunningValidation: 0.0000e+00 - val_loss: 0.4886 - val_accuracy: 0.7821 - val_AUC_DRlvls_0_1234: 0.8617 - val_Sp_at_95_sens_DRlvls_0_1234: 0.2362 - val_RunningValidation: 1.0000\n",
      "Epoch 8/2000\n",
      "7337/7337 [==============================] - 861s 117ms/step - loss: 0.4736 - accuracy: 0.7842 - AUC_DRlvls_0_1234: 0.8548 - Sp_at_95_sens_DRlvls_0_1234: 0.3060 - RunningValidation: 0.0000e+00 - val_loss: 0.4713 - val_accuracy: 0.7902 - val_AUC_DRlvls_0_1234: 0.8650 - val_Sp_at_95_sens_DRlvls_0_1234: 0.2779 - val_RunningValidation: 1.0000\n",
      "Epoch 9/2000\n",
      "7337/7337 [==============================] - 860s 117ms/step - loss: 0.4667 - accuracy: 0.7898 - AUC_DRlvls_0_1234: 0.8618 - Sp_at_95_sens_DRlvls_0_1234: 0.3294 - RunningValidation: 0.0000e+00 - val_loss: 0.5246 - val_accuracy: 0.7918 - val_AUC_DRlvls_0_1234: 0.8657 - val_Sp_at_95_sens_DRlvls_0_1234: 0.2740 - val_RunningValidation: 1.0000\n",
      "Epoch 10/2000\n",
      "7337/7337 [==============================] - 860s 117ms/step - loss: 0.4594 - accuracy: 0.7938 - AUC_DRlvls_0_1234: 0.8642 - Sp_at_95_sens_DRlvls_0_1234: 0.3202 - RunningValidation: 0.0000e+00 - val_loss: 0.5439 - val_accuracy: 0.7932 - val_AUC_DRlvls_0_1234: 0.8686 - val_Sp_at_95_sens_DRlvls_0_1234: 0.3141 - val_RunningValidation: 1.0000\n",
      "Epoch 11/2000\n",
      "7337/7337 [==============================] - 860s 117ms/step - loss: 0.4562 - accuracy: 0.8001 - AUC_DRlvls_0_1234: 0.8694 - Sp_at_95_sens_DRlvls_0_1234: 0.3317 - RunningValidation: 0.0000e+00 - val_loss: 0.4671 - val_accuracy: 0.8071 - val_AUC_DRlvls_0_1234: 0.8784 - val_Sp_at_95_sens_DRlvls_0_1234: 0.2963 - val_RunningValidation: 1.0000\n",
      "Epoch 12/2000\n",
      "7337/7337 [==============================] - 860s 117ms/step - loss: 0.4462 - accuracy: 0.8044 - AUC_DRlvls_0_1234: 0.8742 - Sp_at_95_sens_DRlvls_0_1234: 0.3301 - RunningValidation: 0.0000e+00 - val_loss: 0.4745 - val_accuracy: 0.8085 - val_AUC_DRlvls_0_1234: 0.8800 - val_Sp_at_95_sens_DRlvls_0_1234: 0.3130 - val_RunningValidation: 1.0000\n",
      "Epoch 13/2000\n",
      "7337/7337 [==============================] - 864s 118ms/step - loss: 0.4452 - accuracy: 0.8041 - AUC_DRlvls_0_1234: 0.8750 - Sp_at_95_sens_DRlvls_0_1234: 0.3307 - RunningValidation: 0.0000e+00 - val_loss: 0.4348 - val_accuracy: 0.8174 - val_AUC_DRlvls_0_1234: 0.8812 - val_Sp_at_95_sens_DRlvls_0_1234: 0.3369 - val_RunningValidation: 1.0000\n",
      "Epoch 14/2000\n",
      "7337/7337 [==============================] - 860s 117ms/step - loss: 0.4379 - accuracy: 0.8117 - AUC_DRlvls_0_1234: 0.8799 - Sp_at_95_sens_DRlvls_0_1234: 0.3594 - RunningValidation: 0.0000e+00 - val_loss: 0.4271 - val_accuracy: 0.8118 - val_AUC_DRlvls_0_1234: 0.8881 - val_Sp_at_95_sens_DRlvls_0_1234: 0.3958 - val_RunningValidation: 1.0000\n",
      "Epoch 15/2000\n",
      "7337/7337 [==============================] - 859s 117ms/step - loss: 0.4315 - accuracy: 0.8124 - AUC_DRlvls_0_1234: 0.8814 - Sp_at_95_sens_DRlvls_0_1234: 0.3583 - RunningValidation: 0.0000e+00 - val_loss: 0.4868 - val_accuracy: 0.8113 - val_AUC_DRlvls_0_1234: 0.8847 - val_Sp_at_95_sens_DRlvls_0_1234: 0.3541 - val_RunningValidation: 1.0000\n",
      "Epoch 16/2000\n",
      "7337/7337 [==============================] - 860s 117ms/step - loss: 0.4318 - accuracy: 0.8148 - AUC_DRlvls_0_1234: 0.8840 - Sp_at_95_sens_DRlvls_0_1234: 0.3552 - RunningValidation: 0.0000e+00 - val_loss: 0.4703 - val_accuracy: 0.8152 - val_AUC_DRlvls_0_1234: 0.8843 - val_Sp_at_95_sens_DRlvls_0_1234: 0.3791 - val_RunningValidation: 1.0000\n",
      "Epoch 17/2000\n",
      "7337/7337 [==============================] - 860s 117ms/step - loss: 0.4279 - accuracy: 0.8184 - AUC_DRlvls_0_1234: 0.8859 - Sp_at_95_sens_DRlvls_0_1234: 0.3658 - RunningValidation: 0.0000e+00 - val_loss: 0.4644 - val_accuracy: 0.8163 - val_AUC_DRlvls_0_1234: 0.8850 - val_Sp_at_95_sens_DRlvls_0_1234: 0.3558 - val_RunningValidation: 1.0000\n",
      "Epoch 18/2000\n",
      "7337/7337 [==============================] - 860s 117ms/step - loss: 0.4244 - accuracy: 0.8190 - AUC_DRlvls_0_1234: 0.8888 - Sp_at_95_sens_DRlvls_0_1234: 0.4027 - RunningValidation: 0.0000e+00 - val_loss: 0.4197 - val_accuracy: 0.8221 - val_AUC_DRlvls_0_1234: 0.8895 - val_Sp_at_95_sens_DRlvls_0_1234: 0.3652 - val_RunningValidation: 1.0000\n",
      "Epoch 19/2000\n",
      "7337/7337 [==============================] - 860s 117ms/step - loss: 0.4186 - accuracy: 0.8231 - AUC_DRlvls_0_1234: 0.8911 - Sp_at_95_sens_DRlvls_0_1234: 0.3703 - RunningValidation: 0.0000e+00 - val_loss: 0.4313 - val_accuracy: 0.8293 - val_AUC_DRlvls_0_1234: 0.8877 - val_Sp_at_95_sens_DRlvls_0_1234: 0.3530 - val_RunningValidation: 1.0000\n",
      "Epoch 20/2000\n",
      "7337/7337 [==============================] - 860s 117ms/step - loss: 0.4199 - accuracy: 0.8231 - AUC_DRlvls_0_1234: 0.8908 - Sp_at_95_sens_DRlvls_0_1234: 0.3799 - RunningValidation: 0.0000e+00 - val_loss: 0.4605 - val_accuracy: 0.8230 - val_AUC_DRlvls_0_1234: 0.8861 - val_Sp_at_95_sens_DRlvls_0_1234: 0.3113 - val_RunningValidation: 1.0000\n",
      "Epoch 21/2000\n",
      "7337/7337 [==============================] - 860s 117ms/step - loss: 0.4192 - accuracy: 0.8242 - AUC_DRlvls_0_1234: 0.8911 - Sp_at_95_sens_DRlvls_0_1234: 0.3909 - RunningValidation: 0.0000e+00 - val_loss: 0.4243 - val_accuracy: 0.8252 - val_AUC_DRlvls_0_1234: 0.8911 - val_Sp_at_95_sens_DRlvls_0_1234: 0.3874 - val_RunningValidation: 1.0000\n",
      "Epoch 22/2000\n",
      "7337/7337 [==============================] - 859s 117ms/step - loss: 0.4140 - accuracy: 0.8274 - AUC_DRlvls_0_1234: 0.8953 - Sp_at_95_sens_DRlvls_0_1234: 0.3923 - RunningValidation: 0.0000e+00 - val_loss: 0.4420 - val_accuracy: 0.8291 - val_AUC_DRlvls_0_1234: 0.8895 - val_Sp_at_95_sens_DRlvls_0_1234: 0.3596 - val_RunningValidation: 1.0000\n",
      "Epoch 23/2000\n",
      "7337/7337 [==============================] - 867s 118ms/step - loss: 0.4129 - accuracy: 0.8303 - AUC_DRlvls_0_1234: 0.8958 - Sp_at_95_sens_DRlvls_0_1234: 0.4009 - RunningValidation: 0.0000e+00 - val_loss: 0.4514 - val_accuracy: 0.8271 - val_AUC_DRlvls_0_1234: 0.8899 - val_Sp_at_95_sens_DRlvls_0_1234: 0.3791 - val_RunningValidation: 1.0000\n",
      "Epoch 24/2000\n",
      "7337/7337 [==============================] - 869s 118ms/step - loss: 0.4075 - accuracy: 0.8314 - AUC_DRlvls_0_1234: 0.8981 - Sp_at_95_sens_DRlvls_0_1234: 0.4063 - RunningValidation: 0.0000e+00 - val_loss: 0.4442 - val_accuracy: 0.8302 - val_AUC_DRlvls_0_1234: 0.8937 - val_Sp_at_95_sens_DRlvls_0_1234: 0.3791 - val_RunningValidation: 1.0000\n",
      "Epoch 25/2000\n",
      "7337/7337 [==============================] - 863s 118ms/step - loss: 0.4059 - accuracy: 0.8326 - AUC_DRlvls_0_1234: 0.8990 - Sp_at_95_sens_DRlvls_0_1234: 0.4181 - RunningValidation: 0.0000e+00 - val_loss: 0.4325 - val_accuracy: 0.8307 - val_AUC_DRlvls_0_1234: 0.8897 - val_Sp_at_95_sens_DRlvls_0_1234: 0.3508 - val_RunningValidation: 1.0000\n",
      "Epoch 26/2000\n",
      "7337/7337 [==============================] - 860s 117ms/step - loss: 0.4030 - accuracy: 0.8360 - AUC_DRlvls_0_1234: 0.9011 - Sp_at_95_sens_DRlvls_0_1234: 0.4291 - RunningValidation: 0.0000e+00 - val_loss: 0.4429 - val_accuracy: 0.8330 - val_AUC_DRlvls_0_1234: 0.8914 - val_Sp_at_95_sens_DRlvls_0_1234: 0.3674 - val_RunningValidation: 1.0000\n",
      "Epoch 27/2000\n",
      "7337/7337 [==============================] - 860s 117ms/step - loss: 0.4068 - accuracy: 0.8322 - AUC_DRlvls_0_1234: 0.8995 - Sp_at_95_sens_DRlvls_0_1234: 0.4051 - RunningValidation: 0.0000e+00 - val_loss: 0.4381 - val_accuracy: 0.8302 - val_AUC_DRlvls_0_1234: 0.8912 - val_Sp_at_95_sens_DRlvls_0_1234: 0.3691 - val_RunningValidation: 1.0000\n",
      "Epoch 28/2000\n",
      "7337/7337 [==============================] - 863s 118ms/step - loss: 0.4039 - accuracy: 0.8399 - AUC_DRlvls_0_1234: 0.9034 - Sp_at_95_sens_DRlvls_0_1234: 0.4167 - RunningValidation: 0.0000e+00 - val_loss: 0.4740 - val_accuracy: 0.8293 - val_AUC_DRlvls_0_1234: 0.8900 - val_Sp_at_95_sens_DRlvls_0_1234: 0.3191 - val_RunningValidation: 1.0000\n",
      "Epoch 29/2000\n",
      "7337/7337 [==============================] - 861s 117ms/step - loss: 0.3991 - accuracy: 0.8388 - AUC_DRlvls_0_1234: 0.9049 - Sp_at_95_sens_DRlvls_0_1234: 0.4411 - RunningValidation: 0.0000e+00 - val_loss: 0.4515 - val_accuracy: 0.8243 - val_AUC_DRlvls_0_1234: 0.8888 - val_Sp_at_95_sens_DRlvls_0_1234: 0.3585 - val_RunningValidation: 1.0000\n",
      "Epoch 30/2000\n",
      "7337/7337 [==============================] - 862s 118ms/step - loss: 0.3958 - accuracy: 0.8404 - AUC_DRlvls_0_1234: 0.9068 - Sp_at_95_sens_DRlvls_0_1234: 0.4486 - RunningValidation: 0.0000e+00 - val_loss: 0.5153 - val_accuracy: 0.8216 - val_AUC_DRlvls_0_1234: 0.8853 - val_Sp_at_95_sens_DRlvls_0_1234: 0.3558 - val_RunningValidation: 1.0000\n",
      "Epoch 31/2000\n",
      "7337/7337 [==============================] - 862s 118ms/step - loss: 0.3999 - accuracy: 0.8402 - AUC_DRlvls_0_1234: 0.9062 - Sp_at_95_sens_DRlvls_0_1234: 0.4536 - RunningValidation: 0.0000e+00 - val_loss: 0.4550 - val_accuracy: 0.8288 - val_AUC_DRlvls_0_1234: 0.8877 - val_Sp_at_95_sens_DRlvls_0_1234: 0.2974 - val_RunningValidation: 1.0000\n",
      "Epoch 32/2000\n",
      "7337/7337 [==============================] - 863s 118ms/step - loss: 0.3893 - accuracy: 0.8461 - AUC_DRlvls_0_1234: 0.9101 - Sp_at_95_sens_DRlvls_0_1234: 0.4433 - RunningValidation: 0.0000e+00 - val_loss: 0.4722 - val_accuracy: 0.8296 - val_AUC_DRlvls_0_1234: 0.8875 - val_Sp_at_95_sens_DRlvls_0_1234: 0.3007 - val_RunningValidation: 1.0000\n",
      "Epoch 33/2000\n",
      "7337/7337 [==============================] - 864s 118ms/step - loss: 0.3904 - accuracy: 0.8454 - AUC_DRlvls_0_1234: 0.9105 - Sp_at_95_sens_DRlvls_0_1234: 0.4666 - RunningValidation: 0.0000e+00 - val_loss: 0.4922 - val_accuracy: 0.8296 - val_AUC_DRlvls_0_1234: 0.8885 - val_Sp_at_95_sens_DRlvls_0_1234: 0.3152 - val_RunningValidation: 1.0000\n",
      "Epoch 34/2000\n",
      "7337/7337 [==============================] - 864s 118ms/step - loss: 0.3914 - accuracy: 0.8446 - AUC_DRlvls_0_1234: 0.9099 - Sp_at_95_sens_DRlvls_0_1234: 0.4600 - RunningValidation: 0.0000e+00 - val_loss: 0.4713 - val_accuracy: 0.8313 - val_AUC_DRlvls_0_1234: 0.8895 - val_Sp_at_95_sens_DRlvls_0_1234: 0.3674 - val_RunningValidation: 1.0000\n",
      "Epoch 35/2000\n",
      "7337/7337 [==============================] - 865s 118ms/step - loss: 0.3849 - accuracy: 0.8473 - AUC_DRlvls_0_1234: 0.9118 - Sp_at_95_sens_DRlvls_0_1234: 0.4763 - RunningValidation: 0.0000e+00 - val_loss: 0.5414 - val_accuracy: 0.8232 - val_AUC_DRlvls_0_1234: 0.8838 - val_Sp_at_95_sens_DRlvls_0_1234: 0.3152 - val_RunningValidation: 1.0000\n",
      "Epoch 36/2000\n",
      "7337/7337 [==============================] - 866s 118ms/step - loss: 0.3853 - accuracy: 0.8503 - AUC_DRlvls_0_1234: 0.9119 - Sp_at_95_sens_DRlvls_0_1234: 0.4640 - RunningValidation: 0.0000e+00 - val_loss: 0.5014 - val_accuracy: 0.8299 - val_AUC_DRlvls_0_1234: 0.8888 - val_Sp_at_95_sens_DRlvls_0_1234: 0.3407 - val_RunningValidation: 1.0000\n",
      "Epoch 37/2000\n",
      "7337/7337 [==============================] - 866s 118ms/step - loss: 0.3850 - accuracy: 0.8475 - AUC_DRlvls_0_1234: 0.9133 - Sp_at_95_sens_DRlvls_0_1234: 0.4731 - RunningValidation: 0.0000e+00 - val_loss: 0.4961 - val_accuracy: 0.8305 - val_AUC_DRlvls_0_1234: 0.8875 - val_Sp_at_95_sens_DRlvls_0_1234: 0.3363 - val_RunningValidation: 1.0000\n",
      "Epoch 38/2000\n",
      "6359/7337 [=========================>....] - ETA: 1:51 - loss: 0.3850 - accuracy: 0.8495 - AUC_DRlvls_0_1234: 0.9125 - Sp_at_95_sens_DRlvls_0_1234: 0.4785 - RunningValidation: 0.0000e+00"
     ]
    },
    {
     "ename": "KeyboardInterrupt",
     "evalue": "",
     "output_type": "error",
     "traceback": [
      "\u001b[0;31m---------------------------------------------------------------------------\u001b[0m",
      "\u001b[0;31mKeyboardInterrupt\u001b[0m                         Traceback (most recent call last)",
      "\u001b[0;32m<ipython-input-10-d2b98900cb4d>\u001b[0m in \u001b[0;36m<module>\u001b[0;34m\u001b[0m\n\u001b[1;32m     17\u001b[0m \u001b[0;34m\u001b[0m\u001b[0m\n\u001b[1;32m     18\u001b[0m \u001b[0;31m# history = model.fit(train_dataset.take(50), epochs=num_epochs, validation_data=val_dataset.take(10), verbose=1, callbacks=cbacks, class_weight=d_class_weights)\u001b[0m\u001b[0;34m\u001b[0m\u001b[0;34m\u001b[0m\u001b[0;34m\u001b[0m\u001b[0m\n\u001b[0;32m---> 19\u001b[0;31m \u001b[0mhistory\u001b[0m \u001b[0;34m=\u001b[0m \u001b[0mmodel\u001b[0m\u001b[0;34m.\u001b[0m\u001b[0mfit\u001b[0m\u001b[0;34m(\u001b[0m\u001b[0mtrain_dataset\u001b[0m\u001b[0;34m,\u001b[0m \u001b[0mepochs\u001b[0m\u001b[0;34m=\u001b[0m\u001b[0mnum_epochs\u001b[0m\u001b[0;34m,\u001b[0m \u001b[0mvalidation_data\u001b[0m\u001b[0;34m=\u001b[0m\u001b[0mval_dataset\u001b[0m\u001b[0;34m,\u001b[0m \u001b[0mverbose\u001b[0m\u001b[0;34m=\u001b[0m\u001b[0;36m1\u001b[0m\u001b[0;34m,\u001b[0m \u001b[0mcallbacks\u001b[0m\u001b[0;34m=\u001b[0m\u001b[0mcbacks\u001b[0m\u001b[0;34m)\u001b[0m\u001b[0;34m\u001b[0m\u001b[0;34m\u001b[0m\u001b[0m\n\u001b[0m",
      "\u001b[0;32m~/miguel_herrera/lib/python3.8/site-packages/tensorflow/python/keras/engine/training.py\u001b[0m in \u001b[0;36m_method_wrapper\u001b[0;34m(self, *args, **kwargs)\u001b[0m\n\u001b[1;32m    106\u001b[0m   \u001b[0;32mdef\u001b[0m \u001b[0m_method_wrapper\u001b[0m\u001b[0;34m(\u001b[0m\u001b[0mself\u001b[0m\u001b[0;34m,\u001b[0m \u001b[0;34m*\u001b[0m\u001b[0margs\u001b[0m\u001b[0;34m,\u001b[0m \u001b[0;34m**\u001b[0m\u001b[0mkwargs\u001b[0m\u001b[0;34m)\u001b[0m\u001b[0;34m:\u001b[0m\u001b[0;34m\u001b[0m\u001b[0;34m\u001b[0m\u001b[0m\n\u001b[1;32m    107\u001b[0m     \u001b[0;32mif\u001b[0m \u001b[0;32mnot\u001b[0m \u001b[0mself\u001b[0m\u001b[0;34m.\u001b[0m\u001b[0m_in_multi_worker_mode\u001b[0m\u001b[0;34m(\u001b[0m\u001b[0;34m)\u001b[0m\u001b[0;34m:\u001b[0m  \u001b[0;31m# pylint: disable=protected-access\u001b[0m\u001b[0;34m\u001b[0m\u001b[0;34m\u001b[0m\u001b[0m\n\u001b[0;32m--> 108\u001b[0;31m       \u001b[0;32mreturn\u001b[0m \u001b[0mmethod\u001b[0m\u001b[0;34m(\u001b[0m\u001b[0mself\u001b[0m\u001b[0;34m,\u001b[0m \u001b[0;34m*\u001b[0m\u001b[0margs\u001b[0m\u001b[0;34m,\u001b[0m \u001b[0;34m**\u001b[0m\u001b[0mkwargs\u001b[0m\u001b[0;34m)\u001b[0m\u001b[0;34m\u001b[0m\u001b[0;34m\u001b[0m\u001b[0m\n\u001b[0m\u001b[1;32m    109\u001b[0m \u001b[0;34m\u001b[0m\u001b[0m\n\u001b[1;32m    110\u001b[0m     \u001b[0;31m# Running inside `run_distribute_coordinator` already.\u001b[0m\u001b[0;34m\u001b[0m\u001b[0;34m\u001b[0m\u001b[0;34m\u001b[0m\u001b[0m\n",
      "\u001b[0;32m~/miguel_herrera/lib/python3.8/site-packages/tensorflow/python/keras/engine/training.py\u001b[0m in \u001b[0;36mfit\u001b[0;34m(self, x, y, batch_size, epochs, verbose, callbacks, validation_split, validation_data, shuffle, class_weight, sample_weight, initial_epoch, steps_per_epoch, validation_steps, validation_batch_size, validation_freq, max_queue_size, workers, use_multiprocessing)\u001b[0m\n\u001b[1;32m   1096\u001b[0m                 batch_size=batch_size):\n\u001b[1;32m   1097\u001b[0m               \u001b[0mcallbacks\u001b[0m\u001b[0;34m.\u001b[0m\u001b[0mon_train_batch_begin\u001b[0m\u001b[0;34m(\u001b[0m\u001b[0mstep\u001b[0m\u001b[0;34m)\u001b[0m\u001b[0;34m\u001b[0m\u001b[0;34m\u001b[0m\u001b[0m\n\u001b[0;32m-> 1098\u001b[0;31m               \u001b[0mtmp_logs\u001b[0m \u001b[0;34m=\u001b[0m \u001b[0mtrain_function\u001b[0m\u001b[0;34m(\u001b[0m\u001b[0miterator\u001b[0m\u001b[0;34m)\u001b[0m\u001b[0;34m\u001b[0m\u001b[0;34m\u001b[0m\u001b[0m\n\u001b[0m\u001b[1;32m   1099\u001b[0m               \u001b[0;32mif\u001b[0m \u001b[0mdata_handler\u001b[0m\u001b[0;34m.\u001b[0m\u001b[0mshould_sync\u001b[0m\u001b[0;34m:\u001b[0m\u001b[0;34m\u001b[0m\u001b[0;34m\u001b[0m\u001b[0m\n\u001b[1;32m   1100\u001b[0m                 \u001b[0mcontext\u001b[0m\u001b[0;34m.\u001b[0m\u001b[0masync_wait\u001b[0m\u001b[0;34m(\u001b[0m\u001b[0;34m)\u001b[0m\u001b[0;34m\u001b[0m\u001b[0;34m\u001b[0m\u001b[0m\n",
      "\u001b[0;32m~/miguel_herrera/lib/python3.8/site-packages/tensorflow/python/eager/def_function.py\u001b[0m in \u001b[0;36m__call__\u001b[0;34m(self, *args, **kwds)\u001b[0m\n\u001b[1;32m    778\u001b[0m       \u001b[0;32melse\u001b[0m\u001b[0;34m:\u001b[0m\u001b[0;34m\u001b[0m\u001b[0;34m\u001b[0m\u001b[0m\n\u001b[1;32m    779\u001b[0m         \u001b[0mcompiler\u001b[0m \u001b[0;34m=\u001b[0m \u001b[0;34m\"nonXla\"\u001b[0m\u001b[0;34m\u001b[0m\u001b[0;34m\u001b[0m\u001b[0m\n\u001b[0;32m--> 780\u001b[0;31m         \u001b[0mresult\u001b[0m \u001b[0;34m=\u001b[0m \u001b[0mself\u001b[0m\u001b[0;34m.\u001b[0m\u001b[0m_call\u001b[0m\u001b[0;34m(\u001b[0m\u001b[0;34m*\u001b[0m\u001b[0margs\u001b[0m\u001b[0;34m,\u001b[0m \u001b[0;34m**\u001b[0m\u001b[0mkwds\u001b[0m\u001b[0;34m)\u001b[0m\u001b[0;34m\u001b[0m\u001b[0;34m\u001b[0m\u001b[0m\n\u001b[0m\u001b[1;32m    781\u001b[0m \u001b[0;34m\u001b[0m\u001b[0m\n\u001b[1;32m    782\u001b[0m       \u001b[0mnew_tracing_count\u001b[0m \u001b[0;34m=\u001b[0m \u001b[0mself\u001b[0m\u001b[0;34m.\u001b[0m\u001b[0m_get_tracing_count\u001b[0m\u001b[0;34m(\u001b[0m\u001b[0;34m)\u001b[0m\u001b[0;34m\u001b[0m\u001b[0;34m\u001b[0m\u001b[0m\n",
      "\u001b[0;32m~/miguel_herrera/lib/python3.8/site-packages/tensorflow/python/eager/def_function.py\u001b[0m in \u001b[0;36m_call\u001b[0;34m(self, *args, **kwds)\u001b[0m\n\u001b[1;32m    805\u001b[0m       \u001b[0;31m# In this case we have created variables on the first call, so we run the\u001b[0m\u001b[0;34m\u001b[0m\u001b[0;34m\u001b[0m\u001b[0;34m\u001b[0m\u001b[0m\n\u001b[1;32m    806\u001b[0m       \u001b[0;31m# defunned version which is guaranteed to never create variables.\u001b[0m\u001b[0;34m\u001b[0m\u001b[0;34m\u001b[0m\u001b[0;34m\u001b[0m\u001b[0m\n\u001b[0;32m--> 807\u001b[0;31m       \u001b[0;32mreturn\u001b[0m \u001b[0mself\u001b[0m\u001b[0;34m.\u001b[0m\u001b[0m_stateless_fn\u001b[0m\u001b[0;34m(\u001b[0m\u001b[0;34m*\u001b[0m\u001b[0margs\u001b[0m\u001b[0;34m,\u001b[0m \u001b[0;34m**\u001b[0m\u001b[0mkwds\u001b[0m\u001b[0;34m)\u001b[0m  \u001b[0;31m# pylint: disable=not-callable\u001b[0m\u001b[0;34m\u001b[0m\u001b[0;34m\u001b[0m\u001b[0m\n\u001b[0m\u001b[1;32m    808\u001b[0m     \u001b[0;32melif\u001b[0m \u001b[0mself\u001b[0m\u001b[0;34m.\u001b[0m\u001b[0m_stateful_fn\u001b[0m \u001b[0;32mis\u001b[0m \u001b[0;32mnot\u001b[0m \u001b[0;32mNone\u001b[0m\u001b[0;34m:\u001b[0m\u001b[0;34m\u001b[0m\u001b[0;34m\u001b[0m\u001b[0m\n\u001b[1;32m    809\u001b[0m       \u001b[0;31m# Release the lock early so that multiple threads can perform the call\u001b[0m\u001b[0;34m\u001b[0m\u001b[0;34m\u001b[0m\u001b[0;34m\u001b[0m\u001b[0m\n",
      "\u001b[0;32m~/miguel_herrera/lib/python3.8/site-packages/tensorflow/python/eager/function.py\u001b[0m in \u001b[0;36m__call__\u001b[0;34m(self, *args, **kwargs)\u001b[0m\n\u001b[1;32m   2827\u001b[0m     \u001b[0;32mwith\u001b[0m \u001b[0mself\u001b[0m\u001b[0;34m.\u001b[0m\u001b[0m_lock\u001b[0m\u001b[0;34m:\u001b[0m\u001b[0;34m\u001b[0m\u001b[0;34m\u001b[0m\u001b[0m\n\u001b[1;32m   2828\u001b[0m       \u001b[0mgraph_function\u001b[0m\u001b[0;34m,\u001b[0m \u001b[0margs\u001b[0m\u001b[0;34m,\u001b[0m \u001b[0mkwargs\u001b[0m \u001b[0;34m=\u001b[0m \u001b[0mself\u001b[0m\u001b[0;34m.\u001b[0m\u001b[0m_maybe_define_function\u001b[0m\u001b[0;34m(\u001b[0m\u001b[0margs\u001b[0m\u001b[0;34m,\u001b[0m \u001b[0mkwargs\u001b[0m\u001b[0;34m)\u001b[0m\u001b[0;34m\u001b[0m\u001b[0;34m\u001b[0m\u001b[0m\n\u001b[0;32m-> 2829\u001b[0;31m     \u001b[0;32mreturn\u001b[0m \u001b[0mgraph_function\u001b[0m\u001b[0;34m.\u001b[0m\u001b[0m_filtered_call\u001b[0m\u001b[0;34m(\u001b[0m\u001b[0margs\u001b[0m\u001b[0;34m,\u001b[0m \u001b[0mkwargs\u001b[0m\u001b[0;34m)\u001b[0m  \u001b[0;31m# pylint: disable=protected-access\u001b[0m\u001b[0;34m\u001b[0m\u001b[0;34m\u001b[0m\u001b[0m\n\u001b[0m\u001b[1;32m   2830\u001b[0m \u001b[0;34m\u001b[0m\u001b[0m\n\u001b[1;32m   2831\u001b[0m   \u001b[0;34m@\u001b[0m\u001b[0mproperty\u001b[0m\u001b[0;34m\u001b[0m\u001b[0;34m\u001b[0m\u001b[0m\n",
      "\u001b[0;32m~/miguel_herrera/lib/python3.8/site-packages/tensorflow/python/eager/function.py\u001b[0m in \u001b[0;36m_filtered_call\u001b[0;34m(self, args, kwargs, cancellation_manager)\u001b[0m\n\u001b[1;32m   1841\u001b[0m       \u001b[0;31m`\u001b[0m\u001b[0margs\u001b[0m\u001b[0;31m`\u001b[0m \u001b[0;32mand\u001b[0m\u001b[0;31m \u001b[0m\u001b[0;31m`\u001b[0m\u001b[0mkwargs\u001b[0m\u001b[0;31m`\u001b[0m\u001b[0;34m.\u001b[0m\u001b[0;34m\u001b[0m\u001b[0;34m\u001b[0m\u001b[0m\n\u001b[1;32m   1842\u001b[0m     \"\"\"\n\u001b[0;32m-> 1843\u001b[0;31m     return self._call_flat(\n\u001b[0m\u001b[1;32m   1844\u001b[0m         [t for t in nest.flatten((args, kwargs), expand_composites=True)\n\u001b[1;32m   1845\u001b[0m          if isinstance(t, (ops.Tensor,\n",
      "\u001b[0;32m~/miguel_herrera/lib/python3.8/site-packages/tensorflow/python/eager/function.py\u001b[0m in \u001b[0;36m_call_flat\u001b[0;34m(self, args, captured_inputs, cancellation_manager)\u001b[0m\n\u001b[1;32m   1921\u001b[0m         and executing_eagerly):\n\u001b[1;32m   1922\u001b[0m       \u001b[0;31m# No tape is watching; skip to running the function.\u001b[0m\u001b[0;34m\u001b[0m\u001b[0;34m\u001b[0m\u001b[0;34m\u001b[0m\u001b[0m\n\u001b[0;32m-> 1923\u001b[0;31m       return self._build_call_outputs(self._inference_function.call(\n\u001b[0m\u001b[1;32m   1924\u001b[0m           ctx, args, cancellation_manager=cancellation_manager))\n\u001b[1;32m   1925\u001b[0m     forward_backward = self._select_forward_and_backward_functions(\n",
      "\u001b[0;32m~/miguel_herrera/lib/python3.8/site-packages/tensorflow/python/eager/function.py\u001b[0m in \u001b[0;36mcall\u001b[0;34m(self, ctx, args, cancellation_manager)\u001b[0m\n\u001b[1;32m    543\u001b[0m       \u001b[0;32mwith\u001b[0m \u001b[0m_InterpolateFunctionError\u001b[0m\u001b[0;34m(\u001b[0m\u001b[0mself\u001b[0m\u001b[0;34m)\u001b[0m\u001b[0;34m:\u001b[0m\u001b[0;34m\u001b[0m\u001b[0;34m\u001b[0m\u001b[0m\n\u001b[1;32m    544\u001b[0m         \u001b[0;32mif\u001b[0m \u001b[0mcancellation_manager\u001b[0m \u001b[0;32mis\u001b[0m \u001b[0;32mNone\u001b[0m\u001b[0;34m:\u001b[0m\u001b[0;34m\u001b[0m\u001b[0;34m\u001b[0m\u001b[0m\n\u001b[0;32m--> 545\u001b[0;31m           outputs = execute.execute(\n\u001b[0m\u001b[1;32m    546\u001b[0m               \u001b[0mstr\u001b[0m\u001b[0;34m(\u001b[0m\u001b[0mself\u001b[0m\u001b[0;34m.\u001b[0m\u001b[0msignature\u001b[0m\u001b[0;34m.\u001b[0m\u001b[0mname\u001b[0m\u001b[0;34m)\u001b[0m\u001b[0;34m,\u001b[0m\u001b[0;34m\u001b[0m\u001b[0;34m\u001b[0m\u001b[0m\n\u001b[1;32m    547\u001b[0m               \u001b[0mnum_outputs\u001b[0m\u001b[0;34m=\u001b[0m\u001b[0mself\u001b[0m\u001b[0;34m.\u001b[0m\u001b[0m_num_outputs\u001b[0m\u001b[0;34m,\u001b[0m\u001b[0;34m\u001b[0m\u001b[0;34m\u001b[0m\u001b[0m\n",
      "\u001b[0;32m~/miguel_herrera/lib/python3.8/site-packages/tensorflow/python/eager/execute.py\u001b[0m in \u001b[0;36mquick_execute\u001b[0;34m(op_name, num_outputs, inputs, attrs, ctx, name)\u001b[0m\n\u001b[1;32m     57\u001b[0m   \u001b[0;32mtry\u001b[0m\u001b[0;34m:\u001b[0m\u001b[0;34m\u001b[0m\u001b[0;34m\u001b[0m\u001b[0m\n\u001b[1;32m     58\u001b[0m     \u001b[0mctx\u001b[0m\u001b[0;34m.\u001b[0m\u001b[0mensure_initialized\u001b[0m\u001b[0;34m(\u001b[0m\u001b[0;34m)\u001b[0m\u001b[0;34m\u001b[0m\u001b[0;34m\u001b[0m\u001b[0m\n\u001b[0;32m---> 59\u001b[0;31m     tensors = pywrap_tfe.TFE_Py_Execute(ctx._handle, device_name, op_name,\n\u001b[0m\u001b[1;32m     60\u001b[0m                                         inputs, attrs, num_outputs)\n\u001b[1;32m     61\u001b[0m   \u001b[0;32mexcept\u001b[0m \u001b[0mcore\u001b[0m\u001b[0;34m.\u001b[0m\u001b[0m_NotOkStatusException\u001b[0m \u001b[0;32mas\u001b[0m \u001b[0me\u001b[0m\u001b[0;34m:\u001b[0m\u001b[0;34m\u001b[0m\u001b[0;34m\u001b[0m\u001b[0m\n",
      "\u001b[0;31mKeyboardInterrupt\u001b[0m: "
     ]
    }
   ],
   "source": [
    "reload(metrics)\n",
    "\n",
    "validation_dir = base_path+'validation_outputs/'\n",
    "\n",
    "if not os.path.exists(validation_dir):\n",
    "    os.mkdir(validation_dir)\n",
    "\n",
    "model.compile(loss='sparse_categorical_crossentropy', \n",
    "              optimizer=tf.keras.optimizers.SGD(learning_rate=0.0001, momentum=0.9, clipnorm=1.0), \n",
    "              metrics=['accuracy',\n",
    "                       metric_AUC_0_1234, # DR levels: 0 vs 1,2,3,4\n",
    "                       metric_Sp_at_95_Sens_0_1234, # DR levels: 0 vs 1,2,3,4\n",
    "                       metrics.RunningValidation(path=validation_dir, n_columns=len(DR_LEVELS_PER_CLASS)) # THIS METRIC MUST BE INIZIALIZATED BEFORE EVERY TRAINING\n",
    "                      ]) \n",
    "\n",
    "num_epochs = 2000\n",
    "\n",
    "# history = model.fit(train_dataset.take(50), epochs=num_epochs, validation_data=val_dataset.take(10), verbose=1, callbacks=cbacks, class_weight=d_class_weights)\n",
    "history = model.fit(train_dataset, epochs=num_epochs, validation_data=val_dataset, verbose=1, callbacks=cbacks)"
   ]
  }
 ],
 "metadata": {
  "kernelspec": {
   "display_name": "Python 3.8.5 64-bit",
   "language": "python",
   "name": "python38564bit6c4dec2e42734bc298ce0c3bfcfccb75"
  },
  "language_info": {
   "codemirror_mode": {
    "name": "ipython",
    "version": 3
   },
   "file_extension": ".py",
   "mimetype": "text/x-python",
   "name": "python",
   "nbconvert_exporter": "python",
   "pygments_lexer": "ipython3",
   "version": "3.8.5"
  }
 },
 "nbformat": 4,
 "nbformat_minor": 5
}
