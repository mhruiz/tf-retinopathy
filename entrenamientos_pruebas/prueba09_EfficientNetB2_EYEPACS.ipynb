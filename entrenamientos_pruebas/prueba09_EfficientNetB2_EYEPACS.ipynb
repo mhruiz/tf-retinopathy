{
 "cells": [
  {
   "cell_type": "markdown",
   "id": "confidential-cause",
   "metadata": {},
   "source": [
    "# Codigo propio"
   ]
  },
  {
   "cell_type": "code",
   "execution_count": 1,
   "id": "lucky-miracle",
   "metadata": {},
   "outputs": [],
   "source": [
    "import lib.custom_metrics as metrics\n",
    "import lib.evaluation as ev\n",
    "import lib.plotting as plot\n",
    "import lib.models as models\n",
    "import lib.dataset as dt\n",
    "\n",
    "import matplotlib.pyplot as plt\n",
    "import imgaug.augmenters as iaa\n",
    "import tensorflow as tf\n",
    "import pandas as pd\n",
    "import numpy as np\n",
    "import datetime\n",
    "import os\n",
    "\n",
    "from importlib import reload"
   ]
  },
  {
   "cell_type": "code",
   "execution_count": 2,
   "id": "buried-gross",
   "metadata": {},
   "outputs": [
    {
     "name": "stdout",
     "output_type": "stream",
     "text": [
      "1 Physical GPUs, 1 Logical GPU\n"
     ]
    }
   ],
   "source": [
    "gpus = tf.config.experimental.list_physical_devices('GPU')\n",
    "if gpus:\n",
    "  # Restrict TensorFlow to only use the first GPU\n",
    "  try:\n",
    "    tf.config.experimental.set_visible_devices(gpus[0], 'GPU')\n",
    "    logical_gpus = tf.config.experimental.list_logical_devices('GPU')\n",
    "    print(len(gpus), \"Physical GPUs,\", len(logical_gpus), \"Logical GPU\")\n",
    "  except RuntimeError as e:\n",
    "    # Visible devices must be set before GPUs have been initialized\n",
    "    print(e)"
   ]
  },
  {
   "cell_type": "code",
   "execution_count": 3,
   "id": "central-expansion",
   "metadata": {},
   "outputs": [],
   "source": [
    "DR_LEVELS_PER_CLASS = [[0], [1,2,3,4]]\n",
    "\n",
    "IMAGE_SIZE = (540, 540, 3)\n",
    "\n",
    "# Specify dataset files\n",
    "TRAIN_FILE = 'DATASET-TRAIN-80.csv'\n",
    "VALIDATION_FILE = 'DATASET-VALIDATION-10.csv'\n",
    "\n",
    "TRAINING_BATCH_SIZE = 4\n",
    "TRAINING_DATA_AUG = True\n",
    "TRAINING_BALANCED = False\n",
    "TRAINING_SHUFFLE = True\n",
    "TRAINING_PREFETCH = 1\n",
    "TRAINING_TAKE_SIZE = None\n",
    "\n",
    "VALIDATION_BATCH_SIZE = 4\n",
    "VALIDATION_DATA_AUG = False\n",
    "VALIDATION_BALANCED = False\n",
    "VALIDATION_SHUFFLE = False\n",
    "VALIDATION_PREFETCH = 1\n",
    "VALIDATION_TAKE_SIZE = None"
   ]
  },
  {
   "cell_type": "code",
   "execution_count": 4,
   "id": "wired-luxembourg",
   "metadata": {},
   "outputs": [
    {
     "name": "stdout",
     "output_type": "stream",
     "text": [
      "Se aplica shuffle\n",
      "Se aplica data aug\n"
     ]
    }
   ],
   "source": [
    "reload(dt)\n",
    "\n",
    "'''\n",
    "def create_dataset_new(csv_file, \n",
    "                        list_list_classes,\n",
    "                        balanced=False,\n",
    "                        apply_data_augmentation=False,\n",
    "                        batch_size=1, \n",
    "                        prefetch_buffer=None, \n",
    "                        shuffle=False,\n",
    "                        size=None):\n",
    "'''\n",
    "\n",
    "train_dataset, y_true_train = dt.create_dataset_new(TRAIN_FILE, \n",
    "                                                    DR_LEVELS_PER_CLASS, \n",
    "                                                    balanced=TRAINING_BALANCED, \n",
    "                                                    apply_data_augmentation=TRAINING_DATA_AUG, \n",
    "                                                    batch_size=TRAINING_BATCH_SIZE, \n",
    "                                                    prefetch_buffer=TRAINING_PREFETCH, \n",
    "                                                    shuffle=TRAINING_SHUFFLE,\n",
    "                                                    size=TRAINING_TAKE_SIZE)\n",
    "\n",
    "val_dataset, y_true_val = dt.create_dataset_new(VALIDATION_FILE, \n",
    "                                                DR_LEVELS_PER_CLASS, \n",
    "                                                balanced=VALIDATION_BALANCED,\n",
    "                                                apply_data_augmentation=VALIDATION_DATA_AUG,\n",
    "                                                batch_size=VALIDATION_BATCH_SIZE,\n",
    "                                                prefetch_buffer=VALIDATION_PREFETCH, \n",
    "                                                shuffle=VALIDATION_SHUFFLE, \n",
    "                                                size=VALIDATION_TAKE_SIZE)"
   ]
  },
  {
   "cell_type": "code",
   "execution_count": 5,
   "id": "happy-elephant",
   "metadata": {},
   "outputs": [
    {
     "name": "stdout",
     "output_type": "stream",
     "text": [
      "Model: \"sequential\"\n",
      "_________________________________________________________________\n",
      "Layer (type)                 Output Shape              Param #   \n",
      "=================================================================\n",
      "efficientnetb2 (Functional)  (None, 1408)              7768569   \n",
      "_________________________________________________________________\n",
      "flatten (Flatten)            (None, 1408)              0         \n",
      "_________________________________________________________________\n",
      "dense (Dense)                (None, 2)                 2818      \n",
      "=================================================================\n",
      "Total params: 7,771,387\n",
      "Trainable params: 7,703,812\n",
      "Non-trainable params: 67,575\n",
      "_________________________________________________________________\n"
     ]
    }
   ],
   "source": [
    "# Define model\n",
    "reload(models)\n",
    "\n",
    "# model = models.mobileNetV2.get_model(input_shape=(540,540,3), num_outputs=3)\n",
    "model = models.efficientNetB2.get_model(input_shape=(540,540,3), num_outputs=len(DR_LEVELS_PER_CLASS))\n",
    "\n",
    "model.summary()"
   ]
  },
  {
   "cell_type": "code",
   "execution_count": 6,
   "id": "listed-georgia",
   "metadata": {},
   "outputs": [],
   "source": [
    "# Load weights if they were saved\n",
    "base_path = 'saved_weights/efficientNetB2/SGD/'\n",
    "save_path = base_path + 'model.h5'\n",
    "\n",
    "if not os.path.exists(base_path):\n",
    "    os.mkdir(base_path)\n",
    "\n",
    "if os.path.exists(save_path):\n",
    "    model.load_weights(save_path)\n",
    "    print('Model loaded')"
   ]
  },
  {
   "cell_type": "code",
   "execution_count": 7,
   "id": "sustained-tradition",
   "metadata": {},
   "outputs": [],
   "source": [
    "# Save ground truth for validation dataset\n",
    "np.save(base_path + 'ground_truth_val.npy', y_true_val)"
   ]
  },
  {
   "cell_type": "code",
   "execution_count": 8,
   "id": "global-democracy",
   "metadata": {},
   "outputs": [
    {
     "name": "stdout",
     "output_type": "stream",
     "text": [
      "['0', '1234']\n"
     ]
    }
   ],
   "source": [
    "# Compile model\n",
    "reload(metrics)\n",
    "\n",
    "classes_names = [''.join(list(map(str,class_))) for class_ in DR_LEVELS_PER_CLASS]\n",
    "\n",
    "print(classes_names)\n",
    "\n",
    "metric_AUC_0_1234 = metrics.Wrapper_AUC(classes=[1], original_dr_lvls=classes_names)\n",
    "\n",
    "metric_Sp_at_95_Sens_0_1234 = metrics.Wrapper_SpecificityAtSensitivity(sensitivity=0.95, classes=[1], original_dr_lvls=classes_names)"
   ]
  },
  {
   "cell_type": "code",
   "execution_count": 9,
   "id": "connected-sheet",
   "metadata": {},
   "outputs": [],
   "source": [
    "# Load the TensorBoard notebook extension\n",
    "%load_ext tensorboard\n",
    "\n",
    "# Create callbacks\n",
    "tensorboard_callback = tf.keras.callbacks.TensorBoard('logs/efficientNetB2_EYEPACS', histogram_freq=1, write_graph=False)\n",
    "\n",
    "cbacks = [tf.keras.callbacks.ModelCheckpoint(base_path + 'best' + metric_AUC_0_1234.get_custom_name() + '.h5', \n",
    "                                             monitor='val_' + metric_AUC_0_1234.get_custom_name(),\n",
    "                                             save_best_only=True,\n",
    "                                             save_weights_only=True,\n",
    "                                             mode='max'),\n",
    "\n",
    "          tf.keras.callbacks.ModelCheckpoint(base_path + 'best' + metric_Sp_at_95_Sens_0_1234.get_custom_name() + '.h5', \n",
    "                                             monitor='val_' + metric_Sp_at_95_Sens_0_1234.get_custom_name(),\n",
    "                                             save_best_only=True,\n",
    "                                             save_weights_only=True,\n",
    "                                             mode='max'),\n",
    "\n",
    "          tf.keras.callbacks.ModelCheckpoint(base_path + 'best_loss.h5',\n",
    "                                             monitor='val_loss',\n",
    "                                             save_best_only=True,\n",
    "                                             save_weights_only=True,\n",
    "                                             mode='min'),\n",
    "          tensorboard_callback]"
   ]
  },
  {
   "cell_type": "code",
   "execution_count": 10,
   "id": "vulnerable-orleans",
   "metadata": {},
   "outputs": [
    {
     "data": {
      "text/html": [
       "\n",
       "      <iframe id=\"tensorboard-frame-40f38ae64d6d06ef\" width=\"100%\" height=\"800\" frameborder=\"0\">\n",
       "      </iframe>\n",
       "      <script>\n",
       "        (function() {\n",
       "          const frame = document.getElementById(\"tensorboard-frame-40f38ae64d6d06ef\");\n",
       "          const url = new URL(\"/\", window.location);\n",
       "          const port = 6006;\n",
       "          if (port) {\n",
       "            url.port = port;\n",
       "          }\n",
       "          frame.src = url;\n",
       "        })();\n",
       "      </script>\n",
       "    "
      ],
      "text/plain": [
       "<IPython.core.display.HTML object>"
      ]
     },
     "metadata": {},
     "output_type": "display_data"
    }
   ],
   "source": [
    "# See Tensorboard\n",
    "%tensorboard --logdir logs"
   ]
  },
  {
   "cell_type": "code",
   "execution_count": 11,
   "id": "focused-thinking",
   "metadata": {},
   "outputs": [
    {
     "name": "stdout",
     "output_type": "stream",
     "text": [
      "Epoch 1/2000\n",
      "    1/14206 [..............................] - ETA: 7s - loss: 0.7278 - AUC_DRlvls_0_1234: 0.5000 - Sp_at_95_sens_DRlvls_0_1234: 0.5000WARNING:tensorflow:From /home/alumno/miguel_herrera/lib/python3.8/site-packages/tensorflow/python/ops/summary_ops_v2.py:1277: stop (from tensorflow.python.eager.profiler) is deprecated and will be removed after 2020-07-01.\n",
      "Instructions for updating:\n",
      "use `tf.profiler.experimental.stop` instead.\n",
      "    2/14206 [..............................] - ETA: 1:22:01 - loss: 0.8011 - AUC_DRlvls_0_1234: 0.4667 - Sp_at_95_sens_DRlvls_0_1234: 0.4000WARNING:tensorflow:Callbacks method `on_train_batch_end` is slow compared to the batch time (batch time: 0.1487s vs `on_train_batch_end` time: 0.5433s). Check your callbacks.\n",
      "14206/14206 [==============================] - 3641s 256ms/step - loss: 0.5145 - AUC_DRlvls_0_1234: 0.7191 - Sp_at_95_sens_DRlvls_0_1234: 0.1196 - val_loss: 1.1930 - val_AUC_DRlvls_0_1234: 0.5332 - val_Sp_at_95_sens_DRlvls_0_1234: 0.0592\n",
      "Epoch 2/2000\n",
      "14206/14206 [==============================] - 3651s 257ms/step - loss: 0.4551 - AUC_DRlvls_0_1234: 0.7809 - Sp_at_95_sens_DRlvls_0_1234: 0.1708 - val_loss: 1.4464 - val_AUC_DRlvls_0_1234: 0.4820 - val_Sp_at_95_sens_DRlvls_0_1234: 0.0368\n",
      "Epoch 3/2000\n",
      "14206/14206 [==============================] - 3629s 255ms/step - loss: 0.4303 - AUC_DRlvls_0_1234: 0.7988 - Sp_at_95_sens_DRlvls_0_1234: 0.1652 - val_loss: 4.8928 - val_AUC_DRlvls_0_1234: 0.0906 - val_Sp_at_95_sens_DRlvls_0_1234: 0.0151\n",
      "Epoch 4/2000\n",
      "14206/14206 [==============================] - 3576s 252ms/step - loss: 0.4143 - AUC_DRlvls_0_1234: 0.8121 - Sp_at_95_sens_DRlvls_0_1234: 0.1692 - val_loss: 0.8783 - val_AUC_DRlvls_0_1234: 0.4721 - val_Sp_at_95_sens_DRlvls_0_1234: 0.0419\n",
      "Epoch 5/2000\n",
      "14206/14206 [==============================] - 3570s 251ms/step - loss: 0.3908 - AUC_DRlvls_0_1234: 0.8312 - Sp_at_95_sens_DRlvls_0_1234: 0.2051 - val_loss: 0.7916 - val_AUC_DRlvls_0_1234: 0.5009 - val_Sp_at_95_sens_DRlvls_0_1234: 0.0477\n",
      "Epoch 6/2000\n",
      "14206/14206 [==============================] - 3572s 251ms/step - loss: 0.3849 - AUC_DRlvls_0_1234: 0.8338 - Sp_at_95_sens_DRlvls_0_1234: 0.2371 - val_loss: 0.6370 - val_AUC_DRlvls_0_1234: 0.4696 - val_Sp_at_95_sens_DRlvls_0_1234: 0.0419\n",
      "Epoch 7/2000\n",
      "14206/14206 [==============================] - 3565s 251ms/step - loss: 0.3790 - AUC_DRlvls_0_1234: 0.8377 - Sp_at_95_sens_DRlvls_0_1234: 0.2344 - val_loss: 0.5939 - val_AUC_DRlvls_0_1234: 0.4829 - val_Sp_at_95_sens_DRlvls_0_1234: 0.0413\n",
      "Epoch 8/2000\n",
      "14206/14206 [==============================] - 3571s 251ms/step - loss: 0.3833 - AUC_DRlvls_0_1234: 0.8387 - Sp_at_95_sens_DRlvls_0_1234: 0.2064 - val_loss: 0.6428 - val_AUC_DRlvls_0_1234: 0.4951 - val_Sp_at_95_sens_DRlvls_0_1234: 0.0387\n",
      "Epoch 9/2000\n",
      "14206/14206 [==============================] - 3569s 251ms/step - loss: 0.4074 - AUC_DRlvls_0_1234: 0.8269 - Sp_at_95_sens_DRlvls_0_1234: 0.2225 - val_loss: 1.6590 - val_AUC_DRlvls_0_1234: 0.5027 - val_Sp_at_95_sens_DRlvls_0_1234: 0.0716\n",
      "Epoch 10/2000\n",
      "14206/14206 [==============================] - 3574s 252ms/step - loss: 0.4362 - AUC_DRlvls_0_1234: 0.8159 - Sp_at_95_sens_DRlvls_0_1234: 0.2105 - val_loss: 0.6753 - val_AUC_DRlvls_0_1234: 0.5770 - val_Sp_at_95_sens_DRlvls_0_1234: 0.0671\n",
      "Epoch 11/2000\n",
      "14206/14206 [==============================] - 3553s 250ms/step - loss: 0.4584 - AUC_DRlvls_0_1234: 0.8100 - Sp_at_95_sens_DRlvls_0_1234: 0.2024 - val_loss: 0.7727 - val_AUC_DRlvls_0_1234: 0.4985 - val_Sp_at_95_sens_DRlvls_0_1234: 0.0351\n",
      "Epoch 12/2000\n",
      "14206/14206 [==============================] - 3569s 251ms/step - loss: 0.4892 - AUC_DRlvls_0_1234: 0.8036 - Sp_at_95_sens_DRlvls_0_1234: 0.1452 - val_loss: 0.7261 - val_AUC_DRlvls_0_1234: 0.4941 - val_Sp_at_95_sens_DRlvls_0_1234: 0.0530\n",
      "Epoch 13/2000\n",
      "14206/14206 [==============================] - 3573s 252ms/step - loss: 0.5166 - AUC_DRlvls_0_1234: 0.7962 - Sp_at_95_sens_DRlvls_0_1234: 0.1351 - val_loss: 170.3950 - val_AUC_DRlvls_0_1234: 0.2532 - val_Sp_at_95_sens_DRlvls_0_1234: 0.0530\n",
      "Epoch 14/2000\n",
      "14206/14206 [==============================] - 3574s 252ms/step - loss: 0.5556 - AUC_DRlvls_0_1234: 0.7957 - Sp_at_95_sens_DRlvls_0_1234: 0.1713 - val_loss: 8498.5938 - val_AUC_DRlvls_0_1234: 0.0536 - val_Sp_at_95_sens_DRlvls_0_1234: 0.0000e+00\n",
      "Epoch 15/2000\n",
      "14206/14206 [==============================] - 3602s 254ms/step - loss: 0.5861 - AUC_DRlvls_0_1234: 0.7914 - Sp_at_95_sens_DRlvls_0_1234: 0.1634 - val_loss: 0.6955 - val_AUC_DRlvls_0_1234: 0.6877 - val_Sp_at_95_sens_DRlvls_0_1234: 0.0794\n",
      "Epoch 16/2000\n",
      "14206/14206 [==============================] - 3584s 252ms/step - loss: 0.5312 - AUC_DRlvls_0_1234: 0.7951 - Sp_at_95_sens_DRlvls_0_1234: 0.1556 - val_loss: 4.6079 - val_AUC_DRlvls_0_1234: 0.4733 - val_Sp_at_95_sens_DRlvls_0_1234: 0.0441\n",
      "Epoch 17/2000\n",
      "14206/14206 [==============================] - 3565s 251ms/step - loss: 0.5398 - AUC_DRlvls_0_1234: 0.7961 - Sp_at_95_sens_DRlvls_0_1234: 0.1273 - val_loss: 1.1656 - val_AUC_DRlvls_0_1234: 0.3820 - val_Sp_at_95_sens_DRlvls_0_1234: 0.0000e+00\n",
      "Epoch 18/2000\n",
      "14206/14206 [==============================] - 3573s 252ms/step - loss: 0.5308 - AUC_DRlvls_0_1234: 0.8020 - Sp_at_95_sens_DRlvls_0_1234: 0.1427 - val_loss: 0.6016 - val_AUC_DRlvls_0_1234: 0.5585 - val_Sp_at_95_sens_DRlvls_0_1234: 0.0779\n",
      "Epoch 19/2000\n",
      "14206/14206 [==============================] - 3566s 251ms/step - loss: 0.5042 - AUC_DRlvls_0_1234: 0.7975 - Sp_at_95_sens_DRlvls_0_1234: 0.1676 - val_loss: 0.6579 - val_AUC_DRlvls_0_1234: 0.5945 - val_Sp_at_95_sens_DRlvls_0_1234: 0.0436\n",
      "Epoch 20/2000\n",
      "14206/14206 [==============================] - 3591s 253ms/step - loss: 0.5049 - AUC_DRlvls_0_1234: 0.7972 - Sp_at_95_sens_DRlvls_0_1234: 0.0943 - val_loss: 1.0212 - val_AUC_DRlvls_0_1234: 0.5296 - val_Sp_at_95_sens_DRlvls_0_1234: 0.0000e+00\n",
      "Epoch 21/2000\n",
      "14206/14206 [==============================] - 3570s 251ms/step - loss: 0.5094 - AUC_DRlvls_0_1234: 0.7896 - Sp_at_95_sens_DRlvls_0_1234: 0.0942 - val_loss: 1.2885 - val_AUC_DRlvls_0_1234: 0.2355 - val_Sp_at_95_sens_DRlvls_0_1234: 0.0000e+00\n",
      "Epoch 22/2000\n",
      "14206/14206 [==============================] - 3582s 252ms/step - loss: 0.4688 - AUC_DRlvls_0_1234: 0.8045 - Sp_at_95_sens_DRlvls_0_1234: 0.1452 - val_loss: 2.3271 - val_AUC_DRlvls_0_1234: 5.5565e-04 - val_Sp_at_95_sens_DRlvls_0_1234: 0.0000e+00\n",
      "Epoch 23/2000\n",
      "14206/14206 [==============================] - 3568s 251ms/step - loss: 0.4737 - AUC_DRlvls_0_1234: 0.8017 - Sp_at_95_sens_DRlvls_0_1234: 0.1269 - val_loss: 0.8444 - val_AUC_DRlvls_0_1234: 0.4653 - val_Sp_at_95_sens_DRlvls_0_1234: 0.0396\n",
      "Epoch 24/2000\n",
      "14206/14206 [==============================] - 3568s 251ms/step - loss: 0.4592 - AUC_DRlvls_0_1234: 0.8049 - Sp_at_95_sens_DRlvls_0_1234: 0.1950 - val_loss: 0.8549 - val_AUC_DRlvls_0_1234: 0.5098 - val_Sp_at_95_sens_DRlvls_0_1234: 0.0468\n",
      "Epoch 25/2000\n",
      "14206/14206 [==============================] - 3571s 251ms/step - loss: 0.4479 - AUC_DRlvls_0_1234: 0.8101 - Sp_at_95_sens_DRlvls_0_1234: 0.1818 - val_loss: 1.5594 - val_AUC_DRlvls_0_1234: 0.5024 - val_Sp_at_95_sens_DRlvls_0_1234: 0.0590\n",
      "Epoch 26/2000\n",
      "14206/14206 [==============================] - 3570s 251ms/step - loss: 0.4549 - AUC_DRlvls_0_1234: 0.8080 - Sp_at_95_sens_DRlvls_0_1234: 0.1397 - val_loss: 0.5548 - val_AUC_DRlvls_0_1234: 0.6000 - val_Sp_at_95_sens_DRlvls_0_1234: 0.1011\n",
      "Epoch 27/2000\n",
      "14206/14206 [==============================] - 3576s 252ms/step - loss: 0.4579 - AUC_DRlvls_0_1234: 0.8072 - Sp_at_95_sens_DRlvls_0_1234: 0.1433 - val_loss: 0.6044 - val_AUC_DRlvls_0_1234: 0.4958 - val_Sp_at_95_sens_DRlvls_0_1234: 0.0513\n",
      "Epoch 28/2000\n",
      "14206/14206 [==============================] - 3572s 251ms/step - loss: 0.4625 - AUC_DRlvls_0_1234: 0.8066 - Sp_at_95_sens_DRlvls_0_1234: 0.1594 - val_loss: 0.9097 - val_AUC_DRlvls_0_1234: 0.5386 - val_Sp_at_95_sens_DRlvls_0_1234: 0.0777\n",
      "Epoch 29/2000\n",
      "14206/14206 [==============================] - 3567s 251ms/step - loss: 0.4706 - AUC_DRlvls_0_1234: 0.8038 - Sp_at_95_sens_DRlvls_0_1234: 0.1668 - val_loss: 0.9409 - val_AUC_DRlvls_0_1234: 0.6376 - val_Sp_at_95_sens_DRlvls_0_1234: 0.0000e+00\n",
      "Epoch 30/2000\n",
      "14206/14206 [==============================] - 3566s 251ms/step - loss: 0.4662 - AUC_DRlvls_0_1234: 0.8067 - Sp_at_95_sens_DRlvls_0_1234: 0.1554 - val_loss: 1.3433 - val_AUC_DRlvls_0_1234: 0.5067 - val_Sp_at_95_sens_DRlvls_0_1234: 0.0507\n",
      "Epoch 31/2000\n",
      "14206/14206 [==============================] - 3558s 250ms/step - loss: 0.4898 - AUC_DRlvls_0_1234: 0.8054 - Sp_at_95_sens_DRlvls_0_1234: 0.1573 - val_loss: 480.5551 - val_AUC_DRlvls_0_1234: 0.1397 - val_Sp_at_95_sens_DRlvls_0_1234: 0.0000e+00\n",
      "Epoch 32/2000\n",
      "14206/14206 [==============================] - 3560s 251ms/step - loss: 0.4945 - AUC_DRlvls_0_1234: 0.8017 - Sp_at_95_sens_DRlvls_0_1234: 0.1530 - val_loss: 1.0898 - val_AUC_DRlvls_0_1234: 0.5000 - val_Sp_at_95_sens_DRlvls_0_1234: 0.0000e+00\n",
      "Epoch 33/2000\n",
      "14206/14206 [==============================] - 3569s 251ms/step - loss: 0.5253 - AUC_DRlvls_0_1234: 0.7984 - Sp_at_95_sens_DRlvls_0_1234: 0.0949 - val_loss: 1.5173 - val_AUC_DRlvls_0_1234: 0.5463 - val_Sp_at_95_sens_DRlvls_0_1234: 0.0588\n",
      "Epoch 34/2000\n",
      "14206/14206 [==============================] - 3560s 251ms/step - loss: 0.5236 - AUC_DRlvls_0_1234: 0.7995 - Sp_at_95_sens_DRlvls_0_1234: 0.1798 - val_loss: 136.7252 - val_AUC_DRlvls_0_1234: 0.3832 - val_Sp_at_95_sens_DRlvls_0_1234: 0.0000e+00\n",
      "Epoch 35/2000\n",
      "14206/14206 [==============================] - 3569s 251ms/step - loss: 0.4975 - AUC_DRlvls_0_1234: 0.8035 - Sp_at_95_sens_DRlvls_0_1234: 0.1473 - val_loss: 0.7352 - val_AUC_DRlvls_0_1234: 0.5058 - val_Sp_at_95_sens_DRlvls_0_1234: 0.0498\n",
      "Epoch 36/2000\n",
      "14206/14206 [==============================] - 3572s 251ms/step - loss: 0.5077 - AUC_DRlvls_0_1234: 0.8017 - Sp_at_95_sens_DRlvls_0_1234: 0.1535 - val_loss: 6585.6865 - val_AUC_DRlvls_0_1234: 0.2293 - val_Sp_at_95_sens_DRlvls_0_1234: 0.0000e+00\n",
      "Epoch 37/2000\n",
      "14206/14206 [==============================] - 3570s 251ms/step - loss: 0.5002 - AUC_DRlvls_0_1234: 0.7992 - Sp_at_95_sens_DRlvls_0_1234: 0.1366 - val_loss: 0.9055 - val_AUC_DRlvls_0_1234: 0.5411 - val_Sp_at_95_sens_DRlvls_0_1234: 0.0545\n",
      "Epoch 38/2000\n",
      "14206/14206 [==============================] - 3574s 252ms/step - loss: 0.5038 - AUC_DRlvls_0_1234: 0.8054 - Sp_at_95_sens_DRlvls_0_1234: 0.1895 - val_loss: 0.7974 - val_AUC_DRlvls_0_1234: 0.4632 - val_Sp_at_95_sens_DRlvls_0_1234: 0.0249\n",
      "Epoch 39/2000\n",
      "14206/14206 [==============================] - 3569s 251ms/step - loss: 0.4769 - AUC_DRlvls_0_1234: 0.8082 - Sp_at_95_sens_DRlvls_0_1234: 0.1442 - val_loss: 101.5297 - val_AUC_DRlvls_0_1234: 0.1932 - val_Sp_at_95_sens_DRlvls_0_1234: 0.0375\n",
      "Epoch 40/2000\n",
      "14206/14206 [==============================] - 3572s 251ms/step - loss: 0.5323 - AUC_DRlvls_0_1234: 0.8072 - Sp_at_95_sens_DRlvls_0_1234: 0.1783 - val_loss: 2.8446 - val_AUC_DRlvls_0_1234: 0.4830 - val_Sp_at_95_sens_DRlvls_0_1234: 0.0473\n",
      "Epoch 41/2000\n",
      "14206/14206 [==============================] - 3566s 251ms/step - loss: 0.5039 - AUC_DRlvls_0_1234: 0.8071 - Sp_at_95_sens_DRlvls_0_1234: 0.1701 - val_loss: 123.2580 - val_AUC_DRlvls_0_1234: 0.4326 - val_Sp_at_95_sens_DRlvls_0_1234: 0.0000e+00\n",
      "Epoch 42/2000\n",
      "14206/14206 [==============================] - 3565s 251ms/step - loss: 0.4903 - AUC_DRlvls_0_1234: 0.8073 - Sp_at_95_sens_DRlvls_0_1234: 0.1722 - val_loss: 95.1362 - val_AUC_DRlvls_0_1234: 0.3221 - val_Sp_at_95_sens_DRlvls_0_1234: 0.0426\n",
      "Epoch 43/2000\n",
      "14206/14206 [==============================] - 3566s 251ms/step - loss: 0.5050 - AUC_DRlvls_0_1234: 0.8072 - Sp_at_95_sens_DRlvls_0_1234: 0.1666 - val_loss: 2.7607 - val_AUC_DRlvls_0_1234: 0.4936 - val_Sp_at_95_sens_DRlvls_0_1234: 0.0000e+00\n",
      "Epoch 44/2000\n",
      "14206/14206 [==============================] - 3568s 251ms/step - loss: 0.5115 - AUC_DRlvls_0_1234: 0.8048 - Sp_at_95_sens_DRlvls_0_1234: 0.1660 - val_loss: 408268.5312 - val_AUC_DRlvls_0_1234: 0.0043 - val_Sp_at_95_sens_DRlvls_0_1234: 0.0043\n",
      "Epoch 45/2000\n",
      "14206/14206 [==============================] - 3571s 251ms/step - loss: 0.5343 - AUC_DRlvls_0_1234: 0.8034 - Sp_at_95_sens_DRlvls_0_1234: 0.1591 - val_loss: 1.1445 - val_AUC_DRlvls_0_1234: 0.4998 - val_Sp_at_95_sens_DRlvls_0_1234: 0.0441\n",
      "Epoch 46/2000\n",
      "14206/14206 [==============================] - 3563s 251ms/step - loss: 0.4931 - AUC_DRlvls_0_1234: 0.8072 - Sp_at_95_sens_DRlvls_0_1234: 0.1720 - val_loss: 4357.4341 - val_AUC_DRlvls_0_1234: 0.0977 - val_Sp_at_95_sens_DRlvls_0_1234: 0.0551\n",
      "Epoch 47/2000\n",
      "14206/14206 [==============================] - 3569s 251ms/step - loss: 0.4802 - AUC_DRlvls_0_1234: 0.8056 - Sp_at_95_sens_DRlvls_0_1234: 0.1626 - val_loss: 1.0066 - val_AUC_DRlvls_0_1234: 0.5054 - val_Sp_at_95_sens_DRlvls_0_1234: 0.0000e+00\n",
      "Epoch 48/2000\n",
      "14206/14206 [==============================] - 3573s 252ms/step - loss: 0.4758 - AUC_DRlvls_0_1234: 0.8073 - Sp_at_95_sens_DRlvls_0_1234: 0.1630 - val_loss: 275.1418 - val_AUC_DRlvls_0_1234: 0.0752 - val_Sp_at_95_sens_DRlvls_0_1234: 0.0328\n",
      "Epoch 49/2000\n",
      "14206/14206 [==============================] - 3572s 251ms/step - loss: 0.4979 - AUC_DRlvls_0_1234: 0.8069 - Sp_at_95_sens_DRlvls_0_1234: 0.1854 - val_loss: 1.3512 - val_AUC_DRlvls_0_1234: 0.4619 - val_Sp_at_95_sens_DRlvls_0_1234: 0.0381\n",
      "Epoch 50/2000\n",
      "14206/14206 [==============================] - 3571s 251ms/step - loss: 0.4977 - AUC_DRlvls_0_1234: 0.8037 - Sp_at_95_sens_DRlvls_0_1234: 0.1887 - val_loss: 2.3459 - val_AUC_DRlvls_0_1234: 0.4369 - val_Sp_at_95_sens_DRlvls_0_1234: 0.0098\n",
      "Epoch 51/2000\n",
      "14206/14206 [==============================] - 3573s 252ms/step - loss: 0.4632 - AUC_DRlvls_0_1234: 0.8068 - Sp_at_95_sens_DRlvls_0_1234: 0.1786 - val_loss: 2.5973 - val_AUC_DRlvls_0_1234: 0.4758 - val_Sp_at_95_sens_DRlvls_0_1234: 0.0458\n",
      "Epoch 52/2000\n",
      "14206/14206 [==============================] - 3564s 251ms/step - loss: 0.4505 - AUC_DRlvls_0_1234: 0.8094 - Sp_at_95_sens_DRlvls_0_1234: 0.1668 - val_loss: 1.3667 - val_AUC_DRlvls_0_1234: 0.3449 - val_Sp_at_95_sens_DRlvls_0_1234: 0.0000e+00\n",
      "Epoch 53/2000\n",
      "14206/14206 [==============================] - 3570s 251ms/step - loss: 0.4374 - AUC_DRlvls_0_1234: 0.8134 - Sp_at_95_sens_DRlvls_0_1234: 0.1900 - val_loss: 146.9393 - val_AUC_DRlvls_0_1234: 0.0000e+00 - val_Sp_at_95_sens_DRlvls_0_1234: 0.0000e+00\n",
      "Epoch 54/2000\n",
      "14206/14206 [==============================] - 3563s 251ms/step - loss: 0.4425 - AUC_DRlvls_0_1234: 0.8082 - Sp_at_95_sens_DRlvls_0_1234: 0.1492 - val_loss: 20.3263 - val_AUC_DRlvls_0_1234: 0.5594 - val_Sp_at_95_sens_DRlvls_0_1234: 0.0894\n",
      "Epoch 55/2000\n",
      "14206/14206 [==============================] - 3568s 251ms/step - loss: 0.4464 - AUC_DRlvls_0_1234: 0.8078 - Sp_at_95_sens_DRlvls_0_1234: 0.1548 - val_loss: 63.4909 - val_AUC_DRlvls_0_1234: 0.4412 - val_Sp_at_95_sens_DRlvls_0_1234: 0.0556\n",
      "Epoch 56/2000\n",
      "14206/14206 [==============================] - 3564s 251ms/step - loss: 0.4734 - AUC_DRlvls_0_1234: 0.8017 - Sp_at_95_sens_DRlvls_0_1234: 0.1335 - val_loss: 1.7610 - val_AUC_DRlvls_0_1234: 0.0484 - val_Sp_at_95_sens_DRlvls_0_1234: 0.0000e+00\n",
      "Epoch 57/2000\n",
      "14206/14206 [==============================] - 3569s 251ms/step - loss: 0.4684 - AUC_DRlvls_0_1234: 0.8033 - Sp_at_95_sens_DRlvls_0_1234: 0.1779 - val_loss: 13.8720 - val_AUC_DRlvls_0_1234: 0.3801 - val_Sp_at_95_sens_DRlvls_0_1234: 0.0000e+00\n",
      "Epoch 58/2000\n",
      "14206/14206 [==============================] - 3568s 251ms/step - loss: 0.4906 - AUC_DRlvls_0_1234: 0.8065 - Sp_at_95_sens_DRlvls_0_1234: 0.1349 - val_loss: 971.6431 - val_AUC_DRlvls_0_1234: 7.5418e-04 - val_Sp_at_95_sens_DRlvls_0_1234: 7.5415e-04\n",
      "Epoch 59/2000\n",
      "14206/14206 [==============================] - 3566s 251ms/step - loss: 0.5274 - AUC_DRlvls_0_1234: 0.8005 - Sp_at_95_sens_DRlvls_0_1234: 0.1574 - val_loss: 7.1809 - val_AUC_DRlvls_0_1234: 0.3685 - val_Sp_at_95_sens_DRlvls_0_1234: 0.0000e+00\n",
      "Epoch 60/2000\n",
      "14206/14206 [==============================] - 3571s 251ms/step - loss: 0.5322 - AUC_DRlvls_0_1234: 0.7979 - Sp_at_95_sens_DRlvls_0_1234: 0.1452 - val_loss: 3645.1321 - val_AUC_DRlvls_0_1234: 0.0000e+00 - val_Sp_at_95_sens_DRlvls_0_1234: 0.0000e+00\n",
      "Epoch 61/2000\n",
      "14206/14206 [==============================] - 3575s 252ms/step - loss: 0.5888 - AUC_DRlvls_0_1234: 0.7972 - Sp_at_95_sens_DRlvls_0_1234: 0.1459 - val_loss: 1.0791 - val_AUC_DRlvls_0_1234: 0.4551 - val_Sp_at_95_sens_DRlvls_0_1234: 0.0000e+00\n",
      "Epoch 62/2000\n",
      "14206/14206 [==============================] - 3614s 254ms/step - loss: 0.5355 - AUC_DRlvls_0_1234: 0.8000 - Sp_at_95_sens_DRlvls_0_1234: 0.1290 - val_loss: 8.6932 - val_AUC_DRlvls_0_1234: 0.5042 - val_Sp_at_95_sens_DRlvls_0_1234: 0.0592\n",
      "Epoch 63/2000\n",
      "10650/14206 [=====================>........] - ETA: 14:52 - loss: 0.6067 - AUC_DRlvls_0_1234: 0.8023 - Sp_at_95_sens_DRlvls_0_1234: 0.1849"
     ]
    },
    {
     "ename": "KeyboardInterrupt",
     "evalue": "",
     "output_type": "error",
     "traceback": [
      "\u001b[0;31m---------------------------------------------------------------------------\u001b[0m",
      "\u001b[0;31mKeyboardInterrupt\u001b[0m                         Traceback (most recent call last)",
      "\u001b[0;32m<ipython-input-11-d080009ebf1e>\u001b[0m in \u001b[0;36m<module>\u001b[0;34m\u001b[0m\n\u001b[1;32m     13\u001b[0m \u001b[0mnum_epochs\u001b[0m \u001b[0;34m=\u001b[0m \u001b[0;36m2000\u001b[0m\u001b[0;34m\u001b[0m\u001b[0;34m\u001b[0m\u001b[0m\n\u001b[1;32m     14\u001b[0m \u001b[0;34m\u001b[0m\u001b[0m\n\u001b[0;32m---> 15\u001b[0;31m \u001b[0mhistory\u001b[0m \u001b[0;34m=\u001b[0m \u001b[0mmodel\u001b[0m\u001b[0;34m.\u001b[0m\u001b[0mfit\u001b[0m\u001b[0;34m(\u001b[0m\u001b[0mtrain_dataset\u001b[0m\u001b[0;34m,\u001b[0m \u001b[0mepochs\u001b[0m\u001b[0;34m=\u001b[0m\u001b[0mnum_epochs\u001b[0m\u001b[0;34m,\u001b[0m \u001b[0mvalidation_data\u001b[0m\u001b[0;34m=\u001b[0m\u001b[0mval_dataset\u001b[0m\u001b[0;34m,\u001b[0m \u001b[0mverbose\u001b[0m\u001b[0;34m=\u001b[0m\u001b[0;36m1\u001b[0m\u001b[0;34m,\u001b[0m \u001b[0mcallbacks\u001b[0m\u001b[0;34m=\u001b[0m\u001b[0mcbacks\u001b[0m\u001b[0;34m)\u001b[0m\u001b[0;34m\u001b[0m\u001b[0;34m\u001b[0m\u001b[0m\n\u001b[0m",
      "\u001b[0;32m~/miguel_herrera/lib/python3.8/site-packages/tensorflow/python/keras/engine/training.py\u001b[0m in \u001b[0;36m_method_wrapper\u001b[0;34m(self, *args, **kwargs)\u001b[0m\n\u001b[1;32m    106\u001b[0m   \u001b[0;32mdef\u001b[0m \u001b[0m_method_wrapper\u001b[0m\u001b[0;34m(\u001b[0m\u001b[0mself\u001b[0m\u001b[0;34m,\u001b[0m \u001b[0;34m*\u001b[0m\u001b[0margs\u001b[0m\u001b[0;34m,\u001b[0m \u001b[0;34m**\u001b[0m\u001b[0mkwargs\u001b[0m\u001b[0;34m)\u001b[0m\u001b[0;34m:\u001b[0m\u001b[0;34m\u001b[0m\u001b[0;34m\u001b[0m\u001b[0m\n\u001b[1;32m    107\u001b[0m     \u001b[0;32mif\u001b[0m \u001b[0;32mnot\u001b[0m \u001b[0mself\u001b[0m\u001b[0;34m.\u001b[0m\u001b[0m_in_multi_worker_mode\u001b[0m\u001b[0;34m(\u001b[0m\u001b[0;34m)\u001b[0m\u001b[0;34m:\u001b[0m  \u001b[0;31m# pylint: disable=protected-access\u001b[0m\u001b[0;34m\u001b[0m\u001b[0;34m\u001b[0m\u001b[0m\n\u001b[0;32m--> 108\u001b[0;31m       \u001b[0;32mreturn\u001b[0m \u001b[0mmethod\u001b[0m\u001b[0;34m(\u001b[0m\u001b[0mself\u001b[0m\u001b[0;34m,\u001b[0m \u001b[0;34m*\u001b[0m\u001b[0margs\u001b[0m\u001b[0;34m,\u001b[0m \u001b[0;34m**\u001b[0m\u001b[0mkwargs\u001b[0m\u001b[0;34m)\u001b[0m\u001b[0;34m\u001b[0m\u001b[0;34m\u001b[0m\u001b[0m\n\u001b[0m\u001b[1;32m    109\u001b[0m \u001b[0;34m\u001b[0m\u001b[0m\n\u001b[1;32m    110\u001b[0m     \u001b[0;31m# Running inside `run_distribute_coordinator` already.\u001b[0m\u001b[0;34m\u001b[0m\u001b[0;34m\u001b[0m\u001b[0;34m\u001b[0m\u001b[0m\n",
      "\u001b[0;32m~/miguel_herrera/lib/python3.8/site-packages/tensorflow/python/keras/engine/training.py\u001b[0m in \u001b[0;36mfit\u001b[0;34m(self, x, y, batch_size, epochs, verbose, callbacks, validation_split, validation_data, shuffle, class_weight, sample_weight, initial_epoch, steps_per_epoch, validation_steps, validation_batch_size, validation_freq, max_queue_size, workers, use_multiprocessing)\u001b[0m\n\u001b[1;32m   1101\u001b[0m               \u001b[0mlogs\u001b[0m \u001b[0;34m=\u001b[0m \u001b[0mtmp_logs\u001b[0m  \u001b[0;31m# No error, now safe to assign to logs.\u001b[0m\u001b[0;34m\u001b[0m\u001b[0;34m\u001b[0m\u001b[0m\n\u001b[1;32m   1102\u001b[0m               \u001b[0mend_step\u001b[0m \u001b[0;34m=\u001b[0m \u001b[0mstep\u001b[0m \u001b[0;34m+\u001b[0m \u001b[0mdata_handler\u001b[0m\u001b[0;34m.\u001b[0m\u001b[0mstep_increment\u001b[0m\u001b[0;34m\u001b[0m\u001b[0;34m\u001b[0m\u001b[0m\n\u001b[0;32m-> 1103\u001b[0;31m               \u001b[0mcallbacks\u001b[0m\u001b[0;34m.\u001b[0m\u001b[0mon_train_batch_end\u001b[0m\u001b[0;34m(\u001b[0m\u001b[0mend_step\u001b[0m\u001b[0;34m,\u001b[0m \u001b[0mlogs\u001b[0m\u001b[0;34m)\u001b[0m\u001b[0;34m\u001b[0m\u001b[0;34m\u001b[0m\u001b[0m\n\u001b[0m\u001b[1;32m   1104\u001b[0m         \u001b[0mepoch_logs\u001b[0m \u001b[0;34m=\u001b[0m \u001b[0mcopy\u001b[0m\u001b[0;34m.\u001b[0m\u001b[0mcopy\u001b[0m\u001b[0;34m(\u001b[0m\u001b[0mlogs\u001b[0m\u001b[0;34m)\u001b[0m\u001b[0;34m\u001b[0m\u001b[0;34m\u001b[0m\u001b[0m\n\u001b[1;32m   1105\u001b[0m \u001b[0;34m\u001b[0m\u001b[0m\n",
      "\u001b[0;32m~/miguel_herrera/lib/python3.8/site-packages/tensorflow/python/keras/callbacks.py\u001b[0m in \u001b[0;36mon_train_batch_end\u001b[0;34m(self, batch, logs)\u001b[0m\n\u001b[1;32m    438\u001b[0m     \"\"\"\n\u001b[1;32m    439\u001b[0m     \u001b[0;32mif\u001b[0m \u001b[0mself\u001b[0m\u001b[0;34m.\u001b[0m\u001b[0m_should_call_train_batch_hooks\u001b[0m\u001b[0;34m:\u001b[0m\u001b[0;34m\u001b[0m\u001b[0;34m\u001b[0m\u001b[0m\n\u001b[0;32m--> 440\u001b[0;31m       \u001b[0mself\u001b[0m\u001b[0;34m.\u001b[0m\u001b[0m_call_batch_hook\u001b[0m\u001b[0;34m(\u001b[0m\u001b[0mModeKeys\u001b[0m\u001b[0;34m.\u001b[0m\u001b[0mTRAIN\u001b[0m\u001b[0;34m,\u001b[0m \u001b[0;34m'end'\u001b[0m\u001b[0;34m,\u001b[0m \u001b[0mbatch\u001b[0m\u001b[0;34m,\u001b[0m \u001b[0mlogs\u001b[0m\u001b[0;34m=\u001b[0m\u001b[0mlogs\u001b[0m\u001b[0;34m)\u001b[0m\u001b[0;34m\u001b[0m\u001b[0;34m\u001b[0m\u001b[0m\n\u001b[0m\u001b[1;32m    441\u001b[0m \u001b[0;34m\u001b[0m\u001b[0m\n\u001b[1;32m    442\u001b[0m   \u001b[0;32mdef\u001b[0m \u001b[0mon_test_batch_begin\u001b[0m\u001b[0;34m(\u001b[0m\u001b[0mself\u001b[0m\u001b[0;34m,\u001b[0m \u001b[0mbatch\u001b[0m\u001b[0;34m,\u001b[0m \u001b[0mlogs\u001b[0m\u001b[0;34m=\u001b[0m\u001b[0;32mNone\u001b[0m\u001b[0;34m)\u001b[0m\u001b[0;34m:\u001b[0m\u001b[0;34m\u001b[0m\u001b[0;34m\u001b[0m\u001b[0m\n",
      "\u001b[0;32m~/miguel_herrera/lib/python3.8/site-packages/tensorflow/python/keras/callbacks.py\u001b[0m in \u001b[0;36m_call_batch_hook\u001b[0;34m(self, mode, hook, batch, logs)\u001b[0m\n\u001b[1;32m    287\u001b[0m       \u001b[0mself\u001b[0m\u001b[0;34m.\u001b[0m\u001b[0m_call_batch_begin_hook\u001b[0m\u001b[0;34m(\u001b[0m\u001b[0mmode\u001b[0m\u001b[0;34m,\u001b[0m \u001b[0mbatch\u001b[0m\u001b[0;34m,\u001b[0m \u001b[0mlogs\u001b[0m\u001b[0;34m)\u001b[0m\u001b[0;34m\u001b[0m\u001b[0;34m\u001b[0m\u001b[0m\n\u001b[1;32m    288\u001b[0m     \u001b[0;32melif\u001b[0m \u001b[0mhook\u001b[0m \u001b[0;34m==\u001b[0m \u001b[0;34m'end'\u001b[0m\u001b[0;34m:\u001b[0m\u001b[0;34m\u001b[0m\u001b[0;34m\u001b[0m\u001b[0m\n\u001b[0;32m--> 289\u001b[0;31m       \u001b[0mself\u001b[0m\u001b[0;34m.\u001b[0m\u001b[0m_call_batch_end_hook\u001b[0m\u001b[0;34m(\u001b[0m\u001b[0mmode\u001b[0m\u001b[0;34m,\u001b[0m \u001b[0mbatch\u001b[0m\u001b[0;34m,\u001b[0m \u001b[0mlogs\u001b[0m\u001b[0;34m)\u001b[0m\u001b[0;34m\u001b[0m\u001b[0;34m\u001b[0m\u001b[0m\n\u001b[0m\u001b[1;32m    290\u001b[0m     \u001b[0;32melse\u001b[0m\u001b[0;34m:\u001b[0m\u001b[0;34m\u001b[0m\u001b[0;34m\u001b[0m\u001b[0m\n\u001b[1;32m    291\u001b[0m       \u001b[0;32mraise\u001b[0m \u001b[0mValueError\u001b[0m\u001b[0;34m(\u001b[0m\u001b[0;34m'Unrecognized hook: {}'\u001b[0m\u001b[0;34m.\u001b[0m\u001b[0mformat\u001b[0m\u001b[0;34m(\u001b[0m\u001b[0mhook\u001b[0m\u001b[0;34m)\u001b[0m\u001b[0;34m)\u001b[0m\u001b[0;34m\u001b[0m\u001b[0;34m\u001b[0m\u001b[0m\n",
      "\u001b[0;32m~/miguel_herrera/lib/python3.8/site-packages/tensorflow/python/keras/callbacks.py\u001b[0m in \u001b[0;36m_call_batch_end_hook\u001b[0;34m(self, mode, batch, logs)\u001b[0m\n\u001b[1;32m    307\u001b[0m       \u001b[0mbatch_time\u001b[0m \u001b[0;34m=\u001b[0m \u001b[0mtime\u001b[0m\u001b[0;34m.\u001b[0m\u001b[0mtime\u001b[0m\u001b[0;34m(\u001b[0m\u001b[0;34m)\u001b[0m \u001b[0;34m-\u001b[0m \u001b[0mself\u001b[0m\u001b[0;34m.\u001b[0m\u001b[0m_batch_start_time\u001b[0m\u001b[0;34m\u001b[0m\u001b[0;34m\u001b[0m\u001b[0m\n\u001b[1;32m    308\u001b[0m \u001b[0;34m\u001b[0m\u001b[0m\n\u001b[0;32m--> 309\u001b[0;31m     \u001b[0mself\u001b[0m\u001b[0;34m.\u001b[0m\u001b[0m_call_batch_hook_helper\u001b[0m\u001b[0;34m(\u001b[0m\u001b[0mhook_name\u001b[0m\u001b[0;34m,\u001b[0m \u001b[0mbatch\u001b[0m\u001b[0;34m,\u001b[0m \u001b[0mlogs\u001b[0m\u001b[0;34m)\u001b[0m\u001b[0;34m\u001b[0m\u001b[0;34m\u001b[0m\u001b[0m\n\u001b[0m\u001b[1;32m    310\u001b[0m \u001b[0;34m\u001b[0m\u001b[0m\n\u001b[1;32m    311\u001b[0m     \u001b[0;32mif\u001b[0m \u001b[0mself\u001b[0m\u001b[0;34m.\u001b[0m\u001b[0m_check_timing\u001b[0m\u001b[0;34m:\u001b[0m\u001b[0;34m\u001b[0m\u001b[0;34m\u001b[0m\u001b[0m\n",
      "\u001b[0;32m~/miguel_herrera/lib/python3.8/site-packages/tensorflow/python/keras/callbacks.py\u001b[0m in \u001b[0;36m_call_batch_hook_helper\u001b[0;34m(self, hook_name, batch, logs)\u001b[0m\n\u001b[1;32m    340\u001b[0m       \u001b[0mhook\u001b[0m \u001b[0;34m=\u001b[0m \u001b[0mgetattr\u001b[0m\u001b[0;34m(\u001b[0m\u001b[0mcallback\u001b[0m\u001b[0;34m,\u001b[0m \u001b[0mhook_name\u001b[0m\u001b[0;34m)\u001b[0m\u001b[0;34m\u001b[0m\u001b[0;34m\u001b[0m\u001b[0m\n\u001b[1;32m    341\u001b[0m       \u001b[0;32mif\u001b[0m \u001b[0mgetattr\u001b[0m\u001b[0;34m(\u001b[0m\u001b[0mcallback\u001b[0m\u001b[0;34m,\u001b[0m \u001b[0;34m'_supports_tf_logs'\u001b[0m\u001b[0;34m,\u001b[0m \u001b[0;32mFalse\u001b[0m\u001b[0;34m)\u001b[0m\u001b[0;34m:\u001b[0m\u001b[0;34m\u001b[0m\u001b[0;34m\u001b[0m\u001b[0m\n\u001b[0;32m--> 342\u001b[0;31m         \u001b[0mhook\u001b[0m\u001b[0;34m(\u001b[0m\u001b[0mbatch\u001b[0m\u001b[0;34m,\u001b[0m \u001b[0mlogs\u001b[0m\u001b[0;34m)\u001b[0m\u001b[0;34m\u001b[0m\u001b[0;34m\u001b[0m\u001b[0m\n\u001b[0m\u001b[1;32m    343\u001b[0m       \u001b[0;32melse\u001b[0m\u001b[0;34m:\u001b[0m\u001b[0;34m\u001b[0m\u001b[0;34m\u001b[0m\u001b[0m\n\u001b[1;32m    344\u001b[0m         \u001b[0;32mif\u001b[0m \u001b[0mnumpy_logs\u001b[0m \u001b[0;32mis\u001b[0m \u001b[0;32mNone\u001b[0m\u001b[0;34m:\u001b[0m  \u001b[0;31m# Only convert once.\u001b[0m\u001b[0;34m\u001b[0m\u001b[0;34m\u001b[0m\u001b[0m\n",
      "\u001b[0;32m~/miguel_herrera/lib/python3.8/site-packages/tensorflow/python/keras/callbacks.py\u001b[0m in \u001b[0;36mon_train_batch_end\u001b[0;34m(self, batch, logs)\u001b[0m\n\u001b[1;32m    959\u001b[0m \u001b[0;34m\u001b[0m\u001b[0m\n\u001b[1;32m    960\u001b[0m   \u001b[0;32mdef\u001b[0m \u001b[0mon_train_batch_end\u001b[0m\u001b[0;34m(\u001b[0m\u001b[0mself\u001b[0m\u001b[0;34m,\u001b[0m \u001b[0mbatch\u001b[0m\u001b[0;34m,\u001b[0m \u001b[0mlogs\u001b[0m\u001b[0;34m=\u001b[0m\u001b[0;32mNone\u001b[0m\u001b[0;34m)\u001b[0m\u001b[0;34m:\u001b[0m\u001b[0;34m\u001b[0m\u001b[0;34m\u001b[0m\u001b[0m\n\u001b[0;32m--> 961\u001b[0;31m     \u001b[0mself\u001b[0m\u001b[0;34m.\u001b[0m\u001b[0m_batch_update_progbar\u001b[0m\u001b[0;34m(\u001b[0m\u001b[0mbatch\u001b[0m\u001b[0;34m,\u001b[0m \u001b[0mlogs\u001b[0m\u001b[0;34m)\u001b[0m\u001b[0;34m\u001b[0m\u001b[0;34m\u001b[0m\u001b[0m\n\u001b[0m\u001b[1;32m    962\u001b[0m \u001b[0;34m\u001b[0m\u001b[0m\n\u001b[1;32m    963\u001b[0m   \u001b[0;32mdef\u001b[0m \u001b[0mon_test_batch_end\u001b[0m\u001b[0;34m(\u001b[0m\u001b[0mself\u001b[0m\u001b[0;34m,\u001b[0m \u001b[0mbatch\u001b[0m\u001b[0;34m,\u001b[0m \u001b[0mlogs\u001b[0m\u001b[0;34m=\u001b[0m\u001b[0;32mNone\u001b[0m\u001b[0;34m)\u001b[0m\u001b[0;34m:\u001b[0m\u001b[0;34m\u001b[0m\u001b[0;34m\u001b[0m\u001b[0m\n",
      "\u001b[0;32m~/miguel_herrera/lib/python3.8/site-packages/tensorflow/python/keras/callbacks.py\u001b[0m in \u001b[0;36m_batch_update_progbar\u001b[0;34m(self, batch, logs)\u001b[0m\n\u001b[1;32m   1014\u001b[0m     \u001b[0;32mif\u001b[0m \u001b[0mself\u001b[0m\u001b[0;34m.\u001b[0m\u001b[0mverbose\u001b[0m \u001b[0;34m==\u001b[0m \u001b[0;36m1\u001b[0m\u001b[0;34m:\u001b[0m\u001b[0;34m\u001b[0m\u001b[0;34m\u001b[0m\u001b[0m\n\u001b[1;32m   1015\u001b[0m       \u001b[0;31m# Only block async when verbose = 1.\u001b[0m\u001b[0;34m\u001b[0m\u001b[0;34m\u001b[0m\u001b[0;34m\u001b[0m\u001b[0m\n\u001b[0;32m-> 1016\u001b[0;31m       \u001b[0mlogs\u001b[0m \u001b[0;34m=\u001b[0m \u001b[0mtf_utils\u001b[0m\u001b[0;34m.\u001b[0m\u001b[0mto_numpy_or_python_type\u001b[0m\u001b[0;34m(\u001b[0m\u001b[0mlogs\u001b[0m\u001b[0;34m)\u001b[0m\u001b[0;34m\u001b[0m\u001b[0;34m\u001b[0m\u001b[0m\n\u001b[0m\u001b[1;32m   1017\u001b[0m       \u001b[0mself\u001b[0m\u001b[0;34m.\u001b[0m\u001b[0mprogbar\u001b[0m\u001b[0;34m.\u001b[0m\u001b[0mupdate\u001b[0m\u001b[0;34m(\u001b[0m\u001b[0mself\u001b[0m\u001b[0;34m.\u001b[0m\u001b[0mseen\u001b[0m\u001b[0;34m,\u001b[0m \u001b[0mlist\u001b[0m\u001b[0;34m(\u001b[0m\u001b[0mlogs\u001b[0m\u001b[0;34m.\u001b[0m\u001b[0mitems\u001b[0m\u001b[0;34m(\u001b[0m\u001b[0;34m)\u001b[0m\u001b[0;34m)\u001b[0m\u001b[0;34m,\u001b[0m \u001b[0mfinalize\u001b[0m\u001b[0;34m=\u001b[0m\u001b[0;32mFalse\u001b[0m\u001b[0;34m)\u001b[0m\u001b[0;34m\u001b[0m\u001b[0;34m\u001b[0m\u001b[0m\n\u001b[1;32m   1018\u001b[0m \u001b[0;34m\u001b[0m\u001b[0m\n",
      "\u001b[0;32m~/miguel_herrera/lib/python3.8/site-packages/tensorflow/python/keras/utils/tf_utils.py\u001b[0m in \u001b[0;36mto_numpy_or_python_type\u001b[0;34m(tensors)\u001b[0m\n\u001b[1;32m    535\u001b[0m     \u001b[0;32mreturn\u001b[0m \u001b[0mt\u001b[0m  \u001b[0;31m# Don't turn ragged or sparse tensors to NumPy.\u001b[0m\u001b[0;34m\u001b[0m\u001b[0;34m\u001b[0m\u001b[0m\n\u001b[1;32m    536\u001b[0m \u001b[0;34m\u001b[0m\u001b[0m\n\u001b[0;32m--> 537\u001b[0;31m   \u001b[0;32mreturn\u001b[0m \u001b[0mnest\u001b[0m\u001b[0;34m.\u001b[0m\u001b[0mmap_structure\u001b[0m\u001b[0;34m(\u001b[0m\u001b[0m_to_single_numpy_or_python_type\u001b[0m\u001b[0;34m,\u001b[0m \u001b[0mtensors\u001b[0m\u001b[0;34m)\u001b[0m\u001b[0;34m\u001b[0m\u001b[0;34m\u001b[0m\u001b[0m\n\u001b[0m\u001b[1;32m    538\u001b[0m \u001b[0;34m\u001b[0m\u001b[0m\n\u001b[1;32m    539\u001b[0m \u001b[0;34m\u001b[0m\u001b[0m\n",
      "\u001b[0;32m~/miguel_herrera/lib/python3.8/site-packages/tensorflow/python/util/nest.py\u001b[0m in \u001b[0;36mmap_structure\u001b[0;34m(func, *structure, **kwargs)\u001b[0m\n\u001b[1;32m    633\u001b[0m \u001b[0;34m\u001b[0m\u001b[0m\n\u001b[1;32m    634\u001b[0m   return pack_sequence_as(\n\u001b[0;32m--> 635\u001b[0;31m       \u001b[0mstructure\u001b[0m\u001b[0;34m[\u001b[0m\u001b[0;36m0\u001b[0m\u001b[0;34m]\u001b[0m\u001b[0;34m,\u001b[0m \u001b[0;34m[\u001b[0m\u001b[0mfunc\u001b[0m\u001b[0;34m(\u001b[0m\u001b[0;34m*\u001b[0m\u001b[0mx\u001b[0m\u001b[0;34m)\u001b[0m \u001b[0;32mfor\u001b[0m \u001b[0mx\u001b[0m \u001b[0;32min\u001b[0m \u001b[0mentries\u001b[0m\u001b[0;34m]\u001b[0m\u001b[0;34m,\u001b[0m\u001b[0;34m\u001b[0m\u001b[0;34m\u001b[0m\u001b[0m\n\u001b[0m\u001b[1;32m    636\u001b[0m       expand_composites=expand_composites)\n\u001b[1;32m    637\u001b[0m \u001b[0;34m\u001b[0m\u001b[0m\n",
      "\u001b[0;32m~/miguel_herrera/lib/python3.8/site-packages/tensorflow/python/util/nest.py\u001b[0m in \u001b[0;36m<listcomp>\u001b[0;34m(.0)\u001b[0m\n\u001b[1;32m    633\u001b[0m \u001b[0;34m\u001b[0m\u001b[0m\n\u001b[1;32m    634\u001b[0m   return pack_sequence_as(\n\u001b[0;32m--> 635\u001b[0;31m       \u001b[0mstructure\u001b[0m\u001b[0;34m[\u001b[0m\u001b[0;36m0\u001b[0m\u001b[0;34m]\u001b[0m\u001b[0;34m,\u001b[0m \u001b[0;34m[\u001b[0m\u001b[0mfunc\u001b[0m\u001b[0;34m(\u001b[0m\u001b[0;34m*\u001b[0m\u001b[0mx\u001b[0m\u001b[0;34m)\u001b[0m \u001b[0;32mfor\u001b[0m \u001b[0mx\u001b[0m \u001b[0;32min\u001b[0m \u001b[0mentries\u001b[0m\u001b[0;34m]\u001b[0m\u001b[0;34m,\u001b[0m\u001b[0;34m\u001b[0m\u001b[0;34m\u001b[0m\u001b[0m\n\u001b[0m\u001b[1;32m    636\u001b[0m       expand_composites=expand_composites)\n\u001b[1;32m    637\u001b[0m \u001b[0;34m\u001b[0m\u001b[0m\n",
      "\u001b[0;32m~/miguel_herrera/lib/python3.8/site-packages/tensorflow/python/keras/utils/tf_utils.py\u001b[0m in \u001b[0;36m_to_single_numpy_or_python_type\u001b[0;34m(t)\u001b[0m\n\u001b[1;32m    531\u001b[0m   \u001b[0;32mdef\u001b[0m \u001b[0m_to_single_numpy_or_python_type\u001b[0m\u001b[0;34m(\u001b[0m\u001b[0mt\u001b[0m\u001b[0;34m)\u001b[0m\u001b[0;34m:\u001b[0m\u001b[0;34m\u001b[0m\u001b[0;34m\u001b[0m\u001b[0m\n\u001b[1;32m    532\u001b[0m     \u001b[0;32mif\u001b[0m \u001b[0misinstance\u001b[0m\u001b[0;34m(\u001b[0m\u001b[0mt\u001b[0m\u001b[0;34m,\u001b[0m \u001b[0mops\u001b[0m\u001b[0;34m.\u001b[0m\u001b[0mTensor\u001b[0m\u001b[0;34m)\u001b[0m\u001b[0;34m:\u001b[0m\u001b[0;34m\u001b[0m\u001b[0;34m\u001b[0m\u001b[0m\n\u001b[0;32m--> 533\u001b[0;31m       \u001b[0mx\u001b[0m \u001b[0;34m=\u001b[0m \u001b[0mt\u001b[0m\u001b[0;34m.\u001b[0m\u001b[0mnumpy\u001b[0m\u001b[0;34m(\u001b[0m\u001b[0;34m)\u001b[0m\u001b[0;34m\u001b[0m\u001b[0;34m\u001b[0m\u001b[0m\n\u001b[0m\u001b[1;32m    534\u001b[0m       \u001b[0;32mreturn\u001b[0m \u001b[0mx\u001b[0m\u001b[0;34m.\u001b[0m\u001b[0mitem\u001b[0m\u001b[0;34m(\u001b[0m\u001b[0;34m)\u001b[0m \u001b[0;32mif\u001b[0m \u001b[0mnp\u001b[0m\u001b[0;34m.\u001b[0m\u001b[0mndim\u001b[0m\u001b[0;34m(\u001b[0m\u001b[0mx\u001b[0m\u001b[0;34m)\u001b[0m \u001b[0;34m==\u001b[0m \u001b[0;36m0\u001b[0m \u001b[0;32melse\u001b[0m \u001b[0mx\u001b[0m\u001b[0;34m\u001b[0m\u001b[0;34m\u001b[0m\u001b[0m\n\u001b[1;32m    535\u001b[0m     \u001b[0;32mreturn\u001b[0m \u001b[0mt\u001b[0m  \u001b[0;31m# Don't turn ragged or sparse tensors to NumPy.\u001b[0m\u001b[0;34m\u001b[0m\u001b[0;34m\u001b[0m\u001b[0m\n",
      "\u001b[0;32m~/miguel_herrera/lib/python3.8/site-packages/tensorflow/python/framework/ops.py\u001b[0m in \u001b[0;36mnumpy\u001b[0;34m(self)\u001b[0m\n\u001b[1;32m   1061\u001b[0m     \"\"\"\n\u001b[1;32m   1062\u001b[0m     \u001b[0;31m# TODO(slebedev): Consider avoiding a copy for non-CPU or remote tensors.\u001b[0m\u001b[0;34m\u001b[0m\u001b[0;34m\u001b[0m\u001b[0;34m\u001b[0m\u001b[0m\n\u001b[0;32m-> 1063\u001b[0;31m     \u001b[0mmaybe_arr\u001b[0m \u001b[0;34m=\u001b[0m \u001b[0mself\u001b[0m\u001b[0;34m.\u001b[0m\u001b[0m_numpy\u001b[0m\u001b[0;34m(\u001b[0m\u001b[0;34m)\u001b[0m  \u001b[0;31m# pylint: disable=protected-access\u001b[0m\u001b[0;34m\u001b[0m\u001b[0;34m\u001b[0m\u001b[0m\n\u001b[0m\u001b[1;32m   1064\u001b[0m     \u001b[0;32mreturn\u001b[0m \u001b[0mmaybe_arr\u001b[0m\u001b[0;34m.\u001b[0m\u001b[0mcopy\u001b[0m\u001b[0;34m(\u001b[0m\u001b[0;34m)\u001b[0m \u001b[0;32mif\u001b[0m \u001b[0misinstance\u001b[0m\u001b[0;34m(\u001b[0m\u001b[0mmaybe_arr\u001b[0m\u001b[0;34m,\u001b[0m \u001b[0mnp\u001b[0m\u001b[0;34m.\u001b[0m\u001b[0mndarray\u001b[0m\u001b[0;34m)\u001b[0m \u001b[0;32melse\u001b[0m \u001b[0mmaybe_arr\u001b[0m\u001b[0;34m\u001b[0m\u001b[0;34m\u001b[0m\u001b[0m\n\u001b[1;32m   1065\u001b[0m \u001b[0;34m\u001b[0m\u001b[0m\n",
      "\u001b[0;32m~/miguel_herrera/lib/python3.8/site-packages/tensorflow/python/framework/ops.py\u001b[0m in \u001b[0;36m_numpy\u001b[0;34m(self)\u001b[0m\n\u001b[1;32m   1027\u001b[0m   \u001b[0;32mdef\u001b[0m \u001b[0m_numpy\u001b[0m\u001b[0;34m(\u001b[0m\u001b[0mself\u001b[0m\u001b[0;34m)\u001b[0m\u001b[0;34m:\u001b[0m\u001b[0;34m\u001b[0m\u001b[0;34m\u001b[0m\u001b[0m\n\u001b[1;32m   1028\u001b[0m     \u001b[0;32mtry\u001b[0m\u001b[0;34m:\u001b[0m\u001b[0;34m\u001b[0m\u001b[0;34m\u001b[0m\u001b[0m\n\u001b[0;32m-> 1029\u001b[0;31m       \u001b[0;32mreturn\u001b[0m \u001b[0mself\u001b[0m\u001b[0;34m.\u001b[0m\u001b[0m_numpy_internal\u001b[0m\u001b[0;34m(\u001b[0m\u001b[0;34m)\u001b[0m\u001b[0;34m\u001b[0m\u001b[0;34m\u001b[0m\u001b[0m\n\u001b[0m\u001b[1;32m   1030\u001b[0m     \u001b[0;32mexcept\u001b[0m \u001b[0mcore\u001b[0m\u001b[0;34m.\u001b[0m\u001b[0m_NotOkStatusException\u001b[0m \u001b[0;32mas\u001b[0m \u001b[0me\u001b[0m\u001b[0;34m:\u001b[0m  \u001b[0;31m# pylint: disable=protected-access\u001b[0m\u001b[0;34m\u001b[0m\u001b[0;34m\u001b[0m\u001b[0m\n\u001b[1;32m   1031\u001b[0m       \u001b[0msix\u001b[0m\u001b[0;34m.\u001b[0m\u001b[0mraise_from\u001b[0m\u001b[0;34m(\u001b[0m\u001b[0mcore\u001b[0m\u001b[0;34m.\u001b[0m\u001b[0m_status_to_exception\u001b[0m\u001b[0;34m(\u001b[0m\u001b[0me\u001b[0m\u001b[0;34m.\u001b[0m\u001b[0mcode\u001b[0m\u001b[0;34m,\u001b[0m \u001b[0me\u001b[0m\u001b[0;34m.\u001b[0m\u001b[0mmessage\u001b[0m\u001b[0;34m)\u001b[0m\u001b[0;34m,\u001b[0m \u001b[0;32mNone\u001b[0m\u001b[0;34m)\u001b[0m  \u001b[0;31m# pylint: disable=protected-access\u001b[0m\u001b[0;34m\u001b[0m\u001b[0;34m\u001b[0m\u001b[0m\n",
      "\u001b[0;31mKeyboardInterrupt\u001b[0m: "
     ]
    }
   ],
   "source": [
    "validation_dir = base_path+'validation_outputs/'\n",
    "\n",
    "if not os.path.exists(validation_dir):\n",
    "    os.mkdir(validation_dir)\n",
    "\n",
    "model.compile(loss='categorical_crossentropy', \n",
    "              optimizer=tf.keras.optimizers.SGD(learning_rate=0.001, momentum=0.9, clipnorm=1.0), \n",
    "              metrics=[metric_AUC_0_1234, # DR levels: 0 vs 1,2,3,4\n",
    "                       metric_Sp_at_95_Sens_0_1234, # DR levels: 0 vs 1,2,3,4\n",
    "                       #metrics.RunningValidation(path=validation_dir) # THIS METRIC MUST BE INIZIALIZATED BEFORE EVERY TRAINING\n",
    "                      ]) \n",
    "\n",
    "num_epochs = 2000\n",
    "\n",
    "history = model.fit(train_dataset, epochs=num_epochs, validation_data=val_dataset, verbose=1, callbacks=cbacks)"
   ]
  }
 ],
 "metadata": {
  "kernelspec": {
   "display_name": "Python 3.8.5 64-bit",
   "language": "python",
   "name": "python38564bit6c4dec2e42734bc298ce0c3bfcfccb75"
  },
  "language_info": {
   "codemirror_mode": {
    "name": "ipython",
    "version": 3
   },
   "file_extension": ".py",
   "mimetype": "text/x-python",
   "name": "python",
   "nbconvert_exporter": "python",
   "pygments_lexer": "ipython3",
   "version": "3.8.5"
  }
 },
 "nbformat": 4,
 "nbformat_minor": 5
}
