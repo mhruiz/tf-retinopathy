{
 "cells": [
  {
   "cell_type": "code",
   "execution_count": 1,
   "id": "cosmetic-milan",
   "metadata": {},
   "outputs": [],
   "source": [
    "import lib.custom_callbacks as callbacks\n",
    "import lib.custom_metrics as metrics\n",
    "import lib.evaluation as ev\n",
    "import lib.plotting as plot\n",
    "import lib.models as models\n",
    "import lib.dataset as dt\n",
    "\n",
    "import matplotlib.pyplot as plt\n",
    "import imgaug.augmenters as iaa\n",
    "import tensorflow as tf\n",
    "import pandas as pd\n",
    "import numpy as np\n",
    "import datetime\n",
    "import os\n",
    "\n",
    "from importlib import reload"
   ]
  },
  {
   "cell_type": "code",
   "execution_count": 2,
   "id": "several-lease",
   "metadata": {},
   "outputs": [
    {
     "name": "stdout",
     "output_type": "stream",
     "text": [
      "1 Physical GPUs, 1 Logical GPU\n"
     ]
    }
   ],
   "source": [
    "gpus = tf.config.experimental.list_physical_devices('GPU')\n",
    "if gpus:\n",
    "  # Restrict TensorFlow to only use the first GPU\n",
    "  try:\n",
    "    tf.config.experimental.set_visible_devices(gpus[0], 'GPU')\n",
    "    logical_gpus = tf.config.experimental.list_logical_devices('GPU')\n",
    "    print(len(gpus), \"Physical GPUs,\", len(logical_gpus), \"Logical GPU\")\n",
    "  except RuntimeError as e:\n",
    "    # Visible devices must be set before GPUs have been initialized\n",
    "    print(e)"
   ]
  },
  {
   "cell_type": "code",
   "execution_count": 3,
   "id": "smaller-average",
   "metadata": {},
   "outputs": [],
   "source": [
    "DR_LEVELS_PER_CLASS = [[0], [1,2,3,4]]\n",
    "\n",
    "IMAGE_SIZE = (540, 540, 3)\n",
    "\n",
    "# Specify dataset files\n",
    "TRAIN_FILE = 'DATASET-TRAIN-80.csv'\n",
    "VALIDATION_FILE = 'DATASET-VALIDATION-10_BALANCED.csv'\n",
    "\n",
    "ONE_HOT_FORMAT = False\n",
    "\n",
    "TRAINING_BATCH_SIZE = 6\n",
    "TRAINING_DATA_AUG = True\n",
    "TRAINING_BALANCED = False\n",
    "TRAINING_PREFETCH = 20\n",
    "TRAINING_TAKE_SIZE = None\n",
    "\n",
    "VALIDATION_BATCH_SIZE = 12\n",
    "VALIDATION_DATA_AUG = False\n",
    "VALIDATION_BALANCED = False\n",
    "VALIDATION_PREFETCH = 1\n",
    "VALIDATION_TAKE_SIZE = None"
   ]
  },
  {
   "cell_type": "code",
   "execution_count": 4,
   "id": "intellectual-freedom",
   "metadata": {},
   "outputs": [
    {
     "name": "stdout",
     "output_type": "stream",
     "text": [
      "Shuffle all dataset\n",
      "Se aplica data aug\n"
     ]
    }
   ],
   "source": [
    "reload(dt)\n",
    "\n",
    "'''\n",
    "def create_dataset_new(csv_file, \n",
    "                        list_list_classes,\n",
    "                        balanced=False,\n",
    "                        apply_data_augmentation=False,\n",
    "                        batch_size=1, \n",
    "                        prefetch_buffer=None, \n",
    "                        shuffle=False,\n",
    "                        size=None):\n",
    "'''\n",
    "\n",
    "train_dataset, y_true_train = dt.create_dataset_new(TRAIN_FILE, \n",
    "                                                    DR_LEVELS_PER_CLASS, \n",
    "                                                    balanced=TRAINING_BALANCED, \n",
    "                                                    apply_data_augmentation=TRAINING_DATA_AUG, \n",
    "                                                    batch_size=TRAINING_BATCH_SIZE, \n",
    "                                                    prefetch_buffer=TRAINING_PREFETCH, \n",
    "                                                    one_hot_format=ONE_HOT_FORMAT,\n",
    "                                                    size=TRAINING_TAKE_SIZE)\n",
    "\n",
    "val_dataset, y_true_val = dt.create_dataset_new(VALIDATION_FILE, \n",
    "                                                DR_LEVELS_PER_CLASS, \n",
    "                                                balanced=VALIDATION_BALANCED,\n",
    "                                                apply_data_augmentation=VALIDATION_DATA_AUG,\n",
    "                                                batch_size=VALIDATION_BATCH_SIZE,\n",
    "                                                prefetch_buffer=VALIDATION_PREFETCH, \n",
    "                                                is_validation=True,\n",
    "                                                one_hot_format=ONE_HOT_FORMAT,\n",
    "                                                size=VALIDATION_TAKE_SIZE)"
   ]
  },
  {
   "cell_type": "markdown",
   "id": "incorporate-latino",
   "metadata": {},
   "source": [
    "## Class weights"
   ]
  },
  {
   "cell_type": "code",
   "execution_count": 5,
   "id": "equal-terminology",
   "metadata": {},
   "outputs": [
    {
     "name": "stdout",
     "output_type": "stream",
     "text": [
      "{0: 0.6740610690645092, 1: 1.9362775165269543}\n"
     ]
    }
   ],
   "source": [
    "from sklearn.utils.class_weight import compute_class_weight\n",
    "\n",
    "class_weights = compute_class_weight('balanced', classes=np.unique(y_true_train[:,0]), y=y_true_train[:,0])\n",
    "d_class_weights = dict(enumerate(class_weights))\n",
    "print(d_class_weights)"
   ]
  },
  {
   "cell_type": "code",
   "execution_count": 6,
   "id": "unexpected-canal",
   "metadata": {},
   "outputs": [
    {
     "name": "stdout",
     "output_type": "stream",
     "text": [
      "Model: \"sequential\"\n",
      "_________________________________________________________________\n",
      "Layer (type)                 Output Shape              Param #   \n",
      "=================================================================\n",
      "resnet50v2 (Functional)      (None, 2048)              23564800  \n",
      "_________________________________________________________________\n",
      "flatten (Flatten)            (None, 2048)              0         \n",
      "_________________________________________________________________\n",
      "dense (Dense)                (None, 2)                 4098      \n",
      "=================================================================\n",
      "Total params: 23,568,898\n",
      "Trainable params: 23,523,458\n",
      "Non-trainable params: 45,440\n",
      "_________________________________________________________________\n"
     ]
    }
   ],
   "source": [
    "# Define model\n",
    "reload(models)\n",
    "\n",
    "model = models.resNet50V2.get_model(input_shape=(540,540,3), num_outputs=len(DR_LEVELS_PER_CLASS))\n",
    "\n",
    "model.summary()"
   ]
  },
  {
   "cell_type": "code",
   "execution_count": 7,
   "id": "capital-chambers",
   "metadata": {},
   "outputs": [
    {
     "name": "stdout",
     "output_type": "stream",
     "text": [
      "Model loaded\n"
     ]
    }
   ],
   "source": [
    "# Load weights if they were saved\n",
    "base_path = 'saved_weights/resNet50V2/SGD_clipn_01/'\n",
    "save_path = base_path + 'model.h5'\n",
    "\n",
    "base_path_splitted = base_path.split('/')\n",
    "for i in range(len(base_path_splitted)):\n",
    "    path_i = '/'.join(base_path_splitted[:i+1])\n",
    "    if not os.path.exists(path_i):\n",
    "        os.mkdir(path_i)\n",
    "\n",
    "if os.path.exists(base_path + 'best_loss_copy.h5'):\n",
    "    model.load_weights(base_path + 'best_loss_copy.h5')\n",
    "    print('Model loaded')"
   ]
  },
  {
   "cell_type": "code",
   "execution_count": 8,
   "id": "contained-jefferson",
   "metadata": {},
   "outputs": [],
   "source": [
    "# Save ground truth for validation dataset\n",
    "np.save(base_path + 'ground_truth_val.npy', y_true_val)"
   ]
  },
  {
   "cell_type": "code",
   "execution_count": 9,
   "id": "earlier-variance",
   "metadata": {},
   "outputs": [
    {
     "name": "stdout",
     "output_type": "stream",
     "text": [
      "['0', '1234']\n"
     ]
    }
   ],
   "source": [
    "# Compile model\n",
    "reload(metrics)\n",
    "\n",
    "classes_names = [''.join(list(map(str,class_))) for class_ in DR_LEVELS_PER_CLASS]\n",
    "\n",
    "print(classes_names)\n",
    "\n",
    "metric_AUC_0_1234 = metrics.Wrapper_AUC(classes=[1], original_dr_lvls=classes_names, is_one_hot=ONE_HOT_FORMAT)\n",
    "\n",
    "metric_Sp_at_95_Sens_0_1234 = metrics.Wrapper_SpecificityAtSensitivity(sensitivity=0.95, classes=[1], original_dr_lvls=classes_names, is_one_hot=ONE_HOT_FORMAT)"
   ]
  },
  {
   "cell_type": "code",
   "execution_count": 10,
   "id": "musical-poland",
   "metadata": {},
   "outputs": [],
   "source": [
    "cbacks = [tf.keras.callbacks.ModelCheckpoint(base_path + 'best' + metric_AUC_0_1234.get_custom_name() + '.h5', \n",
    "                                             monitor='val_' + metric_AUC_0_1234.get_custom_name(),\n",
    "                                             save_best_only=True,\n",
    "                                             save_weights_only=True,\n",
    "                                             mode='max'),\n",
    "\n",
    "          tf.keras.callbacks.ModelCheckpoint(base_path + 'best' + metric_Sp_at_95_Sens_0_1234.get_custom_name() + '.h5', \n",
    "                                             monitor='val_' + metric_Sp_at_95_Sens_0_1234.get_custom_name(),\n",
    "                                             save_best_only=True,\n",
    "                                             save_weights_only=True,\n",
    "                                             mode='max'),\n",
    "          \n",
    "          tf.keras.callbacks.ModelCheckpoint(base_path + 'best_accuracy.h5',\n",
    "                                             monitor='val_accuracy',\n",
    "                                             save_best_only=True,\n",
    "                                             save_weights_only=True,\n",
    "                                             mode='max'),\n",
    "\n",
    "          tf.keras.callbacks.ModelCheckpoint(base_path + 'best_loss.h5',\n",
    "                                             monitor='val_loss',\n",
    "                                             save_best_only=True,\n",
    "                                             save_weights_only=True,\n",
    "                                             mode='min'),\n",
    "          \n",
    "          callbacks.Save_Training_Evolution(base_path + 'training_evolution.csv')\n",
    "]\n",
    "\n",
    "# cbacks = [tf.keras.callbacks.ModelCheckpoint(base_path + 'best_loss.h5',\n",
    "#                                              monitor='val_loss',\n",
    "#                                              save_best_only=True,\n",
    "#                                              save_weights_only=True,\n",
    "#                                              mode='min'),\n",
    "          \n",
    "#           callbacks.Save_Training_Evolution(base_path + 'training_evolution.csv')\n",
    "# ]"
   ]
  },
  {
   "cell_type": "code",
   "execution_count": 11,
   "id": "collaborative-selection",
   "metadata": {},
   "outputs": [
    {
     "name": "stdout",
     "output_type": "stream",
     "text": [
      "Epoch 1/2000\n",
      "9471/9471 [==============================] - 1399s 148ms/step - loss: 0.5867 - accuracy: 0.7712 - AUC_DRlvls_0_1234: 0.7528 - Sp_at_95_sens_DRlvls_0_1234: 0.1688 - RunningValidation: 0.0000e+00 - val_loss: 0.5649 - val_accuracy: 0.7101 - val_AUC_DRlvls_0_1234: 0.7901 - val_Sp_at_95_sens_DRlvls_0_1234: 0.2157 - val_RunningValidation: 1.0000\n",
      "Epoch 2/2000\n",
      "9471/9471 [==============================] - 1407s 149ms/step - loss: 0.5803 - accuracy: 0.7777 - AUC_DRlvls_0_1234: 0.7602 - Sp_at_95_sens_DRlvls_0_1234: 0.1637 - RunningValidation: 0.0000e+00 - val_loss: 0.5616 - val_accuracy: 0.7084 - val_AUC_DRlvls_0_1234: 0.7953 - val_Sp_at_95_sens_DRlvls_0_1234: 0.1934 - val_RunningValidation: 1.0000\n",
      "Epoch 3/2000\n",
      "9471/9471 [==============================] - 1421s 150ms/step - loss: 0.5766 - accuracy: 0.7843 - AUC_DRlvls_0_1234: 0.7623 - Sp_at_95_sens_DRlvls_0_1234: 0.1697 - RunningValidation: 0.0000e+00 - val_loss: 0.5530 - val_accuracy: 0.7168 - val_AUC_DRlvls_0_1234: 0.8026 - val_Sp_at_95_sens_DRlvls_0_1234: 0.1795 - val_RunningValidation: 1.0000\n",
      "Epoch 4/2000\n",
      "9471/9471 [==============================] - 1461s 154ms/step - loss: 0.5708 - accuracy: 0.7889 - AUC_DRlvls_0_1234: 0.7690 - Sp_at_95_sens_DRlvls_0_1234: 0.1797 - RunningValidation: 0.0000e+00 - val_loss: 0.5396 - val_accuracy: 0.7237 - val_AUC_DRlvls_0_1234: 0.8055 - val_Sp_at_95_sens_DRlvls_0_1234: 0.2034 - val_RunningValidation: 1.0000\n",
      "Epoch 5/2000\n",
      "9471/9471 [==============================] - 1486s 157ms/step - loss: 0.5650 - accuracy: 0.7953 - AUC_DRlvls_0_1234: 0.7740 - Sp_at_95_sens_DRlvls_0_1234: 0.1791 - RunningValidation: 0.0000e+00 - val_loss: 0.5302 - val_accuracy: 0.7324 - val_AUC_DRlvls_0_1234: 0.8092 - val_Sp_at_95_sens_DRlvls_0_1234: 0.1957 - val_RunningValidation: 1.0000\n",
      "Epoch 6/2000\n",
      "9471/9471 [==============================] - 1509s 159ms/step - loss: 0.5609 - accuracy: 0.7989 - AUC_DRlvls_0_1234: 0.7790 - Sp_at_95_sens_DRlvls_0_1234: 0.1823 - RunningValidation: 0.0000e+00 - val_loss: 0.5430 - val_accuracy: 0.7243 - val_AUC_DRlvls_0_1234: 0.8092 - val_Sp_at_95_sens_DRlvls_0_1234: 0.2090 - val_RunningValidation: 1.0000\n",
      "Epoch 7/2000\n",
      "9471/9471 [==============================] - 1513s 160ms/step - loss: 0.5564 - accuracy: 0.8032 - AUC_DRlvls_0_1234: 0.7847 - Sp_at_95_sens_DRlvls_0_1234: 0.1851 - RunningValidation: 0.0000e+00 - val_loss: 0.5412 - val_accuracy: 0.7301 - val_AUC_DRlvls_0_1234: 0.8096 - val_Sp_at_95_sens_DRlvls_0_1234: 0.2129 - val_RunningValidation: 1.0000\n",
      "Epoch 8/2000\n",
      "9471/9471 [==============================] - 1514s 160ms/step - loss: 0.5510 - accuracy: 0.8035 - AUC_DRlvls_0_1234: 0.7873 - Sp_at_95_sens_DRlvls_0_1234: 0.1931 - RunningValidation: 0.0000e+00 - val_loss: 0.5441 - val_accuracy: 0.7293 - val_AUC_DRlvls_0_1234: 0.8105 - val_Sp_at_95_sens_DRlvls_0_1234: 0.2062 - val_RunningValidation: 1.0000\n",
      "Epoch 9/2000\n",
      "9471/9471 [==============================] - 1514s 160ms/step - loss: 0.5486 - accuracy: 0.8096 - AUC_DRlvls_0_1234: 0.7896 - Sp_at_95_sens_DRlvls_0_1234: 0.1913 - RunningValidation: 0.0000e+00 - val_loss: 0.5171 - val_accuracy: 0.7465 - val_AUC_DRlvls_0_1234: 0.8169 - val_Sp_at_95_sens_DRlvls_0_1234: 0.1934 - val_RunningValidation: 1.0000\n",
      "Epoch 10/2000\n",
      "9471/9471 [==============================] - 1513s 160ms/step - loss: 0.5430 - accuracy: 0.8124 - AUC_DRlvls_0_1234: 0.7942 - Sp_at_95_sens_DRlvls_0_1234: 0.1767 - RunningValidation: 0.0000e+00 - val_loss: 0.5113 - val_accuracy: 0.7518 - val_AUC_DRlvls_0_1234: 0.8190 - val_Sp_at_95_sens_DRlvls_0_1234: 0.1940 - val_RunningValidation: 1.0000\n",
      "Epoch 11/2000\n",
      "9471/9471 [==============================] - 1513s 160ms/step - loss: 0.5406 - accuracy: 0.8150 - AUC_DRlvls_0_1234: 0.7955 - Sp_at_95_sens_DRlvls_0_1234: 0.1832 - RunningValidation: 0.0000e+00 - val_loss: 0.5293 - val_accuracy: 0.7410 - val_AUC_DRlvls_0_1234: 0.8180 - val_Sp_at_95_sens_DRlvls_0_1234: 0.1918 - val_RunningValidation: 1.0000\n",
      "Epoch 12/2000\n",
      "9471/9471 [==============================] - 1513s 160ms/step - loss: 0.5408 - accuracy: 0.8174 - AUC_DRlvls_0_1234: 0.7944 - Sp_at_95_sens_DRlvls_0_1234: 0.1808 - RunningValidation: 0.0000e+00 - val_loss: 0.5166 - val_accuracy: 0.7493 - val_AUC_DRlvls_0_1234: 0.8201 - val_Sp_at_95_sens_DRlvls_0_1234: 0.1940 - val_RunningValidation: 1.0000\n",
      "Epoch 13/2000\n",
      "9471/9471 [==============================] - 1515s 160ms/step - loss: 0.5331 - accuracy: 0.8198 - AUC_DRlvls_0_1234: 0.8023 - Sp_at_95_sens_DRlvls_0_1234: 0.2022 - RunningValidation: 0.0000e+00 - val_loss: 0.5115 - val_accuracy: 0.7496 - val_AUC_DRlvls_0_1234: 0.8229 - val_Sp_at_95_sens_DRlvls_0_1234: 0.2273 - val_RunningValidation: 1.0000\n",
      "Epoch 14/2000\n",
      "9471/9471 [==============================] - 1514s 160ms/step - loss: 0.5339 - accuracy: 0.8208 - AUC_DRlvls_0_1234: 0.8027 - Sp_at_95_sens_DRlvls_0_1234: 0.1901 - RunningValidation: 0.0000e+00 - val_loss: 0.5006 - val_accuracy: 0.7546 - val_AUC_DRlvls_0_1234: 0.8260 - val_Sp_at_95_sens_DRlvls_0_1234: 0.2362 - val_RunningValidation: 1.0000\n",
      "Epoch 15/2000\n",
      "9471/9471 [==============================] - 1513s 160ms/step - loss: 0.5327 - accuracy: 0.8208 - AUC_DRlvls_0_1234: 0.8040 - Sp_at_95_sens_DRlvls_0_1234: 0.1964 - RunningValidation: 0.0000e+00 - val_loss: 0.5193 - val_accuracy: 0.7451 - val_AUC_DRlvls_0_1234: 0.8205 - val_Sp_at_95_sens_DRlvls_0_1234: 0.2151 - val_RunningValidation: 1.0000\n",
      "Epoch 16/2000\n",
      "9471/9471 [==============================] - 1513s 160ms/step - loss: 0.5240 - accuracy: 0.8245 - AUC_DRlvls_0_1234: 0.8072 - Sp_at_95_sens_DRlvls_0_1234: 0.1997 - RunningValidation: 0.0000e+00 - val_loss: 0.5106 - val_accuracy: 0.7493 - val_AUC_DRlvls_0_1234: 0.8216 - val_Sp_at_95_sens_DRlvls_0_1234: 0.2118 - val_RunningValidation: 1.0000\n",
      "Epoch 17/2000\n",
      "9471/9471 [==============================] - 1513s 160ms/step - loss: 0.5208 - accuracy: 0.8253 - AUC_DRlvls_0_1234: 0.8099 - Sp_at_95_sens_DRlvls_0_1234: 0.2050 - RunningValidation: 0.0000e+00 - val_loss: 0.5148 - val_accuracy: 0.7437 - val_AUC_DRlvls_0_1234: 0.8236 - val_Sp_at_95_sens_DRlvls_0_1234: 0.2296 - val_RunningValidation: 1.0000\n",
      "Epoch 18/2000\n",
      "9471/9471 [==============================] - 1514s 160ms/step - loss: 0.5211 - accuracy: 0.8259 - AUC_DRlvls_0_1234: 0.8088 - Sp_at_95_sens_DRlvls_0_1234: 0.2210 - RunningValidation: 0.0000e+00 - val_loss: 0.5001 - val_accuracy: 0.7518 - val_AUC_DRlvls_0_1234: 0.8269 - val_Sp_at_95_sens_DRlvls_0_1234: 0.2335 - val_RunningValidation: 1.0000\n",
      "Epoch 19/2000\n",
      "9471/9471 [==============================] - 1514s 160ms/step - loss: 0.5164 - accuracy: 0.8283 - AUC_DRlvls_0_1234: 0.8105 - Sp_at_95_sens_DRlvls_0_1234: 0.2082 - RunningValidation: 0.0000e+00 - val_loss: 0.5110 - val_accuracy: 0.7426 - val_AUC_DRlvls_0_1234: 0.8248 - val_Sp_at_95_sens_DRlvls_0_1234: 0.2185 - val_RunningValidation: 1.0000\n",
      "Epoch 20/2000\n",
      "9471/9471 [==============================] - 1516s 160ms/step - loss: 0.5120 - accuracy: 0.8299 - AUC_DRlvls_0_1234: 0.8133 - Sp_at_95_sens_DRlvls_0_1234: 0.2145 - RunningValidation: 0.0000e+00 - val_loss: 0.5076 - val_accuracy: 0.7462 - val_AUC_DRlvls_0_1234: 0.8256 - val_Sp_at_95_sens_DRlvls_0_1234: 0.2235 - val_RunningValidation: 1.0000\n",
      "Epoch 21/2000\n",
      "9471/9471 [==============================] - 1516s 160ms/step - loss: 0.5149 - accuracy: 0.8283 - AUC_DRlvls_0_1234: 0.8111 - Sp_at_95_sens_DRlvls_0_1234: 0.2093 - RunningValidation: 0.0000e+00 - val_loss: 0.4976 - val_accuracy: 0.7526 - val_AUC_DRlvls_0_1234: 0.8282 - val_Sp_at_95_sens_DRlvls_0_1234: 0.2257 - val_RunningValidation: 1.0000\n",
      "Epoch 22/2000\n",
      "9471/9471 [==============================] - 1516s 160ms/step - loss: 0.5113 - accuracy: 0.8271 - AUC_DRlvls_0_1234: 0.8128 - Sp_at_95_sens_DRlvls_0_1234: 0.2093 - RunningValidation: 0.0000e+00 - val_loss: 0.4988 - val_accuracy: 0.7482 - val_AUC_DRlvls_0_1234: 0.8280 - val_Sp_at_95_sens_DRlvls_0_1234: 0.2446 - val_RunningValidation: 1.0000\n",
      "Epoch 23/2000\n",
      "9471/9471 [==============================] - 1515s 160ms/step - loss: 0.5103 - accuracy: 0.8260 - AUC_DRlvls_0_1234: 0.8095 - Sp_at_95_sens_DRlvls_0_1234: 0.1950 - RunningValidation: 0.0000e+00 - val_loss: 0.4976 - val_accuracy: 0.7518 - val_AUC_DRlvls_0_1234: 0.8280 - val_Sp_at_95_sens_DRlvls_0_1234: 0.2374 - val_RunningValidation: 1.0000\n",
      "Epoch 24/2000\n",
      "9471/9471 [==============================] - 1516s 160ms/step - loss: 0.5087 - accuracy: 0.8254 - AUC_DRlvls_0_1234: 0.8098 - Sp_at_95_sens_DRlvls_0_1234: 0.1956 - RunningValidation: 0.0000e+00 - val_loss: 0.4975 - val_accuracy: 0.7513 - val_AUC_DRlvls_0_1234: 0.8296 - val_Sp_at_95_sens_DRlvls_0_1234: 0.2301 - val_RunningValidation: 1.0000\n",
      "Epoch 25/2000\n",
      "9471/9471 [==============================] - 1515s 160ms/step - loss: 0.5091 - accuracy: 0.8271 - AUC_DRlvls_0_1234: 0.8104 - Sp_at_95_sens_DRlvls_0_1234: 0.1978 - RunningValidation: 0.0000e+00 - val_loss: 0.4993 - val_accuracy: 0.7557 - val_AUC_DRlvls_0_1234: 0.8318 - val_Sp_at_95_sens_DRlvls_0_1234: 0.2351 - val_RunningValidation: 1.0000\n",
      "Epoch 26/2000\n",
      "9471/9471 [==============================] - 1516s 160ms/step - loss: 0.5090 - accuracy: 0.8290 - AUC_DRlvls_0_1234: 0.8095 - Sp_at_95_sens_DRlvls_0_1234: 0.1905 - RunningValidation: 0.0000e+00 - val_loss: 0.4898 - val_accuracy: 0.7585 - val_AUC_DRlvls_0_1234: 0.8363 - val_Sp_at_95_sens_DRlvls_0_1234: 0.2574 - val_RunningValidation: 1.0000\n",
      "Epoch 27/2000\n",
      "9471/9471 [==============================] - 1515s 160ms/step - loss: 0.5042 - accuracy: 0.8309 - AUC_DRlvls_0_1234: 0.8135 - Sp_at_95_sens_DRlvls_0_1234: 0.2022 - RunningValidation: 0.0000e+00 - val_loss: 0.4917 - val_accuracy: 0.7582 - val_AUC_DRlvls_0_1234: 0.8357 - val_Sp_at_95_sens_DRlvls_0_1234: 0.2446 - val_RunningValidation: 1.0000\n",
      "Epoch 28/2000\n",
      "9471/9471 [==============================] - 1516s 160ms/step - loss: 0.5028 - accuracy: 0.8311 - AUC_DRlvls_0_1234: 0.8141 - Sp_at_95_sens_DRlvls_0_1234: 0.1936 - RunningValidation: 0.0000e+00 - val_loss: 0.4892 - val_accuracy: 0.7579 - val_AUC_DRlvls_0_1234: 0.8353 - val_Sp_at_95_sens_DRlvls_0_1234: 0.2713 - val_RunningValidation: 1.0000\n",
      "Epoch 29/2000\n",
      "9471/9471 [==============================] - 1523s 161ms/step - loss: 0.4989 - accuracy: 0.8357 - AUC_DRlvls_0_1234: 0.8209 - Sp_at_95_sens_DRlvls_0_1234: 0.1997 - RunningValidation: 0.0000e+00 - val_loss: 0.4917 - val_accuracy: 0.7621 - val_AUC_DRlvls_0_1234: 0.8381 - val_Sp_at_95_sens_DRlvls_0_1234: 0.2446 - val_RunningValidation: 1.0000\n",
      "Epoch 30/2000\n",
      "9471/9471 [==============================] - 1515s 160ms/step - loss: 0.5016 - accuracy: 0.8337 - AUC_DRlvls_0_1234: 0.8171 - Sp_at_95_sens_DRlvls_0_1234: 0.1927 - RunningValidation: 0.0000e+00 - val_loss: 0.4884 - val_accuracy: 0.7649 - val_AUC_DRlvls_0_1234: 0.8390 - val_Sp_at_95_sens_DRlvls_0_1234: 0.2579 - val_RunningValidation: 1.0000\n",
      "Epoch 31/2000\n",
      "9471/9471 [==============================] - 1516s 160ms/step - loss: 0.4957 - accuracy: 0.8354 - AUC_DRlvls_0_1234: 0.8213 - Sp_at_95_sens_DRlvls_0_1234: 0.2106 - RunningValidation: 0.0000e+00 - val_loss: 0.4817 - val_accuracy: 0.7702 - val_AUC_DRlvls_0_1234: 0.8432 - val_Sp_at_95_sens_DRlvls_0_1234: 0.2707 - val_RunningValidation: 1.0000\n",
      "Epoch 32/2000\n",
      "9471/9471 [==============================] - 1515s 160ms/step - loss: 0.4987 - accuracy: 0.8384 - AUC_DRlvls_0_1234: 0.8216 - Sp_at_95_sens_DRlvls_0_1234: 0.2079 - RunningValidation: 0.0000e+00 - val_loss: 0.4905 - val_accuracy: 0.7638 - val_AUC_DRlvls_0_1234: 0.8422 - val_Sp_at_95_sens_DRlvls_0_1234: 0.2651 - val_RunningValidation: 1.0000\n",
      "Epoch 33/2000\n",
      "9471/9471 [==============================] - 1515s 160ms/step - loss: 0.5012 - accuracy: 0.8382 - AUC_DRlvls_0_1234: 0.8195 - Sp_at_95_sens_DRlvls_0_1234: 0.2109 - RunningValidation: 0.0000e+00 - val_loss: 0.4865 - val_accuracy: 0.7657 - val_AUC_DRlvls_0_1234: 0.8443 - val_Sp_at_95_sens_DRlvls_0_1234: 0.2501 - val_RunningValidation: 1.0000\n",
      "Epoch 34/2000\n",
      "9471/9471 [==============================] - 1515s 160ms/step - loss: 0.4974 - accuracy: 0.8423 - AUC_DRlvls_0_1234: 0.8244 - Sp_at_95_sens_DRlvls_0_1234: 0.1970 - RunningValidation: 0.0000e+00 - val_loss: 0.4759 - val_accuracy: 0.7707 - val_AUC_DRlvls_0_1234: 0.8458 - val_Sp_at_95_sens_DRlvls_0_1234: 0.2618 - val_RunningValidation: 1.0000\n",
      "Epoch 35/2000\n",
      "9471/9471 [==============================] - 1515s 160ms/step - loss: 0.4918 - accuracy: 0.8400 - AUC_DRlvls_0_1234: 0.8266 - Sp_at_95_sens_DRlvls_0_1234: 0.2195 - RunningValidation: 0.0000e+00 - val_loss: 0.4831 - val_accuracy: 0.7699 - val_AUC_DRlvls_0_1234: 0.8479 - val_Sp_at_95_sens_DRlvls_0_1234: 0.2613 - val_RunningValidation: 1.0000\n",
      "Epoch 36/2000\n",
      "9471/9471 [==============================] - 1516s 160ms/step - loss: 0.4918 - accuracy: 0.8401 - AUC_DRlvls_0_1234: 0.8269 - Sp_at_95_sens_DRlvls_0_1234: 0.2086 - RunningValidation: 0.0000e+00 - val_loss: 0.4749 - val_accuracy: 0.7768 - val_AUC_DRlvls_0_1234: 0.8482 - val_Sp_at_95_sens_DRlvls_0_1234: 0.2740 - val_RunningValidation: 1.0000\n",
      "Epoch 37/2000\n",
      "9471/9471 [==============================] - 1515s 160ms/step - loss: 0.4918 - accuracy: 0.8453 - AUC_DRlvls_0_1234: 0.8282 - Sp_at_95_sens_DRlvls_0_1234: 0.2089 - RunningValidation: 0.0000e+00 - val_loss: 0.4662 - val_accuracy: 0.7810 - val_AUC_DRlvls_0_1234: 0.8528 - val_Sp_at_95_sens_DRlvls_0_1234: 0.2807 - val_RunningValidation: 1.0000\n",
      "Epoch 38/2000\n",
      "9471/9471 [==============================] - 1515s 160ms/step - loss: 0.4907 - accuracy: 0.8440 - AUC_DRlvls_0_1234: 0.8264 - Sp_at_95_sens_DRlvls_0_1234: 0.2027 - RunningValidation: 0.0000e+00 - val_loss: 0.4702 - val_accuracy: 0.7771 - val_AUC_DRlvls_0_1234: 0.8495 - val_Sp_at_95_sens_DRlvls_0_1234: 0.2740 - val_RunningValidation: 1.0000\n",
      "Epoch 39/2000\n",
      "9471/9471 [==============================] - 1514s 160ms/step - loss: 0.4939 - accuracy: 0.8454 - AUC_DRlvls_0_1234: 0.8273 - Sp_at_95_sens_DRlvls_0_1234: 0.1921 - RunningValidation: 0.0000e+00 - val_loss: 0.4750 - val_accuracy: 0.7732 - val_AUC_DRlvls_0_1234: 0.8508 - val_Sp_at_95_sens_DRlvls_0_1234: 0.2690 - val_RunningValidation: 1.0000\n",
      "Epoch 40/2000\n",
      "9471/9471 [==============================] - 1514s 160ms/step - loss: 0.4885 - accuracy: 0.8467 - AUC_DRlvls_0_1234: 0.8322 - Sp_at_95_sens_DRlvls_0_1234: 0.2103 - RunningValidation: 0.0000e+00 - val_loss: 0.4810 - val_accuracy: 0.7721 - val_AUC_DRlvls_0_1234: 0.8495 - val_Sp_at_95_sens_DRlvls_0_1234: 0.2802 - val_RunningValidation: 1.0000\n",
      "Epoch 41/2000\n",
      "9471/9471 [==============================] - 1515s 160ms/step - loss: 0.4948 - accuracy: 0.8475 - AUC_DRlvls_0_1234: 0.8267 - Sp_at_95_sens_DRlvls_0_1234: 0.1882 - RunningValidation: 0.0000e+00 - val_loss: 0.4877 - val_accuracy: 0.7754 - val_AUC_DRlvls_0_1234: 0.8500 - val_Sp_at_95_sens_DRlvls_0_1234: 0.2785 - val_RunningValidation: 1.0000\n",
      "Epoch 42/2000\n",
      "9471/9471 [==============================] - 1515s 160ms/step - loss: 0.4926 - accuracy: 0.8481 - AUC_DRlvls_0_1234: 0.8295 - Sp_at_95_sens_DRlvls_0_1234: 0.2083 - RunningValidation: 0.0000e+00 - val_loss: 0.4745 - val_accuracy: 0.7804 - val_AUC_DRlvls_0_1234: 0.8530 - val_Sp_at_95_sens_DRlvls_0_1234: 0.2724 - val_RunningValidation: 1.0000\n",
      "Epoch 43/2000\n",
      "9471/9471 [==============================] - 1514s 160ms/step - loss: 0.4899 - accuracy: 0.8497 - AUC_DRlvls_0_1234: 0.8310 - Sp_at_95_sens_DRlvls_0_1234: 0.2003 - RunningValidation: 0.0000e+00 - val_loss: 0.4774 - val_accuracy: 0.7793 - val_AUC_DRlvls_0_1234: 0.8533 - val_Sp_at_95_sens_DRlvls_0_1234: 0.2590 - val_RunningValidation: 1.0000\n",
      "Epoch 44/2000\n",
      "9471/9471 [==============================] - 1514s 160ms/step - loss: 0.4881 - accuracy: 0.8481 - AUC_DRlvls_0_1234: 0.8317 - Sp_at_95_sens_DRlvls_0_1234: 0.2095 - RunningValidation: 0.0000e+00 - val_loss: 0.4702 - val_accuracy: 0.7893 - val_AUC_DRlvls_0_1234: 0.8532 - val_Sp_at_95_sens_DRlvls_0_1234: 0.2835 - val_RunningValidation: 1.0000\n",
      "Epoch 45/2000\n",
      "9471/9471 [==============================] - 1514s 160ms/step - loss: 0.4901 - accuracy: 0.8505 - AUC_DRlvls_0_1234: 0.8335 - Sp_at_95_sens_DRlvls_0_1234: 0.2178 - RunningValidation: 0.0000e+00 - val_loss: 0.4810 - val_accuracy: 0.7804 - val_AUC_DRlvls_0_1234: 0.8527 - val_Sp_at_95_sens_DRlvls_0_1234: 0.2696 - val_RunningValidation: 1.0000\n",
      "Epoch 46/2000\n",
      "9471/9471 [==============================] - 1514s 160ms/step - loss: 0.4881 - accuracy: 0.8495 - AUC_DRlvls_0_1234: 0.8342 - Sp_at_95_sens_DRlvls_0_1234: 0.2115 - RunningValidation: 0.0000e+00 - val_loss: 0.4669 - val_accuracy: 0.7885 - val_AUC_DRlvls_0_1234: 0.8562 - val_Sp_at_95_sens_DRlvls_0_1234: 0.2657 - val_RunningValidation: 1.0000\n",
      "Epoch 47/2000\n",
      "9471/9471 [==============================] - 1512s 160ms/step - loss: 0.4843 - accuracy: 0.8506 - AUC_DRlvls_0_1234: 0.8346 - Sp_at_95_sens_DRlvls_0_1234: 0.2088 - RunningValidation: 0.0000e+00 - val_loss: 0.4773 - val_accuracy: 0.7835 - val_AUC_DRlvls_0_1234: 0.8550 - val_Sp_at_95_sens_DRlvls_0_1234: 0.2729 - val_RunningValidation: 1.0000\n",
      "Epoch 48/2000\n",
      "9471/9471 [==============================] - 1507s 159ms/step - loss: 0.4893 - accuracy: 0.8510 - AUC_DRlvls_0_1234: 0.8341 - Sp_at_95_sens_DRlvls_0_1234: 0.2009 - RunningValidation: 0.0000e+00 - val_loss: 0.4716 - val_accuracy: 0.7904 - val_AUC_DRlvls_0_1234: 0.8565 - val_Sp_at_95_sens_DRlvls_0_1234: 0.2718 - val_RunningValidation: 1.0000\n",
      "Epoch 49/2000\n",
      "9471/9471 [==============================] - 1483s 157ms/step - loss: 0.4895 - accuracy: 0.8546 - AUC_DRlvls_0_1234: 0.8370 - Sp_at_95_sens_DRlvls_0_1234: 0.2102 - RunningValidation: 0.0000e+00 - val_loss: 0.4788 - val_accuracy: 0.7849 - val_AUC_DRlvls_0_1234: 0.8569 - val_Sp_at_95_sens_DRlvls_0_1234: 0.2763 - val_RunningValidation: 1.0000\n",
      "Epoch 50/2000\n",
      "9471/9471 [==============================] - 1377s 145ms/step - loss: 0.4891 - accuracy: 0.8525 - AUC_DRlvls_0_1234: 0.8348 - Sp_at_95_sens_DRlvls_0_1234: 0.2077 - RunningValidation: 0.0000e+00 - val_loss: 0.4800 - val_accuracy: 0.7860 - val_AUC_DRlvls_0_1234: 0.8554 - val_Sp_at_95_sens_DRlvls_0_1234: 0.2485 - val_RunningValidation: 1.0000\n",
      "Epoch 51/2000\n",
      "9471/9471 [==============================] - 1435s 151ms/step - loss: 0.4879 - accuracy: 0.8551 - AUC_DRlvls_0_1234: 0.8372 - Sp_at_95_sens_DRlvls_0_1234: 0.2189 - RunningValidation: 0.0000e+00 - val_loss: 0.4774 - val_accuracy: 0.7832 - val_AUC_DRlvls_0_1234: 0.8559 - val_Sp_at_95_sens_DRlvls_0_1234: 0.2835 - val_RunningValidation: 1.0000\n",
      "Epoch 52/2000\n",
      "9471/9471 [==============================] - 1513s 160ms/step - loss: 0.4894 - accuracy: 0.8551 - AUC_DRlvls_0_1234: 0.8360 - Sp_at_95_sens_DRlvls_0_1234: 0.1933 - RunningValidation: 0.0000e+00 - val_loss: 0.4730 - val_accuracy: 0.7852 - val_AUC_DRlvls_0_1234: 0.8565 - val_Sp_at_95_sens_DRlvls_0_1234: 0.2646 - val_RunningValidation: 1.0000\n",
      "Epoch 53/2000\n",
      "9471/9471 [==============================] - 1515s 160ms/step - loss: 0.4875 - accuracy: 0.8571 - AUC_DRlvls_0_1234: 0.8361 - Sp_at_95_sens_DRlvls_0_1234: 0.2046 - RunningValidation: 0.0000e+00 - val_loss: 0.4742 - val_accuracy: 0.7921 - val_AUC_DRlvls_0_1234: 0.8585 - val_Sp_at_95_sens_DRlvls_0_1234: 0.2840 - val_RunningValidation: 1.0000\n",
      "Epoch 54/2000\n",
      "9471/9471 [==============================] - 1516s 160ms/step - loss: 0.4893 - accuracy: 0.8570 - AUC_DRlvls_0_1234: 0.8372 - Sp_at_95_sens_DRlvls_0_1234: 0.1894 - RunningValidation: 0.0000e+00 - val_loss: 0.4588 - val_accuracy: 0.7999 - val_AUC_DRlvls_0_1234: 0.8587 - val_Sp_at_95_sens_DRlvls_0_1234: 0.2785 - val_RunningValidation: 1.0000\n",
      "Epoch 55/2000\n",
      "9471/9471 [==============================] - 1516s 160ms/step - loss: 0.4852 - accuracy: 0.8546 - AUC_DRlvls_0_1234: 0.8370 - Sp_at_95_sens_DRlvls_0_1234: 0.1993 - RunningValidation: 0.0000e+00 - val_loss: 0.4670 - val_accuracy: 0.7941 - val_AUC_DRlvls_0_1234: 0.8586 - val_Sp_at_95_sens_DRlvls_0_1234: 0.2629 - val_RunningValidation: 1.0000\n",
      "Epoch 56/2000\n",
      "9471/9471 [==============================] - 1514s 160ms/step - loss: 0.4864 - accuracy: 0.8558 - AUC_DRlvls_0_1234: 0.8384 - Sp_at_95_sens_DRlvls_0_1234: 0.2039 - RunningValidation: 0.0000e+00 - val_loss: 0.4756 - val_accuracy: 0.7954 - val_AUC_DRlvls_0_1234: 0.8589 - val_Sp_at_95_sens_DRlvls_0_1234: 0.2779 - val_RunningValidation: 1.0000\n",
      "Epoch 57/2000\n",
      "9471/9471 [==============================] - 1512s 160ms/step - loss: 0.4906 - accuracy: 0.8587 - AUC_DRlvls_0_1234: 0.8424 - Sp_at_95_sens_DRlvls_0_1234: 0.2162 - RunningValidation: 0.0000e+00 - val_loss: 0.4709 - val_accuracy: 0.7913 - val_AUC_DRlvls_0_1234: 0.8594 - val_Sp_at_95_sens_DRlvls_0_1234: 0.2690 - val_RunningValidation: 1.0000\n",
      "Epoch 58/2000\n",
      "9471/9471 [==============================] - 1512s 160ms/step - loss: 0.4856 - accuracy: 0.8566 - AUC_DRlvls_0_1234: 0.8404 - Sp_at_95_sens_DRlvls_0_1234: 0.1936 - RunningValidation: 0.0000e+00 - val_loss: 0.4600 - val_accuracy: 0.7966 - val_AUC_DRlvls_0_1234: 0.8596 - val_Sp_at_95_sens_DRlvls_0_1234: 0.2824 - val_RunningValidation: 1.0000\n",
      "Epoch 59/2000\n",
      "9471/9471 [==============================] - 1511s 160ms/step - loss: 0.4888 - accuracy: 0.8575 - AUC_DRlvls_0_1234: 0.8382 - Sp_at_95_sens_DRlvls_0_1234: 0.2073 - RunningValidation: 0.0000e+00 - val_loss: 0.4824 - val_accuracy: 0.7993 - val_AUC_DRlvls_0_1234: 0.8585 - val_Sp_at_95_sens_DRlvls_0_1234: 0.2790 - val_RunningValidation: 1.0000\n",
      "Epoch 60/2000\n",
      "9471/9471 [==============================] - 1513s 160ms/step - loss: 0.4866 - accuracy: 0.8602 - AUC_DRlvls_0_1234: 0.8417 - Sp_at_95_sens_DRlvls_0_1234: 0.1989 - RunningValidation: 0.0000e+00 - val_loss: 0.4744 - val_accuracy: 0.7954 - val_AUC_DRlvls_0_1234: 0.8598 - val_Sp_at_95_sens_DRlvls_0_1234: 0.2702 - val_RunningValidation: 1.0000\n",
      "Epoch 61/2000\n",
      "9471/9471 [==============================] - 1511s 160ms/step - loss: 0.4901 - accuracy: 0.8603 - AUC_DRlvls_0_1234: 0.8415 - Sp_at_95_sens_DRlvls_0_1234: 0.2153 - RunningValidation: 0.0000e+00 - val_loss: 0.4932 - val_accuracy: 0.7902 - val_AUC_DRlvls_0_1234: 0.8570 - val_Sp_at_95_sens_DRlvls_0_1234: 0.2824 - val_RunningValidation: 1.0000\n",
      "Epoch 62/2000\n",
      "9471/9471 [==============================] - 1511s 160ms/step - loss: 0.4944 - accuracy: 0.8607 - AUC_DRlvls_0_1234: 0.8375 - Sp_at_95_sens_DRlvls_0_1234: 0.2078 - RunningValidation: 0.0000e+00 - val_loss: 0.4715 - val_accuracy: 0.7985 - val_AUC_DRlvls_0_1234: 0.8595 - val_Sp_at_95_sens_DRlvls_0_1234: 0.2663 - val_RunningValidation: 1.0000\n",
      "Epoch 63/2000\n",
      "9471/9471 [==============================] - 1512s 160ms/step - loss: 0.4908 - accuracy: 0.8593 - AUC_DRlvls_0_1234: 0.8413 - Sp_at_95_sens_DRlvls_0_1234: 0.2159 - RunningValidation: 0.0000e+00 - val_loss: 0.4730 - val_accuracy: 0.7979 - val_AUC_DRlvls_0_1234: 0.8601 - val_Sp_at_95_sens_DRlvls_0_1234: 0.2818 - val_RunningValidation: 1.0000\n",
      "Epoch 64/2000\n",
      "9471/9471 [==============================] - 1513s 160ms/step - loss: 0.4875 - accuracy: 0.8601 - AUC_DRlvls_0_1234: 0.8425 - Sp_at_95_sens_DRlvls_0_1234: 0.2107 - RunningValidation: 0.0000e+00 - val_loss: 0.4808 - val_accuracy: 0.7971 - val_AUC_DRlvls_0_1234: 0.8611 - val_Sp_at_95_sens_DRlvls_0_1234: 0.2685 - val_RunningValidation: 1.0000\n",
      "Epoch 65/2000\n",
      "9471/9471 [==============================] - 1514s 160ms/step - loss: 0.4956 - accuracy: 0.8597 - AUC_DRlvls_0_1234: 0.8385 - Sp_at_95_sens_DRlvls_0_1234: 0.1989 - RunningValidation: 0.0000e+00 - val_loss: 0.4815 - val_accuracy: 0.7968 - val_AUC_DRlvls_0_1234: 0.8603 - val_Sp_at_95_sens_DRlvls_0_1234: 0.2802 - val_RunningValidation: 1.0000\n",
      "Epoch 66/2000\n",
      "9471/9471 [==============================] - 1515s 160ms/step - loss: 0.4893 - accuracy: 0.8620 - AUC_DRlvls_0_1234: 0.8440 - Sp_at_95_sens_DRlvls_0_1234: 0.1985 - RunningValidation: 0.0000e+00 - val_loss: 0.4952 - val_accuracy: 0.7996 - val_AUC_DRlvls_0_1234: 0.8585 - val_Sp_at_95_sens_DRlvls_0_1234: 0.2462 - val_RunningValidation: 1.0000\n",
      "Epoch 67/2000\n",
      "9471/9471 [==============================] - 1515s 160ms/step - loss: 0.4934 - accuracy: 0.8628 - AUC_DRlvls_0_1234: 0.8426 - Sp_at_95_sens_DRlvls_0_1234: 0.2110 - RunningValidation: 0.0000e+00 - val_loss: 0.5022 - val_accuracy: 0.7941 - val_AUC_DRlvls_0_1234: 0.8612 - val_Sp_at_95_sens_DRlvls_0_1234: 0.2746 - val_RunningValidation: 1.0000\n",
      "Epoch 68/2000\n",
      "9471/9471 [==============================] - 1516s 160ms/step - loss: 0.4996 - accuracy: 0.8643 - AUC_DRlvls_0_1234: 0.8433 - Sp_at_95_sens_DRlvls_0_1234: 0.1869 - RunningValidation: 0.0000e+00 - val_loss: 0.4831 - val_accuracy: 0.7954 - val_AUC_DRlvls_0_1234: 0.8613 - val_Sp_at_95_sens_DRlvls_0_1234: 0.2790 - val_RunningValidation: 1.0000\n",
      "Epoch 69/2000\n",
      "9471/9471 [==============================] - 1516s 160ms/step - loss: 0.4874 - accuracy: 0.8631 - AUC_DRlvls_0_1234: 0.8450 - Sp_at_95_sens_DRlvls_0_1234: 0.2178 - RunningValidation: 0.0000e+00 - val_loss: 0.4851 - val_accuracy: 0.7971 - val_AUC_DRlvls_0_1234: 0.8625 - val_Sp_at_95_sens_DRlvls_0_1234: 0.2735 - val_RunningValidation: 1.0000\n",
      "Epoch 70/2000\n",
      "9471/9471 [==============================] - 1515s 160ms/step - loss: 0.4993 - accuracy: 0.8623 - AUC_DRlvls_0_1234: 0.8435 - Sp_at_95_sens_DRlvls_0_1234: 0.2097 - RunningValidation: 0.0000e+00 - val_loss: 0.4753 - val_accuracy: 0.7988 - val_AUC_DRlvls_0_1234: 0.8643 - val_Sp_at_95_sens_DRlvls_0_1234: 0.2829 - val_RunningValidation: 1.0000\n",
      "Epoch 71/2000\n",
      "9471/9471 [==============================] - 1515s 160ms/step - loss: 0.4956 - accuracy: 0.8627 - AUC_DRlvls_0_1234: 0.8420 - Sp_at_95_sens_DRlvls_0_1234: 0.2109 - RunningValidation: 0.0000e+00 - val_loss: 0.4792 - val_accuracy: 0.8013 - val_AUC_DRlvls_0_1234: 0.8629 - val_Sp_at_95_sens_DRlvls_0_1234: 0.2690 - val_RunningValidation: 1.0000\n",
      "Epoch 72/2000\n",
      "9471/9471 [==============================] - 1516s 160ms/step - loss: 0.4967 - accuracy: 0.8641 - AUC_DRlvls_0_1234: 0.8423 - Sp_at_95_sens_DRlvls_0_1234: 0.1998 - RunningValidation: 0.0000e+00 - val_loss: 0.4855 - val_accuracy: 0.7988 - val_AUC_DRlvls_0_1234: 0.8633 - val_Sp_at_95_sens_DRlvls_0_1234: 0.2852 - val_RunningValidation: 1.0000\n",
      "Epoch 73/2000\n",
      "9471/9471 [==============================] - 1510s 159ms/step - loss: 0.4950 - accuracy: 0.8647 - AUC_DRlvls_0_1234: 0.8426 - Sp_at_95_sens_DRlvls_0_1234: 0.2020 - RunningValidation: 0.0000e+00 - val_loss: 0.4811 - val_accuracy: 0.7952 - val_AUC_DRlvls_0_1234: 0.8631 - val_Sp_at_95_sens_DRlvls_0_1234: 0.2813 - val_RunningValidation: 1.0000\n",
      "Epoch 74/2000\n",
      "9471/9471 [==============================] - 1511s 160ms/step - loss: 0.4879 - accuracy: 0.8642 - AUC_DRlvls_0_1234: 0.8447 - Sp_at_95_sens_DRlvls_0_1234: 0.2008 - RunningValidation: 0.0000e+00 - val_loss: 0.4921 - val_accuracy: 0.7999 - val_AUC_DRlvls_0_1234: 0.8661 - val_Sp_at_95_sens_DRlvls_0_1234: 0.3124 - val_RunningValidation: 1.0000\n",
      "Epoch 75/2000\n",
      "8423/9471 [=========================>....] - ETA: 2:44 - loss: 0.4958 - accuracy: 0.8648 - AUC_DRlvls_0_1234: 0.8464 - Sp_at_95_sens_DRlvls_0_1234: 0.2142 - RunningValidation: 0.0000e+00"
     ]
    },
    {
     "ename": "KeyboardInterrupt",
     "evalue": "",
     "output_type": "error",
     "traceback": [
      "\u001b[0;31m---------------------------------------------------------------------------\u001b[0m",
      "\u001b[0;31mKeyboardInterrupt\u001b[0m                         Traceback (most recent call last)",
      "\u001b[0;32m<ipython-input-11-3e40c29399c8>\u001b[0m in \u001b[0;36m<module>\u001b[0;34m\u001b[0m\n\u001b[1;32m     17\u001b[0m \u001b[0;34m\u001b[0m\u001b[0m\n\u001b[1;32m     18\u001b[0m \u001b[0;31m# history = model.fit(train_dataset.take(50), epochs=num_epochs, validation_data=val_dataset.take(10), verbose=1, callbacks=cbacks, class_weight=d_class_weights)\u001b[0m\u001b[0;34m\u001b[0m\u001b[0;34m\u001b[0m\u001b[0;34m\u001b[0m\u001b[0m\n\u001b[0;32m---> 19\u001b[0;31m \u001b[0mhistory\u001b[0m \u001b[0;34m=\u001b[0m \u001b[0mmodel\u001b[0m\u001b[0;34m.\u001b[0m\u001b[0mfit\u001b[0m\u001b[0;34m(\u001b[0m\u001b[0mtrain_dataset\u001b[0m\u001b[0;34m,\u001b[0m \u001b[0mepochs\u001b[0m\u001b[0;34m=\u001b[0m\u001b[0mnum_epochs\u001b[0m\u001b[0;34m,\u001b[0m \u001b[0mvalidation_data\u001b[0m\u001b[0;34m=\u001b[0m\u001b[0mval_dataset\u001b[0m\u001b[0;34m,\u001b[0m \u001b[0mverbose\u001b[0m\u001b[0;34m=\u001b[0m\u001b[0;36m1\u001b[0m\u001b[0;34m,\u001b[0m \u001b[0mcallbacks\u001b[0m\u001b[0;34m=\u001b[0m\u001b[0mcbacks\u001b[0m\u001b[0;34m,\u001b[0m \u001b[0mclass_weight\u001b[0m\u001b[0;34m=\u001b[0m\u001b[0md_class_weights\u001b[0m\u001b[0;34m)\u001b[0m\u001b[0;34m\u001b[0m\u001b[0;34m\u001b[0m\u001b[0m\n\u001b[0m",
      "\u001b[0;32m~/miguel_herrera/lib/python3.8/site-packages/tensorflow/python/keras/engine/training.py\u001b[0m in \u001b[0;36m_method_wrapper\u001b[0;34m(self, *args, **kwargs)\u001b[0m\n\u001b[1;32m    106\u001b[0m   \u001b[0;32mdef\u001b[0m \u001b[0m_method_wrapper\u001b[0m\u001b[0;34m(\u001b[0m\u001b[0mself\u001b[0m\u001b[0;34m,\u001b[0m \u001b[0;34m*\u001b[0m\u001b[0margs\u001b[0m\u001b[0;34m,\u001b[0m \u001b[0;34m**\u001b[0m\u001b[0mkwargs\u001b[0m\u001b[0;34m)\u001b[0m\u001b[0;34m:\u001b[0m\u001b[0;34m\u001b[0m\u001b[0;34m\u001b[0m\u001b[0m\n\u001b[1;32m    107\u001b[0m     \u001b[0;32mif\u001b[0m \u001b[0;32mnot\u001b[0m \u001b[0mself\u001b[0m\u001b[0;34m.\u001b[0m\u001b[0m_in_multi_worker_mode\u001b[0m\u001b[0;34m(\u001b[0m\u001b[0;34m)\u001b[0m\u001b[0;34m:\u001b[0m  \u001b[0;31m# pylint: disable=protected-access\u001b[0m\u001b[0;34m\u001b[0m\u001b[0;34m\u001b[0m\u001b[0m\n\u001b[0;32m--> 108\u001b[0;31m       \u001b[0;32mreturn\u001b[0m \u001b[0mmethod\u001b[0m\u001b[0;34m(\u001b[0m\u001b[0mself\u001b[0m\u001b[0;34m,\u001b[0m \u001b[0;34m*\u001b[0m\u001b[0margs\u001b[0m\u001b[0;34m,\u001b[0m \u001b[0;34m**\u001b[0m\u001b[0mkwargs\u001b[0m\u001b[0;34m)\u001b[0m\u001b[0;34m\u001b[0m\u001b[0;34m\u001b[0m\u001b[0m\n\u001b[0m\u001b[1;32m    109\u001b[0m \u001b[0;34m\u001b[0m\u001b[0m\n\u001b[1;32m    110\u001b[0m     \u001b[0;31m# Running inside `run_distribute_coordinator` already.\u001b[0m\u001b[0;34m\u001b[0m\u001b[0;34m\u001b[0m\u001b[0;34m\u001b[0m\u001b[0m\n",
      "\u001b[0;32m~/miguel_herrera/lib/python3.8/site-packages/tensorflow/python/keras/engine/training.py\u001b[0m in \u001b[0;36mfit\u001b[0;34m(self, x, y, batch_size, epochs, verbose, callbacks, validation_split, validation_data, shuffle, class_weight, sample_weight, initial_epoch, steps_per_epoch, validation_steps, validation_batch_size, validation_freq, max_queue_size, workers, use_multiprocessing)\u001b[0m\n\u001b[1;32m   1096\u001b[0m                 batch_size=batch_size):\n\u001b[1;32m   1097\u001b[0m               \u001b[0mcallbacks\u001b[0m\u001b[0;34m.\u001b[0m\u001b[0mon_train_batch_begin\u001b[0m\u001b[0;34m(\u001b[0m\u001b[0mstep\u001b[0m\u001b[0;34m)\u001b[0m\u001b[0;34m\u001b[0m\u001b[0;34m\u001b[0m\u001b[0m\n\u001b[0;32m-> 1098\u001b[0;31m               \u001b[0mtmp_logs\u001b[0m \u001b[0;34m=\u001b[0m \u001b[0mtrain_function\u001b[0m\u001b[0;34m(\u001b[0m\u001b[0miterator\u001b[0m\u001b[0;34m)\u001b[0m\u001b[0;34m\u001b[0m\u001b[0;34m\u001b[0m\u001b[0m\n\u001b[0m\u001b[1;32m   1099\u001b[0m               \u001b[0;32mif\u001b[0m \u001b[0mdata_handler\u001b[0m\u001b[0;34m.\u001b[0m\u001b[0mshould_sync\u001b[0m\u001b[0;34m:\u001b[0m\u001b[0;34m\u001b[0m\u001b[0;34m\u001b[0m\u001b[0m\n\u001b[1;32m   1100\u001b[0m                 \u001b[0mcontext\u001b[0m\u001b[0;34m.\u001b[0m\u001b[0masync_wait\u001b[0m\u001b[0;34m(\u001b[0m\u001b[0;34m)\u001b[0m\u001b[0;34m\u001b[0m\u001b[0;34m\u001b[0m\u001b[0m\n",
      "\u001b[0;32m~/miguel_herrera/lib/python3.8/site-packages/tensorflow/python/eager/def_function.py\u001b[0m in \u001b[0;36m__call__\u001b[0;34m(self, *args, **kwds)\u001b[0m\n\u001b[1;32m    778\u001b[0m       \u001b[0;32melse\u001b[0m\u001b[0;34m:\u001b[0m\u001b[0;34m\u001b[0m\u001b[0;34m\u001b[0m\u001b[0m\n\u001b[1;32m    779\u001b[0m         \u001b[0mcompiler\u001b[0m \u001b[0;34m=\u001b[0m \u001b[0;34m\"nonXla\"\u001b[0m\u001b[0;34m\u001b[0m\u001b[0;34m\u001b[0m\u001b[0m\n\u001b[0;32m--> 780\u001b[0;31m         \u001b[0mresult\u001b[0m \u001b[0;34m=\u001b[0m \u001b[0mself\u001b[0m\u001b[0;34m.\u001b[0m\u001b[0m_call\u001b[0m\u001b[0;34m(\u001b[0m\u001b[0;34m*\u001b[0m\u001b[0margs\u001b[0m\u001b[0;34m,\u001b[0m \u001b[0;34m**\u001b[0m\u001b[0mkwds\u001b[0m\u001b[0;34m)\u001b[0m\u001b[0;34m\u001b[0m\u001b[0;34m\u001b[0m\u001b[0m\n\u001b[0m\u001b[1;32m    781\u001b[0m \u001b[0;34m\u001b[0m\u001b[0m\n\u001b[1;32m    782\u001b[0m       \u001b[0mnew_tracing_count\u001b[0m \u001b[0;34m=\u001b[0m \u001b[0mself\u001b[0m\u001b[0;34m.\u001b[0m\u001b[0m_get_tracing_count\u001b[0m\u001b[0;34m(\u001b[0m\u001b[0;34m)\u001b[0m\u001b[0;34m\u001b[0m\u001b[0;34m\u001b[0m\u001b[0m\n",
      "\u001b[0;32m~/miguel_herrera/lib/python3.8/site-packages/tensorflow/python/eager/def_function.py\u001b[0m in \u001b[0;36m_call\u001b[0;34m(self, *args, **kwds)\u001b[0m\n\u001b[1;32m    805\u001b[0m       \u001b[0;31m# In this case we have created variables on the first call, so we run the\u001b[0m\u001b[0;34m\u001b[0m\u001b[0;34m\u001b[0m\u001b[0;34m\u001b[0m\u001b[0m\n\u001b[1;32m    806\u001b[0m       \u001b[0;31m# defunned version which is guaranteed to never create variables.\u001b[0m\u001b[0;34m\u001b[0m\u001b[0;34m\u001b[0m\u001b[0;34m\u001b[0m\u001b[0m\n\u001b[0;32m--> 807\u001b[0;31m       \u001b[0;32mreturn\u001b[0m \u001b[0mself\u001b[0m\u001b[0;34m.\u001b[0m\u001b[0m_stateless_fn\u001b[0m\u001b[0;34m(\u001b[0m\u001b[0;34m*\u001b[0m\u001b[0margs\u001b[0m\u001b[0;34m,\u001b[0m \u001b[0;34m**\u001b[0m\u001b[0mkwds\u001b[0m\u001b[0;34m)\u001b[0m  \u001b[0;31m# pylint: disable=not-callable\u001b[0m\u001b[0;34m\u001b[0m\u001b[0;34m\u001b[0m\u001b[0m\n\u001b[0m\u001b[1;32m    808\u001b[0m     \u001b[0;32melif\u001b[0m \u001b[0mself\u001b[0m\u001b[0;34m.\u001b[0m\u001b[0m_stateful_fn\u001b[0m \u001b[0;32mis\u001b[0m \u001b[0;32mnot\u001b[0m \u001b[0;32mNone\u001b[0m\u001b[0;34m:\u001b[0m\u001b[0;34m\u001b[0m\u001b[0;34m\u001b[0m\u001b[0m\n\u001b[1;32m    809\u001b[0m       \u001b[0;31m# Release the lock early so that multiple threads can perform the call\u001b[0m\u001b[0;34m\u001b[0m\u001b[0;34m\u001b[0m\u001b[0;34m\u001b[0m\u001b[0m\n",
      "\u001b[0;32m~/miguel_herrera/lib/python3.8/site-packages/tensorflow/python/eager/function.py\u001b[0m in \u001b[0;36m__call__\u001b[0;34m(self, *args, **kwargs)\u001b[0m\n\u001b[1;32m   2827\u001b[0m     \u001b[0;32mwith\u001b[0m \u001b[0mself\u001b[0m\u001b[0;34m.\u001b[0m\u001b[0m_lock\u001b[0m\u001b[0;34m:\u001b[0m\u001b[0;34m\u001b[0m\u001b[0;34m\u001b[0m\u001b[0m\n\u001b[1;32m   2828\u001b[0m       \u001b[0mgraph_function\u001b[0m\u001b[0;34m,\u001b[0m \u001b[0margs\u001b[0m\u001b[0;34m,\u001b[0m \u001b[0mkwargs\u001b[0m \u001b[0;34m=\u001b[0m \u001b[0mself\u001b[0m\u001b[0;34m.\u001b[0m\u001b[0m_maybe_define_function\u001b[0m\u001b[0;34m(\u001b[0m\u001b[0margs\u001b[0m\u001b[0;34m,\u001b[0m \u001b[0mkwargs\u001b[0m\u001b[0;34m)\u001b[0m\u001b[0;34m\u001b[0m\u001b[0;34m\u001b[0m\u001b[0m\n\u001b[0;32m-> 2829\u001b[0;31m     \u001b[0;32mreturn\u001b[0m \u001b[0mgraph_function\u001b[0m\u001b[0;34m.\u001b[0m\u001b[0m_filtered_call\u001b[0m\u001b[0;34m(\u001b[0m\u001b[0margs\u001b[0m\u001b[0;34m,\u001b[0m \u001b[0mkwargs\u001b[0m\u001b[0;34m)\u001b[0m  \u001b[0;31m# pylint: disable=protected-access\u001b[0m\u001b[0;34m\u001b[0m\u001b[0;34m\u001b[0m\u001b[0m\n\u001b[0m\u001b[1;32m   2830\u001b[0m \u001b[0;34m\u001b[0m\u001b[0m\n\u001b[1;32m   2831\u001b[0m   \u001b[0;34m@\u001b[0m\u001b[0mproperty\u001b[0m\u001b[0;34m\u001b[0m\u001b[0;34m\u001b[0m\u001b[0m\n",
      "\u001b[0;32m~/miguel_herrera/lib/python3.8/site-packages/tensorflow/python/eager/function.py\u001b[0m in \u001b[0;36m_filtered_call\u001b[0;34m(self, args, kwargs, cancellation_manager)\u001b[0m\n\u001b[1;32m   1841\u001b[0m       \u001b[0;31m`\u001b[0m\u001b[0margs\u001b[0m\u001b[0;31m`\u001b[0m \u001b[0;32mand\u001b[0m\u001b[0;31m \u001b[0m\u001b[0;31m`\u001b[0m\u001b[0mkwargs\u001b[0m\u001b[0;31m`\u001b[0m\u001b[0;34m.\u001b[0m\u001b[0;34m\u001b[0m\u001b[0;34m\u001b[0m\u001b[0m\n\u001b[1;32m   1842\u001b[0m     \"\"\"\n\u001b[0;32m-> 1843\u001b[0;31m     return self._call_flat(\n\u001b[0m\u001b[1;32m   1844\u001b[0m         [t for t in nest.flatten((args, kwargs), expand_composites=True)\n\u001b[1;32m   1845\u001b[0m          if isinstance(t, (ops.Tensor,\n",
      "\u001b[0;32m~/miguel_herrera/lib/python3.8/site-packages/tensorflow/python/eager/function.py\u001b[0m in \u001b[0;36m_call_flat\u001b[0;34m(self, args, captured_inputs, cancellation_manager)\u001b[0m\n\u001b[1;32m   1921\u001b[0m         and executing_eagerly):\n\u001b[1;32m   1922\u001b[0m       \u001b[0;31m# No tape is watching; skip to running the function.\u001b[0m\u001b[0;34m\u001b[0m\u001b[0;34m\u001b[0m\u001b[0;34m\u001b[0m\u001b[0m\n\u001b[0;32m-> 1923\u001b[0;31m       return self._build_call_outputs(self._inference_function.call(\n\u001b[0m\u001b[1;32m   1924\u001b[0m           ctx, args, cancellation_manager=cancellation_manager))\n\u001b[1;32m   1925\u001b[0m     forward_backward = self._select_forward_and_backward_functions(\n",
      "\u001b[0;32m~/miguel_herrera/lib/python3.8/site-packages/tensorflow/python/eager/function.py\u001b[0m in \u001b[0;36mcall\u001b[0;34m(self, ctx, args, cancellation_manager)\u001b[0m\n\u001b[1;32m    543\u001b[0m       \u001b[0;32mwith\u001b[0m \u001b[0m_InterpolateFunctionError\u001b[0m\u001b[0;34m(\u001b[0m\u001b[0mself\u001b[0m\u001b[0;34m)\u001b[0m\u001b[0;34m:\u001b[0m\u001b[0;34m\u001b[0m\u001b[0;34m\u001b[0m\u001b[0m\n\u001b[1;32m    544\u001b[0m         \u001b[0;32mif\u001b[0m \u001b[0mcancellation_manager\u001b[0m \u001b[0;32mis\u001b[0m \u001b[0;32mNone\u001b[0m\u001b[0;34m:\u001b[0m\u001b[0;34m\u001b[0m\u001b[0;34m\u001b[0m\u001b[0m\n\u001b[0;32m--> 545\u001b[0;31m           outputs = execute.execute(\n\u001b[0m\u001b[1;32m    546\u001b[0m               \u001b[0mstr\u001b[0m\u001b[0;34m(\u001b[0m\u001b[0mself\u001b[0m\u001b[0;34m.\u001b[0m\u001b[0msignature\u001b[0m\u001b[0;34m.\u001b[0m\u001b[0mname\u001b[0m\u001b[0;34m)\u001b[0m\u001b[0;34m,\u001b[0m\u001b[0;34m\u001b[0m\u001b[0;34m\u001b[0m\u001b[0m\n\u001b[1;32m    547\u001b[0m               \u001b[0mnum_outputs\u001b[0m\u001b[0;34m=\u001b[0m\u001b[0mself\u001b[0m\u001b[0;34m.\u001b[0m\u001b[0m_num_outputs\u001b[0m\u001b[0;34m,\u001b[0m\u001b[0;34m\u001b[0m\u001b[0;34m\u001b[0m\u001b[0m\n",
      "\u001b[0;32m~/miguel_herrera/lib/python3.8/site-packages/tensorflow/python/eager/execute.py\u001b[0m in \u001b[0;36mquick_execute\u001b[0;34m(op_name, num_outputs, inputs, attrs, ctx, name)\u001b[0m\n\u001b[1;32m     57\u001b[0m   \u001b[0;32mtry\u001b[0m\u001b[0;34m:\u001b[0m\u001b[0;34m\u001b[0m\u001b[0;34m\u001b[0m\u001b[0m\n\u001b[1;32m     58\u001b[0m     \u001b[0mctx\u001b[0m\u001b[0;34m.\u001b[0m\u001b[0mensure_initialized\u001b[0m\u001b[0;34m(\u001b[0m\u001b[0;34m)\u001b[0m\u001b[0;34m\u001b[0m\u001b[0;34m\u001b[0m\u001b[0m\n\u001b[0;32m---> 59\u001b[0;31m     tensors = pywrap_tfe.TFE_Py_Execute(ctx._handle, device_name, op_name,\n\u001b[0m\u001b[1;32m     60\u001b[0m                                         inputs, attrs, num_outputs)\n\u001b[1;32m     61\u001b[0m   \u001b[0;32mexcept\u001b[0m \u001b[0mcore\u001b[0m\u001b[0;34m.\u001b[0m\u001b[0m_NotOkStatusException\u001b[0m \u001b[0;32mas\u001b[0m \u001b[0me\u001b[0m\u001b[0;34m:\u001b[0m\u001b[0;34m\u001b[0m\u001b[0;34m\u001b[0m\u001b[0m\n",
      "\u001b[0;31mKeyboardInterrupt\u001b[0m: "
     ]
    }
   ],
   "source": [
    "reload(metrics)\n",
    "\n",
    "validation_dir = base_path+'validation_outputs/'\n",
    "\n",
    "if not os.path.exists(validation_dir):\n",
    "    os.mkdir(validation_dir)\n",
    "\n",
    "model.compile(loss='sparse_categorical_crossentropy', \n",
    "              optimizer=tf.keras.optimizers.SGD(learning_rate=0.0001, momentum=0.9, clipnorm=0.1), \n",
    "              metrics=['accuracy',\n",
    "                       metric_AUC_0_1234, # DR levels: 0 vs 1,2,3,4\n",
    "                       metric_Sp_at_95_Sens_0_1234, # DR levels: 0 vs 1,2,3,4\n",
    "                       metrics.RunningValidation(path=validation_dir, n_columns=len(DR_LEVELS_PER_CLASS)) # THIS METRIC MUST BE INIZIALIZATED BEFORE EVERY TRAINING\n",
    "                      ]) \n",
    "\n",
    "num_epochs = 2000\n",
    "\n",
    "# history = model.fit(train_dataset.take(50), epochs=num_epochs, validation_data=val_dataset.take(10), verbose=1, callbacks=cbacks, class_weight=d_class_weights)\n",
    "history = model.fit(train_dataset, epochs=num_epochs, validation_data=val_dataset, verbose=1, callbacks=cbacks, class_weight=d_class_weights)"
   ]
  }
 ],
 "metadata": {
  "kernelspec": {
   "display_name": "Python 3.8.5 64-bit",
   "language": "python",
   "name": "python38564bit6c4dec2e42734bc298ce0c3bfcfccb75"
  },
  "language_info": {
   "codemirror_mode": {
    "name": "ipython",
    "version": 3
   },
   "file_extension": ".py",
   "mimetype": "text/x-python",
   "name": "python",
   "nbconvert_exporter": "python",
   "pygments_lexer": "ipython3",
   "version": "3.8.5"
  }
 },
 "nbformat": 4,
 "nbformat_minor": 5
}
