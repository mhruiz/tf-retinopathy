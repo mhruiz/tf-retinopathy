{
 "cells": [
  {
   "cell_type": "code",
   "execution_count": 1,
   "id": "restricted-actress",
   "metadata": {},
   "outputs": [],
   "source": [
    "import lib.custom_callbacks as callbacks\n",
    "import lib.custom_metrics as metrics\n",
    "import lib.evaluation as ev\n",
    "import lib.plotting as plot\n",
    "import lib.models as models\n",
    "import lib.dataset as dt\n",
    "\n",
    "import matplotlib.pyplot as plt\n",
    "import imgaug.augmenters as iaa\n",
    "import tensorflow as tf\n",
    "import pandas as pd\n",
    "import numpy as np\n",
    "import datetime\n",
    "import os\n",
    "\n",
    "from importlib import reload"
   ]
  },
  {
   "cell_type": "code",
   "execution_count": 2,
   "id": "charged-paris",
   "metadata": {},
   "outputs": [
    {
     "name": "stdout",
     "output_type": "stream",
     "text": [
      "1 Physical GPUs, 1 Logical GPU\n"
     ]
    }
   ],
   "source": [
    "gpus = tf.config.experimental.list_physical_devices('GPU')\n",
    "if gpus:\n",
    "  # Restrict TensorFlow to only use the first GPU\n",
    "  try:\n",
    "    tf.config.experimental.set_visible_devices(gpus[0], 'GPU')\n",
    "    logical_gpus = tf.config.experimental.list_logical_devices('GPU')\n",
    "    print(len(gpus), \"Physical GPUs,\", len(logical_gpus), \"Logical GPU\")\n",
    "  except RuntimeError as e:\n",
    "    # Visible devices must be set before GPUs have been initialized\n",
    "    print(e)"
   ]
  },
  {
   "cell_type": "code",
   "execution_count": 3,
   "id": "designed-territory",
   "metadata": {},
   "outputs": [],
   "source": [
    "DR_LEVELS_PER_CLASS = [[0], [1,2,3,4]]\n",
    "\n",
    "IMAGE_SIZE = (540, 540, 3)\n",
    "\n",
    "# Specify dataset files\n",
    "TRAIN_FILE = 'DATASET-TRAIN-80.csv'\n",
    "VALIDATION_FILE = 'DATASET-VALIDATION-10_BALANCED.csv'\n",
    "\n",
    "ONE_HOT_FORMAT = False\n",
    "\n",
    "TRAINING_BATCH_SIZE = 12\n",
    "TRAINING_DATA_AUG = True\n",
    "TRAINING_BALANCED = False\n",
    "TRAINING_PREFETCH = 20\n",
    "TRAINING_TAKE_SIZE = None\n",
    "\n",
    "VALIDATION_BATCH_SIZE = 12\n",
    "VALIDATION_DATA_AUG = False\n",
    "VALIDATION_BALANCED = False\n",
    "VALIDATION_PREFETCH = 1\n",
    "VALIDATION_TAKE_SIZE = None"
   ]
  },
  {
   "cell_type": "code",
   "execution_count": 4,
   "id": "breeding-custom",
   "metadata": {},
   "outputs": [
    {
     "name": "stdout",
     "output_type": "stream",
     "text": [
      "Se aplica data aug\n"
     ]
    }
   ],
   "source": [
    "reload(dt)\n",
    "\n",
    "'''\n",
    "def create_dataset_new(csv_file, \n",
    "                        list_list_classes,\n",
    "                        balanced=False,\n",
    "                        apply_data_augmentation=False,\n",
    "                        batch_size=1, \n",
    "                        prefetch_buffer=None, \n",
    "                        shuffle=False,\n",
    "                        size=None):\n",
    "'''\n",
    "\n",
    "train_dataset, y_true_train = dt.create_dataset_new(TRAIN_FILE, \n",
    "                                                    DR_LEVELS_PER_CLASS, \n",
    "                                                    balanced=TRAINING_BALANCED, \n",
    "                                                    apply_data_augmentation=TRAINING_DATA_AUG, \n",
    "                                                    batch_size=TRAINING_BATCH_SIZE, \n",
    "                                                    prefetch_buffer=TRAINING_PREFETCH, \n",
    "                                                    one_hot_format=ONE_HOT_FORMAT,\n",
    "                                                    size=TRAINING_TAKE_SIZE)\n",
    "\n",
    "val_dataset, y_true_val = dt.create_dataset_new(VALIDATION_FILE, \n",
    "                                                DR_LEVELS_PER_CLASS, \n",
    "                                                balanced=VALIDATION_BALANCED,\n",
    "                                                apply_data_augmentation=VALIDATION_DATA_AUG,\n",
    "                                                batch_size=VALIDATION_BATCH_SIZE,\n",
    "                                                prefetch_buffer=VALIDATION_PREFETCH, \n",
    "                                                is_validation=True,\n",
    "                                                one_hot_format=ONE_HOT_FORMAT,\n",
    "                                                size=VALIDATION_TAKE_SIZE)"
   ]
  },
  {
   "cell_type": "markdown",
   "id": "cross-antique",
   "metadata": {},
   "source": [
    "## Class weights"
   ]
  },
  {
   "cell_type": "code",
   "execution_count": 6,
   "id": "sunrise-aquarium",
   "metadata": {},
   "outputs": [
    {
     "name": "stdout",
     "output_type": "stream",
     "text": [
      "{0: 0.6740610690645092, 1: 1.9362775165269543}\n"
     ]
    }
   ],
   "source": [
    "from sklearn.utils.class_weight import compute_class_weight\n",
    "\n",
    "class_weights = compute_class_weight('balanced', classes=np.unique(y_true_train[:,0]), y=y_true_train[:,0])\n",
    "d_class_weights = dict(enumerate(class_weights))\n",
    "print(d_class_weights)"
   ]
  },
  {
   "cell_type": "code",
   "execution_count": 5,
   "id": "complicated-scientist",
   "metadata": {},
   "outputs": [
    {
     "name": "stdout",
     "output_type": "stream",
     "text": [
      "Model: \"sequential\"\n",
      "_________________________________________________________________\n",
      "Layer (type)                 Output Shape              Param #   \n",
      "=================================================================\n",
      "inception_resnet_v2 (Functio (None, 1536)              54336736  \n",
      "_________________________________________________________________\n",
      "flatten (Flatten)            (None, 1536)              0         \n",
      "_________________________________________________________________\n",
      "dense (Dense)                (None, 2)                 3074      \n",
      "=================================================================\n",
      "Total params: 54,339,810\n",
      "Trainable params: 54,279,266\n",
      "Non-trainable params: 60,544\n",
      "_________________________________________________________________\n"
     ]
    }
   ],
   "source": [
    "# Define model\n",
    "reload(models)\n",
    "\n",
    "model = models.inceptionResNetV2.get_model(input_shape=(540,540,3), num_outputs=len(DR_LEVELS_PER_CLASS))\n",
    "\n",
    "model.summary()"
   ]
  },
  {
   "cell_type": "code",
   "execution_count": 7,
   "id": "accepting-kentucky",
   "metadata": {},
   "outputs": [
    {
     "name": "stdout",
     "output_type": "stream",
     "text": [
      "Model loaded\n"
     ]
    }
   ],
   "source": [
    "# Load weights if they were saved\n",
    "base_path = 'saved_weights/inceptionResNetV2/SGD_2/'\n",
    "\n",
    "# Pre-trained model\n",
    "model_path = 'saved_weights/inceptionResNetV2/SGD/bestAUC_DRlvls_0_1234.h5'\n",
    "\n",
    "if not os.path.exists(base_path):\n",
    "    os.mkdir(base_path)\n",
    "\n",
    "if os.path.exists(model_path):\n",
    "    model.load_weights(model_path)\n",
    "    print('Model loaded')"
   ]
  },
  {
   "cell_type": "code",
   "execution_count": 8,
   "id": "documented-scottish",
   "metadata": {},
   "outputs": [],
   "source": [
    "# Save ground truth for validation dataset\n",
    "np.save(base_path + 'ground_truth_val.npy', y_true_val)"
   ]
  },
  {
   "cell_type": "code",
   "execution_count": 9,
   "id": "complicated-report",
   "metadata": {},
   "outputs": [
    {
     "name": "stdout",
     "output_type": "stream",
     "text": [
      "['0', '1234']\n"
     ]
    }
   ],
   "source": [
    "# Compile model\n",
    "reload(metrics)\n",
    "\n",
    "classes_names = [''.join(list(map(str,class_))) for class_ in DR_LEVELS_PER_CLASS]\n",
    "\n",
    "print(classes_names)\n",
    "\n",
    "metric_AUC_0_1234 = metrics.Wrapper_AUC(classes=[1], original_dr_lvls=classes_names, is_one_hot=ONE_HOT_FORMAT)\n",
    "\n",
    "metric_Sp_at_95_Sens_0_1234 = metrics.Wrapper_SpecificityAtSensitivity(sensitivity=0.95, classes=[1], original_dr_lvls=classes_names, is_one_hot=ONE_HOT_FORMAT)"
   ]
  },
  {
   "cell_type": "code",
   "execution_count": 10,
   "id": "reasonable-washer",
   "metadata": {},
   "outputs": [],
   "source": [
    "cbacks = [tf.keras.callbacks.ModelCheckpoint(base_path + 'best_' + metric_AUC_0_1234.get_custom_name() + '.h5', \n",
    "                                             monitor='val_' + metric_AUC_0_1234.get_custom_name(),\n",
    "                                             save_best_only=True,\n",
    "                                             save_weights_only=True,\n",
    "                                             mode='max'),\n",
    "\n",
    "          tf.keras.callbacks.ModelCheckpoint(base_path + 'best_' + metric_Sp_at_95_Sens_0_1234.get_custom_name() + '.h5', \n",
    "                                             monitor='val_' + metric_Sp_at_95_Sens_0_1234.get_custom_name(),\n",
    "                                             save_best_only=True,\n",
    "                                             save_weights_only=True,\n",
    "                                             mode='max'),\n",
    "          \n",
    "          tf.keras.callbacks.ModelCheckpoint(base_path + 'best_accuracy.h5',\n",
    "                                             monitor='val_accuracy',\n",
    "                                             save_best_only=True,\n",
    "                                             save_weights_only=True,\n",
    "                                             mode='max'),\n",
    "\n",
    "          tf.keras.callbacks.ModelCheckpoint(base_path + 'best_loss.h5',\n",
    "                                             monitor='val_loss',\n",
    "                                             save_best_only=True,\n",
    "                                             save_weights_only=True,\n",
    "                                             mode='min'),\n",
    "          \n",
    "          callbacks.Save_Training_Evolution(base_path + 'training_evolution.csv'),\n",
    "          \n",
    "          # learning rate scheduler\n",
    "          tf.keras.callbacks.LearningRateScheduler(callbacks.create_scheduler_function(10, 0.9))\n",
    "]"
   ]
  },
  {
   "cell_type": "code",
   "execution_count": 11,
   "id": "cheap-separate",
   "metadata": {
    "collapsed": true,
    "jupyter": {
     "outputs_hidden": true
    }
   },
   "outputs": [
    {
     "name": "stdout",
     "output_type": "stream",
     "text": [
      "Epoch 1/2000\n",
      "4736/4736 [==============================] - 2856s 603ms/step - loss: 0.3815 - accuracy: 0.8693 - AUC_DRlvls_0_1234: 0.8995 - Sp_at_95_sens_DRlvls_0_1234: 0.3972 - RunningValidation: 0.0000e+00 - val_loss: 0.3684 - val_accuracy: 0.8432 - val_AUC_DRlvls_0_1234: 0.9091 - val_Sp_at_95_sens_DRlvls_0_1234: 0.4458 - val_RunningValidation: 1.0000\n",
      "Epoch 2/2000\n",
      "4736/4736 [==============================] - 2855s 603ms/step - loss: 0.3847 - accuracy: 0.8663 - AUC_DRlvls_0_1234: 0.8972 - Sp_at_95_sens_DRlvls_0_1234: 0.3933 - RunningValidation: 0.0000e+00 - val_loss: 0.3624 - val_accuracy: 0.8471 - val_AUC_DRlvls_0_1234: 0.9024 - val_Sp_at_95_sens_DRlvls_0_1234: 0.3663 - val_RunningValidation: 1.0000\n",
      "Epoch 3/2000\n",
      "4736/4736 [==============================] - 2861s 604ms/step - loss: 0.3868 - accuracy: 0.8658 - AUC_DRlvls_0_1234: 0.8964 - Sp_at_95_sens_DRlvls_0_1234: 0.3803 - RunningValidation: 0.0000e+00 - val_loss: 0.3882 - val_accuracy: 0.8463 - val_AUC_DRlvls_0_1234: 0.9011 - val_Sp_at_95_sens_DRlvls_0_1234: 0.3585 - val_RunningValidation: 1.0000\n",
      "Epoch 4/2000\n",
      "4736/4736 [==============================] - 2862s 604ms/step - loss: 0.3849 - accuracy: 0.8650 - AUC_DRlvls_0_1234: 0.8981 - Sp_at_95_sens_DRlvls_0_1234: 0.4033 - RunningValidation: 0.0000e+00 - val_loss: 0.4386 - val_accuracy: 0.8407 - val_AUC_DRlvls_0_1234: 0.9079 - val_Sp_at_95_sens_DRlvls_0_1234: 0.3952 - val_RunningValidation: 1.0000\n",
      "Epoch 5/2000\n",
      "4736/4736 [==============================] - 2864s 605ms/step - loss: 0.3852 - accuracy: 0.8645 - AUC_DRlvls_0_1234: 0.8988 - Sp_at_95_sens_DRlvls_0_1234: 0.4050 - RunningValidation: 0.0000e+00 - val_loss: 0.3698 - val_accuracy: 0.8457 - val_AUC_DRlvls_0_1234: 0.9053 - val_Sp_at_95_sens_DRlvls_0_1234: 0.4113 - val_RunningValidation: 1.0000\n",
      "Epoch 6/2000\n",
      "4736/4736 [==============================] - 2862s 604ms/step - loss: 0.3888 - accuracy: 0.8622 - AUC_DRlvls_0_1234: 0.8972 - Sp_at_95_sens_DRlvls_0_1234: 0.3919 - RunningValidation: 0.0000e+00 - val_loss: 0.4991 - val_accuracy: 0.8230 - val_AUC_DRlvls_0_1234: 0.9021 - val_Sp_at_95_sens_DRlvls_0_1234: 0.4458 - val_RunningValidation: 1.0000\n",
      "Epoch 7/2000\n",
      "4736/4736 [==============================] - 2863s 604ms/step - loss: 0.3892 - accuracy: 0.8637 - AUC_DRlvls_0_1234: 0.8968 - Sp_at_95_sens_DRlvls_0_1234: 0.3854 - RunningValidation: 0.0000e+00 - val_loss: 0.3788 - val_accuracy: 0.8430 - val_AUC_DRlvls_0_1234: 0.9055 - val_Sp_at_95_sens_DRlvls_0_1234: 0.4013 - val_RunningValidation: 1.0000\n",
      "Epoch 8/2000\n",
      "4736/4736 [==============================] - 2862s 604ms/step - loss: 0.3966 - accuracy: 0.8570 - AUC_DRlvls_0_1234: 0.8945 - Sp_at_95_sens_DRlvls_0_1234: 0.3797 - RunningValidation: 0.0000e+00 - val_loss: 0.3839 - val_accuracy: 0.8396 - val_AUC_DRlvls_0_1234: 0.9002 - val_Sp_at_95_sens_DRlvls_0_1234: 0.3769 - val_RunningValidation: 1.0000\n",
      "Epoch 9/2000\n",
      "4736/4736 [==============================] - 2862s 604ms/step - loss: 0.3990 - accuracy: 0.8576 - AUC_DRlvls_0_1234: 0.8933 - Sp_at_95_sens_DRlvls_0_1234: 0.3852 - RunningValidation: 0.0000e+00 - val_loss: 0.3765 - val_accuracy: 0.8463 - val_AUC_DRlvls_0_1234: 0.9053 - val_Sp_at_95_sens_DRlvls_0_1234: 0.3963 - val_RunningValidation: 1.0000\n",
      "Epoch 10/2000\n",
      "4736/4736 [==============================] - 2867s 605ms/step - loss: 0.4003 - accuracy: 0.8567 - AUC_DRlvls_0_1234: 0.8926 - Sp_at_95_sens_DRlvls_0_1234: 0.3788 - RunningValidation: 0.0000e+00 - val_loss: 0.4828 - val_accuracy: 0.8352 - val_AUC_DRlvls_0_1234: 0.8998 - val_Sp_at_95_sens_DRlvls_0_1234: 0.3791 - val_RunningValidation: 1.0000\n",
      "Epoch 0010 Learning rate reduced to: 0.0009000000427477062\n",
      "Epoch 11/2000\n",
      "4736/4736 [==============================] - 2867s 605ms/step - loss: 0.3973 - accuracy: 0.8590 - AUC_DRlvls_0_1234: 0.8939 - Sp_at_95_sens_DRlvls_0_1234: 0.3862 - RunningValidation: 0.0000e+00 - val_loss: 0.3745 - val_accuracy: 0.8399 - val_AUC_DRlvls_0_1234: 0.9032 - val_Sp_at_95_sens_DRlvls_0_1234: 0.4152 - val_RunningValidation: 1.0000\n",
      "Epoch 12/2000\n",
      "4736/4736 [==============================] - 2869s 606ms/step - loss: 0.3910 - accuracy: 0.8606 - AUC_DRlvls_0_1234: 0.8978 - Sp_at_95_sens_DRlvls_0_1234: 0.4183 - RunningValidation: 0.0000e+00 - val_loss: 0.4661 - val_accuracy: 0.8191 - val_AUC_DRlvls_0_1234: 0.8940 - val_Sp_at_95_sens_DRlvls_0_1234: 0.3435 - val_RunningValidation: 1.0000\n",
      "Epoch 13/2000\n",
      "4736/4736 [==============================] - 2868s 606ms/step - loss: 0.3946 - accuracy: 0.8601 - AUC_DRlvls_0_1234: 0.8962 - Sp_at_95_sens_DRlvls_0_1234: 0.4031 - RunningValidation: 0.0000e+00 - val_loss: 0.3976 - val_accuracy: 0.8282 - val_AUC_DRlvls_0_1234: 0.8897 - val_Sp_at_95_sens_DRlvls_0_1234: 0.3319 - val_RunningValidation: 1.0000\n",
      "Epoch 14/2000\n",
      "4736/4736 [==============================] - 2873s 607ms/step - loss: 0.4001 - accuracy: 0.8578 - AUC_DRlvls_0_1234: 0.8942 - Sp_at_95_sens_DRlvls_0_1234: 0.3857 - RunningValidation: 0.0000e+00 - val_loss: 0.4249 - val_accuracy: 0.8246 - val_AUC_DRlvls_0_1234: 0.8917 - val_Sp_at_95_sens_DRlvls_0_1234: 0.3758 - val_RunningValidation: 1.0000\n",
      "Epoch 15/2000\n",
      "4736/4736 [==============================] - 2875s 607ms/step - loss: 0.4066 - accuracy: 0.8567 - AUC_DRlvls_0_1234: 0.8913 - Sp_at_95_sens_DRlvls_0_1234: 0.3760 - RunningValidation: 0.0000e+00 - val_loss: 0.4136 - val_accuracy: 0.8257 - val_AUC_DRlvls_0_1234: 0.8887 - val_Sp_at_95_sens_DRlvls_0_1234: 0.3385 - val_RunningValidation: 1.0000\n",
      "Epoch 16/2000\n",
      "4736/4736 [==============================] - 2878s 608ms/step - loss: 0.4063 - accuracy: 0.8577 - AUC_DRlvls_0_1234: 0.8915 - Sp_at_95_sens_DRlvls_0_1234: 0.3563 - RunningValidation: 0.0000e+00 - val_loss: 0.3975 - val_accuracy: 0.8366 - val_AUC_DRlvls_0_1234: 0.9037 - val_Sp_at_95_sens_DRlvls_0_1234: 0.3952 - val_RunningValidation: 1.0000\n",
      "Epoch 17/2000\n",
      "4736/4736 [==============================] - 2880s 608ms/step - loss: 0.4052 - accuracy: 0.8577 - AUC_DRlvls_0_1234: 0.8925 - Sp_at_95_sens_DRlvls_0_1234: 0.3768 - RunningValidation: 0.0000e+00 - val_loss: 0.3766 - val_accuracy: 0.8410 - val_AUC_DRlvls_0_1234: 0.9016 - val_Sp_at_95_sens_DRlvls_0_1234: 0.4036 - val_RunningValidation: 1.0000\n",
      "Epoch 18/2000\n",
      "4736/4736 [==============================] - 2883s 609ms/step - loss: 0.4056 - accuracy: 0.8574 - AUC_DRlvls_0_1234: 0.8922 - Sp_at_95_sens_DRlvls_0_1234: 0.3724 - RunningValidation: 0.0000e+00 - val_loss: 0.5220 - val_accuracy: 0.7343 - val_AUC_DRlvls_0_1234: 0.8928 - val_Sp_at_95_sens_DRlvls_0_1234: 0.3552 - val_RunningValidation: 1.0000\n",
      "Epoch 19/2000\n",
      "4736/4736 [==============================] - 2895s 611ms/step - loss: 0.4061 - accuracy: 0.8570 - AUC_DRlvls_0_1234: 0.8924 - Sp_at_95_sens_DRlvls_0_1234: 0.3732 - RunningValidation: 0.0000e+00 - val_loss: 0.4288 - val_accuracy: 0.8424 - val_AUC_DRlvls_0_1234: 0.8991 - val_Sp_at_95_sens_DRlvls_0_1234: 0.3924 - val_RunningValidation: 1.0000\n",
      "Epoch 20/2000\n",
      "4736/4736 [==============================] - 2890s 610ms/step - loss: 0.4026 - accuracy: 0.8585 - AUC_DRlvls_0_1234: 0.8949 - Sp_at_95_sens_DRlvls_0_1234: 0.4007 - RunningValidation: 0.0000e+00 - val_loss: 0.4111 - val_accuracy: 0.8471 - val_AUC_DRlvls_0_1234: 0.8995 - val_Sp_at_95_sens_DRlvls_0_1234: 0.3469 - val_RunningValidation: 1.0000\n",
      "Epoch 0020 Learning rate reduced to: 0.0008100000384729356\n",
      "Epoch 21/2000\n",
      "4736/4736 [==============================] - 2895s 611ms/step - loss: 0.3964 - accuracy: 0.8587 - AUC_DRlvls_0_1234: 0.8968 - Sp_at_95_sens_DRlvls_0_1234: 0.4078 - RunningValidation: 0.0000e+00 - val_loss: 0.4095 - val_accuracy: 0.8335 - val_AUC_DRlvls_0_1234: 0.8944 - val_Sp_at_95_sens_DRlvls_0_1234: 0.3769 - val_RunningValidation: 1.0000\n",
      "Epoch 22/2000\n",
      "4736/4736 [==============================] - 2896s 611ms/step - loss: 0.3993 - accuracy: 0.8590 - AUC_DRlvls_0_1234: 0.8954 - Sp_at_95_sens_DRlvls_0_1234: 0.3764 - RunningValidation: 0.0000e+00 - val_loss: 0.6645 - val_accuracy: 0.7696 - val_AUC_DRlvls_0_1234: 0.8858 - val_Sp_at_95_sens_DRlvls_0_1234: 0.3369 - val_RunningValidation: 1.0000\n",
      "Epoch 23/2000\n",
      "4736/4736 [==============================] - 2902s 613ms/step - loss: 0.4036 - accuracy: 0.8578 - AUC_DRlvls_0_1234: 0.8930 - Sp_at_95_sens_DRlvls_0_1234: 0.3783 - RunningValidation: 0.0000e+00 - val_loss: 0.4061 - val_accuracy: 0.8321 - val_AUC_DRlvls_0_1234: 0.9002 - val_Sp_at_95_sens_DRlvls_0_1234: 0.4002 - val_RunningValidation: 1.0000\n",
      "Epoch 24/2000\n",
      "4736/4736 [==============================] - 2921s 617ms/step - loss: 0.4070 - accuracy: 0.8539 - AUC_DRlvls_0_1234: 0.8923 - Sp_at_95_sens_DRlvls_0_1234: 0.3904 - RunningValidation: 0.0000e+00 - val_loss: 0.4799 - val_accuracy: 0.8210 - val_AUC_DRlvls_0_1234: 0.8719 - val_Sp_at_95_sens_DRlvls_0_1234: 0.2084 - val_RunningValidation: 1.0000\n",
      "Epoch 25/2000\n",
      "4736/4736 [==============================] - 2864s 605ms/step - loss: 0.4091 - accuracy: 0.8570 - AUC_DRlvls_0_1234: 0.8890 - Sp_at_95_sens_DRlvls_0_1234: 0.3446 - RunningValidation: 0.0000e+00 - val_loss: 0.3770 - val_accuracy: 0.8357 - val_AUC_DRlvls_0_1234: 0.9016 - val_Sp_at_95_sens_DRlvls_0_1234: 0.3835 - val_RunningValidation: 1.0000\n",
      "Epoch 26/2000\n",
      "4736/4736 [==============================] - 2864s 605ms/step - loss: 0.4057 - accuracy: 0.8563 - AUC_DRlvls_0_1234: 0.8925 - Sp_at_95_sens_DRlvls_0_1234: 0.3862 - RunningValidation: 0.0000e+00 - val_loss: 0.5236 - val_accuracy: 0.8113 - val_AUC_DRlvls_0_1234: 0.8891 - val_Sp_at_95_sens_DRlvls_0_1234: 0.2846 - val_RunningValidation: 1.0000\n",
      "Epoch 27/2000\n",
      "4736/4736 [==============================] - 2928s 618ms/step - loss: 0.4057 - accuracy: 0.8543 - AUC_DRlvls_0_1234: 0.8926 - Sp_at_95_sens_DRlvls_0_1234: 0.3868 - RunningValidation: 0.0000e+00 - val_loss: 0.4019 - val_accuracy: 0.8363 - val_AUC_DRlvls_0_1234: 0.8961 - val_Sp_at_95_sens_DRlvls_0_1234: 0.3791 - val_RunningValidation: 1.0000\n",
      "Epoch 28/2000\n",
      "4736/4736 [==============================] - 2923s 617ms/step - loss: 0.4130 - accuracy: 0.8520 - AUC_DRlvls_0_1234: 0.8887 - Sp_at_95_sens_DRlvls_0_1234: 0.3435 - RunningValidation: 0.0000e+00 - val_loss: 0.4510 - val_accuracy: 0.8330 - val_AUC_DRlvls_0_1234: 0.8970 - val_Sp_at_95_sens_DRlvls_0_1234: 0.3324 - val_RunningValidation: 1.0000\n",
      "Epoch 29/2000\n",
      "4736/4736 [==============================] - 2931s 619ms/step - loss: 0.4163 - accuracy: 0.8500 - AUC_DRlvls_0_1234: 0.8860 - Sp_at_95_sens_DRlvls_0_1234: 0.3552 - RunningValidation: 0.0000e+00 - val_loss: 0.4182 - val_accuracy: 0.8249 - val_AUC_DRlvls_0_1234: 0.8897 - val_Sp_at_95_sens_DRlvls_0_1234: 0.3174 - val_RunningValidation: 1.0000\n",
      "Epoch 30/2000\n",
      "4736/4736 [==============================] - 2952s 623ms/step - loss: 0.4088 - accuracy: 0.8536 - AUC_DRlvls_0_1234: 0.8899 - Sp_at_95_sens_DRlvls_0_1234: 0.3732 - RunningValidation: 0.0000e+00 - val_loss: 0.5172 - val_accuracy: 0.8063 - val_AUC_DRlvls_0_1234: 0.8838 - val_Sp_at_95_sens_DRlvls_0_1234: 0.2763 - val_RunningValidation: 1.0000\n",
      "Epoch 0030 Learning rate reduced to: 0.0007290000503417104\n",
      "Epoch 31/2000\n",
      "4736/4736 [==============================] - 2969s 627ms/step - loss: 0.4027 - accuracy: 0.8543 - AUC_DRlvls_0_1234: 0.8935 - Sp_at_95_sens_DRlvls_0_1234: 0.3788 - RunningValidation: 0.0000e+00 - val_loss: 0.4003 - val_accuracy: 0.8177 - val_AUC_DRlvls_0_1234: 0.8963 - val_Sp_at_95_sens_DRlvls_0_1234: 0.3769 - val_RunningValidation: 1.0000\n",
      "Epoch 32/2000\n",
      "4736/4736 [==============================] - 2985s 630ms/step - loss: 0.4121 - accuracy: 0.8488 - AUC_DRlvls_0_1234: 0.8890 - Sp_at_95_sens_DRlvls_0_1234: 0.3733 - RunningValidation: 0.0000e+00 - val_loss: 0.6049 - val_accuracy: 0.7543 - val_AUC_DRlvls_0_1234: 0.8557 - val_Sp_at_95_sens_DRlvls_0_1234: 0.2418 - val_RunningValidation: 1.0000\n",
      "Epoch 33/2000\n",
      "4736/4736 [==============================] - 3003s 634ms/step - loss: 0.4089 - accuracy: 0.8514 - AUC_DRlvls_0_1234: 0.8911 - Sp_at_95_sens_DRlvls_0_1234: 0.3791 - RunningValidation: 0.0000e+00 - val_loss: 0.4354 - val_accuracy: 0.8202 - val_AUC_DRlvls_0_1234: 0.8826 - val_Sp_at_95_sens_DRlvls_0_1234: 0.2952 - val_RunningValidation: 1.0000\n",
      "Epoch 34/2000\n",
      "4736/4736 [==============================] - 3014s 636ms/step - loss: 0.4183 - accuracy: 0.8479 - AUC_DRlvls_0_1234: 0.8845 - Sp_at_95_sens_DRlvls_0_1234: 0.3542 - RunningValidation: 0.0000e+00 - val_loss: 0.4790 - val_accuracy: 0.8168 - val_AUC_DRlvls_0_1234: 0.8838 - val_Sp_at_95_sens_DRlvls_0_1234: 0.2924 - val_RunningValidation: 1.0000\n",
      "Epoch 35/2000\n",
      "4736/4736 [==============================] - 3021s 638ms/step - loss: 0.4203 - accuracy: 0.8453 - AUC_DRlvls_0_1234: 0.8840 - Sp_at_95_sens_DRlvls_0_1234: 0.3551 - RunningValidation: 0.0000e+00 - val_loss: 0.4436 - val_accuracy: 0.8088 - val_AUC_DRlvls_0_1234: 0.8738 - val_Sp_at_95_sens_DRlvls_0_1234: 0.3107 - val_RunningValidation: 1.0000\n",
      "Epoch 36/2000\n",
      "4736/4736 [==============================] - 3027s 639ms/step - loss: 0.4225 - accuracy: 0.8468 - AUC_DRlvls_0_1234: 0.8840 - Sp_at_95_sens_DRlvls_0_1234: 0.3582 - RunningValidation: 0.0000e+00 - val_loss: 0.5642 - val_accuracy: 0.7921 - val_AUC_DRlvls_0_1234: 0.8826 - val_Sp_at_95_sens_DRlvls_0_1234: 0.2474 - val_RunningValidation: 1.0000\n",
      "Epoch 37/2000\n",
      "4736/4736 [==============================] - 3032s 640ms/step - loss: 0.4192 - accuracy: 0.8479 - AUC_DRlvls_0_1234: 0.8862 - Sp_at_95_sens_DRlvls_0_1234: 0.3592 - RunningValidation: 0.0000e+00 - val_loss: 0.5359 - val_accuracy: 0.8041 - val_AUC_DRlvls_0_1234: 0.8863 - val_Sp_at_95_sens_DRlvls_0_1234: 0.2768 - val_RunningValidation: 1.0000\n",
      "Epoch 38/2000\n",
      "4736/4736 [==============================] - 3049s 644ms/step - loss: 0.4145 - accuracy: 0.8501 - AUC_DRlvls_0_1234: 0.8895 - Sp_at_95_sens_DRlvls_0_1234: 0.3769 - RunningValidation: 0.0000e+00 - val_loss: 0.5622 - val_accuracy: 0.8138 - val_AUC_DRlvls_0_1234: 0.8617 - val_Sp_at_95_sens_DRlvls_0_1234: 0.1901 - val_RunningValidation: 1.0000\n",
      "Epoch 39/2000\n",
      "4736/4736 [==============================] - 3041s 642ms/step - loss: 0.4077 - accuracy: 0.8514 - AUC_DRlvls_0_1234: 0.8927 - Sp_at_95_sens_DRlvls_0_1234: 0.3792 - RunningValidation: 0.0000e+00 - val_loss: 0.4500 - val_accuracy: 0.8396 - val_AUC_DRlvls_0_1234: 0.8959 - val_Sp_at_95_sens_DRlvls_0_1234: 0.3519 - val_RunningValidation: 1.0000\n",
      "Epoch 40/2000\n",
      "4736/4736 [==============================] - 3044s 643ms/step - loss: 0.3981 - accuracy: 0.8570 - AUC_DRlvls_0_1234: 0.8977 - Sp_at_95_sens_DRlvls_0_1234: 0.4130 - RunningValidation: 0.0000e+00 - val_loss: 0.4215 - val_accuracy: 0.8038 - val_AUC_DRlvls_0_1234: 0.8982 - val_Sp_at_95_sens_DRlvls_0_1234: 0.3630 - val_RunningValidation: 1.0000\n",
      "Epoch 0040 Learning rate reduced to: 0.0006561000715009868\n",
      "Epoch 41/2000\n",
      "4736/4736 [==============================] - 3052s 644ms/step - loss: 0.3925 - accuracy: 0.8600 - AUC_DRlvls_0_1234: 0.8987 - Sp_at_95_sens_DRlvls_0_1234: 0.3982 - RunningValidation: 0.0000e+00 - val_loss: 0.4006 - val_accuracy: 0.8257 - val_AUC_DRlvls_0_1234: 0.8940 - val_Sp_at_95_sens_DRlvls_0_1234: 0.3641 - val_RunningValidation: 1.0000\n",
      "Epoch 42/2000\n",
      "4736/4736 [==============================] - 3052s 645ms/step - loss: 0.3947 - accuracy: 0.8566 - AUC_DRlvls_0_1234: 0.8983 - Sp_at_95_sens_DRlvls_0_1234: 0.4034 - RunningValidation: 0.0000e+00 - val_loss: 0.4402 - val_accuracy: 0.8243 - val_AUC_DRlvls_0_1234: 0.8961 - val_Sp_at_95_sens_DRlvls_0_1234: 0.3808 - val_RunningValidation: 1.0000\n",
      "Epoch 43/2000\n",
      "4736/4736 [==============================] - 3072s 649ms/step - loss: 0.3937 - accuracy: 0.8594 - AUC_DRlvls_0_1234: 0.8982 - Sp_at_95_sens_DRlvls_0_1234: 0.3878 - RunningValidation: 0.0000e+00 - val_loss: 0.6354 - val_accuracy: 0.7754 - val_AUC_DRlvls_0_1234: 0.8683 - val_Sp_at_95_sens_DRlvls_0_1234: 0.2190 - val_RunningValidation: 1.0000\n",
      "Epoch 44/2000\n",
      "4736/4736 [==============================] - 3063s 647ms/step - loss: 0.3900 - accuracy: 0.8598 - AUC_DRlvls_0_1234: 0.9010 - Sp_at_95_sens_DRlvls_0_1234: 0.4279 - RunningValidation: 0.0000e+00 - val_loss: 0.4156 - val_accuracy: 0.8382 - val_AUC_DRlvls_0_1234: 0.9011 - val_Sp_at_95_sens_DRlvls_0_1234: 0.3791 - val_RunningValidation: 1.0000\n",
      "Epoch 45/2000\n",
      "4736/4736 [==============================] - 3068s 648ms/step - loss: 0.3951 - accuracy: 0.8590 - AUC_DRlvls_0_1234: 0.8980 - Sp_at_95_sens_DRlvls_0_1234: 0.4013 - RunningValidation: 0.0000e+00 - val_loss: 0.5699 - val_accuracy: 0.8182 - val_AUC_DRlvls_0_1234: 0.8883 - val_Sp_at_95_sens_DRlvls_0_1234: 0.3819 - val_RunningValidation: 1.0000\n",
      "Epoch 46/2000\n",
      "4736/4736 [==============================] - 3073s 649ms/step - loss: 0.3946 - accuracy: 0.8581 - AUC_DRlvls_0_1234: 0.8985 - Sp_at_95_sens_DRlvls_0_1234: 0.4043 - RunningValidation: 0.0000e+00 - val_loss: 0.7816 - val_accuracy: 0.7574 - val_AUC_DRlvls_0_1234: 0.8674 - val_Sp_at_95_sens_DRlvls_0_1234: 0.3457 - val_RunningValidation: 1.0000\n",
      "Epoch 47/2000\n",
      "4736/4736 [==============================] - 3078s 650ms/step - loss: 0.3890 - accuracy: 0.8604 - AUC_DRlvls_0_1234: 0.9016 - Sp_at_95_sens_DRlvls_0_1234: 0.4235 - RunningValidation: 0.0000e+00 - val_loss: 0.4011 - val_accuracy: 0.8477 - val_AUC_DRlvls_0_1234: 0.9073 - val_Sp_at_95_sens_DRlvls_0_1234: 0.3952 - val_RunningValidation: 1.0000\n",
      "Epoch 48/2000\n",
      "4736/4736 [==============================] - 3088s 652ms/step - loss: 0.3904 - accuracy: 0.8593 - AUC_DRlvls_0_1234: 0.8999 - Sp_at_95_sens_DRlvls_0_1234: 0.4058 - RunningValidation: 0.0000e+00 - val_loss: 0.5119 - val_accuracy: 0.8313 - val_AUC_DRlvls_0_1234: 0.8959 - val_Sp_at_95_sens_DRlvls_0_1234: 0.2429 - val_RunningValidation: 1.0000\n",
      "Epoch 49/2000\n",
      "4736/4736 [==============================] - 3093s 653ms/step - loss: 0.3850 - accuracy: 0.8624 - AUC_DRlvls_0_1234: 0.9040 - Sp_at_95_sens_DRlvls_0_1234: 0.4432 - RunningValidation: 0.0000e+00 - val_loss: 0.4019 - val_accuracy: 0.8321 - val_AUC_DRlvls_0_1234: 0.8931 - val_Sp_at_95_sens_DRlvls_0_1234: 0.3580 - val_RunningValidation: 1.0000\n",
      "Epoch 50/2000\n",
      "4736/4736 [==============================] - 3087s 652ms/step - loss: 0.3911 - accuracy: 0.8581 - AUC_DRlvls_0_1234: 0.9007 - Sp_at_95_sens_DRlvls_0_1234: 0.4150 - RunningValidation: 0.0000e+00 - val_loss: 0.5030 - val_accuracy: 0.8277 - val_AUC_DRlvls_0_1234: 0.8936 - val_Sp_at_95_sens_DRlvls_0_1234: 0.3096 - val_RunningValidation: 1.0000\n",
      "Epoch 0050 Learning rate reduced to: 0.0005904900433961303\n",
      "Epoch 51/2000\n",
      "4736/4736 [==============================] - 3090s 652ms/step - loss: 0.3873 - accuracy: 0.8601 - AUC_DRlvls_0_1234: 0.9019 - Sp_at_95_sens_DRlvls_0_1234: 0.4211 - RunningValidation: 0.0000e+00 - val_loss: 0.3960 - val_accuracy: 0.8313 - val_AUC_DRlvls_0_1234: 0.8941 - val_Sp_at_95_sens_DRlvls_0_1234: 0.3608 - val_RunningValidation: 1.0000\n",
      "Epoch 52/2000\n",
      "4736/4736 [==============================] - 3092s 653ms/step - loss: 0.3831 - accuracy: 0.8626 - AUC_DRlvls_0_1234: 0.9039 - Sp_at_95_sens_DRlvls_0_1234: 0.4320 - RunningValidation: 0.0000e+00 - val_loss: 0.5071 - val_accuracy: 0.7493 - val_AUC_DRlvls_0_1234: 0.8956 - val_Sp_at_95_sens_DRlvls_0_1234: 0.3502 - val_RunningValidation: 1.0000\n",
      "Epoch 53/2000\n",
      "4736/4736 [==============================] - 3095s 654ms/step - loss: 0.3926 - accuracy: 0.8576 - AUC_DRlvls_0_1234: 0.9000 - Sp_at_95_sens_DRlvls_0_1234: 0.4175 - RunningValidation: 0.0000e+00 - val_loss: 0.4772 - val_accuracy: 0.8374 - val_AUC_DRlvls_0_1234: 0.9017 - val_Sp_at_95_sens_DRlvls_0_1234: 0.3563 - val_RunningValidation: 1.0000\n",
      "Epoch 54/2000\n",
      "4736/4736 [==============================] - 3097s 654ms/step - loss: 0.3926 - accuracy: 0.8579 - AUC_DRlvls_0_1234: 0.8994 - Sp_at_95_sens_DRlvls_0_1234: 0.4077 - RunningValidation: 0.0000e+00 - val_loss: 0.5024 - val_accuracy: 0.7849 - val_AUC_DRlvls_0_1234: 0.8948 - val_Sp_at_95_sens_DRlvls_0_1234: 0.3591 - val_RunningValidation: 1.0000\n",
      "Epoch 55/2000\n",
      "4736/4736 [==============================] - 3098s 654ms/step - loss: 0.3982 - accuracy: 0.8574 - AUC_DRlvls_0_1234: 0.8971 - Sp_at_95_sens_DRlvls_0_1234: 0.4058 - RunningValidation: 0.0000e+00 - val_loss: 0.4878 - val_accuracy: 0.7543 - val_AUC_DRlvls_0_1234: 0.8848 - val_Sp_at_95_sens_DRlvls_0_1234: 0.3591 - val_RunningValidation: 1.0000\n",
      "Epoch 56/2000\n",
      "4736/4736 [==============================] - 3100s 655ms/step - loss: 0.3969 - accuracy: 0.8571 - AUC_DRlvls_0_1234: 0.8977 - Sp_at_95_sens_DRlvls_0_1234: 0.4029 - RunningValidation: 0.0000e+00 - val_loss: 0.4059 - val_accuracy: 0.8268 - val_AUC_DRlvls_0_1234: 0.8928 - val_Sp_at_95_sens_DRlvls_0_1234: 0.3563 - val_RunningValidation: 1.0000\n",
      "Epoch 57/2000\n",
      "4736/4736 [==============================] - 3101s 655ms/step - loss: 0.3936 - accuracy: 0.8595 - AUC_DRlvls_0_1234: 0.8997 - Sp_at_95_sens_DRlvls_0_1234: 0.4133 - RunningValidation: 0.0000e+00 - val_loss: 0.4952 - val_accuracy: 0.8221 - val_AUC_DRlvls_0_1234: 0.8923 - val_Sp_at_95_sens_DRlvls_0_1234: 0.3319 - val_RunningValidation: 1.0000\n",
      "Epoch 58/2000\n",
      "4736/4736 [==============================] - 3106s 656ms/step - loss: 0.3972 - accuracy: 0.8562 - AUC_DRlvls_0_1234: 0.8989 - Sp_at_95_sens_DRlvls_0_1234: 0.4154 - RunningValidation: 0.0000e+00 - val_loss: 0.5035 - val_accuracy: 0.8316 - val_AUC_DRlvls_0_1234: 0.8915 - val_Sp_at_95_sens_DRlvls_0_1234: 0.3474 - val_RunningValidation: 1.0000\n",
      "Epoch 59/2000\n",
      "4736/4736 [==============================] - 3106s 656ms/step - loss: 0.3957 - accuracy: 0.8557 - AUC_DRlvls_0_1234: 0.8997 - Sp_at_95_sens_DRlvls_0_1234: 0.4149 - RunningValidation: 0.0000e+00 - val_loss: 0.6802 - val_accuracy: 0.7596 - val_AUC_DRlvls_0_1234: 0.8630 - val_Sp_at_95_sens_DRlvls_0_1234: 0.2979 - val_RunningValidation: 1.0000\n",
      "Epoch 60/2000\n",
      "4736/4736 [==============================] - 3106s 656ms/step - loss: 0.4046 - accuracy: 0.8547 - AUC_DRlvls_0_1234: 0.8957 - Sp_at_95_sens_DRlvls_0_1234: 0.3931 - RunningValidation: 0.0000e+00 - val_loss: 0.5940 - val_accuracy: 0.7090 - val_AUC_DRlvls_0_1234: 0.8819 - val_Sp_at_95_sens_DRlvls_0_1234: 0.2952 - val_RunningValidation: 1.0000\n",
      "Epoch 0060 Learning rate reduced to: 0.0005314410547725857\n",
      "Epoch 61/2000\n",
      "4736/4736 [==============================] - 3106s 656ms/step - loss: 0.3938 - accuracy: 0.8582 - AUC_DRlvls_0_1234: 0.9003 - Sp_at_95_sens_DRlvls_0_1234: 0.4042 - RunningValidation: 0.0000e+00 - val_loss: 0.4227 - val_accuracy: 0.8357 - val_AUC_DRlvls_0_1234: 0.8881 - val_Sp_at_95_sens_DRlvls_0_1234: 0.3296 - val_RunningValidation: 1.0000\n",
      "Epoch 62/2000\n",
      "4736/4736 [==============================] - 3106s 656ms/step - loss: 0.4064 - accuracy: 0.8531 - AUC_DRlvls_0_1234: 0.8955 - Sp_at_95_sens_DRlvls_0_1234: 0.3902 - RunningValidation: 0.0000e+00 - val_loss: 0.4234 - val_accuracy: 0.8113 - val_AUC_DRlvls_0_1234: 0.8832 - val_Sp_at_95_sens_DRlvls_0_1234: 0.3252 - val_RunningValidation: 1.0000\n",
      "Epoch 63/2000\n",
      "4736/4736 [==============================] - 3110s 657ms/step - loss: 0.3996 - accuracy: 0.8528 - AUC_DRlvls_0_1234: 0.8995 - Sp_at_95_sens_DRlvls_0_1234: 0.4130 - RunningValidation: 0.0000e+00 - val_loss: 0.5336 - val_accuracy: 0.7501 - val_AUC_DRlvls_0_1234: 0.8867 - val_Sp_at_95_sens_DRlvls_0_1234: 0.3519 - val_RunningValidation: 1.0000\n",
      "Epoch 64/2000\n",
      "4736/4736 [==============================] - 3107s 656ms/step - loss: 0.4103 - accuracy: 0.8511 - AUC_DRlvls_0_1234: 0.8946 - Sp_at_95_sens_DRlvls_0_1234: 0.3957 - RunningValidation: 0.0000e+00 - val_loss: 0.5041 - val_accuracy: 0.8302 - val_AUC_DRlvls_0_1234: 0.8826 - val_Sp_at_95_sens_DRlvls_0_1234: 0.2863 - val_RunningValidation: 1.0000\n",
      "Epoch 65/2000\n",
      "4736/4736 [==============================] - 3107s 656ms/step - loss: 0.4086 - accuracy: 0.8534 - AUC_DRlvls_0_1234: 0.8968 - Sp_at_95_sens_DRlvls_0_1234: 0.4089 - RunningValidation: 0.0000e+00 - val_loss: 0.6281 - val_accuracy: 0.7343 - val_AUC_DRlvls_0_1234: 0.8790 - val_Sp_at_95_sens_DRlvls_0_1234: 0.3569 - val_RunningValidation: 1.0000\n",
      "Epoch 66/2000\n",
      "4736/4736 [==============================] - 3106s 656ms/step - loss: 0.4183 - accuracy: 0.8486 - AUC_DRlvls_0_1234: 0.8918 - Sp_at_95_sens_DRlvls_0_1234: 0.3786 - RunningValidation: 0.0000e+00 - val_loss: 0.4654 - val_accuracy: 0.8196 - val_AUC_DRlvls_0_1234: 0.8803 - val_Sp_at_95_sens_DRlvls_0_1234: 0.3091 - val_RunningValidation: 1.0000\n",
      "Epoch 67/2000\n",
      "4736/4736 [==============================] - 3107s 656ms/step - loss: 0.4240 - accuracy: 0.8456 - AUC_DRlvls_0_1234: 0.8888 - Sp_at_95_sens_DRlvls_0_1234: 0.3728 - RunningValidation: 0.0000e+00 - val_loss: 0.4511 - val_accuracy: 0.8224 - val_AUC_DRlvls_0_1234: 0.8889 - val_Sp_at_95_sens_DRlvls_0_1234: 0.3446 - val_RunningValidation: 1.0000\n",
      "Epoch 68/2000\n",
      "4736/4736 [==============================] - 3106s 656ms/step - loss: 0.4275 - accuracy: 0.8442 - AUC_DRlvls_0_1234: 0.8873 - Sp_at_95_sens_DRlvls_0_1234: 0.3681 - RunningValidation: 0.0000e+00 - val_loss: 0.4395 - val_accuracy: 0.8199 - val_AUC_DRlvls_0_1234: 0.8769 - val_Sp_at_95_sens_DRlvls_0_1234: 0.2963 - val_RunningValidation: 1.0000\n",
      "Epoch 69/2000\n",
      "4736/4736 [==============================] - 3107s 656ms/step - loss: 0.4253 - accuracy: 0.8455 - AUC_DRlvls_0_1234: 0.8881 - Sp_at_95_sens_DRlvls_0_1234: 0.3615 - RunningValidation: 0.0000e+00 - val_loss: 0.4733 - val_accuracy: 0.7621 - val_AUC_DRlvls_0_1234: 0.8757 - val_Sp_at_95_sens_DRlvls_0_1234: 0.2968 - val_RunningValidation: 1.0000\n",
      "Epoch 70/2000\n",
      "4736/4736 [==============================] - 3107s 656ms/step - loss: 0.4335 - accuracy: 0.8417 - AUC_DRlvls_0_1234: 0.8836 - Sp_at_95_sens_DRlvls_0_1234: 0.3542 - RunningValidation: 0.0000e+00 - val_loss: 0.5145 - val_accuracy: 0.8210 - val_AUC_DRlvls_0_1234: 0.8834 - val_Sp_at_95_sens_DRlvls_0_1234: 0.3018 - val_RunningValidation: 1.0000\n",
      "Epoch 0070 Learning rate reduced to: 0.00047829695977270604\n",
      "Epoch 71/2000\n",
      "4736/4736 [==============================] - 3107s 656ms/step - loss: 0.4238 - accuracy: 0.8476 - AUC_DRlvls_0_1234: 0.8880 - Sp_at_95_sens_DRlvls_0_1234: 0.3569 - RunningValidation: 0.0000e+00 - val_loss: 0.4197 - val_accuracy: 0.8330 - val_AUC_DRlvls_0_1234: 0.8924 - val_Sp_at_95_sens_DRlvls_0_1234: 0.3380 - val_RunningValidation: 1.0000\n",
      "Epoch 72/2000\n",
      "4736/4736 [==============================] - 3107s 656ms/step - loss: 0.4239 - accuracy: 0.8451 - AUC_DRlvls_0_1234: 0.8890 - Sp_at_95_sens_DRlvls_0_1234: 0.3668 - RunningValidation: 0.0000e+00 - val_loss: 0.5217 - val_accuracy: 0.8132 - val_AUC_DRlvls_0_1234: 0.8802 - val_Sp_at_95_sens_DRlvls_0_1234: 0.2507 - val_RunningValidation: 1.0000\n",
      "Epoch 73/2000\n",
      "4736/4736 [==============================] - 3107s 656ms/step - loss: 0.4299 - accuracy: 0.8451 - AUC_DRlvls_0_1234: 0.8869 - Sp_at_95_sens_DRlvls_0_1234: 0.3480 - RunningValidation: 0.0000e+00 - val_loss: 0.8387 - val_accuracy: 0.7568 - val_AUC_DRlvls_0_1234: 0.8542 - val_Sp_at_95_sens_DRlvls_0_1234: 0.0000e+00 - val_RunningValidation: 1.0000\n",
      "Epoch 74/2000\n",
      "4736/4736 [==============================] - 3107s 656ms/step - loss: 0.4255 - accuracy: 0.8475 - AUC_DRlvls_0_1234: 0.8880 - Sp_at_95_sens_DRlvls_0_1234: 0.3463 - RunningValidation: 0.0000e+00 - val_loss: 0.4417 - val_accuracy: 0.8249 - val_AUC_DRlvls_0_1234: 0.8801 - val_Sp_at_95_sens_DRlvls_0_1234: 0.3285 - val_RunningValidation: 1.0000\n",
      "Epoch 75/2000\n",
      "4736/4736 [==============================] - 3107s 656ms/step - loss: 0.4288 - accuracy: 0.8441 - AUC_DRlvls_0_1234: 0.8862 - Sp_at_95_sens_DRlvls_0_1234: 0.3590 - RunningValidation: 0.0000e+00 - val_loss: 0.4754 - val_accuracy: 0.7854 - val_AUC_DRlvls_0_1234: 0.8842 - val_Sp_at_95_sens_DRlvls_0_1234: 0.3002 - val_RunningValidation: 1.0000\n",
      "Epoch 76/2000\n",
      "4736/4736 [==============================] - 3107s 656ms/step - loss: 0.4258 - accuracy: 0.8466 - AUC_DRlvls_0_1234: 0.8883 - Sp_at_95_sens_DRlvls_0_1234: 0.3702 - RunningValidation: 0.0000e+00 - val_loss: 0.4349 - val_accuracy: 0.8232 - val_AUC_DRlvls_0_1234: 0.8817 - val_Sp_at_95_sens_DRlvls_0_1234: 0.3274 - val_RunningValidation: 1.0000\n",
      "Epoch 77/2000\n",
      "4736/4736 [==============================] - 3106s 656ms/step - loss: 0.4256 - accuracy: 0.8449 - AUC_DRlvls_0_1234: 0.8874 - Sp_at_95_sens_DRlvls_0_1234: 0.3600 - RunningValidation: 0.0000e+00 - val_loss: 0.4134 - val_accuracy: 0.8299 - val_AUC_DRlvls_0_1234: 0.8864 - val_Sp_at_95_sens_DRlvls_0_1234: 0.2746 - val_RunningValidation: 1.0000\n",
      "Epoch 78/2000\n",
      "4736/4736 [==============================] - 3106s 656ms/step - loss: 0.4267 - accuracy: 0.8459 - AUC_DRlvls_0_1234: 0.8870 - Sp_at_95_sens_DRlvls_0_1234: 0.3716 - RunningValidation: 0.0000e+00 - val_loss: 0.4742 - val_accuracy: 0.8263 - val_AUC_DRlvls_0_1234: 0.8753 - val_Sp_at_95_sens_DRlvls_0_1234: 0.2852 - val_RunningValidation: 1.0000\n",
      "Epoch 79/2000\n",
      "4736/4736 [==============================] - 3106s 656ms/step - loss: 0.4291 - accuracy: 0.8458 - AUC_DRlvls_0_1234: 0.8845 - Sp_at_95_sens_DRlvls_0_1234: 0.3453 - RunningValidation: 0.0000e+00 - val_loss: 0.4228 - val_accuracy: 0.8166 - val_AUC_DRlvls_0_1234: 0.8773 - val_Sp_at_95_sens_DRlvls_0_1234: 0.2852 - val_RunningValidation: 1.0000\n",
      "Epoch 80/2000\n",
      "4736/4736 [==============================] - 3107s 656ms/step - loss: 0.4259 - accuracy: 0.8463 - AUC_DRlvls_0_1234: 0.8881 - Sp_at_95_sens_DRlvls_0_1234: 0.3736 - RunningValidation: 0.0000e+00 - val_loss: 0.4520 - val_accuracy: 0.8232 - val_AUC_DRlvls_0_1234: 0.8829 - val_Sp_at_95_sens_DRlvls_0_1234: 0.3035 - val_RunningValidation: 1.0000\n",
      "Epoch 0080 Learning rate reduced to: 0.0004304672533180565\n",
      "Epoch 81/2000\n",
      "4736/4736 [==============================] - 3107s 656ms/step - loss: 0.4213 - accuracy: 0.8469 - AUC_DRlvls_0_1234: 0.8887 - Sp_at_95_sens_DRlvls_0_1234: 0.3666 - RunningValidation: 0.0000e+00 - val_loss: 0.4279 - val_accuracy: 0.8155 - val_AUC_DRlvls_0_1234: 0.8811 - val_Sp_at_95_sens_DRlvls_0_1234: 0.3146 - val_RunningValidation: 1.0000\n",
      "Epoch 82/2000\n",
      "4736/4736 [==============================] - 3109s 657ms/step - loss: 0.4237 - accuracy: 0.8487 - AUC_DRlvls_0_1234: 0.8880 - Sp_at_95_sens_DRlvls_0_1234: 0.3536 - RunningValidation: 0.0000e+00 - val_loss: 0.4316 - val_accuracy: 0.8216 - val_AUC_DRlvls_0_1234: 0.8784 - val_Sp_at_95_sens_DRlvls_0_1234: 0.2935 - val_RunningValidation: 1.0000\n",
      "Epoch 83/2000\n",
      "4736/4736 [==============================] - 3113s 657ms/step - loss: 0.4219 - accuracy: 0.8494 - AUC_DRlvls_0_1234: 0.8880 - Sp_at_95_sens_DRlvls_0_1234: 0.3487 - RunningValidation: 0.0000e+00 - val_loss: 0.4383 - val_accuracy: 0.8291 - val_AUC_DRlvls_0_1234: 0.8865 - val_Sp_at_95_sens_DRlvls_0_1234: 0.3341 - val_RunningValidation: 1.0000\n",
      "Epoch 84/2000\n",
      "4736/4736 [==============================] - 3056s 645ms/step - loss: 0.4199 - accuracy: 0.8491 - AUC_DRlvls_0_1234: 0.8883 - Sp_at_95_sens_DRlvls_0_1234: 0.3638 - RunningValidation: 0.0000e+00 - val_loss: 0.5673 - val_accuracy: 0.8021 - val_AUC_DRlvls_0_1234: 0.8746 - val_Sp_at_95_sens_DRlvls_0_1234: 0.2696 - val_RunningValidation: 1.0000\n",
      "Epoch 85/2000\n",
      "4736/4736 [==============================] - 3052s 644ms/step - loss: 0.4195 - accuracy: 0.8486 - AUC_DRlvls_0_1234: 0.8895 - Sp_at_95_sens_DRlvls_0_1234: 0.3698 - RunningValidation: 0.0000e+00 - val_loss: 0.5009 - val_accuracy: 0.7596 - val_AUC_DRlvls_0_1234: 0.8881 - val_Sp_at_95_sens_DRlvls_0_1234: 0.3235 - val_RunningValidation: 1.0000\n",
      "Epoch 86/2000\n",
      "4736/4736 [==============================] - 3064s 647ms/step - loss: 0.4228 - accuracy: 0.8467 - AUC_DRlvls_0_1234: 0.8894 - Sp_at_95_sens_DRlvls_0_1234: 0.3630 - RunningValidation: 0.0000e+00 - val_loss: 0.4626 - val_accuracy: 0.8246 - val_AUC_DRlvls_0_1234: 0.8807 - val_Sp_at_95_sens_DRlvls_0_1234: 0.2790 - val_RunningValidation: 1.0000\n",
      "Epoch 87/2000\n",
      "4736/4736 [==============================] - 3075s 649ms/step - loss: 0.4289 - accuracy: 0.8437 - AUC_DRlvls_0_1234: 0.8857 - Sp_at_95_sens_DRlvls_0_1234: 0.3665 - RunningValidation: 0.0000e+00 - val_loss: 0.4280 - val_accuracy: 0.8338 - val_AUC_DRlvls_0_1234: 0.8915 - val_Sp_at_95_sens_DRlvls_0_1234: 0.3057 - val_RunningValidation: 1.0000\n",
      "Epoch 88/2000\n",
      "4736/4736 [==============================] - 3089s 652ms/step - loss: 0.4240 - accuracy: 0.8474 - AUC_DRlvls_0_1234: 0.8865 - Sp_at_95_sens_DRlvls_0_1234: 0.3618 - RunningValidation: 0.0000e+00 - val_loss: 0.3947 - val_accuracy: 0.8371 - val_AUC_DRlvls_0_1234: 0.8951 - val_Sp_at_95_sens_DRlvls_0_1234: 0.3591 - val_RunningValidation: 1.0000\n",
      "Epoch 89/2000\n",
      "4736/4736 [==============================] - 3102s 655ms/step - loss: 0.4267 - accuracy: 0.8441 - AUC_DRlvls_0_1234: 0.8858 - Sp_at_95_sens_DRlvls_0_1234: 0.3443 - RunningValidation: 0.0000e+00 - val_loss: 0.4194 - val_accuracy: 0.8293 - val_AUC_DRlvls_0_1234: 0.8817 - val_Sp_at_95_sens_DRlvls_0_1234: 0.2674 - val_RunningValidation: 1.0000\n",
      "Epoch 90/2000\n",
      "4736/4736 [==============================] - 3101s 655ms/step - loss: 0.4258 - accuracy: 0.8459 - AUC_DRlvls_0_1234: 0.8870 - Sp_at_95_sens_DRlvls_0_1234: 0.3691 - RunningValidation: 0.0000e+00 - val_loss: 0.5636 - val_accuracy: 0.7143 - val_AUC_DRlvls_0_1234: 0.8913 - val_Sp_at_95_sens_DRlvls_0_1234: 0.3519 - val_RunningValidation: 1.0000\n",
      "Epoch 0090 Learning rate reduced to: 0.00038742052274756136\n",
      "Epoch 91/2000\n",
      "4736/4736 [==============================] - 3102s 655ms/step - loss: 0.4207 - accuracy: 0.8501 - AUC_DRlvls_0_1234: 0.8880 - Sp_at_95_sens_DRlvls_0_1234: 0.3465 - RunningValidation: 0.0000e+00 - val_loss: 0.6250 - val_accuracy: 0.7007 - val_AUC_DRlvls_0_1234: 0.8847 - val_Sp_at_95_sens_DRlvls_0_1234: 0.3508 - val_RunningValidation: 1.0000\n",
      "Epoch 92/2000\n",
      "4736/4736 [==============================] - 3102s 655ms/step - loss: 0.4181 - accuracy: 0.8499 - AUC_DRlvls_0_1234: 0.8902 - Sp_at_95_sens_DRlvls_0_1234: 0.3726 - RunningValidation: 0.0000e+00 - val_loss: 0.4196 - val_accuracy: 0.8274 - val_AUC_DRlvls_0_1234: 0.8790 - val_Sp_at_95_sens_DRlvls_0_1234: 0.2896 - val_RunningValidation: 1.0000\n",
      "Epoch 93/2000\n",
      "4736/4736 [==============================] - 3102s 655ms/step - loss: 0.4209 - accuracy: 0.8480 - AUC_DRlvls_0_1234: 0.8890 - Sp_at_95_sens_DRlvls_0_1234: 0.3719 - RunningValidation: 0.0000e+00 - val_loss: 0.4551 - val_accuracy: 0.8221 - val_AUC_DRlvls_0_1234: 0.8858 - val_Sp_at_95_sens_DRlvls_0_1234: 0.3346 - val_RunningValidation: 1.0000\n",
      "Epoch 94/2000\n",
      "4736/4736 [==============================] - 3103s 655ms/step - loss: 0.4235 - accuracy: 0.8478 - AUC_DRlvls_0_1234: 0.8877 - Sp_at_95_sens_DRlvls_0_1234: 0.3654 - RunningValidation: 0.0000e+00 - val_loss: 0.6440 - val_accuracy: 0.7960 - val_AUC_DRlvls_0_1234: 0.8799 - val_Sp_at_95_sens_DRlvls_0_1234: 0.2451 - val_RunningValidation: 1.0000\n",
      "Epoch 95/2000\n",
      "4736/4736 [==============================] - 3103s 655ms/step - loss: 0.4216 - accuracy: 0.8479 - AUC_DRlvls_0_1234: 0.8888 - Sp_at_95_sens_DRlvls_0_1234: 0.3523 - RunningValidation: 0.0000e+00 - val_loss: 0.5701 - val_accuracy: 0.8074 - val_AUC_DRlvls_0_1234: 0.8783 - val_Sp_at_95_sens_DRlvls_0_1234: 0.2084 - val_RunningValidation: 1.0000\n",
      "Epoch 96/2000\n",
      "4736/4736 [==============================] - 3103s 655ms/step - loss: 0.4281 - accuracy: 0.8472 - AUC_DRlvls_0_1234: 0.8861 - Sp_at_95_sens_DRlvls_0_1234: 0.3340 - RunningValidation: 0.0000e+00 - val_loss: 0.4180 - val_accuracy: 0.8143 - val_AUC_DRlvls_0_1234: 0.8960 - val_Sp_at_95_sens_DRlvls_0_1234: 0.3413 - val_RunningValidation: 1.0000\n",
      "Epoch 97/2000\n",
      "4736/4736 [==============================] - 3104s 655ms/step - loss: 0.4282 - accuracy: 0.8445 - AUC_DRlvls_0_1234: 0.8858 - Sp_at_95_sens_DRlvls_0_1234: 0.3625 - RunningValidation: 0.0000e+00 - val_loss: 0.4648 - val_accuracy: 0.7852 - val_AUC_DRlvls_0_1234: 0.8834 - val_Sp_at_95_sens_DRlvls_0_1234: 0.3096 - val_RunningValidation: 1.0000\n",
      "Epoch 98/2000\n",
      "4736/4736 [==============================] - 3105s 656ms/step - loss: 0.4292 - accuracy: 0.8427 - AUC_DRlvls_0_1234: 0.8855 - Sp_at_95_sens_DRlvls_0_1234: 0.3631 - RunningValidation: 0.0000e+00 - val_loss: 0.5016 - val_accuracy: 0.8171 - val_AUC_DRlvls_0_1234: 0.8748 - val_Sp_at_95_sens_DRlvls_0_1234: 0.2218 - val_RunningValidation: 1.0000\n",
      "Epoch 99/2000\n",
      "4736/4736 [==============================] - 3105s 656ms/step - loss: 0.4312 - accuracy: 0.8448 - AUC_DRlvls_0_1234: 0.8848 - Sp_at_95_sens_DRlvls_0_1234: 0.3477 - RunningValidation: 0.0000e+00 - val_loss: 0.4164 - val_accuracy: 0.8394 - val_AUC_DRlvls_0_1234: 0.8891 - val_Sp_at_95_sens_DRlvls_0_1234: 0.3196 - val_RunningValidation: 1.0000\n",
      "Epoch 100/2000\n",
      "4736/4736 [==============================] - 3106s 656ms/step - loss: 0.4297 - accuracy: 0.8427 - AUC_DRlvls_0_1234: 0.8849 - Sp_at_95_sens_DRlvls_0_1234: 0.3462 - RunningValidation: 0.0000e+00 - val_loss: 0.4333 - val_accuracy: 0.8238 - val_AUC_DRlvls_0_1234: 0.8821 - val_Sp_at_95_sens_DRlvls_0_1234: 0.3218 - val_RunningValidation: 1.0000\n",
      "Epoch 0100 Learning rate reduced to: 0.0003486784757114947\n",
      "Epoch 101/2000\n",
      "4736/4736 [==============================] - 3107s 656ms/step - loss: 0.4219 - accuracy: 0.8479 - AUC_DRlvls_0_1234: 0.8898 - Sp_at_95_sens_DRlvls_0_1234: 0.3598 - RunningValidation: 0.0000e+00 - val_loss: 0.4383 - val_accuracy: 0.8293 - val_AUC_DRlvls_0_1234: 0.8860 - val_Sp_at_95_sens_DRlvls_0_1234: 0.3280 - val_RunningValidation: 1.0000\n",
      "Epoch 102/2000\n",
      "4736/4736 [==============================] - 3106s 656ms/step - loss: 0.4251 - accuracy: 0.8472 - AUC_DRlvls_0_1234: 0.8874 - Sp_at_95_sens_DRlvls_0_1234: 0.3552 - RunningValidation: 0.0000e+00 - val_loss: 0.4442 - val_accuracy: 0.7963 - val_AUC_DRlvls_0_1234: 0.8833 - val_Sp_at_95_sens_DRlvls_0_1234: 0.3135 - val_RunningValidation: 1.0000\n",
      "Epoch 103/2000\n",
      "4736/4736 [==============================] - 3106s 656ms/step - loss: 0.4249 - accuracy: 0.8467 - AUC_DRlvls_0_1234: 0.8872 - Sp_at_95_sens_DRlvls_0_1234: 0.3496 - RunningValidation: 0.0000e+00 - val_loss: 0.4296 - val_accuracy: 0.8360 - val_AUC_DRlvls_0_1234: 0.8864 - val_Sp_at_95_sens_DRlvls_0_1234: 0.3029 - val_RunningValidation: 1.0000\n",
      "Epoch 104/2000\n",
      "4736/4736 [==============================] - 3107s 656ms/step - loss: 0.4313 - accuracy: 0.8438 - AUC_DRlvls_0_1234: 0.8852 - Sp_at_95_sens_DRlvls_0_1234: 0.3544 - RunningValidation: 0.0000e+00 - val_loss: 0.4218 - val_accuracy: 0.8321 - val_AUC_DRlvls_0_1234: 0.8874 - val_Sp_at_95_sens_DRlvls_0_1234: 0.2757 - val_RunningValidation: 1.0000\n",
      "Epoch 105/2000\n",
      "4736/4736 [==============================] - 3106s 656ms/step - loss: 0.4302 - accuracy: 0.8460 - AUC_DRlvls_0_1234: 0.8853 - Sp_at_95_sens_DRlvls_0_1234: 0.3532 - RunningValidation: 0.0000e+00 - val_loss: 0.4195 - val_accuracy: 0.8252 - val_AUC_DRlvls_0_1234: 0.8815 - val_Sp_at_95_sens_DRlvls_0_1234: 0.3013 - val_RunningValidation: 1.0000\n",
      "Epoch 106/2000\n",
      "4736/4736 [==============================] - 3106s 656ms/step - loss: 0.4274 - accuracy: 0.8479 - AUC_DRlvls_0_1234: 0.8879 - Sp_at_95_sens_DRlvls_0_1234: 0.3536 - RunningValidation: 0.0000e+00 - val_loss: 0.4375 - val_accuracy: 0.8307 - val_AUC_DRlvls_0_1234: 0.8826 - val_Sp_at_95_sens_DRlvls_0_1234: 0.3263 - val_RunningValidation: 1.0000\n",
      "Epoch 107/2000\n",
      "4736/4736 [==============================] - 3106s 656ms/step - loss: 0.4323 - accuracy: 0.8453 - AUC_DRlvls_0_1234: 0.8841 - Sp_at_95_sens_DRlvls_0_1234: 0.3412 - RunningValidation: 0.0000e+00 - val_loss: 0.4766 - val_accuracy: 0.7760 - val_AUC_DRlvls_0_1234: 0.8766 - val_Sp_at_95_sens_DRlvls_0_1234: 0.2829 - val_RunningValidation: 1.0000\n",
      "Epoch 108/2000\n",
      "4736/4736 [==============================] - 3067s 648ms/step - loss: 0.4282 - accuracy: 0.8466 - AUC_DRlvls_0_1234: 0.8865 - Sp_at_95_sens_DRlvls_0_1234: 0.3423 - RunningValidation: 0.0000e+00 - val_loss: 0.3996 - val_accuracy: 0.8330 - val_AUC_DRlvls_0_1234: 0.8910 - val_Sp_at_95_sens_DRlvls_0_1234: 0.3485 - val_RunningValidation: 1.0000\n",
      "Epoch 109/2000\n",
      "1235/4736 [======>.......................] - ETA: 35:58 - loss: 0.4232 - accuracy: 0.8467 - AUC_DRlvls_0_1234: 0.8903 - Sp_at_95_sens_DRlvls_0_1234: 0.3728 - RunningValidation: 0.0000e+00"
     ]
    },
    {
     "ename": "KeyboardInterrupt",
     "evalue": "",
     "output_type": "error",
     "traceback": [
      "\u001b[0;31m---------------------------------------------------------------------------\u001b[0m",
      "\u001b[0;31mKeyboardInterrupt\u001b[0m                         Traceback (most recent call last)",
      "\u001b[0;32m<ipython-input-11-08f206bf7a46>\u001b[0m in \u001b[0;36m<module>\u001b[0;34m\u001b[0m\n\u001b[1;32m     17\u001b[0m \u001b[0;34m\u001b[0m\u001b[0m\n\u001b[1;32m     18\u001b[0m \u001b[0;31m# history = model.fit(train_dataset.take(50), epochs=num_epochs, validation_data=val_dataset.take(10), verbose=1, callbacks=cbacks, class_weight=d_class_weights)\u001b[0m\u001b[0;34m\u001b[0m\u001b[0;34m\u001b[0m\u001b[0;34m\u001b[0m\u001b[0m\n\u001b[0;32m---> 19\u001b[0;31m \u001b[0mhistory\u001b[0m \u001b[0;34m=\u001b[0m \u001b[0mmodel\u001b[0m\u001b[0;34m.\u001b[0m\u001b[0mfit\u001b[0m\u001b[0;34m(\u001b[0m\u001b[0mtrain_dataset\u001b[0m\u001b[0;34m,\u001b[0m \u001b[0mepochs\u001b[0m\u001b[0;34m=\u001b[0m\u001b[0mnum_epochs\u001b[0m\u001b[0;34m,\u001b[0m \u001b[0mvalidation_data\u001b[0m\u001b[0;34m=\u001b[0m\u001b[0mval_dataset\u001b[0m\u001b[0;34m,\u001b[0m \u001b[0mverbose\u001b[0m\u001b[0;34m=\u001b[0m\u001b[0;36m1\u001b[0m\u001b[0;34m,\u001b[0m \u001b[0mcallbacks\u001b[0m\u001b[0;34m=\u001b[0m\u001b[0mcbacks\u001b[0m\u001b[0;34m,\u001b[0m \u001b[0mclass_weight\u001b[0m\u001b[0;34m=\u001b[0m\u001b[0md_class_weights\u001b[0m\u001b[0;34m)\u001b[0m\u001b[0;34m\u001b[0m\u001b[0;34m\u001b[0m\u001b[0m\n\u001b[0m",
      "\u001b[0;32m~/miguel_herrera/lib/python3.8/site-packages/tensorflow/python/keras/engine/training.py\u001b[0m in \u001b[0;36m_method_wrapper\u001b[0;34m(self, *args, **kwargs)\u001b[0m\n\u001b[1;32m    106\u001b[0m   \u001b[0;32mdef\u001b[0m \u001b[0m_method_wrapper\u001b[0m\u001b[0;34m(\u001b[0m\u001b[0mself\u001b[0m\u001b[0;34m,\u001b[0m \u001b[0;34m*\u001b[0m\u001b[0margs\u001b[0m\u001b[0;34m,\u001b[0m \u001b[0;34m**\u001b[0m\u001b[0mkwargs\u001b[0m\u001b[0;34m)\u001b[0m\u001b[0;34m:\u001b[0m\u001b[0;34m\u001b[0m\u001b[0;34m\u001b[0m\u001b[0m\n\u001b[1;32m    107\u001b[0m     \u001b[0;32mif\u001b[0m \u001b[0;32mnot\u001b[0m \u001b[0mself\u001b[0m\u001b[0;34m.\u001b[0m\u001b[0m_in_multi_worker_mode\u001b[0m\u001b[0;34m(\u001b[0m\u001b[0;34m)\u001b[0m\u001b[0;34m:\u001b[0m  \u001b[0;31m# pylint: disable=protected-access\u001b[0m\u001b[0;34m\u001b[0m\u001b[0;34m\u001b[0m\u001b[0m\n\u001b[0;32m--> 108\u001b[0;31m       \u001b[0;32mreturn\u001b[0m \u001b[0mmethod\u001b[0m\u001b[0;34m(\u001b[0m\u001b[0mself\u001b[0m\u001b[0;34m,\u001b[0m \u001b[0;34m*\u001b[0m\u001b[0margs\u001b[0m\u001b[0;34m,\u001b[0m \u001b[0;34m**\u001b[0m\u001b[0mkwargs\u001b[0m\u001b[0;34m)\u001b[0m\u001b[0;34m\u001b[0m\u001b[0;34m\u001b[0m\u001b[0m\n\u001b[0m\u001b[1;32m    109\u001b[0m \u001b[0;34m\u001b[0m\u001b[0m\n\u001b[1;32m    110\u001b[0m     \u001b[0;31m# Running inside `run_distribute_coordinator` already.\u001b[0m\u001b[0;34m\u001b[0m\u001b[0;34m\u001b[0m\u001b[0;34m\u001b[0m\u001b[0m\n",
      "\u001b[0;32m~/miguel_herrera/lib/python3.8/site-packages/tensorflow/python/keras/engine/training.py\u001b[0m in \u001b[0;36mfit\u001b[0;34m(self, x, y, batch_size, epochs, verbose, callbacks, validation_split, validation_data, shuffle, class_weight, sample_weight, initial_epoch, steps_per_epoch, validation_steps, validation_batch_size, validation_freq, max_queue_size, workers, use_multiprocessing)\u001b[0m\n\u001b[1;32m   1096\u001b[0m                 batch_size=batch_size):\n\u001b[1;32m   1097\u001b[0m               \u001b[0mcallbacks\u001b[0m\u001b[0;34m.\u001b[0m\u001b[0mon_train_batch_begin\u001b[0m\u001b[0;34m(\u001b[0m\u001b[0mstep\u001b[0m\u001b[0;34m)\u001b[0m\u001b[0;34m\u001b[0m\u001b[0;34m\u001b[0m\u001b[0m\n\u001b[0;32m-> 1098\u001b[0;31m               \u001b[0mtmp_logs\u001b[0m \u001b[0;34m=\u001b[0m \u001b[0mtrain_function\u001b[0m\u001b[0;34m(\u001b[0m\u001b[0miterator\u001b[0m\u001b[0;34m)\u001b[0m\u001b[0;34m\u001b[0m\u001b[0;34m\u001b[0m\u001b[0m\n\u001b[0m\u001b[1;32m   1099\u001b[0m               \u001b[0;32mif\u001b[0m \u001b[0mdata_handler\u001b[0m\u001b[0;34m.\u001b[0m\u001b[0mshould_sync\u001b[0m\u001b[0;34m:\u001b[0m\u001b[0;34m\u001b[0m\u001b[0;34m\u001b[0m\u001b[0m\n\u001b[1;32m   1100\u001b[0m                 \u001b[0mcontext\u001b[0m\u001b[0;34m.\u001b[0m\u001b[0masync_wait\u001b[0m\u001b[0;34m(\u001b[0m\u001b[0;34m)\u001b[0m\u001b[0;34m\u001b[0m\u001b[0;34m\u001b[0m\u001b[0m\n",
      "\u001b[0;32m~/miguel_herrera/lib/python3.8/site-packages/tensorflow/python/eager/def_function.py\u001b[0m in \u001b[0;36m__call__\u001b[0;34m(self, *args, **kwds)\u001b[0m\n\u001b[1;32m    778\u001b[0m       \u001b[0;32melse\u001b[0m\u001b[0;34m:\u001b[0m\u001b[0;34m\u001b[0m\u001b[0;34m\u001b[0m\u001b[0m\n\u001b[1;32m    779\u001b[0m         \u001b[0mcompiler\u001b[0m \u001b[0;34m=\u001b[0m \u001b[0;34m\"nonXla\"\u001b[0m\u001b[0;34m\u001b[0m\u001b[0;34m\u001b[0m\u001b[0m\n\u001b[0;32m--> 780\u001b[0;31m         \u001b[0mresult\u001b[0m \u001b[0;34m=\u001b[0m \u001b[0mself\u001b[0m\u001b[0;34m.\u001b[0m\u001b[0m_call\u001b[0m\u001b[0;34m(\u001b[0m\u001b[0;34m*\u001b[0m\u001b[0margs\u001b[0m\u001b[0;34m,\u001b[0m \u001b[0;34m**\u001b[0m\u001b[0mkwds\u001b[0m\u001b[0;34m)\u001b[0m\u001b[0;34m\u001b[0m\u001b[0;34m\u001b[0m\u001b[0m\n\u001b[0m\u001b[1;32m    781\u001b[0m \u001b[0;34m\u001b[0m\u001b[0m\n\u001b[1;32m    782\u001b[0m       \u001b[0mnew_tracing_count\u001b[0m \u001b[0;34m=\u001b[0m \u001b[0mself\u001b[0m\u001b[0;34m.\u001b[0m\u001b[0m_get_tracing_count\u001b[0m\u001b[0;34m(\u001b[0m\u001b[0;34m)\u001b[0m\u001b[0;34m\u001b[0m\u001b[0;34m\u001b[0m\u001b[0m\n",
      "\u001b[0;32m~/miguel_herrera/lib/python3.8/site-packages/tensorflow/python/eager/def_function.py\u001b[0m in \u001b[0;36m_call\u001b[0;34m(self, *args, **kwds)\u001b[0m\n\u001b[1;32m    805\u001b[0m       \u001b[0;31m# In this case we have created variables on the first call, so we run the\u001b[0m\u001b[0;34m\u001b[0m\u001b[0;34m\u001b[0m\u001b[0;34m\u001b[0m\u001b[0m\n\u001b[1;32m    806\u001b[0m       \u001b[0;31m# defunned version which is guaranteed to never create variables.\u001b[0m\u001b[0;34m\u001b[0m\u001b[0;34m\u001b[0m\u001b[0;34m\u001b[0m\u001b[0m\n\u001b[0;32m--> 807\u001b[0;31m       \u001b[0;32mreturn\u001b[0m \u001b[0mself\u001b[0m\u001b[0;34m.\u001b[0m\u001b[0m_stateless_fn\u001b[0m\u001b[0;34m(\u001b[0m\u001b[0;34m*\u001b[0m\u001b[0margs\u001b[0m\u001b[0;34m,\u001b[0m \u001b[0;34m**\u001b[0m\u001b[0mkwds\u001b[0m\u001b[0;34m)\u001b[0m  \u001b[0;31m# pylint: disable=not-callable\u001b[0m\u001b[0;34m\u001b[0m\u001b[0;34m\u001b[0m\u001b[0m\n\u001b[0m\u001b[1;32m    808\u001b[0m     \u001b[0;32melif\u001b[0m \u001b[0mself\u001b[0m\u001b[0;34m.\u001b[0m\u001b[0m_stateful_fn\u001b[0m \u001b[0;32mis\u001b[0m \u001b[0;32mnot\u001b[0m \u001b[0;32mNone\u001b[0m\u001b[0;34m:\u001b[0m\u001b[0;34m\u001b[0m\u001b[0;34m\u001b[0m\u001b[0m\n\u001b[1;32m    809\u001b[0m       \u001b[0;31m# Release the lock early so that multiple threads can perform the call\u001b[0m\u001b[0;34m\u001b[0m\u001b[0;34m\u001b[0m\u001b[0;34m\u001b[0m\u001b[0m\n",
      "\u001b[0;32m~/miguel_herrera/lib/python3.8/site-packages/tensorflow/python/eager/function.py\u001b[0m in \u001b[0;36m__call__\u001b[0;34m(self, *args, **kwargs)\u001b[0m\n\u001b[1;32m   2827\u001b[0m     \u001b[0;32mwith\u001b[0m \u001b[0mself\u001b[0m\u001b[0;34m.\u001b[0m\u001b[0m_lock\u001b[0m\u001b[0;34m:\u001b[0m\u001b[0;34m\u001b[0m\u001b[0;34m\u001b[0m\u001b[0m\n\u001b[1;32m   2828\u001b[0m       \u001b[0mgraph_function\u001b[0m\u001b[0;34m,\u001b[0m \u001b[0margs\u001b[0m\u001b[0;34m,\u001b[0m \u001b[0mkwargs\u001b[0m \u001b[0;34m=\u001b[0m \u001b[0mself\u001b[0m\u001b[0;34m.\u001b[0m\u001b[0m_maybe_define_function\u001b[0m\u001b[0;34m(\u001b[0m\u001b[0margs\u001b[0m\u001b[0;34m,\u001b[0m \u001b[0mkwargs\u001b[0m\u001b[0;34m)\u001b[0m\u001b[0;34m\u001b[0m\u001b[0;34m\u001b[0m\u001b[0m\n\u001b[0;32m-> 2829\u001b[0;31m     \u001b[0;32mreturn\u001b[0m \u001b[0mgraph_function\u001b[0m\u001b[0;34m.\u001b[0m\u001b[0m_filtered_call\u001b[0m\u001b[0;34m(\u001b[0m\u001b[0margs\u001b[0m\u001b[0;34m,\u001b[0m \u001b[0mkwargs\u001b[0m\u001b[0;34m)\u001b[0m  \u001b[0;31m# pylint: disable=protected-access\u001b[0m\u001b[0;34m\u001b[0m\u001b[0;34m\u001b[0m\u001b[0m\n\u001b[0m\u001b[1;32m   2830\u001b[0m \u001b[0;34m\u001b[0m\u001b[0m\n\u001b[1;32m   2831\u001b[0m   \u001b[0;34m@\u001b[0m\u001b[0mproperty\u001b[0m\u001b[0;34m\u001b[0m\u001b[0;34m\u001b[0m\u001b[0m\n",
      "\u001b[0;32m~/miguel_herrera/lib/python3.8/site-packages/tensorflow/python/eager/function.py\u001b[0m in \u001b[0;36m_filtered_call\u001b[0;34m(self, args, kwargs, cancellation_manager)\u001b[0m\n\u001b[1;32m   1841\u001b[0m       \u001b[0;31m`\u001b[0m\u001b[0margs\u001b[0m\u001b[0;31m`\u001b[0m \u001b[0;32mand\u001b[0m\u001b[0;31m \u001b[0m\u001b[0;31m`\u001b[0m\u001b[0mkwargs\u001b[0m\u001b[0;31m`\u001b[0m\u001b[0;34m.\u001b[0m\u001b[0;34m\u001b[0m\u001b[0;34m\u001b[0m\u001b[0m\n\u001b[1;32m   1842\u001b[0m     \"\"\"\n\u001b[0;32m-> 1843\u001b[0;31m     return self._call_flat(\n\u001b[0m\u001b[1;32m   1844\u001b[0m         [t for t in nest.flatten((args, kwargs), expand_composites=True)\n\u001b[1;32m   1845\u001b[0m          if isinstance(t, (ops.Tensor,\n",
      "\u001b[0;32m~/miguel_herrera/lib/python3.8/site-packages/tensorflow/python/eager/function.py\u001b[0m in \u001b[0;36m_call_flat\u001b[0;34m(self, args, captured_inputs, cancellation_manager)\u001b[0m\n\u001b[1;32m   1921\u001b[0m         and executing_eagerly):\n\u001b[1;32m   1922\u001b[0m       \u001b[0;31m# No tape is watching; skip to running the function.\u001b[0m\u001b[0;34m\u001b[0m\u001b[0;34m\u001b[0m\u001b[0;34m\u001b[0m\u001b[0m\n\u001b[0;32m-> 1923\u001b[0;31m       return self._build_call_outputs(self._inference_function.call(\n\u001b[0m\u001b[1;32m   1924\u001b[0m           ctx, args, cancellation_manager=cancellation_manager))\n\u001b[1;32m   1925\u001b[0m     forward_backward = self._select_forward_and_backward_functions(\n",
      "\u001b[0;32m~/miguel_herrera/lib/python3.8/site-packages/tensorflow/python/eager/function.py\u001b[0m in \u001b[0;36mcall\u001b[0;34m(self, ctx, args, cancellation_manager)\u001b[0m\n\u001b[1;32m    543\u001b[0m       \u001b[0;32mwith\u001b[0m \u001b[0m_InterpolateFunctionError\u001b[0m\u001b[0;34m(\u001b[0m\u001b[0mself\u001b[0m\u001b[0;34m)\u001b[0m\u001b[0;34m:\u001b[0m\u001b[0;34m\u001b[0m\u001b[0;34m\u001b[0m\u001b[0m\n\u001b[1;32m    544\u001b[0m         \u001b[0;32mif\u001b[0m \u001b[0mcancellation_manager\u001b[0m \u001b[0;32mis\u001b[0m \u001b[0;32mNone\u001b[0m\u001b[0;34m:\u001b[0m\u001b[0;34m\u001b[0m\u001b[0;34m\u001b[0m\u001b[0m\n\u001b[0;32m--> 545\u001b[0;31m           outputs = execute.execute(\n\u001b[0m\u001b[1;32m    546\u001b[0m               \u001b[0mstr\u001b[0m\u001b[0;34m(\u001b[0m\u001b[0mself\u001b[0m\u001b[0;34m.\u001b[0m\u001b[0msignature\u001b[0m\u001b[0;34m.\u001b[0m\u001b[0mname\u001b[0m\u001b[0;34m)\u001b[0m\u001b[0;34m,\u001b[0m\u001b[0;34m\u001b[0m\u001b[0;34m\u001b[0m\u001b[0m\n\u001b[1;32m    547\u001b[0m               \u001b[0mnum_outputs\u001b[0m\u001b[0;34m=\u001b[0m\u001b[0mself\u001b[0m\u001b[0;34m.\u001b[0m\u001b[0m_num_outputs\u001b[0m\u001b[0;34m,\u001b[0m\u001b[0;34m\u001b[0m\u001b[0;34m\u001b[0m\u001b[0m\n",
      "\u001b[0;32m~/miguel_herrera/lib/python3.8/site-packages/tensorflow/python/eager/execute.py\u001b[0m in \u001b[0;36mquick_execute\u001b[0;34m(op_name, num_outputs, inputs, attrs, ctx, name)\u001b[0m\n\u001b[1;32m     57\u001b[0m   \u001b[0;32mtry\u001b[0m\u001b[0;34m:\u001b[0m\u001b[0;34m\u001b[0m\u001b[0;34m\u001b[0m\u001b[0m\n\u001b[1;32m     58\u001b[0m     \u001b[0mctx\u001b[0m\u001b[0;34m.\u001b[0m\u001b[0mensure_initialized\u001b[0m\u001b[0;34m(\u001b[0m\u001b[0;34m)\u001b[0m\u001b[0;34m\u001b[0m\u001b[0;34m\u001b[0m\u001b[0m\n\u001b[0;32m---> 59\u001b[0;31m     tensors = pywrap_tfe.TFE_Py_Execute(ctx._handle, device_name, op_name,\n\u001b[0m\u001b[1;32m     60\u001b[0m                                         inputs, attrs, num_outputs)\n\u001b[1;32m     61\u001b[0m   \u001b[0;32mexcept\u001b[0m \u001b[0mcore\u001b[0m\u001b[0;34m.\u001b[0m\u001b[0m_NotOkStatusException\u001b[0m \u001b[0;32mas\u001b[0m \u001b[0me\u001b[0m\u001b[0;34m:\u001b[0m\u001b[0;34m\u001b[0m\u001b[0;34m\u001b[0m\u001b[0m\n",
      "\u001b[0;31mKeyboardInterrupt\u001b[0m: "
     ]
    }
   ],
   "source": [
    "reload(metrics)\n",
    "\n",
    "validation_dir = base_path+'validation_outputs/'\n",
    "\n",
    "if not os.path.exists(validation_dir):\n",
    "    os.mkdir(validation_dir)\n",
    "\n",
    "model.compile(loss='sparse_categorical_crossentropy', \n",
    "              optimizer=tf.keras.optimizers.SGD(learning_rate=0.001, momentum=0.9, clipnorm=1.0),\n",
    "              metrics=['accuracy',\n",
    "                       metric_AUC_0_1234, # DR levels: 0 vs 1,2,3,4\n",
    "                       metric_Sp_at_95_Sens_0_1234, # DR levels: 0 vs 1,2,3,4\n",
    "                       metrics.RunningValidation(path=validation_dir, n_columns=len(DR_LEVELS_PER_CLASS)) # THIS METRIC MUST BE INIZIALIZATED BEFORE EVERY TRAINING\n",
    "                      ]) \n",
    "\n",
    "num_epochs = 2000\n",
    "\n",
    "# history = model.fit(train_dataset.take(50), epochs=num_epochs, validation_data=val_dataset.take(10), verbose=1, callbacks=cbacks, class_weight=d_class_weights)\n",
    "history = model.fit(train_dataset, epochs=num_epochs, validation_data=val_dataset, verbose=1, callbacks=cbacks, class_weight=d_class_weights)"
   ]
  },
  {
   "cell_type": "code",
   "execution_count": 12,
   "id": "missing-beads",
   "metadata": {},
   "outputs": [],
   "source": [
    "model.load_weights(base_path + 'best_loss.h5')"
   ]
  },
  {
   "cell_type": "code",
   "execution_count": 13,
   "id": "romantic-conservation",
   "metadata": {},
   "outputs": [],
   "source": [
    "model.compile(loss='sparse_categorical_crossentropy', \n",
    "              optimizer=tf.keras.optimizers.SGD(learning_rate=0.001, momentum=0.9, clipnorm=1.0),\n",
    "              metrics=['accuracy',\n",
    "                       metric_AUC_0_1234, # DR levels: 0 vs 1,2,3,4\n",
    "                       metric_Sp_at_95_Sens_0_1234, # DR levels: 0 vs 1,2,3,4\n",
    "                      ]) "
   ]
  },
  {
   "cell_type": "code",
   "execution_count": 14,
   "id": "rising-terror",
   "metadata": {},
   "outputs": [],
   "source": [
    "validation_pred = model.predict(val_dataset)"
   ]
  },
  {
   "cell_type": "code",
   "execution_count": 18,
   "id": "transsexual-integer",
   "metadata": {},
   "outputs": [
    {
     "name": "stdout",
     "output_type": "stream",
     "text": [
      "300/300 [==============================] - 53s 177ms/step - loss: 0.3624 - accuracy: 0.8471 - AUC_DRlvls_0_1234: 0.9024 - Sp_at_95_sens_DRlvls_0_1234: 0.3663\n"
     ]
    },
    {
     "data": {
      "text/plain": [
       "[0.36237919330596924,\n",
       " 0.8471372723579407,\n",
       " 0.9024046063423157,\n",
       " 0.3663146197795868]"
      ]
     },
     "execution_count": 18,
     "metadata": {},
     "output_type": "execute_result"
    }
   ],
   "source": [
    "model.evaluate(val_dataset)"
   ]
  },
  {
   "cell_type": "code",
   "execution_count": 45,
   "id": "departmental-employer",
   "metadata": {},
   "outputs": [],
   "source": [
    "np.savetxt(base_path + 'val_no_data_aug.txt', validation_pred)"
   ]
  },
  {
   "cell_type": "code",
   "execution_count": 16,
   "id": "interracial-queen",
   "metadata": {},
   "outputs": [
    {
     "name": "stdout",
     "output_type": "stream",
     "text": [
      "(3598, 2)\n"
     ]
    }
   ],
   "source": [
    "print(validation_pred.shape)"
   ]
  },
  {
   "cell_type": "code",
   "execution_count": 19,
   "id": "loose-johnson",
   "metadata": {},
   "outputs": [
    {
     "name": "stdout",
     "output_type": "stream",
     "text": [
      "Se aplica data aug para val\n"
     ]
    }
   ],
   "source": [
    "reload(dt)\n",
    "\n",
    "val_dataset2, y_true_val2 = dt.create_dataset_new(VALIDATION_FILE, \n",
    "                                                DR_LEVELS_PER_CLASS, \n",
    "                                                balanced=VALIDATION_BALANCED,\n",
    "                                                apply_data_augmentation=VALIDATION_DATA_AUG,\n",
    "                                                batch_size=VALIDATION_BATCH_SIZE,\n",
    "                                                prefetch_buffer=VALIDATION_PREFETCH, \n",
    "                                                is_validation=True,\n",
    "                                                one_hot_format=ONE_HOT_FORMAT,\n",
    "                                                size=VALIDATION_TAKE_SIZE,\n",
    "                                                 val_data_aug=True)"
   ]
  },
  {
   "cell_type": "code",
   "execution_count": 20,
   "id": "tribal-attempt",
   "metadata": {},
   "outputs": [
    {
     "name": "stdout",
     "output_type": "stream",
     "text": [
      "300/300 [==============================] - 52s 174ms/step - loss: 0.3958 - accuracy: 0.8243 - AUC_DRlvls_0_1234: 0.8880 - Sp_at_95_sens_DRlvls_0_1234: 0.3307\n"
     ]
    },
    {
     "data": {
      "text/plain": [
       "[0.39580607414245605,\n",
       " 0.8243468403816223,\n",
       " 0.8879876732826233,\n",
       " 0.330739289522171]"
      ]
     },
     "execution_count": 20,
     "metadata": {},
     "output_type": "execute_result"
    }
   ],
   "source": [
    "model.evaluate(val_dataset2)"
   ]
  },
  {
   "cell_type": "code",
   "execution_count": 21,
   "id": "pretty-publication",
   "metadata": {},
   "outputs": [
    {
     "name": "stdout",
     "output_type": "stream",
     "text": [
      "300/300 [==============================] - 53s 175ms/step - loss: 0.3854 - accuracy: 0.8291 - AUC_DRlvls_0_1234: 0.8931 - Sp_at_95_sens_DRlvls_0_1234: 0.4019\n"
     ]
    },
    {
     "data": {
      "text/plain": [
       "[0.3854046165943146,\n",
       " 0.8290717005729675,\n",
       " 0.893149197101593,\n",
       " 0.40188995003700256]"
      ]
     },
     "execution_count": 21,
     "metadata": {},
     "output_type": "execute_result"
    }
   ],
   "source": [
    "model.evaluate(val_dataset2)"
   ]
  },
  {
   "cell_type": "code",
   "execution_count": 22,
   "id": "material-tobacco",
   "metadata": {},
   "outputs": [],
   "source": [
    "validation2_preds = [model.predict(val_dataset2) for i in range(5)]"
   ]
  },
  {
   "cell_type": "code",
   "execution_count": 50,
   "id": "grand-hygiene",
   "metadata": {},
   "outputs": [],
   "source": [
    "for i in range(5):\n",
    "    np.savetxt(base_path + 'val_data_aug_conJigsaw_' + str(i) + '.txt', validation2_preds[i])"
   ]
  },
  {
   "cell_type": "code",
   "execution_count": 52,
   "id": "willing-ethnic",
   "metadata": {},
   "outputs": [
    {
     "data": {
      "text/plain": [
       "(3598, 2)"
      ]
     },
     "execution_count": 52,
     "metadata": {},
     "output_type": "execute_result"
    }
   ],
   "source": [
    "y_true_val.shape"
   ]
  },
  {
   "cell_type": "code",
   "execution_count": 56,
   "id": "welsh-swedish",
   "metadata": {},
   "outputs": [
    {
     "data": {
      "text/plain": [
       "(3598, 2)"
      ]
     },
     "execution_count": 56,
     "metadata": {},
     "output_type": "execute_result"
    }
   ],
   "source": [
    "validation2_preds[0].shape"
   ]
  },
  {
   "cell_type": "code",
   "execution_count": 32,
   "id": "above-grocery",
   "metadata": {},
   "outputs": [
    {
     "name": "stdout",
     "output_type": "stream",
     "text": [
      "Se aplica data aug para val\n",
      "sin jigsaw\n"
     ]
    }
   ],
   "source": [
    "reload(dt) # se cambio en el codigo la llamada al data augmentation\n",
    "\n",
    "val_dataset3, y_true_val3 = dt.create_dataset_new(VALIDATION_FILE, \n",
    "                                                DR_LEVELS_PER_CLASS, \n",
    "                                                balanced=VALIDATION_BALANCED,\n",
    "                                                apply_data_augmentation=VALIDATION_DATA_AUG,\n",
    "                                                batch_size=VALIDATION_BATCH_SIZE,\n",
    "                                                prefetch_buffer=VALIDATION_PREFETCH, \n",
    "                                                is_validation=True,\n",
    "                                                one_hot_format=ONE_HOT_FORMAT,\n",
    "                                                size=VALIDATION_TAKE_SIZE,\n",
    "                                                 val_data_aug=True)"
   ]
  },
  {
   "cell_type": "code",
   "execution_count": 33,
   "id": "cordless-pavilion",
   "metadata": {},
   "outputs": [
    {
     "name": "stdout",
     "output_type": "stream",
     "text": [
      "300/300 [==============================] - 52s 174ms/step - loss: 0.3721 - accuracy: 0.8402 - AUC_DRlvls_0_1234: 0.8987 - Sp_at_95_sens_DRlvls_0_1234: 0.3741\n"
     ]
    },
    {
     "data": {
      "text/plain": [
       "[0.37213635444641113,\n",
       " 0.8401889801025391,\n",
       " 0.898659884929657,\n",
       " 0.37409672141075134]"
      ]
     },
     "execution_count": 33,
     "metadata": {},
     "output_type": "execute_result"
    }
   ],
   "source": [
    "model.evaluate(val_dataset3)"
   ]
  },
  {
   "cell_type": "code",
   "execution_count": 34,
   "id": "fallen-camcorder",
   "metadata": {},
   "outputs": [
    {
     "name": "stdout",
     "output_type": "stream",
     "text": [
      "300/300 [==============================] - 53s 176ms/step - loss: 0.3833 - accuracy: 0.8357 - AUC_DRlvls_0_1234: 0.8934 - Sp_at_95_sens_DRlvls_0_1234: 0.3624\n"
     ]
    },
    {
     "data": {
      "text/plain": [
       "[0.38325247168540955,\n",
       " 0.8357420563697815,\n",
       " 0.8933516144752502,\n",
       " 0.3624235689640045]"
      ]
     },
     "execution_count": 34,
     "metadata": {},
     "output_type": "execute_result"
    }
   ],
   "source": [
    "model.evaluate(val_dataset3)"
   ]
  },
  {
   "cell_type": "code",
   "execution_count": 35,
   "id": "formal-slovenia",
   "metadata": {},
   "outputs": [],
   "source": [
    "validation3_preds = [model.predict(val_dataset3) for i in range(5)]"
   ]
  },
  {
   "cell_type": "code",
   "execution_count": 49,
   "id": "seasonal-sacramento",
   "metadata": {},
   "outputs": [],
   "source": [
    "for i in range(5):\n",
    "    np.savetxt(base_path + 'val_data_aug_sinJigsaw_' + str(i) + '.txt', validation3_preds[i])"
   ]
  }
 ],
 "metadata": {
  "kernelspec": {
   "display_name": "Python 3.8.5 64-bit",
   "language": "python",
   "name": "python38564bit6c4dec2e42734bc298ce0c3bfcfccb75"
  },
  "language_info": {
   "codemirror_mode": {
    "name": "ipython",
    "version": 3
   },
   "file_extension": ".py",
   "mimetype": "text/x-python",
   "name": "python",
   "nbconvert_exporter": "python",
   "pygments_lexer": "ipython3",
   "version": "3.8.5"
  }
 },
 "nbformat": 4,
 "nbformat_minor": 5
}
