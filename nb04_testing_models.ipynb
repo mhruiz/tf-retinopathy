{
 "cells": [
  {
   "cell_type": "markdown",
   "id": "documented-rally",
   "metadata": {},
   "source": [
    "# Main arguments"
   ]
  },
  {
   "cell_type": "markdown",
   "id": "random-review",
   "metadata": {},
   "source": [
    "### Execute always this cell"
   ]
  },
  {
   "cell_type": "code",
   "execution_count": 1,
   "id": "obvious-backup",
   "metadata": {},
   "outputs": [],
   "source": [
    "# There are 2 main models: 1 output --> 0 vs 1234; and 3 outputs --> 0 vs 1 vs 234. Both models are EfficientNetB5 networks\n",
    "\n",
    "# CHANGE THIS VARIABLE TO CHOOSE 0VS1234 MODEL OR 0VS1VS234 MODEL\n",
    "classification_0vs1234 = True\n",
    "# This variable indicates whether the main purpose is to be the 0vs1234 or 01vs234 classification\n",
    "use_01_234 = False \n",
    "# It cannot be True if trained model does not support 3 classes\n",
    "assert not use_01_234 or (use_01_234 and not classification_0vs1234)\n",
    "\n",
    "# Specify how 'ground truth' values are given\n",
    "ONE_HOT_FORMAT = False\n",
    "# False ---> Ground truth arrays have only 2 columns: class (integer number, not one-hot array) - dr level\n",
    "\n",
    "# Reference metric\n",
    "metric_id = 'val_AUC'\n",
    "# metric_id = 'val_Sp_at_95_sens'\n",
    "\n",
    "base_path = 'saved_weights/efficientNetB5/SGD_bal_bs4/' if classification_0vs1234 else 'saved_weights/efficientNetB5/SGD_bal_0-1-234_bs4/'\n",
    "\n",
    "DR_LEVELS_PER_CLASS = [[0], [1,2,3,4]] if classification_0vs1234 else [[0], [1], [2,3,4]]"
   ]
  },
  {
   "cell_type": "markdown",
   "id": "north-wilderness",
   "metadata": {},
   "source": [
    "# Get model preodiction on test dataset\n",
    "\n",
    "Execute these cells the first time and saves the model's predictions."
   ]
  },
  {
   "cell_type": "code",
   "execution_count": 11,
   "id": "southern-eight",
   "metadata": {},
   "outputs": [],
   "source": [
    "# Import necessary modules\n",
    "import lib.models as models\n",
    "import lib.dataset as dt\n",
    "import pandas as pd\n",
    "import numpy as np\n",
    "import os"
   ]
  },
  {
   "cell_type": "code",
   "execution_count": null,
   "id": "musical-grade",
   "metadata": {},
   "outputs": [],
   "source": [
    "%%time\n",
    "\n",
    "# Specify dataset file and its parameters\n",
    "test_files = ['DATASET-TEST-10.csv', 'messidor_test-ALL.csv', 'messidor_2_test-ALL.csv', 'messidor2_abramoff_test-ALL.csv']\n",
    "\n",
    "ONE_HOT_FORMAT = False\n",
    "\n",
    "TEST_BATCH_SIZE = 1\n",
    "TEST_DATA_AUG = False\n",
    "TEST_BALANCED = False\n",
    "TEST_PREFETCH = 1\n",
    "TEST_TAKE_SIZE = None\n",
    "\n",
    "# Define and load model\n",
    "model = models.efficientNetB5.get_model(input_shape=(540,540,3), num_outputs=len(DR_LEVELS_PER_CLASS))\n",
    "\n",
    "with open(base_path + 'model_config.json', 'w') as json_file:\n",
    "    json_file.write(model.to_json())\n",
    "\n",
    "model.summary()\n",
    "\n",
    "# Load weights\n",
    "if use_01_234:\n",
    "    model.load_weights(base_path + 'best_' + metric_id.replace('val_', '') + '_DRlvls_01_234.h5')\n",
    "else:\n",
    "    model.load_weights(base_path + 'best_' + metric_id.replace('val_', '') + '_DRlvls_0_1234.h5')\n",
    "\n",
    "    \n",
    "for TEST_FILE in test_files:\n",
    "\n",
    "    # Load test dataset (validation outputs have been saved when training)\n",
    "    test_dataset, y_true_test = dt.create_dataset_new(TEST_FILE, \n",
    "                                                      DR_LEVELS_PER_CLASS, \n",
    "                                                      balanced=TEST_BALANCED,\n",
    "                                                      apply_data_augmentation=TEST_DATA_AUG,\n",
    "                                                      batch_size=TEST_BATCH_SIZE,\n",
    "                                                      prefetch_buffer=TEST_PREFETCH, \n",
    "                                                      is_validation=True,\n",
    "                                                      one_hot_format=ONE_HOT_FORMAT,\n",
    "                                                      size=TEST_TAKE_SIZE,\n",
    "                                                      check_exists_all_dr_lvls=False)\n",
    "\n",
    "    # Messidor_2_abramoff contains only 2 labels: 0 and 1. There is no classification per DR grade\n",
    "    # 0 - means: 0,1 DR levels\n",
    "    # 1 - means: 2,3,4 DR levels\n",
    "    # So, to measute 'correctly' our model with this dataset, we mark as DR level = 2 every non 0 image\n",
    "    if TEST_FILE == 'messidor2_abramoff_test-ALL.csv':\n",
    "        y_true_test = y_true_test * 2\n",
    "\n",
    "    # Save ground truth for test dataset\n",
    "    np.save(base_path + 'ground_truth_' + TEST_FILE.split('.')[0] + '.npy', y_true_test)\n",
    "\n",
    "    # Get model prediction on test dataset\n",
    "    print('Getting prediction on test dataset')\n",
    "    y_pred_test = model.predict(test_dataset)\n",
    "\n",
    "    # Save model prediction\n",
    "    if use_01_234:\n",
    "        np.save(base_path + 'model_prediction_0-1-234_on_' + TEST_FILE.split('.')[0] + '.npy', y_pred_test)\n",
    "    else:\n",
    "        np.save(base_path + 'model_prediction_on_' + TEST_FILE.split('.')[0] + '.npy', y_pred_test)\n",
    "    \n",
    "print('Output saved. Restart kernel to free GPU memory')"
   ]
  },
  {
   "cell_type": "markdown",
   "id": "subjective-blocking",
   "metadata": {},
   "source": [
    "Once the test prediction is saved, you can restart the kernel to release the GPU memory. The following steps do not require Tensorflow or GPU"
   ]
  },
  {
   "cell_type": "markdown",
   "id": "covered-newspaper",
   "metadata": {},
   "source": [
    "# Evaluate model on validation and test datasets"
   ]
  },
  {
   "cell_type": "code",
   "execution_count": 2,
   "id": "therapeutic-concord",
   "metadata": {},
   "outputs": [],
   "source": [
    "import lib.evaluation as ev\n",
    "import lib.plotting as plot\n",
    "\n",
    "import matplotlib.pyplot as plt\n",
    "import pandas as pd\n",
    "import numpy as np\n",
    "import datetime\n",
    "import os\n",
    "\n",
    "from importlib import reload\n",
    "from IPython.display import display"
   ]
  },
  {
   "cell_type": "code",
   "execution_count": 3,
   "id": "inappropriate-quantum",
   "metadata": {},
   "outputs": [
    {
     "name": "stdout",
     "output_type": "stream",
     "text": [
      "The highest AUC value was obtained on epoch: 37 - So we have to read its output file\n"
     ]
    }
   ],
   "source": [
    "# Get validation output with highest AUC value\n",
    "metrics_evolution = pd.read_csv(base_path + 'training_evolution.csv')\n",
    "\n",
    "if not use_01_234:\n",
    "    max_value_index = np.argmax(metrics_evolution[metric_id+'_DRlvls_0_1234'].tolist())\n",
    "else:\n",
    "    max_value_index = np.argmax(metrics_evolution[metric_id+'_DRlvls_01_234'].tolist())\n",
    "    \n",
    "print('The highest ' + metric_id.replace('val_', '') + ' value was obtained on epoch:', max_value_index, '- So we have to read its output file')\n",
    "# So, we have to get that file from 'validation_outputs' directory"
   ]
  },
  {
   "cell_type": "code",
   "execution_count": 4,
   "id": "ordered-syria",
   "metadata": {},
   "outputs": [],
   "source": [
    "# Get validation and test ground truth and predictions\n",
    "y_pred_val = np.load(base_path + 'validation_outputs/' + 'output_epoch_' + str(max_value_index).zfill(4) + '.npy') # Using the index \n",
    "y_true_val = np.load(base_path + 'ground_truth_val.npy').astype(np.uint8)\n",
    "\n",
    "# Dictionary for test datasets - Key: filename - Value: dataset name\n",
    "test_datasets = {\n",
    "    'DATASET-TEST-10': 'EYEPACS',\n",
    "#     'messidor_test-ALL': 'Messidor Original',\n",
    "    'messidor_2_test-ALL': 'Messidor 2',\n",
    "#     'messidor2_abramoff_test-ALL': 'Messidor 2 Abramoff'\n",
    "}\n",
    "\n",
    "# Load model's predictions and ground truth arrays\n",
    "if not use_01_234:\n",
    "    dict_y_pred_tests = {x: np.load(base_path + 'model_prediction_on_' + x + '.npy') for x in test_datasets}\n",
    "else:\n",
    "    dict_y_pred_tests = {x: np.load(base_path + 'model_prediction_0-1-234_on_' + x + '.npy') for x in test_datasets}\n",
    "dict_y_true_tests = {x: np.load(base_path + 'ground_truth_' + x + '.npy').astype(np.uint8) for x in test_datasets}"
   ]
  },
  {
   "cell_type": "code",
   "execution_count": 5,
   "id": "fancy-regular",
   "metadata": {},
   "outputs": [
    {
     "name": "stdout",
     "output_type": "stream",
     "text": [
      "Validation dataset\n",
      "This dataset has 3598 images\n",
      "\tDR lvl 0 has 1799 images\n",
      "\tDR lvl 1 has 522 images\n",
      "\tDR lvl 2 has 997 images\n",
      "\tDR lvl 3 has 138 images\n",
      "\tDR lvl 4 has 142 images\n"
     ]
    },
    {
     "data": {
      "image/png": "[encoded data removed]",
      "text/plain": [
       "<Figure size 432x288 with 1 Axes>"
      ]
     },
     "metadata": {
      "needs_background": "light"
     },
     "output_type": "display_data"
    },
    {
     "name": "stdout",
     "output_type": "stream",
     "text": [
      "----\n",
      "EYEPACS Test dataset\n",
      "This dataset has 7102 images\n",
      "\tDR lvl 0 has 5223 images\n",
      "\tDR lvl 1 has 505 images\n",
      "\tDR lvl 2 has 1055 images\n",
      "\tDR lvl 3 has 176 images\n",
      "\tDR lvl 4 has 143 images\n"
     ]
    },
    {
     "data": {
      "image/png": "[encoded data removed]",
      "text/plain": [
       "<Figure size 432x288 with 1 Axes>"
      ]
     },
     "metadata": {
      "needs_background": "light"
     },
     "output_type": "display_data"
    },
    {
     "name": "stdout",
     "output_type": "stream",
     "text": [
      "----\n",
      "Messidor 2 Test dataset\n",
      "This dataset has 1744 images\n",
      "\tDR lvl 0 has 1017 images\n",
      "\tDR lvl 1 has 270 images\n",
      "\tDR lvl 2 has 347 images\n",
      "\tDR lvl 3 has 75 images\n",
      "\tDR lvl 4 has 35 images\n"
     ]
    },
    {
     "data": {
      "image/png": "[encoded data removed]",
      "text/plain": [
       "<Figure size 432x288 with 1 Axes>"
      ]
     },
     "metadata": {
      "needs_background": "light"
     },
     "output_type": "display_data"
    }
   ],
   "source": [
    "def count_images_per_dr_lvl(array, dataset_name=None):\n",
    "    count_dict = {i:0 for i in np.sort(np.unique(array))}\n",
    "    for i in array:\n",
    "        count_dict[i] += 1\n",
    "    print('This dataset has', array.shape[0], 'images')\n",
    "    for i in count_dict:\n",
    "        print('\\tDR lvl', i, 'has', count_dict[i], 'images')\n",
    "    \n",
    "    if dataset_name != None:\n",
    "        \n",
    "        plt.figure()\n",
    "        plt.bar(list(count_dict.keys()), [count_dict[x] for x in count_dict])\n",
    "        plt.xlabel('DR levels')\n",
    "        plt.ylabel('Num of images')\n",
    "        plt.title(dataset_name)\n",
    "        plt.show()\n",
    "\n",
    "print('Validation dataset')\n",
    "count_images_per_dr_lvl(y_true_val[:,-1], 'Validation dataset')\n",
    "\n",
    "for dt in test_datasets:\n",
    "    print('----')\n",
    "    print(test_datasets[dt], 'Test dataset')\n",
    "    count_images_per_dr_lvl(dict_y_true_tests[dt][:,-1], test_datasets[dt] + ' Test dataset')"
   ]
  },
  {
   "cell_type": "markdown",
   "id": "a1056bf4-f9e1-42cf-944b-d3eac947d6f8",
   "metadata": {},
   "source": [
    "### Convert true labels into one-hot format"
   ]
  },
  {
   "cell_type": "code",
   "execution_count": 6,
   "id": "careful-ukraine",
   "metadata": {},
   "outputs": [],
   "source": [
    "def to_one_hot(array, n_labels):\n",
    "    assert array.ndim == 1\n",
    "    one_hot = np.zeros((array.shape[0], n_labels), dtype=array.dtype)\n",
    "    \n",
    "    # Ensure no label is bigger than 'n_labels'\n",
    "    array = np.clip(array, 0, n_labels-1)\n",
    "    one_hot[np.arange(array.shape[0]), array] = 1\n",
    "    return one_hot\n",
    "\n",
    "if not ONE_HOT_FORMAT:\n",
    "    # Ground truth arrays have only 2 columns: class - dr level\n",
    "    # Class column must be splitted as specified in 'DR_LEVELS_PER_CLASS'\n",
    "    \n",
    "    y_true_val = np.column_stack((to_one_hot(y_true_val[:,0], len(DR_LEVELS_PER_CLASS)),\n",
    "                                  y_true_val[:,1]))\n",
    "    \n",
    "    for dt in test_datasets:      \n",
    "        dict_y_true_tests[dt] = np.column_stack((to_one_hot(dict_y_true_tests[dt][:,0], len(DR_LEVELS_PER_CLASS)),\n",
    "                                                 dict_y_true_tests[dt][:,1]))"
   ]
  },
  {
   "cell_type": "markdown",
   "id": "dc9ac674-596e-4cac-83f9-117ab93ea95d",
   "metadata": {},
   "source": [
    "### Compute ROCs for validation and test datasets"
   ]
  },
  {
   "cell_type": "code",
   "execution_count": 7,
   "id": "sound-charge",
   "metadata": {},
   "outputs": [
    {
     "name": "stdout",
     "output_type": "stream",
     "text": [
      "CPU times: user 11.5 s, sys: 0 ns, total: 11.5 s\n",
      "Wall time: 11.5 s\n"
     ]
    }
   ],
   "source": [
    "%%time\n",
    "reload(ev)\n",
    "# Get ROC curves for validation and test sets\n",
    "\n",
    "# Classification 0 vs 1234 -- 2 classes ---> 1 == DR presence (midl, moderate, severe and proliferative)\n",
    "# Classification 0 vs 1 vs 234 -- 3 classes ---> 1 == mild DR, 2 == moderate or worse DR\n",
    "classes = [1] if classification_0vs1234 else [1, 2, (1,2)]\n",
    "\n",
    "ROC_names = ['DR levels 1,2,3,4'] if classification_0vs1234 else ['DR level 1', 'DR levels 2,3,4', 'DR levels 1,2,3,4']\n",
    "\n",
    "fpr_val, tpr_val, thr_val = ev.get_roc_curve(y_true_val[:,:-1], y_pred_val, classes=classes, num_thresholds=500, remove_under_ROC_points=True)\n",
    "\n",
    "# One dictionary per test dataset\n",
    "test_ROCs = {dt: {} for dt in test_datasets}\n",
    "\n",
    "for dt in test_datasets:\n",
    "    \n",
    "    fpr_test, tpr_test, thr_test = ev.get_roc_curve(dict_y_true_tests[dt][:,:-1], dict_y_pred_tests[dt], classes=classes, num_thresholds=500, remove_under_ROC_points=True)\n",
    "    \n",
    "    test_ROCs[dt]['fpr'] = fpr_test\n",
    "    test_ROCs[dt]['tpr'] = tpr_test\n",
    "    test_ROCs[dt]['thr'] = thr_test"
   ]
  },
  {
   "cell_type": "code",
   "execution_count": 8,
   "id": "assumed-audio",
   "metadata": {},
   "outputs": [
    {
     "name": "stdout",
     "output_type": "stream",
     "text": [
      "CPU times: user 4.23 ms, sys: 0 ns, total: 4.23 ms\n",
      "Wall time: 9.9 ms\n"
     ]
    },
    {
     "data": {
      "text/plain": [
       "[(0.4108216432865731,)]"
      ]
     },
     "execution_count": 8,
     "metadata": {},
     "output_type": "execute_result"
    }
   ],
   "source": [
    "%%time\n",
    "reload(ev)\n",
    "# Get closest points to 0,1 in validation ROCs\n",
    "val_thr_closests = []\n",
    "for i in range(len(fpr_val)):\n",
    "    _, _, th = ev.find_closest_point_to_01(fpr_val[i], tpr_val[i], thr_val[i])\n",
    "    val_thr_closests.append(th)\n",
    "val_thr_closests = [tuple(val_thr_closests)]\n",
    "\n",
    "# Thresholds must be saved in this form\n",
    "# There will be a threshold for each ROC/Classification (for instance: 0vs1234, 01vs234 and 1 vs 0234). These thresholds are packed into a tuple (thr_roc1, thr_roc2, thr_roc3,...) and they will have the same meaning (closest point to (0,1) on each ROC)\n",
    "# This tuple will be added into a list, so we can get other thresholds (98, 95, 93, 90 sensibility)\n",
    "\n",
    "val_thr_closests"
   ]
  },
  {
   "cell_type": "markdown",
   "id": "juvenile-performance",
   "metadata": {},
   "source": [
    "## Show performance on validation dataset"
   ]
  },
  {
   "cell_type": "code",
   "execution_count": 9,
   "id": "baking-exhibition",
   "metadata": {},
   "outputs": [
    {
     "data": {
      "text/html": [
       "<style  type=\"text/css\" >\n",
       "</style><table id=\"T_cfa1a_\" ><caption>Validation dataset - Class 1 = DR Lvls: 1,2,3,4 - AUC: 0.924</caption><thead>    <tr>        <th class=\"blank level0\" ></th>        <th class=\"col_heading level0 col0\" >Sens. Operative point</th>        <th class=\"col_heading level0 col1\" >Sensibility</th>        <th class=\"col_heading level0 col2\" >Specificity</th>        <th class=\"col_heading level0 col3\" >False negative rate</th>        <th class=\"col_heading level0 col4\" >FNR_1 (sample)</th>        <th class=\"col_heading level0 col5\" >FNR_2 (sample)</th>        <th class=\"col_heading level0 col6\" >FNR_3 (sample)</th>        <th class=\"col_heading level0 col7\" >FNR_4 (sample)</th>        <th class=\"col_heading level0 col8\" >Thresholds</th>    </tr></thead><tbody>\n",
       "                <tr>\n",
       "                        <th id=\"T_cfa1a_level0_row0\" class=\"row_heading level0 row0\" >0</th>\n",
       "                        <td id=\"T_cfa1a_row0_col0\" class=\"data row0 col0\" >98</td>\n",
       "                        <td id=\"T_cfa1a_row0_col1\" class=\"data row0 col1\" >98.500000</td>\n",
       "                        <td id=\"T_cfa1a_row0_col2\" class=\"data row0 col2\" >21.400000</td>\n",
       "                        <td id=\"T_cfa1a_row0_col3\" class=\"data row0 col3\" >1.500000</td>\n",
       "                        <td id=\"T_cfa1a_row0_col4\" class=\"data row0 col4\" >3.070000</td>\n",
       "                        <td id=\"T_cfa1a_row0_col5\" class=\"data row0 col5\" >1.100000</td>\n",
       "                        <td id=\"T_cfa1a_row0_col6\" class=\"data row0 col6\" >0.000000</td>\n",
       "                        <td id=\"T_cfa1a_row0_col7\" class=\"data row0 col7\" >0.000000</td>\n",
       "                        <td id=\"T_cfa1a_row0_col8\" class=\"data row0 col8\" >0.060120</td>\n",
       "            </tr>\n",
       "            <tr>\n",
       "                        <th id=\"T_cfa1a_level0_row1\" class=\"row_heading level0 row1\" >1</th>\n",
       "                        <td id=\"T_cfa1a_row1_col0\" class=\"data row1 col0\" >95</td>\n",
       "                        <td id=\"T_cfa1a_row1_col1\" class=\"data row1 col1\" >95.720000</td>\n",
       "                        <td id=\"T_cfa1a_row1_col2\" class=\"data row1 col2\" >44.580000</td>\n",
       "                        <td id=\"T_cfa1a_row1_col3\" class=\"data row1 col3\" >4.280000</td>\n",
       "                        <td id=\"T_cfa1a_row1_col4\" class=\"data row1 col4\" >9.000000</td>\n",
       "                        <td id=\"T_cfa1a_row1_col5\" class=\"data row1 col5\" >2.910000</td>\n",
       "                        <td id=\"T_cfa1a_row1_col6\" class=\"data row1 col6\" >0.000000</td>\n",
       "                        <td id=\"T_cfa1a_row1_col7\" class=\"data row1 col7\" >0.700000</td>\n",
       "                        <td id=\"T_cfa1a_row1_col8\" class=\"data row1 col8\" >0.108216</td>\n",
       "            </tr>\n",
       "            <tr>\n",
       "                        <th id=\"T_cfa1a_level0_row2\" class=\"row_heading level0 row2\" >2</th>\n",
       "                        <td id=\"T_cfa1a_row2_col0\" class=\"data row2 col0\" >93</td>\n",
       "                        <td id=\"T_cfa1a_row2_col1\" class=\"data row2 col1\" >95.720000</td>\n",
       "                        <td id=\"T_cfa1a_row2_col2\" class=\"data row2 col2\" >44.580000</td>\n",
       "                        <td id=\"T_cfa1a_row2_col3\" class=\"data row2 col3\" >4.280000</td>\n",
       "                        <td id=\"T_cfa1a_row2_col4\" class=\"data row2 col4\" >9.000000</td>\n",
       "                        <td id=\"T_cfa1a_row2_col5\" class=\"data row2 col5\" >2.910000</td>\n",
       "                        <td id=\"T_cfa1a_row2_col6\" class=\"data row2 col6\" >0.000000</td>\n",
       "                        <td id=\"T_cfa1a_row2_col7\" class=\"data row2 col7\" >0.700000</td>\n",
       "                        <td id=\"T_cfa1a_row2_col8\" class=\"data row2 col8\" >0.108216</td>\n",
       "            </tr>\n",
       "            <tr>\n",
       "                        <th id=\"T_cfa1a_level0_row3\" class=\"row_heading level0 row3\" >3</th>\n",
       "                        <td id=\"T_cfa1a_row3_col0\" class=\"data row3 col0\" >90</td>\n",
       "                        <td id=\"T_cfa1a_row3_col1\" class=\"data row3 col1\" >91.050000</td>\n",
       "                        <td id=\"T_cfa1a_row3_col2\" class=\"data row3 col2\" >66.810000</td>\n",
       "                        <td id=\"T_cfa1a_row3_col3\" class=\"data row3 col3\" >8.950000</td>\n",
       "                        <td id=\"T_cfa1a_row3_col4\" class=\"data row3 col4\" >18.970000</td>\n",
       "                        <td id=\"T_cfa1a_row3_col5\" class=\"data row3 col5\" >5.820000</td>\n",
       "                        <td id=\"T_cfa1a_row3_col6\" class=\"data row3 col6\" >0.720000</td>\n",
       "                        <td id=\"T_cfa1a_row3_col7\" class=\"data row3 col7\" >2.110000</td>\n",
       "                        <td id=\"T_cfa1a_row3_col8\" class=\"data row3 col8\" >0.190381</td>\n",
       "            </tr>\n",
       "            <tr>\n",
       "                        <th id=\"T_cfa1a_level0_row4\" class=\"row_heading level0 row4\" >4</th>\n",
       "                        <td id=\"T_cfa1a_row4_col0\" class=\"data row4 col0\" >85</td>\n",
       "                        <td id=\"T_cfa1a_row4_col1\" class=\"data row4 col1\" >85.440000</td>\n",
       "                        <td id=\"T_cfa1a_row4_col2\" class=\"data row4 col2\" >86.270000</td>\n",
       "                        <td id=\"T_cfa1a_row4_col3\" class=\"data row4 col3\" >14.560000</td>\n",
       "                        <td id=\"T_cfa1a_row4_col4\" class=\"data row4 col4\" >32.380000</td>\n",
       "                        <td id=\"T_cfa1a_row4_col5\" class=\"data row4 col5\" >8.430000</td>\n",
       "                        <td id=\"T_cfa1a_row4_col6\" class=\"data row4 col6\" >1.450000</td>\n",
       "                        <td id=\"T_cfa1a_row4_col7\" class=\"data row4 col7\" >4.930000</td>\n",
       "                        <td id=\"T_cfa1a_row4_col8\" class=\"data row4 col8\" >0.368737</td>\n",
       "            </tr>\n",
       "            <tr>\n",
       "                        <th id=\"T_cfa1a_level0_row5\" class=\"row_heading level0 row5\" >5</th>\n",
       "                        <td id=\"T_cfa1a_row5_col0\" class=\"data row5 col0\" >Closest point</td>\n",
       "                        <td id=\"T_cfa1a_row5_col1\" class=\"data row5 col1\" >84.160000</td>\n",
       "                        <td id=\"T_cfa1a_row5_col2\" class=\"data row5 col2\" >88.100000</td>\n",
       "                        <td id=\"T_cfa1a_row5_col3\" class=\"data row5 col3\" >15.840000</td>\n",
       "                        <td id=\"T_cfa1a_row5_col4\" class=\"data row5 col4\" >35.060000</td>\n",
       "                        <td id=\"T_cfa1a_row5_col5\" class=\"data row5 col5\" >9.330000</td>\n",
       "                        <td id=\"T_cfa1a_row5_col6\" class=\"data row5 col6\" >1.450000</td>\n",
       "                        <td id=\"T_cfa1a_row5_col7\" class=\"data row5 col7\" >4.930000</td>\n",
       "                        <td id=\"T_cfa1a_row5_col8\" class=\"data row5 col8\" >0.410822</td>\n",
       "            </tr>\n",
       "    </tbody></table>"
      ],
      "text/plain": [
       "<pandas.io.formats.style.Styler at 0x7f4c803e27d0>"
      ]
     },
     "metadata": {},
     "output_type": "display_data"
    }
   ],
   "source": [
    "# Operative points\n",
    "reload(ev)\n",
    "\n",
    "dr_levels, dr_classifications = ev.get_dr_levels_and_classifications_per_classes(y_true_val, classes=classes)\n",
    "\n",
    "# Sensibility operative points \n",
    "operative_sens_points = [98, 95, 93, 90, 85]\n",
    "\n",
    "results_val, fns_v = ev.get_results_at_operative_points(fpr_val,\n",
    "                                                        tpr_val,\n",
    "                                                        thr_val,\n",
    "                                                        y_pred_val,\n",
    "                                                        classes,\n",
    "                                                        dr_levels,\n",
    "                                                        dr_classifications,\n",
    "                                                        operative_sens_points,\n",
    "                                                        interpolate_sens_points=False,\n",
    "                                                        operative_thresholds=val_thr_closests)\n",
    "\n",
    "for class_ in range(len(classes)):\n",
    "    display(results_val[class_].style.set_caption('Validation dataset - Class ' + str(classes[class_]) + \\\n",
    "                                                  ' = DR Lvls: ' + ','.join(list(map(str, list(dr_levels[class_])))) + \\\n",
    "                                                  ' - AUC: ' + str(round(ev.get_auc(fpr_val[class_], tpr_val[class_]), 4))))"
   ]
  },
  {
   "cell_type": "code",
   "execution_count": 10,
   "id": "laden-leave",
   "metadata": {},
   "outputs": [
    {
     "data": {
      "image/png": "[encoded data removed]",
      "text/plain": [
       "<Figure size 432x288 with 1 Axes>"
      ]
     },
     "metadata": {
      "needs_background": "light"
     },
     "output_type": "display_data"
    }
   ],
   "source": [
    "reload(plot)\n",
    "\n",
    "%matplotlib inline\n",
    "# 'auto' en lugar de 'inline' para que se abra en una nueva ventana\n",
    "\n",
    "plot.plot_roc_curve(fpr_val, \n",
    "                    tpr_val, \n",
    "                    thr_val, \n",
    "                    'Validation dataset', \n",
    "                    ROC_names, \n",
    "                    operative_threshold=None, \n",
    "                    grid=True, \n",
    "                    show_points=False,\n",
    "                    show_zoomed=False)"
   ]
  },
  {
   "cell_type": "markdown",
   "id": "civilian-binding",
   "metadata": {},
   "source": [
    "## Show performance on test datasets"
   ]
  },
  {
   "cell_type": "code",
   "execution_count": 11,
   "id": "eligible-colony",
   "metadata": {},
   "outputs": [
    {
     "data": {
      "text/html": [
       "<style  type=\"text/css\" >\n",
       "</style><table id=\"T_6d6a8_\" ><caption>EYEPACS Test dataset - Class 1 = DR Lvls: 1,2,3,4 - AUC: 0.9212</caption><thead>    <tr>        <th class=\"blank level0\" ></th>        <th class=\"col_heading level0 col0\" >Sens. Operative point</th>        <th class=\"col_heading level0 col1\" >Sensibility</th>        <th class=\"col_heading level0 col2\" >Specificity</th>        <th class=\"col_heading level0 col3\" >False negative rate</th>        <th class=\"col_heading level0 col4\" >FNR_1 (sample)</th>        <th class=\"col_heading level0 col5\" >FNR_2 (sample)</th>        <th class=\"col_heading level0 col6\" >FNR_3 (sample)</th>        <th class=\"col_heading level0 col7\" >FNR_4 (sample)</th>        <th class=\"col_heading level0 col8\" >Thresholds</th>    </tr></thead><tbody>\n",
       "                <tr>\n",
       "                        <th id=\"T_6d6a8_level0_row0\" class=\"row_heading level0 row0\" >0</th>\n",
       "                        <td id=\"T_6d6a8_row0_col0\" class=\"data row0 col0\" >98</td>\n",
       "                        <td id=\"T_6d6a8_row0_col1\" class=\"data row0 col1\" >98.390000</td>\n",
       "                        <td id=\"T_6d6a8_row0_col2\" class=\"data row0 col2\" >20.660000</td>\n",
       "                        <td id=\"T_6d6a8_row0_col3\" class=\"data row0 col3\" >1.610000</td>\n",
       "                        <td id=\"T_6d6a8_row0_col4\" class=\"data row0 col4\" >4.160000</td>\n",
       "                        <td id=\"T_6d6a8_row0_col5\" class=\"data row0 col5\" >0.950000</td>\n",
       "                        <td id=\"T_6d6a8_row0_col6\" class=\"data row0 col6\" >0.000000</td>\n",
       "                        <td id=\"T_6d6a8_row0_col7\" class=\"data row0 col7\" >0.000000</td>\n",
       "                        <td id=\"T_6d6a8_row0_col8\" class=\"data row0 col8\" >0.060120</td>\n",
       "            </tr>\n",
       "            <tr>\n",
       "                        <th id=\"T_6d6a8_level0_row1\" class=\"row_heading level0 row1\" >1</th>\n",
       "                        <td id=\"T_6d6a8_row1_col0\" class=\"data row1 col0\" >95</td>\n",
       "                        <td id=\"T_6d6a8_row1_col1\" class=\"data row1 col1\" >95.360000</td>\n",
       "                        <td id=\"T_6d6a8_row1_col2\" class=\"data row1 col2\" >41.480000</td>\n",
       "                        <td id=\"T_6d6a8_row1_col3\" class=\"data row1 col3\" >4.640000</td>\n",
       "                        <td id=\"T_6d6a8_row1_col4\" class=\"data row1 col4\" >11.290000</td>\n",
       "                        <td id=\"T_6d6a8_row1_col5\" class=\"data row1 col5\" >3.410000</td>\n",
       "                        <td id=\"T_6d6a8_row1_col6\" class=\"data row1 col6\" >0.570000</td>\n",
       "                        <td id=\"T_6d6a8_row1_col7\" class=\"data row1 col7\" >0.000000</td>\n",
       "                        <td id=\"T_6d6a8_row1_col8\" class=\"data row1 col8\" >0.108216</td>\n",
       "            </tr>\n",
       "            <tr>\n",
       "                        <th id=\"T_6d6a8_level0_row2\" class=\"row_heading level0 row2\" >2</th>\n",
       "                        <td id=\"T_6d6a8_row2_col0\" class=\"data row2 col0\" >93</td>\n",
       "                        <td id=\"T_6d6a8_row2_col1\" class=\"data row2 col1\" >95.360000</td>\n",
       "                        <td id=\"T_6d6a8_row2_col2\" class=\"data row2 col2\" >41.480000</td>\n",
       "                        <td id=\"T_6d6a8_row2_col3\" class=\"data row2 col3\" >4.640000</td>\n",
       "                        <td id=\"T_6d6a8_row2_col4\" class=\"data row2 col4\" >11.290000</td>\n",
       "                        <td id=\"T_6d6a8_row2_col5\" class=\"data row2 col5\" >3.410000</td>\n",
       "                        <td id=\"T_6d6a8_row2_col6\" class=\"data row2 col6\" >0.570000</td>\n",
       "                        <td id=\"T_6d6a8_row2_col7\" class=\"data row2 col7\" >0.000000</td>\n",
       "                        <td id=\"T_6d6a8_row2_col8\" class=\"data row2 col8\" >0.108216</td>\n",
       "            </tr>\n",
       "            <tr>\n",
       "                        <th id=\"T_6d6a8_level0_row3\" class=\"row_heading level0 row3\" >3</th>\n",
       "                        <td id=\"T_6d6a8_row3_col0\" class=\"data row3 col0\" >90</td>\n",
       "                        <td id=\"T_6d6a8_row3_col1\" class=\"data row3 col1\" >91.250000</td>\n",
       "                        <td id=\"T_6d6a8_row3_col2\" class=\"data row3 col2\" >64.660000</td>\n",
       "                        <td id=\"T_6d6a8_row3_col3\" class=\"data row3 col3\" >8.750000</td>\n",
       "                        <td id=\"T_6d6a8_row3_col4\" class=\"data row3 col4\" >20.200000</td>\n",
       "                        <td id=\"T_6d6a8_row3_col5\" class=\"data row3 col5\" >6.540000</td>\n",
       "                        <td id=\"T_6d6a8_row3_col6\" class=\"data row3 col6\" >0.570000</td>\n",
       "                        <td id=\"T_6d6a8_row3_col7\" class=\"data row3 col7\" >0.700000</td>\n",
       "                        <td id=\"T_6d6a8_row3_col8\" class=\"data row3 col8\" >0.190381</td>\n",
       "            </tr>\n",
       "            <tr>\n",
       "                        <th id=\"T_6d6a8_level0_row4\" class=\"row_heading level0 row4\" >4</th>\n",
       "                        <td id=\"T_6d6a8_row4_col0\" class=\"data row4 col0\" >85</td>\n",
       "                        <td id=\"T_6d6a8_row4_col1\" class=\"data row4 col1\" >86.190000</td>\n",
       "                        <td id=\"T_6d6a8_row4_col2\" class=\"data row4 col2\" >84.750000</td>\n",
       "                        <td id=\"T_6d6a8_row4_col3\" class=\"data row4 col3\" >13.810000</td>\n",
       "                        <td id=\"T_6d6a8_row4_col4\" class=\"data row4 col4\" >30.300000</td>\n",
       "                        <td id=\"T_6d6a8_row4_col5\" class=\"data row4 col5\" >9.760000</td>\n",
       "                        <td id=\"T_6d6a8_row4_col6\" class=\"data row4 col6\" >1.700000</td>\n",
       "                        <td id=\"T_6d6a8_row4_col7\" class=\"data row4 col7\" >2.100000</td>\n",
       "                        <td id=\"T_6d6a8_row4_col8\" class=\"data row4 col8\" >0.368737</td>\n",
       "            </tr>\n",
       "            <tr>\n",
       "                        <th id=\"T_6d6a8_level0_row5\" class=\"row_heading level0 row5\" >5</th>\n",
       "                        <td id=\"T_6d6a8_row5_col0\" class=\"data row5 col0\" >Closest point</td>\n",
       "                        <td id=\"T_6d6a8_row5_col1\" class=\"data row5 col1\" >85.090000</td>\n",
       "                        <td id=\"T_6d6a8_row5_col2\" class=\"data row5 col2\" >87.080000</td>\n",
       "                        <td id=\"T_6d6a8_row5_col3\" class=\"data row5 col3\" >14.910000</td>\n",
       "                        <td id=\"T_6d6a8_row5_col4\" class=\"data row5 col4\" >32.280000</td>\n",
       "                        <td id=\"T_6d6a8_row5_col5\" class=\"data row5 col5\" >10.710000</td>\n",
       "                        <td id=\"T_6d6a8_row5_col6\" class=\"data row5 col6\" >1.700000</td>\n",
       "                        <td id=\"T_6d6a8_row5_col7\" class=\"data row5 col7\" >2.800000</td>\n",
       "                        <td id=\"T_6d6a8_row5_col8\" class=\"data row5 col8\" >0.410822</td>\n",
       "            </tr>\n",
       "    </tbody></table>"
      ],
      "text/plain": [
       "<pandas.io.formats.style.Styler at 0x7f4c4507d350>"
      ]
     },
     "metadata": {},
     "output_type": "display_data"
    },
    {
     "name": "stdout",
     "output_type": "stream",
     "text": [
      "------------------------------------------------------------------------------------------------------\n"
     ]
    },
    {
     "data": {
      "text/html": [
       "<style  type=\"text/css\" >\n",
       "</style><table id=\"T_561a3_\" ><caption>Messidor 2 Test dataset - Class 1 = DR Lvls: 1,2,3,4 - AUC: 0.9303</caption><thead>    <tr>        <th class=\"blank level0\" ></th>        <th class=\"col_heading level0 col0\" >Sens. Operative point</th>        <th class=\"col_heading level0 col1\" >Sensibility</th>        <th class=\"col_heading level0 col2\" >Specificity</th>        <th class=\"col_heading level0 col3\" >False negative rate</th>        <th class=\"col_heading level0 col4\" >FNR_1 (sample)</th>        <th class=\"col_heading level0 col5\" >FNR_2 (sample)</th>        <th class=\"col_heading level0 col6\" >FNR_3 (sample)</th>        <th class=\"col_heading level0 col7\" >FNR_4 (sample)</th>        <th class=\"col_heading level0 col8\" >Thresholds</th>    </tr></thead><tbody>\n",
       "                <tr>\n",
       "                        <th id=\"T_561a3_level0_row0\" class=\"row_heading level0 row0\" >0</th>\n",
       "                        <td id=\"T_561a3_row0_col0\" class=\"data row0 col0\" >98</td>\n",
       "                        <td id=\"T_561a3_row0_col1\" class=\"data row0 col1\" >99.130000</td>\n",
       "                        <td id=\"T_561a3_row0_col2\" class=\"data row0 col2\" >19.820000</td>\n",
       "                        <td id=\"T_561a3_row0_col3\" class=\"data row0 col3\" >0.870000</td>\n",
       "                        <td id=\"T_561a3_row0_col4\" class=\"data row0 col4\" >2.590000</td>\n",
       "                        <td id=\"T_561a3_row0_col5\" class=\"data row0 col5\" >0.000000</td>\n",
       "                        <td id=\"T_561a3_row0_col6\" class=\"data row0 col6\" >0.000000</td>\n",
       "                        <td id=\"T_561a3_row0_col7\" class=\"data row0 col7\" >0.000000</td>\n",
       "                        <td id=\"T_561a3_row0_col8\" class=\"data row0 col8\" >0.060120</td>\n",
       "            </tr>\n",
       "            <tr>\n",
       "                        <th id=\"T_561a3_level0_row1\" class=\"row_heading level0 row1\" >1</th>\n",
       "                        <td id=\"T_561a3_row1_col0\" class=\"data row1 col0\" >95</td>\n",
       "                        <td id=\"T_561a3_row1_col1\" class=\"data row1 col1\" >97.840000</td>\n",
       "                        <td id=\"T_561a3_row1_col2\" class=\"data row1 col2\" >36.510000</td>\n",
       "                        <td id=\"T_561a3_row1_col3\" class=\"data row1 col3\" >2.160000</td>\n",
       "                        <td id=\"T_561a3_row1_col4\" class=\"data row1 col4\" >6.670000</td>\n",
       "                        <td id=\"T_561a3_row1_col5\" class=\"data row1 col5\" >0.000000</td>\n",
       "                        <td id=\"T_561a3_row1_col6\" class=\"data row1 col6\" >0.000000</td>\n",
       "                        <td id=\"T_561a3_row1_col7\" class=\"data row1 col7\" >0.000000</td>\n",
       "                        <td id=\"T_561a3_row1_col8\" class=\"data row1 col8\" >0.108216</td>\n",
       "            </tr>\n",
       "            <tr>\n",
       "                        <th id=\"T_561a3_level0_row2\" class=\"row_heading level0 row2\" >2</th>\n",
       "                        <td id=\"T_561a3_row2_col0\" class=\"data row2 col0\" >93</td>\n",
       "                        <td id=\"T_561a3_row2_col1\" class=\"data row2 col1\" >97.840000</td>\n",
       "                        <td id=\"T_561a3_row2_col2\" class=\"data row2 col2\" >36.510000</td>\n",
       "                        <td id=\"T_561a3_row2_col3\" class=\"data row2 col3\" >2.160000</td>\n",
       "                        <td id=\"T_561a3_row2_col4\" class=\"data row2 col4\" >6.670000</td>\n",
       "                        <td id=\"T_561a3_row2_col5\" class=\"data row2 col5\" >0.000000</td>\n",
       "                        <td id=\"T_561a3_row2_col6\" class=\"data row2 col6\" >0.000000</td>\n",
       "                        <td id=\"T_561a3_row2_col7\" class=\"data row2 col7\" >0.000000</td>\n",
       "                        <td id=\"T_561a3_row2_col8\" class=\"data row2 col8\" >0.108216</td>\n",
       "            </tr>\n",
       "            <tr>\n",
       "                        <th id=\"T_561a3_level0_row3\" class=\"row_heading level0 row3\" >3</th>\n",
       "                        <td id=\"T_561a3_row3_col0\" class=\"data row3 col0\" >90</td>\n",
       "                        <td id=\"T_561a3_row3_col1\" class=\"data row3 col1\" >95.450000</td>\n",
       "                        <td id=\"T_561a3_row3_col2\" class=\"data row3 col2\" >54.580000</td>\n",
       "                        <td id=\"T_561a3_row3_col3\" class=\"data row3 col3\" >4.550000</td>\n",
       "                        <td id=\"T_561a3_row3_col4\" class=\"data row3 col4\" >12.590000</td>\n",
       "                        <td id=\"T_561a3_row3_col5\" class=\"data row3 col5\" >0.000000</td>\n",
       "                        <td id=\"T_561a3_row3_col6\" class=\"data row3 col6\" >0.000000</td>\n",
       "                        <td id=\"T_561a3_row3_col7\" class=\"data row3 col7\" >0.000000</td>\n",
       "                        <td id=\"T_561a3_row3_col8\" class=\"data row3 col8\" >0.190381</td>\n",
       "            </tr>\n",
       "            <tr>\n",
       "                        <th id=\"T_561a3_level0_row4\" class=\"row_heading level0 row4\" >4</th>\n",
       "                        <td id=\"T_561a3_row4_col0\" class=\"data row4 col0\" >85</td>\n",
       "                        <td id=\"T_561a3_row4_col1\" class=\"data row4 col1\" >91.860000</td>\n",
       "                        <td id=\"T_561a3_row4_col2\" class=\"data row4 col2\" >70.130000</td>\n",
       "                        <td id=\"T_561a3_row4_col3\" class=\"data row4 col3\" >8.140000</td>\n",
       "                        <td id=\"T_561a3_row4_col4\" class=\"data row4 col4\" >21.480000</td>\n",
       "                        <td id=\"T_561a3_row4_col5\" class=\"data row4 col5\" >0.580000</td>\n",
       "                        <td id=\"T_561a3_row4_col6\" class=\"data row4 col6\" >0.000000</td>\n",
       "                        <td id=\"T_561a3_row4_col7\" class=\"data row4 col7\" >0.000000</td>\n",
       "                        <td id=\"T_561a3_row4_col8\" class=\"data row4 col8\" >0.368737</td>\n",
       "            </tr>\n",
       "            <tr>\n",
       "                        <th id=\"T_561a3_level0_row5\" class=\"row_heading level0 row5\" >5</th>\n",
       "                        <td id=\"T_561a3_row5_col0\" class=\"data row5 col0\" >Closest point</td>\n",
       "                        <td id=\"T_561a3_row5_col1\" class=\"data row5 col1\" >91.000000</td>\n",
       "                        <td id=\"T_561a3_row5_col2\" class=\"data row5 col2\" >72.300000</td>\n",
       "                        <td id=\"T_561a3_row5_col3\" class=\"data row5 col3\" >9.000000</td>\n",
       "                        <td id=\"T_561a3_row5_col4\" class=\"data row5 col4\" >24.440000</td>\n",
       "                        <td id=\"T_561a3_row5_col5\" class=\"data row5 col5\" >1.150000</td>\n",
       "                        <td id=\"T_561a3_row5_col6\" class=\"data row5 col6\" >0.000000</td>\n",
       "                        <td id=\"T_561a3_row5_col7\" class=\"data row5 col7\" >0.000000</td>\n",
       "                        <td id=\"T_561a3_row5_col8\" class=\"data row5 col8\" >0.410822</td>\n",
       "            </tr>\n",
       "    </tbody></table>"
      ],
      "text/plain": [
       "<pandas.io.formats.style.Styler at 0x7f4c4598b6d0>"
      ]
     },
     "metadata": {},
     "output_type": "display_data"
    },
    {
     "name": "stdout",
     "output_type": "stream",
     "text": [
      "------------------------------------------------------------------------------------------------------\n"
     ]
    }
   ],
   "source": [
    "reload(ev)\n",
    "\n",
    "# Get thresholds from Validation ROCs\n",
    "operative_thresholds = [res['Thresholds'] for res in results_val]\n",
    "operative_thresholds = [e for e in zip(*operative_thresholds)]\n",
    "\n",
    "fns_t_all = []\n",
    "\n",
    "for dt in test_datasets:\n",
    "    \n",
    "    # Operative points\n",
    "    dr_levels, dr_classifications = ev.get_dr_levels_and_classifications_per_classes(dict_y_true_tests[dt], classes=classes)\n",
    "\n",
    "\n",
    "    results_test, fns_t = ev.get_results_at_operative_points(test_ROCs[dt]['fpr'],\n",
    "                                                             test_ROCs[dt]['tpr'],\n",
    "                                                             test_ROCs[dt]['thr'],\n",
    "                                                             dict_y_pred_tests[dt],\n",
    "                                                             classes,\n",
    "                                                             dr_levels,\n",
    "                                                             dr_classifications,\n",
    "                                                             operative_thresholds=operative_thresholds)\n",
    "\n",
    "    fns_t_all.append(fns_t)\n",
    "    \n",
    "    for i in range(len(results_test)):\n",
    "        results_test[i].insert(0, 'Sens. Operative point', results_val[i]['Sens. Operative point'].tolist())\n",
    "\n",
    "    for class_ in range(len(classes)):\n",
    "        display(results_test[class_].style.set_caption(test_datasets[dt] + ' Test dataset - Class ' + str(classes[class_]) + \\\n",
    "                                                       ' = DR Lvls: ' + ','.join(list(map(str, list(dr_levels[class_])))) + \\\n",
    "                                                       ' - AUC: ' + str(round(ev.get_auc(test_ROCs[dt]['fpr'][class_], test_ROCs[dt]['tpr'][class_]), 4))))\n",
    "    print('------------------------------------------------------------------------------------------------------')"
   ]
  },
  {
   "cell_type": "code",
   "execution_count": 12,
   "id": "spoken-constraint",
   "metadata": {},
   "outputs": [
    {
     "data": {
      "image/png": "[encoded data removed]",
      "text/plain": [
       "<Figure size 432x288 with 1 Axes>"
      ]
     },
     "metadata": {
      "needs_background": "light"
     },
     "output_type": "display_data"
    },
    {
     "data": {
      "image/png": "[encoded data removed]",
      "text/plain": [
       "<Figure size 432x288 with 1 Axes>"
      ]
     },
     "metadata": {
      "needs_background": "light"
     },
     "output_type": "display_data"
    }
   ],
   "source": [
    "reload(plot)\n",
    "\n",
    "for dt in test_datasets:\n",
    "    \n",
    "    plot.plot_roc_curve(test_ROCs[dt]['fpr'], \n",
    "                        test_ROCs[dt]['tpr'], \n",
    "                        test_ROCs[dt]['thr'], \n",
    "                        test_datasets[dt] + ' Test dataset', \n",
    "                        ROC_names, \n",
    "                        operative_threshold=operative_thresholds[-1], \n",
    "                        grid=True, \n",
    "                        show_points=False,\n",
    "                        show_zoomed=False)"
   ]
  },
  {
   "cell_type": "markdown",
   "id": "distinguished-fellow",
   "metadata": {},
   "source": [
    "### See accuracy and false negatives"
   ]
  },
  {
   "cell_type": "code",
   "execution_count": 13,
   "id": "northern-cornell",
   "metadata": {},
   "outputs": [
    {
     "name": "stdout",
     "output_type": "stream",
     "text": [
      "Using closest threshold to (0,1): [(0.4108216432865731,)]\n",
      "Validation accuracy: 0.8613\n",
      "False negatives on validation\n",
      "\tDR level 1 - 183\n",
      "\tDR level 2 - 93\n",
      "\tDR level 3 - 2\n",
      "\tDR level 4 - 7\n",
      "\n",
      "DATASET-TEST-10 Test dataset accuracy: 0.8652\n",
      "messidor_2_test-ALL Test dataset accuracy: 0.801\n",
      "False negatives on test datasets\n",
      "\tDataset DATASET-TEST-10\n",
      "\t\tDR level 1 - 163\n",
      "\t\tDR level 2 - 113\n",
      "\t\tDR level 3 - 3\n",
      "\t\tDR level 4 - 4\n",
      "\tDataset messidor_2_test-ALL\n",
      "\t\tDR level 1 - 66\n",
      "\t\tDR level 2 - 4\n",
      "\t\tDR level 3 - 0\n",
      "\t\tDR level 4 - 0\n",
      "\n",
      "Using another threshold (90% sens at validation): [(0.1903807615230461,)]  -----\n",
      "\n",
      "Validation accuracy: 0.7893\n",
      "False negatives on validation\n",
      "\tDR level 1 - 99\n",
      "\tDR level 2 - 58\n",
      "\tDR level 3 - 1\n",
      "\tDR level 4 - 3\n",
      "\n",
      "DATASET-TEST-10 Test dataset accuracy: 0.7218\n",
      "messidor_2_test-ALL Test dataset accuracy: 0.7116\n",
      "False negatives on test datasets\n",
      "\tDataset DATASET-TEST-10\n",
      "\t\tDR level 1 - 102\n",
      "\t\tDR level 2 - 69\n",
      "\t\tDR level 3 - 1\n",
      "\t\tDR level 4 - 1\n",
      "\tDataset messidor_2_test-ALL\n",
      "\t\tDR level 1 - 34\n",
      "\t\tDR level 2 - 0\n",
      "\t\tDR level 3 - 0\n",
      "\t\tDR level 4 - 0\n"
     ]
    }
   ],
   "source": [
    "reload(ev)\n",
    "\n",
    "acc_thresholds = val_thr_closests if classification_0vs1234 else val_thr_closests[-1]\n",
    "\n",
    "print('Using closest threshold to (0,1):', acc_thresholds)\n",
    "\n",
    "val_acc, val_pred_lb = ev.get_accuracy(y_true_val, y_pred_val, acc_thresholds, return_pred=True)\n",
    "print('Validation accuracy:', round(val_acc, 4))\n",
    "\n",
    "print('False negatives on validation')\n",
    "false_negatives_per_dr_lvl_val = ev.get_false_negatives_per_dr_level(y_true_val, val_pred_lb)\n",
    "\n",
    "for dr in false_negatives_per_dr_lvl_val:\n",
    "    print('\\tDR level', dr, '-', len(false_negatives_per_dr_lvl_val[dr]))\n",
    "\n",
    "print()    \n",
    "\n",
    "false_negatives_per_dr_lvl_test = []\n",
    "\n",
    "for dt in test_datasets:\n",
    "    t_acc, t_pred_lb = ev.get_accuracy(dict_y_true_tests[dt], dict_y_pred_tests[dt], acc_thresholds, return_pred=True)\n",
    "    \n",
    "    print(dt,'Test dataset accuracy:', round(t_acc, 4))\n",
    "\n",
    "    false_negatives_per_dr_lvl_test.append(ev.get_false_negatives_per_dr_level(dict_y_true_tests[dt], t_pred_lb))\n",
    "    \n",
    "print('False negatives on test datasets')\n",
    "\n",
    "for dt, fns_t in zip(list(test_datasets), false_negatives_per_dr_lvl_test):\n",
    "    \n",
    "    print('\\tDataset', dt)\n",
    "    \n",
    "    for dr_lvl in fns_t:\n",
    "        print('\\t\\tDR level', dr_lvl, '-', len(fns_t[dr_lvl]))\n",
    "\n",
    "        \n",
    "# 90 sens -- 3\n",
    "other_threshold = 3\n",
    "\n",
    "acc_thresholds = [(results_val[-1]['Thresholds'].tolist()[other_threshold],)] if classification_0vs1234 else \\\n",
    "                    [(results_val[ii]['Thresholds'].tolist()[other_threshold],) for ii in range(len(results_val))]\n",
    "\n",
    "print('\\nUsing another threshold (90% sens at validation):', acc_thresholds, ' -----\\n')\n",
    "\n",
    "val_acc, val_pred_lb = ev.get_accuracy(y_true_val, y_pred_val, acc_thresholds, return_pred=True)\n",
    "print('Validation accuracy:', round(val_acc, 4))\n",
    "\n",
    "print('False negatives on validation')\n",
    "false_negatives_per_dr_lvl_val = ev.get_false_negatives_per_dr_level(y_true_val, val_pred_lb)\n",
    "\n",
    "for dr in false_negatives_per_dr_lvl_val:\n",
    "    print('\\tDR level', dr, '-', len(false_negatives_per_dr_lvl_val[dr]))\n",
    "\n",
    "print()    \n",
    "\n",
    "false_negatives_per_dr_lvl_test = []\n",
    "predicted_test_labels = []\n",
    "\n",
    "for dt in test_datasets:\n",
    "    t_acc, t_pred_lb = ev.get_accuracy(dict_y_true_tests[dt], dict_y_pred_tests[dt], acc_thresholds, return_pred=True)\n",
    "    \n",
    "    print(dt,'Test dataset accuracy:', round(t_acc, 4))\n",
    "\n",
    "    predicted_test_labels.append(t_pred_lb)\n",
    "    false_negatives_per_dr_lvl_test.append(ev.get_false_negatives_per_dr_level(dict_y_true_tests[dt], t_pred_lb))\n",
    "    \n",
    "print('False negatives on test datasets')\n",
    "\n",
    "for dt, fns_t in zip(list(test_datasets), false_negatives_per_dr_lvl_test):\n",
    "    \n",
    "    print('\\tDataset', dt)\n",
    "    \n",
    "    for dr_lvl in fns_t:\n",
    "        print('\\t\\tDR level', dr_lvl, '-', len(fns_t[dr_lvl]))"
   ]
  },
  {
   "cell_type": "code",
   "execution_count": 14,
   "id": "flush-joint",
   "metadata": {},
   "outputs": [
    {
     "data": {
      "text/plain": [
       "'acc_thresholds = [(0.1903807615230461,)]'"
      ]
     },
     "execution_count": 14,
     "metadata": {},
     "output_type": "execute_result"
    }
   ],
   "source": [
    "'acc_thresholds = ' + str(acc_thresholds)"
   ]
  },
  {
   "cell_type": "code",
   "execution_count": 15,
   "id": "caring-roots",
   "metadata": {},
   "outputs": [
    {
     "data": {
      "image/png": "[encoded data removed]",
      "text/plain": [
       "<Figure size 720x504 with 2 Axes>"
      ]
     },
     "metadata": {
      "needs_background": "light"
     },
     "output_type": "display_data"
    },
    {
     "data": {
      "image/png": "[encoded data removed]",
      "text/plain": [
       "<Figure size 720x504 with 2 Axes>"
      ]
     },
     "metadata": {
      "needs_background": "light"
     },
     "output_type": "display_data"
    },
    {
     "data": {
      "image/png": "[encoded data removed]",
      "text/plain": [
       "<Figure size 720x504 with 2 Axes>"
      ]
     },
     "metadata": {
      "needs_background": "light"
     },
     "output_type": "display_data"
    }
   ],
   "source": [
    "%matplotlib inline\n",
    "# Show matrix confusion for all datasets (validation and test datasets)\n",
    "\n",
    "for true_array, pred_array, dataset_name in zip([y_true_val, *[dict_y_true_tests[dt] for dt in test_datasets]], \\\n",
    "                                                [val_pred_lb, *predicted_test_labels], \\\n",
    "                                                ['Validation', *test_datasets.values()]):\n",
    "    \n",
    "    # Create the confusion matrix using the predicted label array        \n",
    "    matrix, dr_lvls_per_box = ev.create_confusion_matrix(true_array, pred_array, len(DR_LEVELS_PER_CLASS), DR_LEVELS_PER_CLASS)\n",
    "\n",
    "    # Show the confusion matrix\n",
    "    plot.plot_confusion_metric(matrix, dr_lvls_per_box, DR_LEVELS_PER_CLASS, dataset_name)"
   ]
  },
  {
   "cell_type": "markdown",
   "id": "cordless-aerospace",
   "metadata": {},
   "source": [
    "### Get and save paths to False Negative results\n",
    "\n",
    "Validation and test datasets were not shuffled"
   ]
  },
  {
   "cell_type": "code",
   "execution_count": 16,
   "id": "approximate-weather",
   "metadata": {},
   "outputs": [],
   "source": [
    "fn_path = base_path + 'false_negatives/'\n",
    "if not os.path.exists(fn_path):\n",
    "    os.mkdir(fn_path)"
   ]
  },
  {
   "cell_type": "code",
   "execution_count": 17,
   "id": "buried-shakespeare",
   "metadata": {},
   "outputs": [],
   "source": [
    "fn_path = base_path + 'false_negatives/'\n",
    "if not os.path.exists(fn_path):\n",
    "    os.mkdir(fn_path)\n",
    "\n",
    "# Validation\n",
    "validation_csv = 'DATASET-VALIDATION-10_BALANCED.csv' if classification_0vs1234 else 'DATASET-VALIDATION-10-BALANCED-0-1-234.csv'\n",
    "\n",
    "validation_data = pd.read_csv(validation_csv)\n",
    "\n",
    "all_fns_val = []\n",
    "\n",
    "all_fns_val = list(set().union(*false_negatives_per_dr_lvl_val.values()))\n",
    "all_fns_val.sort()\n",
    "\n",
    "validation_missclassified_data = pd.DataFrame({\n",
    "    'path': validation_data.loc[all_fns_val]['path'].tolist(),\n",
    "    'DR_level': validation_data.loc[all_fns_val]['DR_level'].tolist(),\n",
    "    'true_label': np.argmax(y_true_val[:,:-1], axis=1)[all_fns_val].tolist(),\n",
    "    'predicted_label': val_pred_lb[all_fns_val].tolist()\n",
    "})\n",
    "\n",
    "validation_missclassified_csv = 'VALIDATION-BAL_0_1234_FNS.csv' if classification_0vs1234 else 'VALIDATION-BAL_0_1_234_FNS.csv'\n",
    "\n",
    "validation_missclassified_csv = fn_path + validation_missclassified_csv\n",
    "\n",
    "validation_missclassified_data.to_csv(validation_missclassified_csv, index=False)\n",
    "\n",
    "# Test datasets\n",
    "\n",
    "for i, dt in enumerate(test_datasets):\n",
    "    \n",
    "    test_data = pd.read_csv(dt + '.csv')\n",
    "\n",
    "    all_fns_test = list(set().union(*false_negatives_per_dr_lvl_test[i].values()))\n",
    "    all_fns_test.sort()\n",
    "\n",
    "    test_missclassified_data = pd.DataFrame({\n",
    "        'path': test_data.loc[all_fns_test]['path'].tolist(),\n",
    "        'DR_level': test_data.loc[all_fns_test]['DR_level'].tolist(),\n",
    "        'true_label': np.argmax(dict_y_true_tests[dt][:,:-1], axis=1)[all_fns_test].tolist(),\n",
    "        'predicted_label': predicted_test_labels[i][all_fns_test].tolist()\n",
    "    })\n",
    "    \n",
    "    test_missclassified_csv = fn_path + dt + '_FNS.csv'\n",
    "    \n",
    "    test_missclassified_data.to_csv(test_missclassified_csv, index=False)"
   ]
  },
  {
   "cell_type": "code",
   "execution_count": 18,
   "id": "bottom-church",
   "metadata": {},
   "outputs": [
    {
     "name": "stdout",
     "output_type": "stream",
     "text": [
      "['VALIDATION-BAL_0_1234_FNS.csv', 'messidor_2_test-ALL_FNS.csv', 'DATASET-TEST-10_FNS.csv']\n"
     ]
    }
   ],
   "source": [
    "print(os.listdir(fn_path))"
   ]
  },
  {
   "cell_type": "code",
   "execution_count": 20,
   "id": "compound-symposium",
   "metadata": {},
   "outputs": [],
   "source": [
    "# Crear una copia de las imágenes con RD errónemente clasificadas como sanas en el directorio 'auxx'\n",
    "# De esta forma, será más fácil revisar dichas imágenes\n",
    "\n",
    "from shutil import rmtree, copy2\n",
    "\n",
    "aux_path = 'auxx'\n",
    "if os.path.exists(aux_path):\n",
    "    rmtree(aux_path)\n",
    "    \n",
    "os.mkdir(aux_path)\n",
    "\n",
    "df = pd.read_csv(fn_path + 'DATASET-TEST-10_FNS.csv')\n",
    "\n",
    "for i, row in enumerate(df[(df['DR_level'] == 2) & (df['predicted_label'] == 0)].itertuples()):\n",
    "    copy2(row.path, aux_path)\n",
    "#     plt.imshow(cv2.cvtColor(cv2.imread(row.path), cv2.COLOR_BGR2RGB))\n",
    "#     plt.show()"
   ]
  },
  {
   "cell_type": "code",
   "execution_count": null,
   "id": "controlling-stamp",
   "metadata": {},
   "outputs": [],
   "source": []
  },
  {
   "cell_type": "markdown",
   "id": "equal-greene",
   "metadata": {},
   "source": [
    "## De aquí para abajo las celdas fueron empleadas para la generación de los gráficos de cómo se distribuyen los datasets"
   ]
  },
  {
   "cell_type": "code",
   "execution_count": 19,
   "id": "young-allah",
   "metadata": {},
   "outputs": [],
   "source": [
    "import pandas as pd\n",
    "import matplotlib.pyplot as plt\n",
    "import cv2"
   ]
  },
  {
   "cell_type": "code",
   "execution_count": 20,
   "id": "emerging-biography",
   "metadata": {},
   "outputs": [
    {
     "ename": "FileNotFoundError",
     "evalue": "[Errno 2] No such file or directory: 'data/processed_datasets/0_csvs/eyepacs.csv'",
     "output_type": "error",
     "traceback": [
      "\u001b[0;31m---------------------------------------------------------------------------\u001b[0m",
      "\u001b[0;31mFileNotFoundError\u001b[0m                         Traceback (most recent call last)",
      "\u001b[0;32m/tmp/ipykernel_14864/993290578.py\u001b[0m in \u001b[0;36m<module>\u001b[0;34m\u001b[0m\n\u001b[0;32m----> 1\u001b[0;31m \u001b[0mdf\u001b[0m \u001b[0;34m=\u001b[0m \u001b[0mpd\u001b[0m\u001b[0;34m.\u001b[0m\u001b[0mread_csv\u001b[0m\u001b[0;34m(\u001b[0m\u001b[0;34m'data/processed_datasets/0_csvs/eyepacs.csv'\u001b[0m\u001b[0;34m)\u001b[0m\u001b[0;34m\u001b[0m\u001b[0;34m\u001b[0m\u001b[0m\n\u001b[0m\u001b[1;32m      2\u001b[0m \u001b[0;34m\u001b[0m\u001b[0m\n\u001b[1;32m      3\u001b[0m \u001b[0mprint\u001b[0m\u001b[0;34m(\u001b[0m\u001b[0;34m'There are:'\u001b[0m\u001b[0;34m,\u001b[0m \u001b[0mdf\u001b[0m\u001b[0;34m.\u001b[0m\u001b[0mshape\u001b[0m\u001b[0;34m[\u001b[0m\u001b[0;36m0\u001b[0m\u001b[0;34m]\u001b[0m\u001b[0;34m,\u001b[0m \u001b[0;34m'images on this dataset'\u001b[0m\u001b[0;34m)\u001b[0m\u001b[0;34m\u001b[0m\u001b[0;34m\u001b[0m\u001b[0m\n",
      "\u001b[0;32m~/.conda/envs/TF24/lib/python3.7/site-packages/pandas/io/parsers.py\u001b[0m in \u001b[0;36mread_csv\u001b[0;34m(filepath_or_buffer, sep, delimiter, header, names, index_col, usecols, squeeze, prefix, mangle_dupe_cols, dtype, engine, converters, true_values, false_values, skipinitialspace, skiprows, skipfooter, nrows, na_values, keep_default_na, na_filter, verbose, skip_blank_lines, parse_dates, infer_datetime_format, keep_date_col, date_parser, dayfirst, cache_dates, iterator, chunksize, compression, thousands, decimal, lineterminator, quotechar, quoting, doublequote, escapechar, comment, encoding, dialect, error_bad_lines, warn_bad_lines, delim_whitespace, low_memory, memory_map, float_precision, storage_options)\u001b[0m\n\u001b[1;32m    608\u001b[0m     \u001b[0mkwds\u001b[0m\u001b[0;34m.\u001b[0m\u001b[0mupdate\u001b[0m\u001b[0;34m(\u001b[0m\u001b[0mkwds_defaults\u001b[0m\u001b[0;34m)\u001b[0m\u001b[0;34m\u001b[0m\u001b[0;34m\u001b[0m\u001b[0m\n\u001b[1;32m    609\u001b[0m \u001b[0;34m\u001b[0m\u001b[0m\n\u001b[0;32m--> 610\u001b[0;31m     \u001b[0;32mreturn\u001b[0m \u001b[0m_read\u001b[0m\u001b[0;34m(\u001b[0m\u001b[0mfilepath_or_buffer\u001b[0m\u001b[0;34m,\u001b[0m \u001b[0mkwds\u001b[0m\u001b[0;34m)\u001b[0m\u001b[0;34m\u001b[0m\u001b[0;34m\u001b[0m\u001b[0m\n\u001b[0m\u001b[1;32m    611\u001b[0m \u001b[0;34m\u001b[0m\u001b[0m\n\u001b[1;32m    612\u001b[0m \u001b[0;34m\u001b[0m\u001b[0m\n",
      "\u001b[0;32m~/.conda/envs/TF24/lib/python3.7/site-packages/pandas/io/parsers.py\u001b[0m in \u001b[0;36m_read\u001b[0;34m(filepath_or_buffer, kwds)\u001b[0m\n\u001b[1;32m    460\u001b[0m \u001b[0;34m\u001b[0m\u001b[0m\n\u001b[1;32m    461\u001b[0m     \u001b[0;31m# Create the parser.\u001b[0m\u001b[0;34m\u001b[0m\u001b[0;34m\u001b[0m\u001b[0;34m\u001b[0m\u001b[0m\n\u001b[0;32m--> 462\u001b[0;31m     \u001b[0mparser\u001b[0m \u001b[0;34m=\u001b[0m \u001b[0mTextFileReader\u001b[0m\u001b[0;34m(\u001b[0m\u001b[0mfilepath_or_buffer\u001b[0m\u001b[0;34m,\u001b[0m \u001b[0;34m**\u001b[0m\u001b[0mkwds\u001b[0m\u001b[0;34m)\u001b[0m\u001b[0;34m\u001b[0m\u001b[0;34m\u001b[0m\u001b[0m\n\u001b[0m\u001b[1;32m    463\u001b[0m \u001b[0;34m\u001b[0m\u001b[0m\n\u001b[1;32m    464\u001b[0m     \u001b[0;32mif\u001b[0m \u001b[0mchunksize\u001b[0m \u001b[0;32mor\u001b[0m \u001b[0miterator\u001b[0m\u001b[0;34m:\u001b[0m\u001b[0;34m\u001b[0m\u001b[0;34m\u001b[0m\u001b[0m\n",
      "\u001b[0;32m~/.conda/envs/TF24/lib/python3.7/site-packages/pandas/io/parsers.py\u001b[0m in \u001b[0;36m__init__\u001b[0;34m(self, f, engine, **kwds)\u001b[0m\n\u001b[1;32m    817\u001b[0m             \u001b[0mself\u001b[0m\u001b[0;34m.\u001b[0m\u001b[0moptions\u001b[0m\u001b[0;34m[\u001b[0m\u001b[0;34m\"has_index_names\"\u001b[0m\u001b[0;34m]\u001b[0m \u001b[0;34m=\u001b[0m \u001b[0mkwds\u001b[0m\u001b[0;34m[\u001b[0m\u001b[0;34m\"has_index_names\"\u001b[0m\u001b[0;34m]\u001b[0m\u001b[0;34m\u001b[0m\u001b[0;34m\u001b[0m\u001b[0m\n\u001b[1;32m    818\u001b[0m \u001b[0;34m\u001b[0m\u001b[0m\n\u001b[0;32m--> 819\u001b[0;31m         \u001b[0mself\u001b[0m\u001b[0;34m.\u001b[0m\u001b[0m_engine\u001b[0m \u001b[0;34m=\u001b[0m \u001b[0mself\u001b[0m\u001b[0;34m.\u001b[0m\u001b[0m_make_engine\u001b[0m\u001b[0;34m(\u001b[0m\u001b[0mself\u001b[0m\u001b[0;34m.\u001b[0m\u001b[0mengine\u001b[0m\u001b[0;34m)\u001b[0m\u001b[0;34m\u001b[0m\u001b[0;34m\u001b[0m\u001b[0m\n\u001b[0m\u001b[1;32m    820\u001b[0m \u001b[0;34m\u001b[0m\u001b[0m\n\u001b[1;32m    821\u001b[0m     \u001b[0;32mdef\u001b[0m \u001b[0mclose\u001b[0m\u001b[0;34m(\u001b[0m\u001b[0mself\u001b[0m\u001b[0;34m)\u001b[0m\u001b[0;34m:\u001b[0m\u001b[0;34m\u001b[0m\u001b[0;34m\u001b[0m\u001b[0m\n",
      "\u001b[0;32m~/.conda/envs/TF24/lib/python3.7/site-packages/pandas/io/parsers.py\u001b[0m in \u001b[0;36m_make_engine\u001b[0;34m(self, engine)\u001b[0m\n\u001b[1;32m   1048\u001b[0m             )\n\u001b[1;32m   1049\u001b[0m         \u001b[0;31m# error: Too many arguments for \"ParserBase\"\u001b[0m\u001b[0;34m\u001b[0m\u001b[0;34m\u001b[0m\u001b[0;34m\u001b[0m\u001b[0m\n\u001b[0;32m-> 1050\u001b[0;31m         \u001b[0;32mreturn\u001b[0m \u001b[0mmapping\u001b[0m\u001b[0;34m[\u001b[0m\u001b[0mengine\u001b[0m\u001b[0;34m]\u001b[0m\u001b[0;34m(\u001b[0m\u001b[0mself\u001b[0m\u001b[0;34m.\u001b[0m\u001b[0mf\u001b[0m\u001b[0;34m,\u001b[0m \u001b[0;34m**\u001b[0m\u001b[0mself\u001b[0m\u001b[0;34m.\u001b[0m\u001b[0moptions\u001b[0m\u001b[0;34m)\u001b[0m  \u001b[0;31m# type: ignore[call-arg]\u001b[0m\u001b[0;34m\u001b[0m\u001b[0;34m\u001b[0m\u001b[0m\n\u001b[0m\u001b[1;32m   1051\u001b[0m \u001b[0;34m\u001b[0m\u001b[0m\n\u001b[1;32m   1052\u001b[0m     \u001b[0;32mdef\u001b[0m \u001b[0m_failover_to_python\u001b[0m\u001b[0;34m(\u001b[0m\u001b[0mself\u001b[0m\u001b[0;34m)\u001b[0m\u001b[0;34m:\u001b[0m\u001b[0;34m\u001b[0m\u001b[0;34m\u001b[0m\u001b[0m\n",
      "\u001b[0;32m~/.conda/envs/TF24/lib/python3.7/site-packages/pandas/io/parsers.py\u001b[0m in \u001b[0;36m__init__\u001b[0;34m(self, src, **kwds)\u001b[0m\n\u001b[1;32m   1865\u001b[0m \u001b[0;34m\u001b[0m\u001b[0m\n\u001b[1;32m   1866\u001b[0m         \u001b[0;31m# open handles\u001b[0m\u001b[0;34m\u001b[0m\u001b[0;34m\u001b[0m\u001b[0;34m\u001b[0m\u001b[0m\n\u001b[0;32m-> 1867\u001b[0;31m         \u001b[0mself\u001b[0m\u001b[0;34m.\u001b[0m\u001b[0m_open_handles\u001b[0m\u001b[0;34m(\u001b[0m\u001b[0msrc\u001b[0m\u001b[0;34m,\u001b[0m \u001b[0mkwds\u001b[0m\u001b[0;34m)\u001b[0m\u001b[0;34m\u001b[0m\u001b[0;34m\u001b[0m\u001b[0m\n\u001b[0m\u001b[1;32m   1868\u001b[0m         \u001b[0;32massert\u001b[0m \u001b[0mself\u001b[0m\u001b[0;34m.\u001b[0m\u001b[0mhandles\u001b[0m \u001b[0;32mis\u001b[0m \u001b[0;32mnot\u001b[0m \u001b[0;32mNone\u001b[0m\u001b[0;34m\u001b[0m\u001b[0;34m\u001b[0m\u001b[0m\n\u001b[1;32m   1869\u001b[0m         \u001b[0;32mfor\u001b[0m \u001b[0mkey\u001b[0m \u001b[0;32min\u001b[0m \u001b[0;34m(\u001b[0m\u001b[0;34m\"storage_options\"\u001b[0m\u001b[0;34m,\u001b[0m \u001b[0;34m\"encoding\"\u001b[0m\u001b[0;34m,\u001b[0m \u001b[0;34m\"memory_map\"\u001b[0m\u001b[0;34m,\u001b[0m \u001b[0;34m\"compression\"\u001b[0m\u001b[0;34m)\u001b[0m\u001b[0;34m:\u001b[0m\u001b[0;34m\u001b[0m\u001b[0;34m\u001b[0m\u001b[0m\n",
      "\u001b[0;32m~/.conda/envs/TF24/lib/python3.7/site-packages/pandas/io/parsers.py\u001b[0m in \u001b[0;36m_open_handles\u001b[0;34m(self, src, kwds)\u001b[0m\n\u001b[1;32m   1366\u001b[0m             \u001b[0mcompression\u001b[0m\u001b[0;34m=\u001b[0m\u001b[0mkwds\u001b[0m\u001b[0;34m.\u001b[0m\u001b[0mget\u001b[0m\u001b[0;34m(\u001b[0m\u001b[0;34m\"compression\"\u001b[0m\u001b[0;34m,\u001b[0m \u001b[0;32mNone\u001b[0m\u001b[0;34m)\u001b[0m\u001b[0;34m,\u001b[0m\u001b[0;34m\u001b[0m\u001b[0;34m\u001b[0m\u001b[0m\n\u001b[1;32m   1367\u001b[0m             \u001b[0mmemory_map\u001b[0m\u001b[0;34m=\u001b[0m\u001b[0mkwds\u001b[0m\u001b[0;34m.\u001b[0m\u001b[0mget\u001b[0m\u001b[0;34m(\u001b[0m\u001b[0;34m\"memory_map\"\u001b[0m\u001b[0;34m,\u001b[0m \u001b[0;32mFalse\u001b[0m\u001b[0;34m)\u001b[0m\u001b[0;34m,\u001b[0m\u001b[0;34m\u001b[0m\u001b[0;34m\u001b[0m\u001b[0m\n\u001b[0;32m-> 1368\u001b[0;31m             \u001b[0mstorage_options\u001b[0m\u001b[0;34m=\u001b[0m\u001b[0mkwds\u001b[0m\u001b[0;34m.\u001b[0m\u001b[0mget\u001b[0m\u001b[0;34m(\u001b[0m\u001b[0;34m\"storage_options\"\u001b[0m\u001b[0;34m,\u001b[0m \u001b[0;32mNone\u001b[0m\u001b[0;34m)\u001b[0m\u001b[0;34m,\u001b[0m\u001b[0;34m\u001b[0m\u001b[0;34m\u001b[0m\u001b[0m\n\u001b[0m\u001b[1;32m   1369\u001b[0m         )\n\u001b[1;32m   1370\u001b[0m \u001b[0;34m\u001b[0m\u001b[0m\n",
      "\u001b[0;32m~/.conda/envs/TF24/lib/python3.7/site-packages/pandas/io/common.py\u001b[0m in \u001b[0;36mget_handle\u001b[0;34m(path_or_buf, mode, encoding, compression, memory_map, is_text, errors, storage_options)\u001b[0m\n\u001b[1;32m    645\u001b[0m                 \u001b[0mencoding\u001b[0m\u001b[0;34m=\u001b[0m\u001b[0mioargs\u001b[0m\u001b[0;34m.\u001b[0m\u001b[0mencoding\u001b[0m\u001b[0;34m,\u001b[0m\u001b[0;34m\u001b[0m\u001b[0;34m\u001b[0m\u001b[0m\n\u001b[1;32m    646\u001b[0m                 \u001b[0merrors\u001b[0m\u001b[0;34m=\u001b[0m\u001b[0merrors\u001b[0m\u001b[0;34m,\u001b[0m\u001b[0;34m\u001b[0m\u001b[0;34m\u001b[0m\u001b[0m\n\u001b[0;32m--> 647\u001b[0;31m                 \u001b[0mnewline\u001b[0m\u001b[0;34m=\u001b[0m\u001b[0;34m\"\"\u001b[0m\u001b[0;34m,\u001b[0m\u001b[0;34m\u001b[0m\u001b[0;34m\u001b[0m\u001b[0m\n\u001b[0m\u001b[1;32m    648\u001b[0m             )\n\u001b[1;32m    649\u001b[0m         \u001b[0;32melse\u001b[0m\u001b[0;34m:\u001b[0m\u001b[0;34m\u001b[0m\u001b[0;34m\u001b[0m\u001b[0m\n",
      "\u001b[0;31mFileNotFoundError\u001b[0m: [Errno 2] No such file or directory: 'data/processed_datasets/0_csvs/eyepacs.csv'"
     ]
    }
   ],
   "source": [
    "df = pd.read_csv('data/processed_datasets/0_csvs/eyepacs.csv')\n",
    "\n",
    "print('There are:', df.shape[0], 'images on this dataset')"
   ]
  },
  {
   "cell_type": "code",
   "execution_count": 390,
   "id": "lesbian-leadership",
   "metadata": {},
   "outputs": [
    {
     "data": {
      "text/plain": [
       "Index(['image', 'path', 'DR_level', 'DME_level', 'gradability', 'old_size_x',\n",
       "       'old_size_y'],\n",
       "      dtype='object')"
      ]
     },
     "execution_count": 390,
     "metadata": {},
     "output_type": "execute_result"
    }
   ],
   "source": [
    "df.columns"
   ]
  },
  {
   "cell_type": "code",
   "execution_count": 393,
   "id": "wired-ethiopia",
   "metadata": {},
   "outputs": [
    {
     "name": "stdout",
     "output_type": "stream",
     "text": [
      "Using matplotlib backend: TkAgg\n"
     ]
    },
    {
     "data": {
      "text/plain": [
       "DR_level\n",
       "0    65337\n",
       "1     6203\n",
       "2    13151\n",
       "3     2087\n",
       "4     1914\n",
       "Name: image, dtype: int64"
      ]
     },
     "metadata": {},
     "output_type": "display_data"
    },
    {
     "data": {
      "text/plain": [
       "Text(0, 0.5, 'Número de pacientes')"
      ]
     },
     "execution_count": 393,
     "metadata": {},
     "output_type": "execute_result"
    }
   ],
   "source": [
    "%matplotlib auto\n",
    "display(df.groupby('DR_level')['image'].count())\n",
    "df.groupby('DR_level')['image'].count().plot(kind='bar')\n",
    "plt.xlabel('Niveles de Retinopatía Diabética')\n",
    "plt.ylabel('Número de pacientes')"
   ]
  },
  {
   "cell_type": "code",
   "execution_count": 394,
   "id": "strategic-impossible",
   "metadata": {},
   "outputs": [
    {
     "name": "stdout",
     "output_type": "stream",
     "text": [
      "Using matplotlib backend: TkAgg\n"
     ]
    },
    {
     "data": {
      "text/html": [
       "<div>\n",
       "<style scoped>\n",
       "    .dataframe tbody tr th:only-of-type {\n",
       "        vertical-align: middle;\n",
       "    }\n",
       "\n",
       "    .dataframe tbody tr th {\n",
       "        vertical-align: top;\n",
       "    }\n",
       "\n",
       "    .dataframe thead th {\n",
       "        text-align: right;\n",
       "    }\n",
       "</style>\n",
       "<table border=\"1\" class=\"dataframe\">\n",
       "  <thead>\n",
       "    <tr style=\"text-align: right;\">\n",
       "      <th></th>\n",
       "      <th>image</th>\n",
       "      <th>path</th>\n",
       "      <th>DR_level</th>\n",
       "      <th>DME_level</th>\n",
       "      <th>old_size_x</th>\n",
       "      <th>old_size_y</th>\n",
       "    </tr>\n",
       "    <tr>\n",
       "      <th>gradability</th>\n",
       "      <th></th>\n",
       "      <th></th>\n",
       "      <th></th>\n",
       "      <th></th>\n",
       "      <th></th>\n",
       "      <th></th>\n",
       "    </tr>\n",
       "  </thead>\n",
       "  <tbody>\n",
       "    <tr>\n",
       "      <th>0</th>\n",
       "      <td>17641</td>\n",
       "      <td>17641</td>\n",
       "      <td>17641</td>\n",
       "      <td>17641</td>\n",
       "      <td>17641</td>\n",
       "      <td>17641</td>\n",
       "    </tr>\n",
       "    <tr>\n",
       "      <th>1</th>\n",
       "      <td>71051</td>\n",
       "      <td>71051</td>\n",
       "      <td>71051</td>\n",
       "      <td>71051</td>\n",
       "      <td>71051</td>\n",
       "      <td>71051</td>\n",
       "    </tr>\n",
       "  </tbody>\n",
       "</table>\n",
       "</div>"
      ],
      "text/plain": [
       "             image   path  DR_level  DME_level  old_size_x  old_size_y\n",
       "gradability                                                           \n",
       "0            17641  17641     17641      17641       17641       17641\n",
       "1            71051  71051     71051      71051       71051       71051"
      ]
     },
     "metadata": {},
     "output_type": "display_data"
    },
    {
     "data": {
      "text/plain": [
       "Text(0, 0.5, 'Número de pacientes')"
      ]
     },
     "execution_count": 394,
     "metadata": {},
     "output_type": "execute_result"
    }
   ],
   "source": [
    "%matplotlib auto\n",
    "\n",
    "display(df.groupby('gradability').count())\n",
    "\n",
    "df.loc[df['gradability'] == 1].groupby('DR_level')['image'].count().plot(kind='bar')\n",
    "plt.xlabel('Niveles de Retinopatía Diabética')\n",
    "plt.ylabel('Número de pacientes')"
   ]
  },
  {
   "cell_type": "markdown",
   "id": "national-earthquake",
   "metadata": {},
   "source": [
    "Extraer una muestra de imágenes de EYEPACS de todos los niveles de RD"
   ]
  },
  {
   "cell_type": "code",
   "execution_count": 395,
   "id": "associate-values",
   "metadata": {},
   "outputs": [],
   "source": [
    "import matplotlib.gridspec as gridspec\n",
    "\n",
    "n_rows = n_cols = 3\n",
    "\n",
    "sample_allDR_lvls = df.loc[df['gradability'] == 1].groupby('DR_level').apply(lambda x: x.sample(3)).sample(n_rows*n_cols)['path'].tolist()\n",
    "\n",
    "plt.figure(figsize=(10,14))\n",
    "gs = gridspec.GridSpec(n_rows, n_cols)\n",
    "gs.update(wspace=0.05, hspace=0.2)\n",
    "\n",
    "for i, img in enumerate(sample_allDR_lvls):\n",
    "    \n",
    "    dr_lvl = img.split('eyepacs/')[-1][0]\n",
    "    \n",
    "    ax = plt.subplot(gs[i])\n",
    "    \n",
    "    plt.imshow(cv2.cvtColor(cv2.imread(img), cv2.COLOR_BGR2RGB))\n",
    "    \n",
    "    ax.set_xticklabels([])\n",
    "    ax.set_yticklabels([])\n",
    "\n",
    "    tit = 'Sano' if int(dr_lvl) == 0 else 'Nivel de RD: ' + dr_lvl\n",
    "    plt.title(tit)\n",
    "    plt.axis('off')"
   ]
  },
  {
   "cell_type": "markdown",
   "id": "noticed-lambda",
   "metadata": {},
   "source": [
    "Crear columna etiqueta para establecer a qué clase (de las definidas) se corresponde cada una de las imágenes"
   ]
  },
  {
   "cell_type": "code",
   "execution_count": 397,
   "id": "original-dividend",
   "metadata": {},
   "outputs": [
    {
     "data": {
      "text/html": [
       "<div>\n",
       "<style scoped>\n",
       "    .dataframe tbody tr th:only-of-type {\n",
       "        vertical-align: middle;\n",
       "    }\n",
       "\n",
       "    .dataframe tbody tr th {\n",
       "        vertical-align: top;\n",
       "    }\n",
       "\n",
       "    .dataframe thead th {\n",
       "        text-align: right;\n",
       "    }\n",
       "</style>\n",
       "<table border=\"1\" class=\"dataframe\">\n",
       "  <thead>\n",
       "    <tr style=\"text-align: right;\">\n",
       "      <th></th>\n",
       "      <th>image</th>\n",
       "      <th>path</th>\n",
       "      <th>DR_level</th>\n",
       "      <th>label</th>\n",
       "      <th>DME_level</th>\n",
       "      <th>gradability</th>\n",
       "      <th>old_size_x</th>\n",
       "      <th>old_size_y</th>\n",
       "    </tr>\n",
       "  </thead>\n",
       "  <tbody>\n",
       "    <tr>\n",
       "      <th>17641</th>\n",
       "      <td>4905_right</td>\n",
       "      <td>data/processed_datasets/eyepacs/0/4905_right.png</td>\n",
       "      <td>0</td>\n",
       "      <td>0</td>\n",
       "      <td>-1</td>\n",
       "      <td>1</td>\n",
       "      <td>2358</td>\n",
       "      <td>1611</td>\n",
       "    </tr>\n",
       "    <tr>\n",
       "      <th>17642</th>\n",
       "      <td>39753_right</td>\n",
       "      <td>data/processed_datasets/eyepacs/0/39753_right.png</td>\n",
       "      <td>0</td>\n",
       "      <td>0</td>\n",
       "      <td>-1</td>\n",
       "      <td>1</td>\n",
       "      <td>2354</td>\n",
       "      <td>1620</td>\n",
       "    </tr>\n",
       "    <tr>\n",
       "      <th>17643</th>\n",
       "      <td>21866_right</td>\n",
       "      <td>data/processed_datasets/eyepacs/2/21866_right.png</td>\n",
       "      <td>2</td>\n",
       "      <td>1</td>\n",
       "      <td>-1</td>\n",
       "      <td>1</td>\n",
       "      <td>2359</td>\n",
       "      <td>1611</td>\n",
       "    </tr>\n",
       "    <tr>\n",
       "      <th>17644</th>\n",
       "      <td>39563_right</td>\n",
       "      <td>data/processed_datasets/eyepacs/0/39563_right.png</td>\n",
       "      <td>0</td>\n",
       "      <td>0</td>\n",
       "      <td>-1</td>\n",
       "      <td>1</td>\n",
       "      <td>1738</td>\n",
       "      <td>1168</td>\n",
       "    </tr>\n",
       "    <tr>\n",
       "      <th>17645</th>\n",
       "      <td>5391_right</td>\n",
       "      <td>data/processed_datasets/eyepacs/0/5391_right.png</td>\n",
       "      <td>0</td>\n",
       "      <td>0</td>\n",
       "      <td>-1</td>\n",
       "      <td>1</td>\n",
       "      <td>2354</td>\n",
       "      <td>1621</td>\n",
       "    </tr>\n",
       "    <tr>\n",
       "      <th>...</th>\n",
       "      <td>...</td>\n",
       "      <td>...</td>\n",
       "      <td>...</td>\n",
       "      <td>...</td>\n",
       "      <td>...</td>\n",
       "      <td>...</td>\n",
       "      <td>...</td>\n",
       "      <td>...</td>\n",
       "    </tr>\n",
       "    <tr>\n",
       "      <th>88687</th>\n",
       "      <td>21875_right</td>\n",
       "      <td>data/processed_datasets/eyepacs/0/21875_right.png</td>\n",
       "      <td>0</td>\n",
       "      <td>0</td>\n",
       "      <td>-1</td>\n",
       "      <td>1</td>\n",
       "      <td>1940</td>\n",
       "      <td>1331</td>\n",
       "    </tr>\n",
       "    <tr>\n",
       "      <th>88688</th>\n",
       "      <td>21662_right</td>\n",
       "      <td>data/processed_datasets/eyepacs/2/21662_right.png</td>\n",
       "      <td>2</td>\n",
       "      <td>1</td>\n",
       "      <td>-1</td>\n",
       "      <td>1</td>\n",
       "      <td>1934</td>\n",
       "      <td>1297</td>\n",
       "    </tr>\n",
       "    <tr>\n",
       "      <th>88689</th>\n",
       "      <td>9372_left</td>\n",
       "      <td>data/processed_datasets/eyepacs/0/9372_left.png</td>\n",
       "      <td>0</td>\n",
       "      <td>0</td>\n",
       "      <td>-1</td>\n",
       "      <td>1</td>\n",
       "      <td>1941</td>\n",
       "      <td>1331</td>\n",
       "    </tr>\n",
       "    <tr>\n",
       "      <th>88690</th>\n",
       "      <td>26376_right</td>\n",
       "      <td>data/processed_datasets/eyepacs/0/26376_right.png</td>\n",
       "      <td>0</td>\n",
       "      <td>0</td>\n",
       "      <td>-1</td>\n",
       "      <td>1</td>\n",
       "      <td>1939</td>\n",
       "      <td>1331</td>\n",
       "    </tr>\n",
       "    <tr>\n",
       "      <th>88691</th>\n",
       "      <td>20291_right</td>\n",
       "      <td>data/processed_datasets/eyepacs/0/20291_right.png</td>\n",
       "      <td>0</td>\n",
       "      <td>0</td>\n",
       "      <td>-1</td>\n",
       "      <td>1</td>\n",
       "      <td>1390</td>\n",
       "      <td>940</td>\n",
       "    </tr>\n",
       "  </tbody>\n",
       "</table>\n",
       "<p>71051 rows × 8 columns</p>\n",
       "</div>"
      ],
      "text/plain": [
       "             image                                               path  \\\n",
       "17641   4905_right   data/processed_datasets/eyepacs/0/4905_right.png   \n",
       "17642  39753_right  data/processed_datasets/eyepacs/0/39753_right.png   \n",
       "17643  21866_right  data/processed_datasets/eyepacs/2/21866_right.png   \n",
       "17644  39563_right  data/processed_datasets/eyepacs/0/39563_right.png   \n",
       "17645   5391_right   data/processed_datasets/eyepacs/0/5391_right.png   \n",
       "...            ...                                                ...   \n",
       "88687  21875_right  data/processed_datasets/eyepacs/0/21875_right.png   \n",
       "88688  21662_right  data/processed_datasets/eyepacs/2/21662_right.png   \n",
       "88689    9372_left    data/processed_datasets/eyepacs/0/9372_left.png   \n",
       "88690  26376_right  data/processed_datasets/eyepacs/0/26376_right.png   \n",
       "88691  20291_right  data/processed_datasets/eyepacs/0/20291_right.png   \n",
       "\n",
       "       DR_level  label  DME_level  gradability  old_size_x  old_size_y  \n",
       "17641         0      0         -1            1        2358        1611  \n",
       "17642         0      0         -1            1        2354        1620  \n",
       "17643         2      1         -1            1        2359        1611  \n",
       "17644         0      0         -1            1        1738        1168  \n",
       "17645         0      0         -1            1        2354        1621  \n",
       "...         ...    ...        ...          ...         ...         ...  \n",
       "88687         0      0         -1            1        1940        1331  \n",
       "88688         2      1         -1            1        1934        1297  \n",
       "88689         0      0         -1            1        1941        1331  \n",
       "88690         0      0         -1            1        1939        1331  \n",
       "88691         0      0         -1            1        1390         940  \n",
       "\n",
       "[71051 rows x 8 columns]"
      ]
     },
     "metadata": {},
     "output_type": "display_data"
    }
   ],
   "source": [
    "dff = df.loc[df['gradability'] == 1]\n",
    "\n",
    "dr_levels = dff['DR_level'].tolist()\n",
    "\n",
    "asignations = [-1 for i in DR_LEVELS_PER_CLASS for j in i] # [[0], [1], [2,3,4]] --> [-1, -1, -1, -1, -1]\n",
    "\n",
    "for i, class_ in enumerate(DR_LEVELS_PER_CLASS):\n",
    "    for dr_lvl in class_:\n",
    "        asignations[dr_lvl] = i\n",
    "\n",
    "labels = [asignations[dr_lvl] for dr_lvl in dr_levels]\n",
    "\n",
    "dff.insert(3, 'label', labels, True)\n",
    "\n",
    "display(dff)"
   ]
  },
  {
   "cell_type": "code",
   "execution_count": 203,
   "id": "broadband-score",
   "metadata": {},
   "outputs": [
    {
     "data": {
      "text/html": [
       "<div>\n",
       "<style scoped>\n",
       "    .dataframe tbody tr th:only-of-type {\n",
       "        vertical-align: middle;\n",
       "    }\n",
       "\n",
       "    .dataframe tbody tr th {\n",
       "        vertical-align: top;\n",
       "    }\n",
       "\n",
       "    .dataframe thead th {\n",
       "        text-align: right;\n",
       "    }\n",
       "</style>\n",
       "<table border=\"1\" class=\"dataframe\">\n",
       "  <thead>\n",
       "    <tr style=\"text-align: right;\">\n",
       "      <th></th>\n",
       "      <th>image</th>\n",
       "      <th>path</th>\n",
       "      <th>DR_level</th>\n",
       "      <th>DME_level</th>\n",
       "      <th>old_size_x</th>\n",
       "      <th>old_size_y</th>\n",
       "    </tr>\n",
       "    <tr>\n",
       "      <th>gradability</th>\n",
       "      <th></th>\n",
       "      <th></th>\n",
       "      <th></th>\n",
       "      <th></th>\n",
       "      <th></th>\n",
       "      <th></th>\n",
       "    </tr>\n",
       "  </thead>\n",
       "  <tbody>\n",
       "    <tr>\n",
       "      <th>0</th>\n",
       "      <td>4</td>\n",
       "      <td>4</td>\n",
       "      <td>4</td>\n",
       "      <td>4</td>\n",
       "      <td>4</td>\n",
       "      <td>4</td>\n",
       "    </tr>\n",
       "    <tr>\n",
       "      <th>1</th>\n",
       "      <td>1744</td>\n",
       "      <td>1744</td>\n",
       "      <td>1744</td>\n",
       "      <td>1744</td>\n",
       "      <td>1744</td>\n",
       "      <td>1744</td>\n",
       "    </tr>\n",
       "  </tbody>\n",
       "</table>\n",
       "</div>"
      ],
      "text/plain": [
       "             image  path  DR_level  DME_level  old_size_x  old_size_y\n",
       "gradability                                                          \n",
       "0                4     4         4          4           4           4\n",
       "1             1744  1744      1744       1744        1744        1744"
      ]
     },
     "execution_count": 203,
     "metadata": {},
     "output_type": "execute_result"
    }
   ],
   "source": [
    "pd.read_csv('data/processed_datasets/0_csvs/messidor_2.csv').groupby('gradability').count()"
   ]
  },
  {
   "cell_type": "code",
   "execution_count": 22,
   "id": "arbitrary-edward",
   "metadata": {},
   "outputs": [
    {
     "data": {
      "text/plain": [
       "[[0], [1], [2, 3, 4]]"
      ]
     },
     "execution_count": 22,
     "metadata": {},
     "output_type": "execute_result"
    }
   ],
   "source": [
    "DR_LEVELS_PER_CLASS"
   ]
  },
  {
   "cell_type": "code",
   "execution_count": 40,
   "id": "twenty-still",
   "metadata": {},
   "outputs": [
    {
     "name": "stdout",
     "output_type": "stream",
     "text": [
      "Entrenamiento\n"
     ]
    },
    {
     "data": {
      "text/html": [
       "<div>\n",
       "<style scoped>\n",
       "    .dataframe tbody tr th:only-of-type {\n",
       "        vertical-align: middle;\n",
       "    }\n",
       "\n",
       "    .dataframe tbody tr th {\n",
       "        vertical-align: top;\n",
       "    }\n",
       "\n",
       "    .dataframe thead th {\n",
       "        text-align: right;\n",
       "    }\n",
       "</style>\n",
       "<table border=\"1\" class=\"dataframe\">\n",
       "  <thead>\n",
       "    <tr style=\"text-align: right;\">\n",
       "      <th>DR_level</th>\n",
       "      <th>0</th>\n",
       "      <th>1</th>\n",
       "      <th>2</th>\n",
       "      <th>3</th>\n",
       "      <th>4</th>\n",
       "    </tr>\n",
       "    <tr>\n",
       "      <th>label</th>\n",
       "      <th></th>\n",
       "      <th></th>\n",
       "      <th></th>\n",
       "      <th></th>\n",
       "      <th></th>\n",
       "    </tr>\n",
       "  </thead>\n",
       "  <tbody>\n",
       "    <tr>\n",
       "      <th>0</th>\n",
       "      <td>42149.0</td>\n",
       "      <td>NaN</td>\n",
       "      <td>NaN</td>\n",
       "      <td>NaN</td>\n",
       "      <td>NaN</td>\n",
       "    </tr>\n",
       "    <tr>\n",
       "      <th>1</th>\n",
       "      <td>NaN</td>\n",
       "      <td>4049.0</td>\n",
       "      <td>NaN</td>\n",
       "      <td>NaN</td>\n",
       "      <td>NaN</td>\n",
       "    </tr>\n",
       "    <tr>\n",
       "      <th>2</th>\n",
       "      <td>NaN</td>\n",
       "      <td>NaN</td>\n",
       "      <td>8241.0</td>\n",
       "      <td>1283.0</td>\n",
       "      <td>1100.0</td>\n",
       "    </tr>\n",
       "  </tbody>\n",
       "</table>\n",
       "</div>"
      ],
      "text/plain": [
       "DR_level        0       1       2       3       4\n",
       "label                                            \n",
       "0         42149.0     NaN     NaN     NaN     NaN\n",
       "1             NaN  4049.0     NaN     NaN     NaN\n",
       "2             NaN     NaN  8241.0  1283.0  1100.0"
      ]
     },
     "metadata": {},
     "output_type": "display_data"
    },
    {
     "name": "stdout",
     "output_type": "stream",
     "text": [
      "Entrenamiento balanceado\n"
     ]
    },
    {
     "data": {
      "text/html": [
       "<div>\n",
       "<style scoped>\n",
       "    .dataframe tbody tr th:only-of-type {\n",
       "        vertical-align: middle;\n",
       "    }\n",
       "\n",
       "    .dataframe tbody tr th {\n",
       "        vertical-align: top;\n",
       "    }\n",
       "\n",
       "    .dataframe thead th {\n",
       "        text-align: right;\n",
       "    }\n",
       "</style>\n",
       "<table border=\"1\" class=\"dataframe\">\n",
       "  <thead>\n",
       "    <tr style=\"text-align: right;\">\n",
       "      <th>DR_level</th>\n",
       "      <th>0</th>\n",
       "      <th>1</th>\n",
       "      <th>2</th>\n",
       "      <th>3</th>\n",
       "      <th>4</th>\n",
       "    </tr>\n",
       "    <tr>\n",
       "      <th>label</th>\n",
       "      <th></th>\n",
       "      <th></th>\n",
       "      <th></th>\n",
       "      <th></th>\n",
       "      <th></th>\n",
       "    </tr>\n",
       "  </thead>\n",
       "  <tbody>\n",
       "    <tr>\n",
       "      <th>0</th>\n",
       "      <td>4049.0</td>\n",
       "      <td>NaN</td>\n",
       "      <td>NaN</td>\n",
       "      <td>NaN</td>\n",
       "      <td>NaN</td>\n",
       "    </tr>\n",
       "    <tr>\n",
       "      <th>1</th>\n",
       "      <td>NaN</td>\n",
       "      <td>4049.0</td>\n",
       "      <td>NaN</td>\n",
       "      <td>NaN</td>\n",
       "      <td>NaN</td>\n",
       "    </tr>\n",
       "    <tr>\n",
       "      <th>2</th>\n",
       "      <td>NaN</td>\n",
       "      <td>NaN</td>\n",
       "      <td>3127.0</td>\n",
       "      <td>498.0</td>\n",
       "      <td>424.0</td>\n",
       "    </tr>\n",
       "  </tbody>\n",
       "</table>\n",
       "</div>"
      ],
      "text/plain": [
       "DR_level       0       1       2      3      4\n",
       "label                                         \n",
       "0         4049.0     NaN     NaN    NaN    NaN\n",
       "1            NaN  4049.0     NaN    NaN    NaN\n",
       "2            NaN     NaN  3127.0  498.0  424.0"
      ]
     },
     "metadata": {},
     "output_type": "display_data"
    },
    {
     "name": "stdout",
     "output_type": "stream",
     "text": [
      "Validacion\n"
     ]
    },
    {
     "data": {
      "text/html": [
       "<div>\n",
       "<style scoped>\n",
       "    .dataframe tbody tr th:only-of-type {\n",
       "        vertical-align: middle;\n",
       "    }\n",
       "\n",
       "    .dataframe tbody tr th {\n",
       "        vertical-align: top;\n",
       "    }\n",
       "\n",
       "    .dataframe thead th {\n",
       "        text-align: right;\n",
       "    }\n",
       "</style>\n",
       "<table border=\"1\" class=\"dataframe\">\n",
       "  <thead>\n",
       "    <tr style=\"text-align: right;\">\n",
       "      <th>DR_level</th>\n",
       "      <th>0</th>\n",
       "      <th>1</th>\n",
       "      <th>2</th>\n",
       "      <th>3</th>\n",
       "      <th>4</th>\n",
       "    </tr>\n",
       "    <tr>\n",
       "      <th>label</th>\n",
       "      <th></th>\n",
       "      <th></th>\n",
       "      <th></th>\n",
       "      <th></th>\n",
       "      <th></th>\n",
       "    </tr>\n",
       "  </thead>\n",
       "  <tbody>\n",
       "    <tr>\n",
       "      <th>0</th>\n",
       "      <td>5304.0</td>\n",
       "      <td>NaN</td>\n",
       "      <td>NaN</td>\n",
       "      <td>NaN</td>\n",
       "      <td>NaN</td>\n",
       "    </tr>\n",
       "    <tr>\n",
       "      <th>1</th>\n",
       "      <td>NaN</td>\n",
       "      <td>522.0</td>\n",
       "      <td>NaN</td>\n",
       "      <td>NaN</td>\n",
       "      <td>NaN</td>\n",
       "    </tr>\n",
       "    <tr>\n",
       "      <th>2</th>\n",
       "      <td>NaN</td>\n",
       "      <td>NaN</td>\n",
       "      <td>997.0</td>\n",
       "      <td>138.0</td>\n",
       "      <td>142.0</td>\n",
       "    </tr>\n",
       "  </tbody>\n",
       "</table>\n",
       "</div>"
      ],
      "text/plain": [
       "DR_level       0      1      2      3      4\n",
       "label                                       \n",
       "0         5304.0    NaN    NaN    NaN    NaN\n",
       "1            NaN  522.0    NaN    NaN    NaN\n",
       "2            NaN    NaN  997.0  138.0  142.0"
      ]
     },
     "metadata": {},
     "output_type": "display_data"
    },
    {
     "name": "stdout",
     "output_type": "stream",
     "text": [
      "Validacion balanceado\n"
     ]
    },
    {
     "data": {
      "text/html": [
       "<div>\n",
       "<style scoped>\n",
       "    .dataframe tbody tr th:only-of-type {\n",
       "        vertical-align: middle;\n",
       "    }\n",
       "\n",
       "    .dataframe tbody tr th {\n",
       "        vertical-align: top;\n",
       "    }\n",
       "\n",
       "    .dataframe thead th {\n",
       "        text-align: right;\n",
       "    }\n",
       "</style>\n",
       "<table border=\"1\" class=\"dataframe\">\n",
       "  <thead>\n",
       "    <tr style=\"text-align: right;\">\n",
       "      <th>DR_level</th>\n",
       "      <th>0</th>\n",
       "      <th>1</th>\n",
       "      <th>2</th>\n",
       "      <th>3</th>\n",
       "      <th>4</th>\n",
       "    </tr>\n",
       "    <tr>\n",
       "      <th>label</th>\n",
       "      <th></th>\n",
       "      <th></th>\n",
       "      <th></th>\n",
       "      <th></th>\n",
       "      <th></th>\n",
       "    </tr>\n",
       "  </thead>\n",
       "  <tbody>\n",
       "    <tr>\n",
       "      <th>0</th>\n",
       "      <td>522.0</td>\n",
       "      <td>NaN</td>\n",
       "      <td>NaN</td>\n",
       "      <td>NaN</td>\n",
       "      <td>NaN</td>\n",
       "    </tr>\n",
       "    <tr>\n",
       "      <th>1</th>\n",
       "      <td>NaN</td>\n",
       "      <td>522.0</td>\n",
       "      <td>NaN</td>\n",
       "      <td>NaN</td>\n",
       "      <td>NaN</td>\n",
       "    </tr>\n",
       "    <tr>\n",
       "      <th>2</th>\n",
       "      <td>NaN</td>\n",
       "      <td>NaN</td>\n",
       "      <td>402.0</td>\n",
       "      <td>66.0</td>\n",
       "      <td>54.0</td>\n",
       "    </tr>\n",
       "  </tbody>\n",
       "</table>\n",
       "</div>"
      ],
      "text/plain": [
       "DR_level      0      1      2     3     4\n",
       "label                                    \n",
       "0         522.0    NaN    NaN   NaN   NaN\n",
       "1           NaN  522.0    NaN   NaN   NaN\n",
       "2           NaN    NaN  402.0  66.0  54.0"
      ]
     },
     "metadata": {},
     "output_type": "display_data"
    },
    {
     "name": "stdout",
     "output_type": "stream",
     "text": [
      "test EYEPACS\n"
     ]
    },
    {
     "data": {
      "text/html": [
       "<div>\n",
       "<style scoped>\n",
       "    .dataframe tbody tr th:only-of-type {\n",
       "        vertical-align: middle;\n",
       "    }\n",
       "\n",
       "    .dataframe tbody tr th {\n",
       "        vertical-align: top;\n",
       "    }\n",
       "\n",
       "    .dataframe thead th {\n",
       "        text-align: right;\n",
       "    }\n",
       "</style>\n",
       "<table border=\"1\" class=\"dataframe\">\n",
       "  <thead>\n",
       "    <tr style=\"text-align: right;\">\n",
       "      <th>DR_level</th>\n",
       "      <th>0</th>\n",
       "      <th>1</th>\n",
       "      <th>2</th>\n",
       "      <th>3</th>\n",
       "      <th>4</th>\n",
       "    </tr>\n",
       "    <tr>\n",
       "      <th>label</th>\n",
       "      <th></th>\n",
       "      <th></th>\n",
       "      <th></th>\n",
       "      <th></th>\n",
       "      <th></th>\n",
       "    </tr>\n",
       "  </thead>\n",
       "  <tbody>\n",
       "    <tr>\n",
       "      <th>0</th>\n",
       "      <td>5223.0</td>\n",
       "      <td>NaN</td>\n",
       "      <td>NaN</td>\n",
       "      <td>NaN</td>\n",
       "      <td>NaN</td>\n",
       "    </tr>\n",
       "    <tr>\n",
       "      <th>1</th>\n",
       "      <td>NaN</td>\n",
       "      <td>505.0</td>\n",
       "      <td>NaN</td>\n",
       "      <td>NaN</td>\n",
       "      <td>NaN</td>\n",
       "    </tr>\n",
       "    <tr>\n",
       "      <th>2</th>\n",
       "      <td>NaN</td>\n",
       "      <td>NaN</td>\n",
       "      <td>1055.0</td>\n",
       "      <td>176.0</td>\n",
       "      <td>143.0</td>\n",
       "    </tr>\n",
       "  </tbody>\n",
       "</table>\n",
       "</div>"
      ],
      "text/plain": [
       "DR_level       0      1       2      3      4\n",
       "label                                        \n",
       "0         5223.0    NaN     NaN    NaN    NaN\n",
       "1            NaN  505.0     NaN    NaN    NaN\n",
       "2            NaN    NaN  1055.0  176.0  143.0"
      ]
     },
     "metadata": {},
     "output_type": "display_data"
    },
    {
     "name": "stdout",
     "output_type": "stream",
     "text": [
      "test Messidor 2\n"
     ]
    },
    {
     "data": {
      "text/html": [
       "<div>\n",
       "<style scoped>\n",
       "    .dataframe tbody tr th:only-of-type {\n",
       "        vertical-align: middle;\n",
       "    }\n",
       "\n",
       "    .dataframe tbody tr th {\n",
       "        vertical-align: top;\n",
       "    }\n",
       "\n",
       "    .dataframe thead th {\n",
       "        text-align: right;\n",
       "    }\n",
       "</style>\n",
       "<table border=\"1\" class=\"dataframe\">\n",
       "  <thead>\n",
       "    <tr style=\"text-align: right;\">\n",
       "      <th>DR_level</th>\n",
       "      <th>0</th>\n",
       "      <th>1</th>\n",
       "      <th>2</th>\n",
       "      <th>3</th>\n",
       "      <th>4</th>\n",
       "    </tr>\n",
       "    <tr>\n",
       "      <th>label</th>\n",
       "      <th></th>\n",
       "      <th></th>\n",
       "      <th></th>\n",
       "      <th></th>\n",
       "      <th></th>\n",
       "    </tr>\n",
       "  </thead>\n",
       "  <tbody>\n",
       "    <tr>\n",
       "      <th>0</th>\n",
       "      <td>1017.0</td>\n",
       "      <td>NaN</td>\n",
       "      <td>NaN</td>\n",
       "      <td>NaN</td>\n",
       "      <td>NaN</td>\n",
       "    </tr>\n",
       "    <tr>\n",
       "      <th>1</th>\n",
       "      <td>NaN</td>\n",
       "      <td>270.0</td>\n",
       "      <td>NaN</td>\n",
       "      <td>NaN</td>\n",
       "      <td>NaN</td>\n",
       "    </tr>\n",
       "    <tr>\n",
       "      <th>2</th>\n",
       "      <td>NaN</td>\n",
       "      <td>NaN</td>\n",
       "      <td>347.0</td>\n",
       "      <td>75.0</td>\n",
       "      <td>35.0</td>\n",
       "    </tr>\n",
       "  </tbody>\n",
       "</table>\n",
       "</div>"
      ],
      "text/plain": [
       "DR_level       0      1      2     3     4\n",
       "label                                     \n",
       "0         1017.0    NaN    NaN   NaN   NaN\n",
       "1            NaN  270.0    NaN   NaN   NaN\n",
       "2            NaN    NaN  347.0  75.0  35.0"
      ]
     },
     "metadata": {},
     "output_type": "display_data"
    }
   ],
   "source": [
    "train_file = 'DATASET-TRAIN-80.csv'\n",
    "train_bal_file = 'TRAIN-0-1-234-BAL.csv'\n",
    "val_file_noBal = 'DATASET-VALIDATION-10.csv'\n",
    "\n",
    "val_file = 'DATASET-VALIDATION-10_BALANCED.csv' if classification_0vs1234 else 'DATASET-VALIDATION-10-BALANCED-0-1-234.csv'\n",
    "\n",
    "titles = ['Entrenamiento', 'Entrenamiento balanceado', 'Validacion', 'Validacion balanceado', 'test EYEPACS', 'test Messidor 2']\n",
    "\n",
    "for filename, tit in zip([train_file, train_bal_file, val_file_noBal, val_file] + [x + '.csv' for x in test_datasets.keys()], titles):\n",
    "\n",
    "    df = pd.read_csv(filename)\n",
    "\n",
    "    asignations = [-1 for i in DR_LEVELS_PER_CLASS for j in i] # example: [[0], [1], [2,3,4]] --> [-1, -1, -1, -1, -1]\n",
    "\n",
    "    for i, class_ in enumerate(DR_LEVELS_PER_CLASS):\n",
    "        for dr_lvl in class_:\n",
    "            asignations[dr_lvl] = i\n",
    "\n",
    "    labels = [asignations[dr_lvl] for dr_lvl in df['DR_level'].tolist()]\n",
    "\n",
    "    df.drop('label', axis=1, inplace=True)\n",
    "    df.insert(1, 'label', labels)\n",
    "\n",
    "    num_imgs_smaller_class = df.groupby('label')['path'].count().min()\n",
    "\n",
    "#     print(num_imgs_smaller_class)\n",
    "\n",
    "    # https://stackoverflow.com/questions/46375147/create-new-columns-from-unique-row-values-in-a-pandas-dataframe \n",
    "    df = df.groupby(['label','DR_level'])['path'].count().reset_index()\n",
    "\n",
    "    df = df.pivot_table(index=['label'], \n",
    "                        columns=['DR_level'],\n",
    "                        values='path')\n",
    "\n",
    "    print(tit)\n",
    "    display(df)\n",
    "\n",
    "    df.plot(kind='bar', stacked=True)\n",
    "\n",
    "    plt.title('Reparto de las imágenes entre las clases en el conjunto de ' + tit)\n",
    "    plt.xlabel('Clases definidas')\n",
    "    plt.ylabel('Número de imágenes')\n",
    "\n",
    "    # plt.ylim([0, num_imgs_smaller_class])\n",
    "\n",
    "    plt.plot([-1, max(labels)+1], [num_imgs_smaller_class, num_imgs_smaller_class], 'k--')"
   ]
  }
 ],
 "metadata": {
  "interpreter": {
   "hash": "7ecfc84cf627d4668eb5049ae69c5fc175d9214e35be9106b7b58ba4194e3257"
  },
  "kernelspec": {
   "display_name": "Python 3.7.10 64-bit ('TF24': conda)",
   "name": "python3"
  },
  "language_info": {
   "codemirror_mode": {
    "name": "ipython",
    "version": 3
   },
   "file_extension": ".py",
   "mimetype": "text/x-python",
   "name": "python",
   "nbconvert_exporter": "python",
   "pygments_lexer": "ipython3",
   "version": "3.7.10"
  }
 },
 "nbformat": 4,
 "nbformat_minor": 5
}
